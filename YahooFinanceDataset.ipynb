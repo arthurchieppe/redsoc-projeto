{
 "cells": [
  {
   "cell_type": "code",
   "execution_count": null,
   "id": "c41ea2af",
   "metadata": {},
   "outputs": [],
   "source": [
    "!pip install yfinance"
   ]
  },
  {
   "cell_type": "code",
   "execution_count": 1,
   "id": "31eff7ef",
   "metadata": {},
   "outputs": [
    {
     "data": {
      "text/html": [
       "\n",
       "    <script src=\"/files/netpixi.min.js\"></script>\n"
      ],
      "text/plain": [
       "<IPython.core.display.HTML object>"
      ]
     },
     "metadata": {},
     "output_type": "display_data"
    },
    {
     "name": "stderr",
     "output_type": "stream",
     "text": [
      "<frozen importlib._bootstrap>:914: ImportWarning: VendorImporter.find_spec() not found; falling back to find_module()\n"
     ]
    }
   ],
   "source": [
    "import yfinance as yf\n",
    "import pandas as pd\n",
    "import numpy as np\n",
    "import seaborn as sns\n",
    "import regression as reg\n",
    "from scipy import stats\n",
    "from matplotlib import pyplot as plt\n",
    "import pickle\n",
    "import netpixi\n",
    "from netpixi.integration.gt import *\n",
    "from regression.integration.gt import *\n",
    "from graph_tool import centrality, clustering, spectral\n",
    "import cpnet\n",
    "from scipy.spatial.distance import pdist, squareform"
   ]
  },
  {
   "cell_type": "code",
   "execution_count": 2,
   "id": "af4297b6",
   "metadata": {},
   "outputs": [],
   "source": [
    "df = pd.read_csv('etf_funds/ETFs.csv')"
   ]
  },
  {
   "cell_type": "code",
   "execution_count": 3,
   "id": "3db471c3",
   "metadata": {},
   "outputs": [],
   "source": [
    "fund_names = df[\"fund_symbol\"].values"
   ]
  },
  {
   "cell_type": "code",
   "execution_count": 4,
   "id": "2c92c05f",
   "metadata": {
    "scrolled": false
   },
   "outputs": [
    {
     "name": "stdout",
     "output_type": "stream",
     "text": [
      "[                       0%                       ]  7 of 2310 completed"
     ]
    },
    {
     "name": "stderr",
     "output_type": "stream",
     "text": [
      "<frozen importlib._bootstrap>:914: ImportWarning: VendorImporter.find_spec() not found; falling back to find_module()\n",
      "<frozen importlib._bootstrap>:914: ImportWarning: VendorImporter.find_spec() not found; falling back to find_module()\n",
      "<frozen importlib._bootstrap>:914: ImportWarning: VendorImporter.find_spec() not found; falling back to find_module()\n",
      "sys:1: ResourceWarning: unclosed socket <zmq.Socket(zmq.PUSH) at 0x7f6cf838c040>\n",
      "ResourceWarning: Enable tracemalloc to get the object allocation traceback\n",
      "sys:1: ResourceWarning: unclosed socket <zmq.Socket(zmq.PUSH) at 0x7f6d841b7340>\n",
      "ResourceWarning: Enable tracemalloc to get the object allocation traceback\n",
      "sys:1: ResourceWarning: unclosed socket <zmq.Socket(zmq.PUSH) at 0x7f6d13049ea0>\n",
      "ResourceWarning: Enable tracemalloc to get the object allocation traceback\n",
      "sys:1: ResourceWarning: unclosed socket <zmq.Socket(zmq.PUSH) at 0x7f6cd87ed960>\n",
      "ResourceWarning: Enable tracemalloc to get the object allocation traceback\n",
      "sys:1: ResourceWarning: unclosed socket <zmq.Socket(zmq.PUSH) at 0x7f6d13049780>\n",
      "ResourceWarning: Enable tracemalloc to get the object allocation traceback\n",
      "sys:1: ResourceWarning: unclosed socket <zmq.Socket(zmq.PUSH) at 0x7f6cf838c0a0>\n",
      "ResourceWarning: Enable tracemalloc to get the object allocation traceback\n",
      "sys:1: ResourceWarning: unclosed socket <zmq.Socket(zmq.PUSH) at 0x7f6d118c2980>\n",
      "ResourceWarning: Enable tracemalloc to get the object allocation traceback\n"
     ]
    },
    {
     "name": "stdout",
     "output_type": "stream",
     "text": [
      "[                       1%                       ]  15 of 2310 completed"
     ]
    },
    {
     "name": "stderr",
     "output_type": "stream",
     "text": [
      "sys:1: ResourceWarning: unclosed socket <zmq.Socket(zmq.PUSH) at 0x7f6cf814a320>\n",
      "ResourceWarning: Enable tracemalloc to get the object allocation traceback\n",
      "sys:1: ResourceWarning: unclosed socket <zmq.Socket(zmq.PUSH) at 0x7f6d1304a9e0>\n",
      "ResourceWarning: Enable tracemalloc to get the object allocation traceback\n",
      "sys:1: ResourceWarning: unclosed socket <zmq.Socket(zmq.PUSH) at 0x7f6d118c2b00>\n",
      "ResourceWarning: Enable tracemalloc to get the object allocation traceback\n",
      "sys:1: ResourceWarning: unclosed socket <zmq.Socket(zmq.PUSH) at 0x7f6cf84b1c60>\n",
      "ResourceWarning: Enable tracemalloc to get the object allocation traceback\n",
      "sys:1: ResourceWarning: unclosed socket <zmq.Socket(zmq.PUSH) at 0x7f6d118c2980>\n",
      "ResourceWarning: Enable tracemalloc to get the object allocation traceback\n",
      "sys:1: ResourceWarning: unclosed socket <zmq.Socket(zmq.PUSH) at 0x7f6cf84b1c00>\n",
      "ResourceWarning: Enable tracemalloc to get the object allocation traceback\n",
      "sys:1: ResourceWarning: unclosed socket <zmq.Socket(zmq.PUSH) at 0x7f6d118c28c0>\n",
      "ResourceWarning: Enable tracemalloc to get the object allocation traceback\n",
      "sys:1: ResourceWarning: unclosed socket <zmq.Socket(zmq.PUSH) at 0x7f6d841b7340>\n",
      "ResourceWarning: Enable tracemalloc to get the object allocation traceback\n"
     ]
    },
    {
     "name": "stdout",
     "output_type": "stream",
     "text": [
      "[                       1%                       ]  20 of 2310 completed"
     ]
    },
    {
     "name": "stderr",
     "output_type": "stream",
     "text": [
      "sys:1: ResourceWarning: unclosed socket <zmq.Socket(zmq.PUSH) at 0x7f6d13049fc0>\n",
      "ResourceWarning: Enable tracemalloc to get the object allocation traceback\n",
      "sys:1: ResourceWarning: unclosed socket <zmq.Socket(zmq.PUSH) at 0x7f6d1304a9e0>\n",
      "ResourceWarning: Enable tracemalloc to get the object allocation traceback\n",
      "sys:1: ResourceWarning: unclosed socket <zmq.Socket(zmq.PUSH) at 0x7f6cf838fd00>\n",
      "ResourceWarning: Enable tracemalloc to get the object allocation traceback\n",
      "sys:1: ResourceWarning: unclosed socket <zmq.Socket(zmq.PUSH) at 0x7f6d1304a980>\n",
      "ResourceWarning: Enable tracemalloc to get the object allocation traceback\n"
     ]
    },
    {
     "name": "stdout",
     "output_type": "stream",
     "text": [
      "[                       1%                       ]  24 of 2310 completed"
     ]
    },
    {
     "name": "stderr",
     "output_type": "stream",
     "text": [
      "sys:1: ResourceWarning: unclosed socket <zmq.Socket(zmq.PUSH) at 0x7f6cf84b0880>\n",
      "ResourceWarning: Enable tracemalloc to get the object allocation traceback\n",
      "sys:1: ResourceWarning: unclosed socket <zmq.Socket(zmq.PUSH) at 0x7f6d1304a140>\n",
      "ResourceWarning: Enable tracemalloc to get the object allocation traceback\n",
      "sys:1: ResourceWarning: unclosed socket <zmq.Socket(zmq.PUSH) at 0x7f6cf838df00>\n",
      "ResourceWarning: Enable tracemalloc to get the object allocation traceback\n",
      "sys:1: ResourceWarning: unclosed socket <zmq.Socket(zmq.PUSH) at 0x7f6cf838fd00>\n",
      "ResourceWarning: Enable tracemalloc to get the object allocation traceback\n",
      "sys:1: ResourceWarning: unclosed socket <zmq.Socket(zmq.PUSH) at 0x7f6d1304a140>\n",
      "ResourceWarning: Enable tracemalloc to get the object allocation traceback\n"
     ]
    },
    {
     "name": "stdout",
     "output_type": "stream",
     "text": [
      "[                       1%                       ]  31 of 2310 completed"
     ]
    },
    {
     "name": "stderr",
     "output_type": "stream",
     "text": [
      "sys:1: ResourceWarning: unclosed socket <zmq.Socket(zmq.PUSH) at 0x7f6cd87ee1a0>\n",
      "ResourceWarning: Enable tracemalloc to get the object allocation traceback\n",
      "sys:1: ResourceWarning: unclosed socket <zmq.Socket(zmq.PUSH) at 0x7f6cf814bbe0>\n",
      "ResourceWarning: Enable tracemalloc to get the object allocation traceback\n",
      "sys:1: ResourceWarning: unclosed socket <zmq.Socket(zmq.PUSH) at 0x7f6cd87ec700>\n",
      "ResourceWarning: Enable tracemalloc to get the object allocation traceback\n",
      "sys:1: ResourceWarning: unclosed socket <zmq.Socket(zmq.PUSH) at 0x7f6cd87eca60>\n",
      "ResourceWarning: Enable tracemalloc to get the object allocation traceback\n",
      "sys:1: ResourceWarning: unclosed socket <zmq.Socket(zmq.PUSH) at 0x7f6cd87ecca0>\n",
      "ResourceWarning: Enable tracemalloc to get the object allocation traceback\n",
      "sys:1: ResourceWarning: unclosed socket <zmq.Socket(zmq.PUSH) at 0x7f6cd87ec280>\n",
      "ResourceWarning: Enable tracemalloc to get the object allocation traceback\n",
      "sys:1: ResourceWarning: unclosed socket <zmq.Socket(zmq.PUSH) at 0x7f6cd87ee980>\n",
      "ResourceWarning: Enable tracemalloc to get the object allocation traceback\n"
     ]
    },
    {
     "name": "stdout",
     "output_type": "stream",
     "text": [
      "[                       1%                       ]  33 of 2310 completed"
     ]
    },
    {
     "name": "stderr",
     "output_type": "stream",
     "text": [
      "sys:1: ResourceWarning: unclosed socket <zmq.Socket(zmq.PUSH) at 0x7f6cf838fd00>\n",
      "ResourceWarning: Enable tracemalloc to get the object allocation traceback\n",
      "sys:1: ResourceWarning: unclosed socket <zmq.Socket(zmq.PUSH) at 0x7f6cf8148be0>\n",
      "ResourceWarning: Enable tracemalloc to get the object allocation traceback\n"
     ]
    },
    {
     "name": "stdout",
     "output_type": "stream",
     "text": [
      "[*                      2%                       ]  38 of 2310 completed"
     ]
    },
    {
     "name": "stderr",
     "output_type": "stream",
     "text": [
      "sys:1: ResourceWarning: unclosed socket <zmq.Socket(zmq.PUSH) at 0x7f6cd87ee440>\n",
      "ResourceWarning: Enable tracemalloc to get the object allocation traceback\n",
      "sys:1: ResourceWarning: unclosed socket <zmq.Socket(zmq.PUSH) at 0x7f6cf84b1c00>\n",
      "ResourceWarning: Enable tracemalloc to get the object allocation traceback\n",
      "sys:1: ResourceWarning: unclosed socket <zmq.Socket(zmq.PUSH) at 0x7f6cd87ed060>\n",
      "ResourceWarning: Enable tracemalloc to get the object allocation traceback\n",
      "sys:1: ResourceWarning: unclosed socket <zmq.Socket(zmq.PUSH) at 0x7f6cf838fd00>\n",
      "ResourceWarning: Enable tracemalloc to get the object allocation traceback\n",
      "sys:1: ResourceWarning: unclosed socket <zmq.Socket(zmq.PUSH) at 0x7f6cf814bac0>\n",
      "ResourceWarning: Enable tracemalloc to get the object allocation traceback\n"
     ]
    },
    {
     "name": "stdout",
     "output_type": "stream",
     "text": [
      "[*                      2%                       ]  41 of 2310 completed"
     ]
    },
    {
     "name": "stderr",
     "output_type": "stream",
     "text": [
      "sys:1: ResourceWarning: unclosed socket <zmq.Socket(zmq.PUSH) at 0x7f6cd87ec1c0>\n",
      "ResourceWarning: Enable tracemalloc to get the object allocation traceback\n",
      "sys:1: ResourceWarning: unclosed socket <zmq.Socket(zmq.PUSH) at 0x7f6d13049ea0>\n",
      "ResourceWarning: Enable tracemalloc to get the object allocation traceback\n",
      "sys:1: ResourceWarning: unclosed socket <zmq.Socket(zmq.PUSH) at 0x7f6cf814b940>\n",
      "ResourceWarning: Enable tracemalloc to get the object allocation traceback\n"
     ]
    },
    {
     "name": "stdout",
     "output_type": "stream",
     "text": [
      "[*                      2%                       ]  47 of 2310 completed"
     ]
    },
    {
     "name": "stderr",
     "output_type": "stream",
     "text": [
      "sys:1: ResourceWarning: unclosed socket <zmq.Socket(zmq.PUSH) at 0x7f6cf814bbe0>\n",
      "ResourceWarning: Enable tracemalloc to get the object allocation traceback\n",
      "sys:1: ResourceWarning: unclosed socket <zmq.Socket(zmq.PUSH) at 0x7f6cd87ed600>\n",
      "ResourceWarning: Enable tracemalloc to get the object allocation traceback\n",
      "sys:1: ResourceWarning: unclosed socket <zmq.Socket(zmq.PUSH) at 0x7f6cd87ed240>\n",
      "ResourceWarning: Enable tracemalloc to get the object allocation traceback\n",
      "sys:1: ResourceWarning: unclosed socket <zmq.Socket(zmq.PUSH) at 0x7f6cf838df00>\n",
      "ResourceWarning: Enable tracemalloc to get the object allocation traceback\n",
      "sys:1: ResourceWarning: unclosed socket <zmq.Socket(zmq.PUSH) at 0x7f6d85379f60>\n",
      "ResourceWarning: Enable tracemalloc to get the object allocation traceback\n",
      "sys:1: ResourceWarning: unclosed socket <zmq.Socket(zmq.PUSH) at 0x7f6d841b7340>\n",
      "ResourceWarning: Enable tracemalloc to get the object allocation traceback\n"
     ]
    },
    {
     "name": "stdout",
     "output_type": "stream",
     "text": [
      "[*                      2%                       ]  50 of 2310 completed"
     ]
    },
    {
     "name": "stderr",
     "output_type": "stream",
     "text": [
      "sys:1: ResourceWarning: unclosed socket <zmq.Socket(zmq.PUSH) at 0x7f6cd86d1720>\n",
      "ResourceWarning: Enable tracemalloc to get the object allocation traceback\n",
      "sys:1: ResourceWarning: unclosed socket <zmq.Socket(zmq.PUSH) at 0x7f6cd86d2ce0>\n",
      "ResourceWarning: Enable tracemalloc to get the object allocation traceback\n",
      "sys:1: ResourceWarning: unclosed socket <zmq.Socket(zmq.PUSH) at 0x7f6cf8149600>\n",
      "ResourceWarning: Enable tracemalloc to get the object allocation traceback\n"
     ]
    },
    {
     "name": "stdout",
     "output_type": "stream",
     "text": [
      "[*                      2%                       ]  53 of 2310 completed"
     ]
    },
    {
     "name": "stderr",
     "output_type": "stream",
     "text": [
      "sys:1: ResourceWarning: unclosed socket <zmq.Socket(zmq.PUSH) at 0x7f6cf8149600>\n",
      "ResourceWarning: Enable tracemalloc to get the object allocation traceback\n",
      "sys:1: ResourceWarning: unclosed socket <zmq.Socket(zmq.PUSH) at 0x7f6cd86d38e0>\n",
      "ResourceWarning: Enable tracemalloc to get the object allocation traceback\n",
      "sys:1: ResourceWarning: unclosed socket <zmq.Socket(zmq.PUSH) at 0x7f6cd86d3340>\n",
      "ResourceWarning: Enable tracemalloc to get the object allocation traceback\n"
     ]
    },
    {
     "name": "stdout",
     "output_type": "stream",
     "text": [
      "[*                      2%                       ]  55 of 2310 completed"
     ]
    },
    {
     "name": "stderr",
     "output_type": "stream",
     "text": [
      "sys:1: ResourceWarning: unclosed socket <zmq.Socket(zmq.PUSH) at 0x7f6cd87ec6a0>\n",
      "ResourceWarning: Enable tracemalloc to get the object allocation traceback\n",
      "sys:1: ResourceWarning: unclosed socket <zmq.Socket(zmq.PUSH) at 0x7f6cf84b1c60>\n",
      "ResourceWarning: Enable tracemalloc to get the object allocation traceback\n"
     ]
    },
    {
     "name": "stdout",
     "output_type": "stream",
     "text": [
      "[*                      3%                       ]  60 of 2310 completed"
     ]
    },
    {
     "name": "stderr",
     "output_type": "stream",
     "text": [
      "sys:1: ResourceWarning: unclosed socket <zmq.Socket(zmq.PUSH) at 0x7f6cd87ed4e0>\n",
      "ResourceWarning: Enable tracemalloc to get the object allocation traceback\n",
      "sys:1: ResourceWarning: unclosed socket <zmq.Socket(zmq.PUSH) at 0x7f6cf84b1c60>\n",
      "ResourceWarning: Enable tracemalloc to get the object allocation traceback\n",
      "sys:1: ResourceWarning: unclosed socket <zmq.Socket(zmq.PUSH) at 0x7f6cf838dea0>\n",
      "ResourceWarning: Enable tracemalloc to get the object allocation traceback\n",
      "sys:1: ResourceWarning: unclosed socket <zmq.Socket(zmq.PUSH) at 0x7f6cd86d0d60>\n",
      "ResourceWarning: Enable tracemalloc to get the object allocation traceback\n",
      "sys:1: ResourceWarning: unclosed socket <zmq.Socket(zmq.PUSH) at 0x7f6cf838dea0>\n",
      "ResourceWarning: Enable tracemalloc to get the object allocation traceback\n"
     ]
    },
    {
     "name": "stdout",
     "output_type": "stream",
     "text": [
      "[*                      3%                       ]  66 of 2310 completed"
     ]
    },
    {
     "name": "stderr",
     "output_type": "stream",
     "text": [
      "sys:1: ResourceWarning: unclosed socket <zmq.Socket(zmq.PUSH) at 0x7f6cd86d1240>\n",
      "ResourceWarning: Enable tracemalloc to get the object allocation traceback\n",
      "sys:1: ResourceWarning: unclosed socket <zmq.Socket(zmq.PUSH) at 0x7f6cd87ec6a0>\n",
      "ResourceWarning: Enable tracemalloc to get the object allocation traceback\n",
      "sys:1: ResourceWarning: unclosed socket <zmq.Socket(zmq.PUSH) at 0x7f6d1304a380>\n",
      "ResourceWarning: Enable tracemalloc to get the object allocation traceback\n",
      "sys:1: ResourceWarning: unclosed socket <zmq.Socket(zmq.PUSH) at 0x7f6cd86d1720>\n",
      "ResourceWarning: Enable tracemalloc to get the object allocation traceback\n",
      "sys:1: ResourceWarning: unclosed socket <zmq.Socket(zmq.PUSH) at 0x7f6d118c3160>\n",
      "ResourceWarning: Enable tracemalloc to get the object allocation traceback\n",
      "sys:1: ResourceWarning: unclosed socket <zmq.Socket(zmq.PUSH) at 0x7f6cd86d0700>\n",
      "ResourceWarning: Enable tracemalloc to get the object allocation traceback\n"
     ]
    },
    {
     "name": "stdout",
     "output_type": "stream",
     "text": [
      "[*                      3%                       ]  69 of 2310 completed"
     ]
    },
    {
     "name": "stderr",
     "output_type": "stream",
     "text": [
      "sys:1: ResourceWarning: unclosed socket <zmq.Socket(zmq.PUSH) at 0x7f6cf81ee260>\n",
      "ResourceWarning: Enable tracemalloc to get the object allocation traceback\n",
      "sys:1: ResourceWarning: unclosed socket <zmq.Socket(zmq.PUSH) at 0x7f6cf84b1c60>\n",
      "ResourceWarning: Enable tracemalloc to get the object allocation traceback\n",
      "sys:1: ResourceWarning: unclosed socket <zmq.Socket(zmq.PUSH) at 0x7f6cf814bac0>\n",
      "ResourceWarning: Enable tracemalloc to get the object allocation traceback\n"
     ]
    },
    {
     "name": "stdout",
     "output_type": "stream",
     "text": [
      "[*                      3%                       ]  76 of 2310 completed"
     ]
    },
    {
     "name": "stderr",
     "output_type": "stream",
     "text": [
      "sys:1: ResourceWarning: unclosed socket <zmq.Socket(zmq.PUSH) at 0x7f6d1304ae00>\n",
      "ResourceWarning: Enable tracemalloc to get the object allocation traceback\n",
      "sys:1: ResourceWarning: unclosed socket <zmq.Socket(zmq.PUSH) at 0x7f6cf81ee140>\n",
      "ResourceWarning: Enable tracemalloc to get the object allocation traceback\n",
      "sys:1: ResourceWarning: unclosed socket <zmq.Socket(zmq.PUSH) at 0x7f6cd87eda80>\n",
      "ResourceWarning: Enable tracemalloc to get the object allocation traceback\n",
      "sys:1: ResourceWarning: unclosed socket <zmq.Socket(zmq.PUSH) at 0x7f6cf81ec820>\n",
      "ResourceWarning: Enable tracemalloc to get the object allocation traceback\n",
      "sys:1: ResourceWarning: unclosed socket <zmq.Socket(zmq.PUSH) at 0x7f6cd87ee7a0>\n",
      "ResourceWarning: Enable tracemalloc to get the object allocation traceback\n",
      "sys:1: ResourceWarning: unclosed socket <zmq.Socket(zmq.PUSH) at 0x7f6d13049de0>\n",
      "ResourceWarning: Enable tracemalloc to get the object allocation traceback\n",
      "sys:1: ResourceWarning: unclosed socket <zmq.Socket(zmq.PUSH) at 0x7f6cd87ed180>\n",
      "ResourceWarning: Enable tracemalloc to get the object allocation traceback\n"
     ]
    },
    {
     "name": "stdout",
     "output_type": "stream",
     "text": [
      "[*                      3%                       ]  79 of 2310 completed"
     ]
    },
    {
     "name": "stderr",
     "output_type": "stream",
     "text": [
      "sys:1: ResourceWarning: unclosed socket <zmq.Socket(zmq.PUSH) at 0x7f6cf814bb20>\n",
      "ResourceWarning: Enable tracemalloc to get the object allocation traceback\n",
      "sys:1: ResourceWarning: unclosed socket <zmq.Socket(zmq.PUSH) at 0x7f6cf84b1c60>\n",
      "ResourceWarning: Enable tracemalloc to get the object allocation traceback\n",
      "sys:1: ResourceWarning: unclosed socket <zmq.Socket(zmq.PUSH) at 0x7f6d118c28c0>\n",
      "ResourceWarning: Enable tracemalloc to get the object allocation traceback\n",
      "sys:1: ResourceWarning: unclosed socket <zmq.Socket(zmq.PUSH) at 0x7f6cf81ef3a0>\n",
      "ResourceWarning: Enable tracemalloc to get the object allocation traceback\n"
     ]
    },
    {
     "name": "stdout",
     "output_type": "stream",
     "text": [
      "[**                     4%                       ]  84 of 2310 completed"
     ]
    },
    {
     "name": "stderr",
     "output_type": "stream",
     "text": [
      "sys:1: ResourceWarning: unclosed socket <zmq.Socket(zmq.PUSH) at 0x7f6cf838dea0>\n",
      "ResourceWarning: Enable tracemalloc to get the object allocation traceback\n",
      "sys:1: ResourceWarning: unclosed socket <zmq.Socket(zmq.PUSH) at 0x7f6cd86d0f40>\n",
      "ResourceWarning: Enable tracemalloc to get the object allocation traceback\n",
      "sys:1: ResourceWarning: unclosed socket <zmq.Socket(zmq.PUSH) at 0x7f6cd86d0f40>\n",
      "ResourceWarning: Enable tracemalloc to get the object allocation traceback\n",
      "sys:1: ResourceWarning: unclosed socket <zmq.Socket(zmq.PUSH) at 0x7f6cf81eeb60>\n",
      "ResourceWarning: Enable tracemalloc to get the object allocation traceback\n"
     ]
    },
    {
     "name": "stdout",
     "output_type": "stream",
     "text": [
      "[**                     4%                       ]  88 of 2310 completed"
     ]
    },
    {
     "name": "stderr",
     "output_type": "stream",
     "text": [
      "sys:1: ResourceWarning: unclosed socket <zmq.Socket(zmq.PUSH) at 0x7f6cf81eef80>\n",
      "ResourceWarning: Enable tracemalloc to get the object allocation traceback\n",
      "sys:1: ResourceWarning: unclosed socket <zmq.Socket(zmq.PUSH) at 0x7f6cf814ba00>\n",
      "ResourceWarning: Enable tracemalloc to get the object allocation traceback\n",
      "sys:1: ResourceWarning: unclosed socket <zmq.Socket(zmq.PUSH) at 0x7f6cd86d1420>\n",
      "ResourceWarning: Enable tracemalloc to get the object allocation traceback\n",
      "sys:1: ResourceWarning: unclosed socket <zmq.Socket(zmq.PUSH) at 0x7f6cd86d0700>\n",
      "ResourceWarning: Enable tracemalloc to get the object allocation traceback\n"
     ]
    },
    {
     "name": "stdout",
     "output_type": "stream",
     "text": [
      "[**                     4%                       ]  91 of 2310 completed"
     ]
    },
    {
     "name": "stderr",
     "output_type": "stream",
     "text": [
      "sys:1: ResourceWarning: unclosed socket <zmq.Socket(zmq.PUSH) at 0x7f6cf81ec640>\n",
      "ResourceWarning: Enable tracemalloc to get the object allocation traceback\n",
      "sys:1: ResourceWarning: unclosed socket <zmq.Socket(zmq.PUSH) at 0x7f6cd86d0700>\n",
      "ResourceWarning: Enable tracemalloc to get the object allocation traceback\n",
      "sys:1: ResourceWarning: unclosed socket <zmq.Socket(zmq.PUSH) at 0x7f6d85379f60>\n",
      "ResourceWarning: Enable tracemalloc to get the object allocation traceback\n"
     ]
    },
    {
     "name": "stdout",
     "output_type": "stream",
     "text": [
      "[**                     4%                       ]  96 of 2310 completed"
     ]
    },
    {
     "name": "stderr",
     "output_type": "stream",
     "text": [
      "sys:1: ResourceWarning: unclosed socket <zmq.Socket(zmq.PUSH) at 0x7f6d85379f60>\n",
      "ResourceWarning: Enable tracemalloc to get the object allocation traceback\n",
      "sys:1: ResourceWarning: unclosed socket <zmq.Socket(zmq.PUSH) at 0x7f6cf81ec8e0>\n",
      "ResourceWarning: Enable tracemalloc to get the object allocation traceback\n",
      "sys:1: ResourceWarning: unclosed socket <zmq.Socket(zmq.PUSH) at 0x7f6cd86d2ce0>\n",
      "ResourceWarning: Enable tracemalloc to get the object allocation traceback\n",
      "sys:1: ResourceWarning: unclosed socket <zmq.Socket(zmq.PUSH) at 0x7f6cd87519c0>\n",
      "ResourceWarning: Enable tracemalloc to get the object allocation traceback\n",
      "sys:1: ResourceWarning: unclosed socket <zmq.Socket(zmq.PUSH) at 0x7f6cd86d3ac0>\n",
      "ResourceWarning: Enable tracemalloc to get the object allocation traceback\n"
     ]
    },
    {
     "name": "stdout",
     "output_type": "stream",
     "text": [
      "[**                     4%                       ]  100 of 2310 completed"
     ]
    },
    {
     "name": "stderr",
     "output_type": "stream",
     "text": [
      "sys:1: ResourceWarning: unclosed socket <zmq.Socket(zmq.PUSH) at 0x7f6cd86d37c0>\n",
      "ResourceWarning: Enable tracemalloc to get the object allocation traceback\n",
      "sys:1: ResourceWarning: unclosed socket <zmq.Socket(zmq.PUSH) at 0x7f6cd8753ee0>\n",
      "ResourceWarning: Enable tracemalloc to get the object allocation traceback\n",
      "sys:1: ResourceWarning: unclosed socket <zmq.Socket(zmq.PUSH) at 0x7f6cf84b1c60>\n",
      "ResourceWarning: Enable tracemalloc to get the object allocation traceback\n"
     ]
    },
    {
     "name": "stdout",
     "output_type": "stream",
     "text": [
      "[**                     4%                       ]  102 of 2310 completed"
     ]
    },
    {
     "name": "stderr",
     "output_type": "stream",
     "text": [
      "sys:1: ResourceWarning: unclosed socket <zmq.Socket(zmq.PUSH) at 0x7f6cf81eebc0>\n",
      "ResourceWarning: Enable tracemalloc to get the object allocation traceback\n",
      "sys:1: ResourceWarning: unclosed socket <zmq.Socket(zmq.PUSH) at 0x7f6cf81ef0a0>\n",
      "ResourceWarning: Enable tracemalloc to get the object allocation traceback\n",
      "sys:1: ResourceWarning: unclosed socket <zmq.Socket(zmq.PUSH) at 0x7f6cf818ac80>\n",
      "ResourceWarning: Enable tracemalloc to get the object allocation traceback\n"
     ]
    },
    {
     "name": "stdout",
     "output_type": "stream",
     "text": [
      "[**                     5%                       ]  106 of 2310 completed"
     ]
    },
    {
     "name": "stderr",
     "output_type": "stream",
     "text": [
      "sys:1: ResourceWarning: unclosed socket <zmq.Socket(zmq.PUSH) at 0x7f6cd86d0700>\n",
      "ResourceWarning: Enable tracemalloc to get the object allocation traceback\n",
      "sys:1: ResourceWarning: unclosed socket <zmq.Socket(zmq.PUSH) at 0x7f6cd8753040>\n",
      "ResourceWarning: Enable tracemalloc to get the object allocation traceback\n",
      "sys:1: ResourceWarning: unclosed socket <zmq.Socket(zmq.PUSH) at 0x7f6cf818a080>\n",
      "ResourceWarning: Enable tracemalloc to get the object allocation traceback\n",
      "sys:1: ResourceWarning: unclosed socket <zmq.Socket(zmq.PUSH) at 0x7f6cf814b340>\n",
      "ResourceWarning: Enable tracemalloc to get the object allocation traceback\n"
     ]
    },
    {
     "name": "stdout",
     "output_type": "stream",
     "text": [
      "[**                     5%                       ]  109 of 2310 completed"
     ]
    },
    {
     "name": "stderr",
     "output_type": "stream",
     "text": [
      "sys:1: ResourceWarning: unclosed socket <zmq.Socket(zmq.PUSH) at 0x7f6cd86d1240>\n",
      "ResourceWarning: Enable tracemalloc to get the object allocation traceback\n",
      "sys:1: ResourceWarning: unclosed socket <zmq.Socket(zmq.PUSH) at 0x7f6cd86d2ce0>\n",
      "ResourceWarning: Enable tracemalloc to get the object allocation traceback\n",
      "sys:1: ResourceWarning: unclosed socket <zmq.Socket(zmq.PUSH) at 0x7f6cf81ece20>\n",
      "ResourceWarning: Enable tracemalloc to get the object allocation traceback\n"
     ]
    },
    {
     "name": "stdout",
     "output_type": "stream",
     "text": [
      "[**                     5%                       ]  113 of 2310 completed"
     ]
    },
    {
     "name": "stderr",
     "output_type": "stream",
     "text": [
      "sys:1: ResourceWarning: unclosed socket <zmq.Socket(zmq.PUSH) at 0x7f6cf81eef20>\n",
      "ResourceWarning: Enable tracemalloc to get the object allocation traceback\n",
      "sys:1: ResourceWarning: unclosed socket <zmq.Socket(zmq.PUSH) at 0x7f6cf81eef20>\n",
      "ResourceWarning: Enable tracemalloc to get the object allocation traceback\n",
      "sys:1: ResourceWarning: unclosed socket <zmq.Socket(zmq.PUSH) at 0x7f6cf818a3e0>\n",
      "ResourceWarning: Enable tracemalloc to get the object allocation traceback\n",
      "sys:1: ResourceWarning: unclosed socket <zmq.Socket(zmq.PUSH) at 0x7f6cf814bb20>\n",
      "ResourceWarning: Enable tracemalloc to get the object allocation traceback\n"
     ]
    },
    {
     "name": "stdout",
     "output_type": "stream",
     "text": [
      "[**                     5%                       ]  117 of 2310 completed"
     ]
    },
    {
     "name": "stderr",
     "output_type": "stream",
     "text": [
      "sys:1: ResourceWarning: unclosed socket <zmq.Socket(zmq.PUSH) at 0x7f6cf8189780>\n",
      "ResourceWarning: Enable tracemalloc to get the object allocation traceback\n",
      "sys:1: ResourceWarning: unclosed socket <zmq.Socket(zmq.PUSH) at 0x7f6cf818a9e0>\n",
      "ResourceWarning: Enable tracemalloc to get the object allocation traceback\n",
      "sys:1: ResourceWarning: unclosed socket <zmq.Socket(zmq.PUSH) at 0x7f6cd86d2bc0>\n",
      "ResourceWarning: Enable tracemalloc to get the object allocation traceback\n",
      "sys:1: ResourceWarning: unclosed socket <zmq.Socket(zmq.PUSH) at 0x7f6cf8189780>\n",
      "ResourceWarning: Enable tracemalloc to get the object allocation traceback\n"
     ]
    },
    {
     "name": "stdout",
     "output_type": "stream",
     "text": [
      "[**                     5%                       ]  121 of 2310 completed"
     ]
    },
    {
     "name": "stderr",
     "output_type": "stream",
     "text": [
      "sys:1: ResourceWarning: unclosed socket <zmq.Socket(zmq.PUSH) at 0x7f6cf8189780>\n",
      "ResourceWarning: Enable tracemalloc to get the object allocation traceback\n",
      "sys:1: ResourceWarning: unclosed socket <zmq.Socket(zmq.PUSH) at 0x7f6cd862b4c0>\n",
      "ResourceWarning: Enable tracemalloc to get the object allocation traceback\n",
      "sys:1: ResourceWarning: unclosed socket <zmq.Socket(zmq.PUSH) at 0x7f6cf8189780>\n",
      "ResourceWarning: Enable tracemalloc to get the object allocation traceback\n",
      "sys:1: ResourceWarning: unclosed socket <zmq.Socket(zmq.PUSH) at 0x7f6cf814bb20>\n",
      "ResourceWarning: Enable tracemalloc to get the object allocation traceback\n"
     ]
    },
    {
     "name": "stdout",
     "output_type": "stream",
     "text": [
      "[**                     5%                       ]  124 of 2310 completed"
     ]
    },
    {
     "name": "stderr",
     "output_type": "stream",
     "text": [
      "sys:1: ResourceWarning: unclosed socket <zmq.Socket(zmq.PUSH) at 0x7f6cd87efca0>\n",
      "ResourceWarning: Enable tracemalloc to get the object allocation traceback\n",
      "sys:1: ResourceWarning: unclosed socket <zmq.Socket(zmq.PUSH) at 0x7f6cf8189fc0>\n",
      "ResourceWarning: Enable tracemalloc to get the object allocation traceback\n",
      "sys:1: ResourceWarning: unclosed socket <zmq.Socket(zmq.PUSH) at 0x7f6cd862b7c0>\n",
      "ResourceWarning: Enable tracemalloc to get the object allocation traceback\n"
     ]
    },
    {
     "name": "stdout",
     "output_type": "stream",
     "text": [
      "[***                    6%                       ]  128 of 2310 completed"
     ]
    },
    {
     "name": "stderr",
     "output_type": "stream",
     "text": [
      "sys:1: ResourceWarning: unclosed socket <zmq.Socket(zmq.PUSH) at 0x7f6cf81eebc0>\n",
      "ResourceWarning: Enable tracemalloc to get the object allocation traceback\n",
      "sys:1: ResourceWarning: unclosed socket <zmq.Socket(zmq.PUSH) at 0x7f6cf818a3e0>\n",
      "ResourceWarning: Enable tracemalloc to get the object allocation traceback\n",
      "sys:1: ResourceWarning: unclosed socket <zmq.Socket(zmq.PUSH) at 0x7f6cd87efca0>\n",
      "ResourceWarning: Enable tracemalloc to get the object allocation traceback\n",
      "sys:1: ResourceWarning: unclosed socket <zmq.Socket(zmq.PUSH) at 0x7f6cd86d2bc0>\n",
      "ResourceWarning: Enable tracemalloc to get the object allocation traceback\n",
      "sys:1: ResourceWarning: unclosed socket <zmq.Socket(zmq.PUSH) at 0x7f6cd862b8e0>\n",
      "ResourceWarning: Enable tracemalloc to get the object allocation traceback\n"
     ]
    },
    {
     "name": "stdout",
     "output_type": "stream",
     "text": [
      "[***                    6%                       ]  133 of 2310 completed"
     ]
    },
    {
     "name": "stderr",
     "output_type": "stream",
     "text": [
      "sys:1: ResourceWarning: unclosed socket <zmq.Socket(zmq.PUSH) at 0x7f6cf814b340>\n",
      "ResourceWarning: Enable tracemalloc to get the object allocation traceback\n",
      "sys:1: ResourceWarning: unclosed socket <zmq.Socket(zmq.PUSH) at 0x7f6cd8753340>\n",
      "ResourceWarning: Enable tracemalloc to get the object allocation traceback\n",
      "sys:1: ResourceWarning: unclosed socket <zmq.Socket(zmq.PUSH) at 0x7f6cd862a6e0>\n",
      "ResourceWarning: Enable tracemalloc to get the object allocation traceback\n",
      "sys:1: ResourceWarning: unclosed socket <zmq.Socket(zmq.PUSH) at 0x7f6cd862a6e0>\n",
      "ResourceWarning: Enable tracemalloc to get the object allocation traceback\n"
     ]
    },
    {
     "name": "stdout",
     "output_type": "stream",
     "text": [
      "[***                    6%                       ]  136 of 2310 completed"
     ]
    },
    {
     "name": "stderr",
     "output_type": "stream",
     "text": [
      "sys:1: ResourceWarning: unclosed socket <zmq.Socket(zmq.PUSH) at 0x7f6cd8628fa0>\n",
      "ResourceWarning: Enable tracemalloc to get the object allocation traceback\n",
      "sys:1: ResourceWarning: unclosed socket <zmq.Socket(zmq.PUSH) at 0x7f6cd862a920>\n",
      "ResourceWarning: Enable tracemalloc to get the object allocation traceback\n",
      "sys:1: ResourceWarning: unclosed socket <zmq.Socket(zmq.PUSH) at 0x7f6cf8149300>\n",
      "ResourceWarning: Enable tracemalloc to get the object allocation traceback\n"
     ]
    },
    {
     "name": "stdout",
     "output_type": "stream",
     "text": [
      "[***                    6%                       ]  140 of 2310 completed"
     ]
    },
    {
     "name": "stderr",
     "output_type": "stream",
     "text": [
      "sys:1: ResourceWarning: unclosed socket <zmq.Socket(zmq.PUSH) at 0x7f6cd8753b80>\n",
      "ResourceWarning: Enable tracemalloc to get the object allocation traceback\n",
      "sys:1: ResourceWarning: unclosed socket <zmq.Socket(zmq.PUSH) at 0x7f6cd86d2bc0>\n",
      "ResourceWarning: Enable tracemalloc to get the object allocation traceback\n",
      "sys:1: ResourceWarning: unclosed socket <zmq.Socket(zmq.PUSH) at 0x7f6cf81882e0>\n",
      "ResourceWarning: Enable tracemalloc to get the object allocation traceback\n",
      "sys:1: ResourceWarning: unclosed socket <zmq.Socket(zmq.PUSH) at 0x7f6cd862a680>\n",
      "ResourceWarning: Enable tracemalloc to get the object allocation traceback\n"
     ]
    },
    {
     "name": "stdout",
     "output_type": "stream",
     "text": [
      "[***                    6%                       ]  144 of 2310 completed"
     ]
    },
    {
     "name": "stderr",
     "output_type": "stream",
     "text": [
      "sys:1: ResourceWarning: unclosed socket <zmq.Socket(zmq.PUSH) at 0x7f6cf81882e0>\n",
      "ResourceWarning: Enable tracemalloc to get the object allocation traceback\n",
      "sys:1: ResourceWarning: unclosed socket <zmq.Socket(zmq.PUSH) at 0x7f6cf81ec8e0>\n",
      "ResourceWarning: Enable tracemalloc to get the object allocation traceback\n",
      "sys:1: ResourceWarning: unclosed socket <zmq.Socket(zmq.PUSH) at 0x7f6cd862bee0>\n",
      "ResourceWarning: Enable tracemalloc to get the object allocation traceback\n",
      "sys:1: ResourceWarning: unclosed socket <zmq.Socket(zmq.PUSH) at 0x7f6cd8682f80>\n",
      "ResourceWarning: Enable tracemalloc to get the object allocation traceback\n"
     ]
    },
    {
     "name": "stdout",
     "output_type": "stream",
     "text": [
      "[***                    6%                       ]  147 of 2310 completed"
     ]
    },
    {
     "name": "stderr",
     "output_type": "stream",
     "text": [
      "sys:1: ResourceWarning: unclosed socket <zmq.Socket(zmq.PUSH) at 0x7f6cd87502e0>\n",
      "ResourceWarning: Enable tracemalloc to get the object allocation traceback\n",
      "sys:1: ResourceWarning: unclosed socket <zmq.Socket(zmq.PUSH) at 0x7f6cd87516c0>\n",
      "ResourceWarning: Enable tracemalloc to get the object allocation traceback\n",
      "sys:1: ResourceWarning: unclosed socket <zmq.Socket(zmq.PUSH) at 0x7f6cd8750640>\n",
      "ResourceWarning: Enable tracemalloc to get the object allocation traceback\n"
     ]
    },
    {
     "name": "stdout",
     "output_type": "stream",
     "text": [
      "[***                    7%                       ]  152 of 2310 completed"
     ]
    },
    {
     "name": "stderr",
     "output_type": "stream",
     "text": [
      "sys:1: ResourceWarning: unclosed socket <zmq.Socket(zmq.PUSH) at 0x7f6cd87519c0>\n",
      "ResourceWarning: Enable tracemalloc to get the object allocation traceback\n",
      "sys:1: ResourceWarning: unclosed socket <zmq.Socket(zmq.PUSH) at 0x7f6cd8682c80>\n",
      "ResourceWarning: Enable tracemalloc to get the object allocation traceback\n",
      "sys:1: ResourceWarning: unclosed socket <zmq.Socket(zmq.PUSH) at 0x7f6cd86835e0>\n",
      "ResourceWarning: Enable tracemalloc to get the object allocation traceback\n",
      "sys:1: ResourceWarning: unclosed socket <zmq.Socket(zmq.PUSH) at 0x7f6cf81ec8e0>\n",
      "ResourceWarning: Enable tracemalloc to get the object allocation traceback\n",
      "sys:1: ResourceWarning: unclosed socket <zmq.Socket(zmq.PUSH) at 0x7f6cd8750280>\n",
      "ResourceWarning: Enable tracemalloc to get the object allocation traceback\n"
     ]
    },
    {
     "name": "stdout",
     "output_type": "stream",
     "text": [
      "[***                    7%                       ]  155 of 2310 completed"
     ]
    },
    {
     "name": "stderr",
     "output_type": "stream",
     "text": [
      "sys:1: ResourceWarning: unclosed socket <zmq.Socket(zmq.PUSH) at 0x7f6cd862bee0>\n",
      "ResourceWarning: Enable tracemalloc to get the object allocation traceback\n",
      "sys:1: ResourceWarning: unclosed socket <zmq.Socket(zmq.PUSH) at 0x7f6cf81882e0>\n",
      "ResourceWarning: Enable tracemalloc to get the object allocation traceback\n",
      "sys:1: ResourceWarning: unclosed socket <zmq.Socket(zmq.PUSH) at 0x7f6cd87512a0>\n",
      "ResourceWarning: Enable tracemalloc to get the object allocation traceback\n"
     ]
    },
    {
     "name": "stdout",
     "output_type": "stream",
     "text": [
      "[***                    7%                       ]  161 of 2310 completed"
     ]
    },
    {
     "name": "stderr",
     "output_type": "stream",
     "text": [
      "sys:1: ResourceWarning: unclosed socket <zmq.Socket(zmq.PUSH) at 0x7f6cd8682b60>\n",
      "ResourceWarning: Enable tracemalloc to get the object allocation traceback\n",
      "sys:1: ResourceWarning: unclosed socket <zmq.Socket(zmq.PUSH) at 0x7f6cd862abc0>\n",
      "ResourceWarning: Enable tracemalloc to get the object allocation traceback\n",
      "sys:1: ResourceWarning: unclosed socket <zmq.Socket(zmq.PUSH) at 0x7f6cd869bfa0>\n",
      "ResourceWarning: Enable tracemalloc to get the object allocation traceback\n",
      "sys:1: ResourceWarning: unclosed socket <zmq.Socket(zmq.PUSH) at 0x7f6cd8681900>\n",
      "ResourceWarning: Enable tracemalloc to get the object allocation traceback\n",
      "sys:1: ResourceWarning: unclosed socket <zmq.Socket(zmq.PUSH) at 0x7f6cd8750580>\n",
      "ResourceWarning: Enable tracemalloc to get the object allocation traceback\n",
      "sys:1: ResourceWarning: unclosed socket <zmq.Socket(zmq.PUSH) at 0x7f6cf818a3e0>\n",
      "ResourceWarning: Enable tracemalloc to get the object allocation traceback\n"
     ]
    },
    {
     "name": "stdout",
     "output_type": "stream",
     "text": [
      "\r",
      "[***                    7%                       ]  162 of 2310 completed"
     ]
    },
    {
     "name": "stderr",
     "output_type": "stream",
     "text": [
      "sys:1: ResourceWarning: unclosed socket <zmq.Socket(zmq.PUSH) at 0x7f6cd86835e0>\n",
      "ResourceWarning: Enable tracemalloc to get the object allocation traceback\n"
     ]
    },
    {
     "name": "stdout",
     "output_type": "stream",
     "text": [
      "[***                    7%                       ]  166 of 2310 completed"
     ]
    },
    {
     "name": "stderr",
     "output_type": "stream",
     "text": [
      "sys:1: ResourceWarning: unclosed socket <zmq.Socket(zmq.PUSH) at 0x7f6cf8189fc0>\n",
      "ResourceWarning: Enable tracemalloc to get the object allocation traceback\n",
      "sys:1: ResourceWarning: unclosed socket <zmq.Socket(zmq.PUSH) at 0x7f6cd8751120>\n",
      "ResourceWarning: Enable tracemalloc to get the object allocation traceback\n",
      "sys:1: ResourceWarning: unclosed socket <zmq.Socket(zmq.PUSH) at 0x7f6cd87efca0>\n",
      "ResourceWarning: Enable tracemalloc to get the object allocation traceback\n",
      "sys:1: ResourceWarning: unclosed socket <zmq.Socket(zmq.PUSH) at 0x7f6cd869b820>\n",
      "ResourceWarning: Enable tracemalloc to get the object allocation traceback\n"
     ]
    },
    {
     "name": "stdout",
     "output_type": "stream",
     "text": [
      "[***                    7%                       ]  170 of 2310 completed"
     ]
    },
    {
     "name": "stderr",
     "output_type": "stream",
     "text": [
      "sys:1: ResourceWarning: unclosed socket <zmq.Socket(zmq.PUSH) at 0x7f6cd869ace0>\n",
      "ResourceWarning: Enable tracemalloc to get the object allocation traceback\n",
      "sys:1: ResourceWarning: unclosed socket <zmq.Socket(zmq.PUSH) at 0x7f6cd869be20>\n",
      "ResourceWarning: Enable tracemalloc to get the object allocation traceback\n",
      "sys:1: ResourceWarning: unclosed socket <zmq.Socket(zmq.PUSH) at 0x7f6cf8149300>\n",
      "ResourceWarning: Enable tracemalloc to get the object allocation traceback\n",
      "sys:1: ResourceWarning: unclosed socket <zmq.Socket(zmq.PUSH) at 0x7f6cd8750280>\n",
      "ResourceWarning: Enable tracemalloc to get the object allocation traceback\n"
     ]
    },
    {
     "name": "stdout",
     "output_type": "stream",
     "text": [
      "[****                   8%                       ]  176 of 2310 completed"
     ]
    },
    {
     "name": "stderr",
     "output_type": "stream",
     "text": [
      "sys:1: ResourceWarning: unclosed socket <zmq.Socket(zmq.PUSH) at 0x7f6cd86826e0>\n",
      "ResourceWarning: Enable tracemalloc to get the object allocation traceback\n",
      "sys:1: ResourceWarning: unclosed socket <zmq.Socket(zmq.PUSH) at 0x7f6cd86c02e0>\n",
      "ResourceWarning: Enable tracemalloc to get the object allocation traceback\n",
      "sys:1: ResourceWarning: unclosed socket <zmq.Socket(zmq.PUSH) at 0x7f6cd869ae60>\n",
      "ResourceWarning: Enable tracemalloc to get the object allocation traceback\n",
      "sys:1: ResourceWarning: unclosed socket <zmq.Socket(zmq.PUSH) at 0x7f6cd8751120>\n",
      "ResourceWarning: Enable tracemalloc to get the object allocation traceback\n",
      "sys:1: ResourceWarning: unclosed socket <zmq.Socket(zmq.PUSH) at 0x7f6cd869b880>\n",
      "ResourceWarning: Enable tracemalloc to get the object allocation traceback\n",
      "sys:1: ResourceWarning: unclosed socket <zmq.Socket(zmq.PUSH) at 0x7f6cd86d1240>\n",
      "ResourceWarning: Enable tracemalloc to get the object allocation traceback\n"
     ]
    },
    {
     "name": "stdout",
     "output_type": "stream",
     "text": [
      "[****                   8%                       ]  178 of 2310 completed"
     ]
    },
    {
     "name": "stderr",
     "output_type": "stream",
     "text": [
      "sys:1: ResourceWarning: unclosed socket <zmq.Socket(zmq.PUSH) at 0x7f6cd862bee0>\n",
      "ResourceWarning: Enable tracemalloc to get the object allocation traceback\n",
      "sys:1: ResourceWarning: unclosed socket <zmq.Socket(zmq.PUSH) at 0x7f6cf818a9e0>\n",
      "ResourceWarning: Enable tracemalloc to get the object allocation traceback\n"
     ]
    },
    {
     "name": "stdout",
     "output_type": "stream",
     "text": [
      "[****                   8%                       ]  183 of 2310 completed"
     ]
    },
    {
     "name": "stderr",
     "output_type": "stream",
     "text": [
      "sys:1: ResourceWarning: unclosed socket <zmq.Socket(zmq.PUSH) at 0x7f6cd862bee0>\n",
      "ResourceWarning: Enable tracemalloc to get the object allocation traceback\n",
      "sys:1: ResourceWarning: unclosed socket <zmq.Socket(zmq.PUSH) at 0x7f6cd86c37c0>\n",
      "ResourceWarning: Enable tracemalloc to get the object allocation traceback\n",
      "sys:1: ResourceWarning: unclosed socket <zmq.Socket(zmq.PUSH) at 0x7f6cd8750fa0>\n",
      "ResourceWarning: Enable tracemalloc to get the object allocation traceback\n",
      "sys:1: ResourceWarning: unclosed socket <zmq.Socket(zmq.PUSH) at 0x7f6cd86806a0>\n",
      "ResourceWarning: Enable tracemalloc to get the object allocation traceback\n",
      "sys:1: ResourceWarning: unclosed socket <zmq.Socket(zmq.PUSH) at 0x7f6cf818a9e0>\n",
      "ResourceWarning: Enable tracemalloc to get the object allocation traceback\n"
     ]
    },
    {
     "name": "stdout",
     "output_type": "stream",
     "text": [
      "[****                   8%                       ]  187 of 2310 completed"
     ]
    },
    {
     "name": "stderr",
     "output_type": "stream",
     "text": [
      "sys:1: ResourceWarning: unclosed socket <zmq.Socket(zmq.PUSH) at 0x7f6cd86c3d60>\n",
      "ResourceWarning: Enable tracemalloc to get the object allocation traceback\n",
      "sys:1: ResourceWarning: unclosed socket <zmq.Socket(zmq.PUSH) at 0x7f6cd86c1a80>\n",
      "ResourceWarning: Enable tracemalloc to get the object allocation traceback\n",
      "sys:1: ResourceWarning: unclosed socket <zmq.Socket(zmq.PUSH) at 0x7f6cd8681c00>\n",
      "ResourceWarning: Enable tracemalloc to get the object allocation traceback\n",
      "sys:1: ResourceWarning: unclosed socket <zmq.Socket(zmq.PUSH) at 0x7f6cd869bf40>\n",
      "ResourceWarning: Enable tracemalloc to get the object allocation traceback\n"
     ]
    },
    {
     "name": "stdout",
     "output_type": "stream",
     "text": [
      "[****                   8%                       ]  191 of 2310 completed"
     ]
    },
    {
     "name": "stderr",
     "output_type": "stream",
     "text": [
      "sys:1: ResourceWarning: unclosed socket <zmq.Socket(zmq.PUSH) at 0x7f6cd86c38e0>\n",
      "ResourceWarning: Enable tracemalloc to get the object allocation traceback\n",
      "sys:1: ResourceWarning: unclosed socket <zmq.Socket(zmq.PUSH) at 0x7f6cd8682fe0>\n",
      "ResourceWarning: Enable tracemalloc to get the object allocation traceback\n",
      "sys:1: ResourceWarning: unclosed socket <zmq.Socket(zmq.PUSH) at 0x7f6cd8682fe0>\n",
      "ResourceWarning: Enable tracemalloc to get the object allocation traceback\n"
     ]
    },
    {
     "name": "stdout",
     "output_type": "stream",
     "text": [
      "[****                   8%                       ]  194 of 2310 completed"
     ]
    },
    {
     "name": "stderr",
     "output_type": "stream",
     "text": [
      "sys:1: ResourceWarning: unclosed socket <zmq.Socket(zmq.PUSH) at 0x7f6cd8681c00>\n",
      "ResourceWarning: Enable tracemalloc to get the object allocation traceback\n",
      "sys:1: ResourceWarning: unclosed socket <zmq.Socket(zmq.PUSH) at 0x7f6cd86c3d60>\n",
      "ResourceWarning: Enable tracemalloc to get the object allocation traceback\n",
      "sys:1: ResourceWarning: unclosed socket <zmq.Socket(zmq.PUSH) at 0x7f6cd8750b20>\n",
      "ResourceWarning: Enable tracemalloc to get the object allocation traceback\n",
      "sys:1: ResourceWarning: unclosed socket <zmq.Socket(zmq.PUSH) at 0x7f6cd86c3d60>\n",
      "ResourceWarning: Enable tracemalloc to get the object allocation traceback\n"
     ]
    },
    {
     "name": "stdout",
     "output_type": "stream",
     "text": [
      "[****                   9%                       ]  197 of 2310 completed"
     ]
    },
    {
     "name": "stderr",
     "output_type": "stream",
     "text": [
      "sys:1: ResourceWarning: unclosed socket <zmq.Socket(zmq.PUSH) at 0x7f6cd8750280>\n",
      "ResourceWarning: Enable tracemalloc to get the object allocation traceback\n",
      "sys:1: ResourceWarning: unclosed socket <zmq.Socket(zmq.PUSH) at 0x7f6cd8750280>\n",
      "ResourceWarning: Enable tracemalloc to get the object allocation traceback\n",
      "sys:1: ResourceWarning: unclosed socket <zmq.Socket(zmq.PUSH) at 0x7f6cd86835e0>\n",
      "ResourceWarning: Enable tracemalloc to get the object allocation traceback\n"
     ]
    },
    {
     "name": "stdout",
     "output_type": "stream",
     "text": [
      "[****                   9%                       ]  202 of 2310 completed"
     ]
    },
    {
     "name": "stderr",
     "output_type": "stream",
     "text": [
      "sys:1: ResourceWarning: unclosed socket <zmq.Socket(zmq.PUSH) at 0x7f6cf8189fc0>\n",
      "ResourceWarning: Enable tracemalloc to get the object allocation traceback\n",
      "sys:1: ResourceWarning: unclosed socket <zmq.Socket(zmq.PUSH) at 0x7f6cd87376a0>\n",
      "ResourceWarning: Enable tracemalloc to get the object allocation traceback\n",
      "sys:1: ResourceWarning: unclosed socket <zmq.Socket(zmq.PUSH) at 0x7f6cd8682bc0>\n",
      "ResourceWarning: Enable tracemalloc to get the object allocation traceback\n",
      "sys:1: ResourceWarning: unclosed socket <zmq.Socket(zmq.PUSH) at 0x7f6cd86c1ea0>\n",
      "ResourceWarning: Enable tracemalloc to get the object allocation traceback\n",
      "sys:1: ResourceWarning: unclosed socket <zmq.Socket(zmq.PUSH) at 0x7f6cd869b460>\n",
      "ResourceWarning: Enable tracemalloc to get the object allocation traceback\n"
     ]
    },
    {
     "name": "stdout",
     "output_type": "stream",
     "text": [
      "\r",
      "[****                   9%                       ]  203 of 2310 completed"
     ]
    },
    {
     "name": "stderr",
     "output_type": "stream",
     "text": [
      "sys:1: ResourceWarning: unclosed socket <zmq.Socket(zmq.PUSH) at 0x7f6cd8750b20>\n",
      "ResourceWarning: Enable tracemalloc to get the object allocation traceback\n"
     ]
    },
    {
     "name": "stdout",
     "output_type": "stream",
     "text": [
      "[****                   9%                       ]  209 of 2310 completed"
     ]
    },
    {
     "name": "stderr",
     "output_type": "stream",
     "text": [
      "sys:1: ResourceWarning: unclosed socket <zmq.Socket(zmq.PUSH) at 0x7f6cd8735de0>\n",
      "ResourceWarning: Enable tracemalloc to get the object allocation traceback\n",
      "sys:1: ResourceWarning: unclosed socket <zmq.Socket(zmq.PUSH) at 0x7f6cd86c3100>\n",
      "ResourceWarning: Enable tracemalloc to get the object allocation traceback\n",
      "sys:1: ResourceWarning: unclosed socket <zmq.Socket(zmq.PUSH) at 0x7f6cf818a3e0>\n",
      "ResourceWarning: Enable tracemalloc to get the object allocation traceback\n",
      "sys:1: ResourceWarning: unclosed socket <zmq.Socket(zmq.PUSH) at 0x7f6cd87efca0>\n",
      "ResourceWarning: Enable tracemalloc to get the object allocation traceback\n",
      "sys:1: ResourceWarning: unclosed socket <zmq.Socket(zmq.PUSH) at 0x7f6cf818a3e0>\n",
      "ResourceWarning: Enable tracemalloc to get the object allocation traceback\n",
      "sys:1: ResourceWarning: unclosed socket <zmq.Socket(zmq.PUSH) at 0x7f6cd86c3100>\n",
      "ResourceWarning: Enable tracemalloc to get the object allocation traceback\n"
     ]
    },
    {
     "name": "stdout",
     "output_type": "stream",
     "text": [
      "[****                   9%                       ]  212 of 2310 completed"
     ]
    },
    {
     "name": "stderr",
     "output_type": "stream",
     "text": [
      "sys:1: ResourceWarning: unclosed socket <zmq.Socket(zmq.PUSH) at 0x7f6cd8737460>\n",
      "ResourceWarning: Enable tracemalloc to get the object allocation traceback\n",
      "sys:1: ResourceWarning: unclosed socket <zmq.Socket(zmq.PUSH) at 0x7f6d11ea3640>\n",
      "ResourceWarning: Enable tracemalloc to get the object allocation traceback\n",
      "sys:1: ResourceWarning: unclosed socket <zmq.Socket(zmq.PUSH) at 0x7f6d11ea2e60>\n",
      "ResourceWarning: Enable tracemalloc to get the object allocation traceback\n"
     ]
    },
    {
     "name": "stdout",
     "output_type": "stream",
     "text": [
      "[****                   9%                       ]  218 of 2310 completed"
     ]
    },
    {
     "name": "stderr",
     "output_type": "stream",
     "text": [
      "sys:1: ResourceWarning: unclosed socket <zmq.Socket(zmq.PUSH) at 0x7f6cd8750b20>\n",
      "ResourceWarning: Enable tracemalloc to get the object allocation traceback\n",
      "sys:1: ResourceWarning: unclosed socket <zmq.Socket(zmq.PUSH) at 0x7f6cd8737e80>\n",
      "ResourceWarning: Enable tracemalloc to get the object allocation traceback\n",
      "sys:1: ResourceWarning: unclosed socket <zmq.Socket(zmq.PUSH) at 0x7f6cd8682fe0>\n",
      "ResourceWarning: Enable tracemalloc to get the object allocation traceback\n",
      "sys:1: ResourceWarning: unclosed socket <zmq.Socket(zmq.PUSH) at 0x7f6cd8737d00>\n",
      "ResourceWarning: Enable tracemalloc to get the object allocation traceback\n",
      "sys:1: ResourceWarning: unclosed socket <zmq.Socket(zmq.PUSH) at 0x7f6cd862af20>\n",
      "ResourceWarning: Enable tracemalloc to get the object allocation traceback\n",
      "sys:1: ResourceWarning: unclosed socket <zmq.Socket(zmq.PUSH) at 0x7f6cd86c3100>\n",
      "ResourceWarning: Enable tracemalloc to get the object allocation traceback\n"
     ]
    },
    {
     "name": "stdout",
     "output_type": "stream",
     "text": [
      "[*****                 10%                       ]  220 of 2310 completed"
     ]
    },
    {
     "name": "stderr",
     "output_type": "stream",
     "text": [
      "sys:1: ResourceWarning: unclosed socket <zmq.Socket(zmq.PUSH) at 0x7f6cd86c28c0>\n",
      "ResourceWarning: Enable tracemalloc to get the object allocation traceback\n",
      "sys:1: ResourceWarning: unclosed socket <zmq.Socket(zmq.PUSH) at 0x7f6d11ea2e60>\n",
      "ResourceWarning: Enable tracemalloc to get the object allocation traceback\n"
     ]
    },
    {
     "name": "stdout",
     "output_type": "stream",
     "text": [
      "[*****                 10%                       ]  226 of 2310 completed"
     ]
    },
    {
     "name": "stderr",
     "output_type": "stream",
     "text": [
      "sys:1: ResourceWarning: unclosed socket <zmq.Socket(zmq.PUSH) at 0x7f6cd86c2b00>\n",
      "ResourceWarning: Enable tracemalloc to get the object allocation traceback\n",
      "sys:1: ResourceWarning: unclosed socket <zmq.Socket(zmq.PUSH) at 0x7f6cd8750b20>\n",
      "ResourceWarning: Enable tracemalloc to get the object allocation traceback\n",
      "sys:1: ResourceWarning: unclosed socket <zmq.Socket(zmq.PUSH) at 0x7f6cd86c28c0>\n",
      "ResourceWarning: Enable tracemalloc to get the object allocation traceback\n",
      "sys:1: ResourceWarning: unclosed socket <zmq.Socket(zmq.PUSH) at 0x7f6d11ea3760>\n",
      "ResourceWarning: Enable tracemalloc to get the object allocation traceback\n",
      "sys:1: ResourceWarning: unclosed socket <zmq.Socket(zmq.PUSH) at 0x7f6cd8736380>\n",
      "ResourceWarning: Enable tracemalloc to get the object allocation traceback\n",
      "sys:1: ResourceWarning: unclosed socket <zmq.Socket(zmq.PUSH) at 0x7f6cd862af20>\n",
      "ResourceWarning: Enable tracemalloc to get the object allocation traceback\n"
     ]
    },
    {
     "name": "stdout",
     "output_type": "stream",
     "text": [
      "[*****                 10%                       ]  228 of 2310 completed"
     ]
    },
    {
     "name": "stderr",
     "output_type": "stream",
     "text": [
      "sys:1: ResourceWarning: unclosed socket <zmq.Socket(zmq.PUSH) at 0x7f6d11ea1f00>\n",
      "ResourceWarning: Enable tracemalloc to get the object allocation traceback\n",
      "sys:1: ResourceWarning: unclosed socket <zmq.Socket(zmq.PUSH) at 0x7f6cd869b460>\n",
      "ResourceWarning: Enable tracemalloc to get the object allocation traceback\n"
     ]
    },
    {
     "name": "stdout",
     "output_type": "stream",
     "text": [
      "[*****                 10%                       ]  235 of 2310 completed"
     ]
    },
    {
     "name": "stderr",
     "output_type": "stream",
     "text": [
      "sys:1: ResourceWarning: unclosed socket <zmq.Socket(zmq.PUSH) at 0x7f6cd86d57e0>\n",
      "ResourceWarning: Enable tracemalloc to get the object allocation traceback\n",
      "sys:1: ResourceWarning: unclosed socket <zmq.Socket(zmq.PUSH) at 0x7f6d11ea12a0>\n",
      "ResourceWarning: Enable tracemalloc to get the object allocation traceback\n",
      "sys:1: ResourceWarning: unclosed socket <zmq.Socket(zmq.PUSH) at 0x7f6cd87375e0>\n",
      "ResourceWarning: Enable tracemalloc to get the object allocation traceback\n",
      "sys:1: ResourceWarning: unclosed socket <zmq.Socket(zmq.PUSH) at 0x7f6d11ea1f00>\n",
      "ResourceWarning: Enable tracemalloc to get the object allocation traceback\n",
      "sys:1: ResourceWarning: unclosed socket <zmq.Socket(zmq.PUSH) at 0x7f6cd862bee0>\n",
      "ResourceWarning: Enable tracemalloc to get the object allocation traceback\n",
      "sys:1: ResourceWarning: unclosed socket <zmq.Socket(zmq.PUSH) at 0x7f6d11ea1f00>\n",
      "ResourceWarning: Enable tracemalloc to get the object allocation traceback\n",
      "sys:1: ResourceWarning: unclosed socket <zmq.Socket(zmq.PUSH) at 0x7f6cf818a3e0>\n",
      "ResourceWarning: Enable tracemalloc to get the object allocation traceback\n"
     ]
    },
    {
     "name": "stdout",
     "output_type": "stream",
     "text": [
      "\r",
      "[*****                 10%                       ]  236 of 2310 completed"
     ]
    },
    {
     "name": "stderr",
     "output_type": "stream",
     "text": [
      "sys:1: ResourceWarning: unclosed socket <zmq.Socket(zmq.PUSH) at 0x7f6cd8682bc0>\n",
      "ResourceWarning: Enable tracemalloc to get the object allocation traceback\n"
     ]
    },
    {
     "name": "stdout",
     "output_type": "stream",
     "text": [
      "[*****                 11%                       ]  243 of 2310 completed"
     ]
    },
    {
     "name": "stderr",
     "output_type": "stream",
     "text": [
      "sys:1: ResourceWarning: unclosed socket <zmq.Socket(zmq.PUSH) at 0x7f6d11ea2e60>\n",
      "ResourceWarning: Enable tracemalloc to get the object allocation traceback\n",
      "sys:1: ResourceWarning: unclosed socket <zmq.Socket(zmq.PUSH) at 0x7f6cd86d7e20>\n",
      "ResourceWarning: Enable tracemalloc to get the object allocation traceback\n",
      "sys:1: ResourceWarning: unclosed socket <zmq.Socket(zmq.PUSH) at 0x7f6cd869b460>\n",
      "ResourceWarning: Enable tracemalloc to get the object allocation traceback\n",
      "sys:1: ResourceWarning: unclosed socket <zmq.Socket(zmq.PUSH) at 0x7f6cd86806a0>\n",
      "ResourceWarning: Enable tracemalloc to get the object allocation traceback\n",
      "sys:1: ResourceWarning: unclosed socket <zmq.Socket(zmq.PUSH) at 0x7f6cd86d7d60>\n",
      "ResourceWarning: Enable tracemalloc to get the object allocation traceback\n",
      "sys:1: ResourceWarning: unclosed socket <zmq.Socket(zmq.PUSH) at 0x7f6cd86c3100>\n",
      "ResourceWarning: Enable tracemalloc to get the object allocation traceback\n",
      "sys:1: ResourceWarning: unclosed socket <zmq.Socket(zmq.PUSH) at 0x7f6cd86d6380>\n",
      "ResourceWarning: Enable tracemalloc to get the object allocation traceback\n"
     ]
    },
    {
     "name": "stdout",
     "output_type": "stream",
     "text": [
      "[*****                 11%                       ]  249 of 2310 completed"
     ]
    },
    {
     "name": "stderr",
     "output_type": "stream",
     "text": [
      "sys:1: ResourceWarning: unclosed socket <zmq.Socket(zmq.PUSH) at 0x7f6cd86af520>\n",
      "ResourceWarning: Enable tracemalloc to get the object allocation traceback\n",
      "sys:1: ResourceWarning: unclosed socket <zmq.Socket(zmq.PUSH) at 0x7f6cd8736380>\n",
      "ResourceWarning: Enable tracemalloc to get the object allocation traceback\n",
      "sys:1: ResourceWarning: unclosed socket <zmq.Socket(zmq.PUSH) at 0x7f6cd86d79a0>\n",
      "ResourceWarning: Enable tracemalloc to get the object allocation traceback\n",
      "sys:1: ResourceWarning: unclosed socket <zmq.Socket(zmq.PUSH) at 0x7f6cf81efe80>\n",
      "ResourceWarning: Enable tracemalloc to get the object allocation traceback\n",
      "sys:1: ResourceWarning: unclosed socket <zmq.Socket(zmq.PUSH) at 0x7f6cd87366e0>\n",
      "ResourceWarning: Enable tracemalloc to get the object allocation traceback\n",
      "sys:1: ResourceWarning: unclosed socket <zmq.Socket(zmq.PUSH) at 0x7f6cd8737ca0>\n",
      "ResourceWarning: Enable tracemalloc to get the object allocation traceback\n"
     ]
    },
    {
     "name": "stdout",
     "output_type": "stream",
     "text": [
      "[*****                 11%                       ]  251 of 2310 completed"
     ]
    },
    {
     "name": "stderr",
     "output_type": "stream",
     "text": [
      "sys:1: ResourceWarning: unclosed socket <zmq.Socket(zmq.PUSH) at 0x7f6cd86835e0>\n",
      "ResourceWarning: Enable tracemalloc to get the object allocation traceback\n",
      "sys:1: ResourceWarning: unclosed socket <zmq.Socket(zmq.PUSH) at 0x7f6d11ea2860>\n",
      "ResourceWarning: Enable tracemalloc to get the object allocation traceback\n"
     ]
    },
    {
     "name": "stdout",
     "output_type": "stream",
     "text": [
      "[*****                 11%                       ]  256 of 2310 completed"
     ]
    },
    {
     "name": "stderr",
     "output_type": "stream",
     "text": [
      "sys:1: ResourceWarning: unclosed socket <zmq.Socket(zmq.PUSH) at 0x7f6cd86c1de0>\n",
      "ResourceWarning: Enable tracemalloc to get the object allocation traceback\n",
      "sys:1: ResourceWarning: unclosed socket <zmq.Socket(zmq.PUSH) at 0x7f6cd86d6c80>\n",
      "ResourceWarning: Enable tracemalloc to get the object allocation traceback\n",
      "sys:1: ResourceWarning: unclosed socket <zmq.Socket(zmq.PUSH) at 0x7f6d11ea24a0>\n",
      "ResourceWarning: Enable tracemalloc to get the object allocation traceback\n",
      "sys:1: ResourceWarning: unclosed socket <zmq.Socket(zmq.PUSH) at 0x7f6cd86a7e80>\n",
      "ResourceWarning: Enable tracemalloc to get the object allocation traceback\n",
      "sys:1: ResourceWarning: unclosed socket <zmq.Socket(zmq.PUSH) at 0x7f6cd87375e0>\n",
      "ResourceWarning: Enable tracemalloc to get the object allocation traceback\n"
     ]
    },
    {
     "name": "stdout",
     "output_type": "stream",
     "text": [
      "[*****                 11%                       ]  259 of 2310 completed"
     ]
    },
    {
     "name": "stderr",
     "output_type": "stream",
     "text": [
      "sys:1: ResourceWarning: unclosed socket <zmq.Socket(zmq.PUSH) at 0x7f6cf818a3e0>\n",
      "ResourceWarning: Enable tracemalloc to get the object allocation traceback\n",
      "sys:1: ResourceWarning: unclosed socket <zmq.Socket(zmq.PUSH) at 0x7f6cd86d4f40>\n",
      "ResourceWarning: Enable tracemalloc to get the object allocation traceback\n",
      "sys:1: ResourceWarning: unclosed socket <zmq.Socket(zmq.PUSH) at 0x7f6cd86d4f40>\n",
      "ResourceWarning: Enable tracemalloc to get the object allocation traceback\n"
     ]
    },
    {
     "name": "stdout",
     "output_type": "stream",
     "text": [
      "[*****                 11%                       ]  263 of 2310 completed"
     ]
    },
    {
     "name": "stderr",
     "output_type": "stream",
     "text": [
      "sys:1: ResourceWarning: unclosed socket <zmq.Socket(zmq.PUSH) at 0x7f6cd86c3a00>\n",
      "ResourceWarning: Enable tracemalloc to get the object allocation traceback\n",
      "sys:1: ResourceWarning: unclosed socket <zmq.Socket(zmq.PUSH) at 0x7f6cd86c1a80>\n",
      "ResourceWarning: Enable tracemalloc to get the object allocation traceback\n",
      "sys:1: ResourceWarning: unclosed socket <zmq.Socket(zmq.PUSH) at 0x7f6cd86d57e0>\n",
      "ResourceWarning: Enable tracemalloc to get the object allocation traceback\n",
      "sys:1: ResourceWarning: unclosed socket <zmq.Socket(zmq.PUSH) at 0x7f6cd86d57e0>\n",
      "ResourceWarning: Enable tracemalloc to get the object allocation traceback\n"
     ]
    },
    {
     "name": "stdout",
     "output_type": "stream",
     "text": [
      "[******                12%                       ]  268 of 2310 completed"
     ]
    },
    {
     "name": "stderr",
     "output_type": "stream",
     "text": [
      "sys:1: ResourceWarning: unclosed socket <zmq.Socket(zmq.PUSH) at 0x7f6cd86ae5c0>\n",
      "ResourceWarning: Enable tracemalloc to get the object allocation traceback\n",
      "sys:1: ResourceWarning: unclosed socket <zmq.Socket(zmq.PUSH) at 0x7f6cd8737ac0>\n",
      "ResourceWarning: Enable tracemalloc to get the object allocation traceback\n",
      "sys:1: ResourceWarning: unclosed socket <zmq.Socket(zmq.PUSH) at 0x7f6d11ea35e0>\n",
      "ResourceWarning: Enable tracemalloc to get the object allocation traceback\n",
      "sys:1: ResourceWarning: unclosed socket <zmq.Socket(zmq.PUSH) at 0x7f6cd8736b60>\n",
      "ResourceWarning: Enable tracemalloc to get the object allocation traceback\n",
      "sys:1: ResourceWarning: unclosed socket <zmq.Socket(zmq.PUSH) at 0x7f6cd8736b60>\n",
      "ResourceWarning: Enable tracemalloc to get the object allocation traceback\n"
     ]
    },
    {
     "name": "stdout",
     "output_type": "stream",
     "text": [
      "[******                12%                       ]  271 of 2310 completed"
     ]
    },
    {
     "name": "stderr",
     "output_type": "stream",
     "text": [
      "sys:1: ResourceWarning: unclosed socket <zmq.Socket(zmq.PUSH) at 0x7f6cf81efe80>\n",
      "ResourceWarning: Enable tracemalloc to get the object allocation traceback\n",
      "sys:1: ResourceWarning: unclosed socket <zmq.Socket(zmq.PUSH) at 0x7f6cf81efe80>\n",
      "ResourceWarning: Enable tracemalloc to get the object allocation traceback\n",
      "sys:1: ResourceWarning: unclosed socket <zmq.Socket(zmq.PUSH) at 0x7f6cd86d5d80>\n",
      "ResourceWarning: Enable tracemalloc to get the object allocation traceback\n"
     ]
    },
    {
     "name": "stdout",
     "output_type": "stream",
     "text": [
      "[******                12%                       ]  276 of 2310 completed"
     ]
    },
    {
     "name": "stderr",
     "output_type": "stream",
     "text": [
      "sys:1: ResourceWarning: unclosed socket <zmq.Socket(zmq.PUSH) at 0x7f6cd86af100>\n",
      "ResourceWarning: Enable tracemalloc to get the object allocation traceback\n",
      "sys:1: ResourceWarning: unclosed socket <zmq.Socket(zmq.PUSH) at 0x7f6cf818a9e0>\n",
      "ResourceWarning: Enable tracemalloc to get the object allocation traceback\n",
      "sys:1: ResourceWarning: unclosed socket <zmq.Socket(zmq.PUSH) at 0x7f6cd86a6e60>\n",
      "ResourceWarning: Enable tracemalloc to get the object allocation traceback\n",
      "sys:1: ResourceWarning: unclosed socket <zmq.Socket(zmq.PUSH) at 0x7f6cd86adc60>\n",
      "ResourceWarning: Enable tracemalloc to get the object allocation traceback\n",
      "sys:1: ResourceWarning: unclosed socket <zmq.Socket(zmq.PUSH) at 0x7f6cd86af1c0>\n",
      "ResourceWarning: Enable tracemalloc to get the object allocation traceback\n"
     ]
    },
    {
     "name": "stdout",
     "output_type": "stream",
     "text": [
      "[******                12%                       ]  280 of 2310 completed"
     ]
    },
    {
     "name": "stderr",
     "output_type": "stream",
     "text": [
      "sys:1: ResourceWarning: unclosed socket <zmq.Socket(zmq.PUSH) at 0x7f6cd86d65c0>\n",
      "ResourceWarning: Enable tracemalloc to get the object allocation traceback\n",
      "sys:1: ResourceWarning: unclosed socket <zmq.Socket(zmq.PUSH) at 0x7f6cd86a6920>\n",
      "ResourceWarning: Enable tracemalloc to get the object allocation traceback\n",
      "sys:1: ResourceWarning: unclosed socket <zmq.Socket(zmq.PUSH) at 0x7f6cd86a7340>\n",
      "ResourceWarning: Enable tracemalloc to get the object allocation traceback\n",
      "sys:1: ResourceWarning: unclosed socket <zmq.Socket(zmq.PUSH) at 0x7f6cd8750b20>\n",
      "ResourceWarning: Enable tracemalloc to get the object allocation traceback\n"
     ]
    },
    {
     "name": "stdout",
     "output_type": "stream",
     "text": [
      "[******                12%                       ]  285 of 2310 completed"
     ]
    },
    {
     "name": "stderr",
     "output_type": "stream",
     "text": [
      "sys:1: ResourceWarning: unclosed socket <zmq.Socket(zmq.PUSH) at 0x7f6cd86a7340>\n",
      "ResourceWarning: Enable tracemalloc to get the object allocation traceback\n",
      "sys:1: ResourceWarning: unclosed socket <zmq.Socket(zmq.PUSH) at 0x7f6d11ea0880>\n",
      "ResourceWarning: Enable tracemalloc to get the object allocation traceback\n",
      "sys:1: ResourceWarning: unclosed socket <zmq.Socket(zmq.PUSH) at 0x7f6cd86a76a0>\n",
      "ResourceWarning: Enable tracemalloc to get the object allocation traceback\n",
      "sys:1: ResourceWarning: unclosed socket <zmq.Socket(zmq.PUSH) at 0x7f6d11ea1f00>\n",
      "ResourceWarning: Enable tracemalloc to get the object allocation traceback\n",
      "sys:1: ResourceWarning: unclosed socket <zmq.Socket(zmq.PUSH) at 0x7f6cd86a7e20>\n",
      "ResourceWarning: Enable tracemalloc to get the object allocation traceback\n"
     ]
    },
    {
     "name": "stdout",
     "output_type": "stream",
     "text": [
      "[******                13%                       ]  289 of 2310 completed"
     ]
    },
    {
     "name": "stderr",
     "output_type": "stream",
     "text": [
      "sys:1: ResourceWarning: unclosed socket <zmq.Socket(zmq.PUSH) at 0x7f6cd86ae5c0>\n",
      "ResourceWarning: Enable tracemalloc to get the object allocation traceback\n",
      "sys:1: ResourceWarning: unclosed socket <zmq.Socket(zmq.PUSH) at 0x7f6cd86acb20>\n",
      "ResourceWarning: Enable tracemalloc to get the object allocation traceback\n",
      "sys:1: ResourceWarning: unclosed socket <zmq.Socket(zmq.PUSH) at 0x7f6cd8737ac0>\n",
      "ResourceWarning: Enable tracemalloc to get the object allocation traceback\n",
      "sys:1: ResourceWarning: unclosed socket <zmq.Socket(zmq.PUSH) at 0x7f6d11ea35e0>\n",
      "ResourceWarning: Enable tracemalloc to get the object allocation traceback\n"
     ]
    },
    {
     "name": "stdout",
     "output_type": "stream",
     "text": [
      "[******                13%                       ]  294 of 2310 completed"
     ]
    },
    {
     "name": "stderr",
     "output_type": "stream",
     "text": [
      "sys:1: ResourceWarning: unclosed socket <zmq.Socket(zmq.PUSH) at 0x7f6cd8703940>\n",
      "ResourceWarning: Enable tracemalloc to get the object allocation traceback\n",
      "sys:1: ResourceWarning: unclosed socket <zmq.Socket(zmq.PUSH) at 0x7f6cd8736860>\n",
      "ResourceWarning: Enable tracemalloc to get the object allocation traceback\n",
      "sys:1: ResourceWarning: unclosed socket <zmq.Socket(zmq.PUSH) at 0x7f6cd862bee0>\n",
      "ResourceWarning: Enable tracemalloc to get the object allocation traceback\n",
      "sys:1: ResourceWarning: unclosed socket <zmq.Socket(zmq.PUSH) at 0x7f6cd86ae7a0>\n",
      "ResourceWarning: Enable tracemalloc to get the object allocation traceback\n",
      "sys:1: ResourceWarning: unclosed socket <zmq.Socket(zmq.PUSH) at 0x7f6cd8750b20>\n",
      "ResourceWarning: Enable tracemalloc to get the object allocation traceback\n"
     ]
    },
    {
     "name": "stdout",
     "output_type": "stream",
     "text": [
      "[******                13%                       ]  298 of 2310 completed"
     ]
    },
    {
     "name": "stderr",
     "output_type": "stream",
     "text": [
      "sys:1: ResourceWarning: unclosed socket <zmq.Socket(zmq.PUSH) at 0x7f6cd8702740>\n",
      "ResourceWarning: Enable tracemalloc to get the object allocation traceback\n",
      "sys:1: ResourceWarning: unclosed socket <zmq.Socket(zmq.PUSH) at 0x7f6cd86c28c0>\n",
      "ResourceWarning: Enable tracemalloc to get the object allocation traceback\n",
      "sys:1: ResourceWarning: unclosed socket <zmq.Socket(zmq.PUSH) at 0x7f6cd8750280>\n",
      "ResourceWarning: Enable tracemalloc to get the object allocation traceback\n",
      "sys:1: ResourceWarning: unclosed socket <zmq.Socket(zmq.PUSH) at 0x7f6cd8703d00>\n",
      "ResourceWarning: Enable tracemalloc to get the object allocation traceback\n"
     ]
    },
    {
     "name": "stdout",
     "output_type": "stream",
     "text": [
      "[******                13%                       ]  303 of 2310 completed"
     ]
    },
    {
     "name": "stderr",
     "output_type": "stream",
     "text": [
      "sys:1: ResourceWarning: unclosed socket <zmq.Socket(zmq.PUSH) at 0x7f6cd86a6920>\n",
      "ResourceWarning: Enable tracemalloc to get the object allocation traceback\n",
      "sys:1: ResourceWarning: unclosed socket <zmq.Socket(zmq.PUSH) at 0x7f6cd8736860>\n",
      "ResourceWarning: Enable tracemalloc to get the object allocation traceback\n",
      "sys:1: ResourceWarning: unclosed socket <zmq.Socket(zmq.PUSH) at 0x7f6d11ea2e60>\n",
      "ResourceWarning: Enable tracemalloc to get the object allocation traceback\n",
      "sys:1: ResourceWarning: unclosed socket <zmq.Socket(zmq.PUSH) at 0x7f6cd86a79a0>\n",
      "ResourceWarning: Enable tracemalloc to get the object allocation traceback\n",
      "sys:1: ResourceWarning: unclosed socket <zmq.Socket(zmq.PUSH) at 0x7f6cd8737460>\n",
      "ResourceWarning: Enable tracemalloc to get the object allocation traceback\n"
     ]
    },
    {
     "name": "stdout",
     "output_type": "stream",
     "text": [
      "[******                13%                       ]  308 of 2310 completed"
     ]
    },
    {
     "name": "stderr",
     "output_type": "stream",
     "text": [
      "sys:1: ResourceWarning: unclosed socket <zmq.Socket(zmq.PUSH) at 0x7f6cd86c1a80>\n",
      "ResourceWarning: Enable tracemalloc to get the object allocation traceback\n",
      "sys:1: ResourceWarning: unclosed socket <zmq.Socket(zmq.PUSH) at 0x7f6cd86a6e60>\n",
      "ResourceWarning: Enable tracemalloc to get the object allocation traceback\n",
      "sys:1: ResourceWarning: unclosed socket <zmq.Socket(zmq.PUSH) at 0x7f6cd8702ec0>\n",
      "ResourceWarning: Enable tracemalloc to get the object allocation traceback\n",
      "sys:1: ResourceWarning: unclosed socket <zmq.Socket(zmq.PUSH) at 0x7f6cd86d4460>\n",
      "ResourceWarning: Enable tracemalloc to get the object allocation traceback\n",
      "sys:1: ResourceWarning: unclosed socket <zmq.Socket(zmq.PUSH) at 0x7f6cd8703760>\n",
      "ResourceWarning: Enable tracemalloc to get the object allocation traceback\n"
     ]
    },
    {
     "name": "stdout",
     "output_type": "stream",
     "text": [
      "[*******               14%                       ]  312 of 2310 completed"
     ]
    },
    {
     "name": "stderr",
     "output_type": "stream",
     "text": [
      "sys:1: ResourceWarning: unclosed socket <zmq.Socket(zmq.PUSH) at 0x7f6cd8703be0>\n",
      "ResourceWarning: Enable tracemalloc to get the object allocation traceback\n",
      "sys:1: ResourceWarning: unclosed socket <zmq.Socket(zmq.PUSH) at 0x7f6cd86d4460>\n",
      "ResourceWarning: Enable tracemalloc to get the object allocation traceback\n",
      "sys:1: ResourceWarning: unclosed socket <zmq.Socket(zmq.PUSH) at 0x7f6cd86c28c0>\n",
      "ResourceWarning: Enable tracemalloc to get the object allocation traceback\n",
      "sys:1: ResourceWarning: unclosed socket <zmq.Socket(zmq.PUSH) at 0x7f6cd8703940>\n",
      "ResourceWarning: Enable tracemalloc to get the object allocation traceback\n"
     ]
    },
    {
     "name": "stdout",
     "output_type": "stream",
     "text": [
      "[*******               14%                       ]  317 of 2310 completed"
     ]
    },
    {
     "name": "stderr",
     "output_type": "stream",
     "text": [
      "sys:1: ResourceWarning: unclosed socket <zmq.Socket(zmq.PUSH) at 0x7f6cd8737460>\n",
      "ResourceWarning: Enable tracemalloc to get the object allocation traceback\n",
      "sys:1: ResourceWarning: unclosed socket <zmq.Socket(zmq.PUSH) at 0x7f6cd8703760>\n",
      "ResourceWarning: Enable tracemalloc to get the object allocation traceback\n",
      "sys:1: ResourceWarning: unclosed socket <zmq.Socket(zmq.PUSH) at 0x7f6cd8737520>\n",
      "ResourceWarning: Enable tracemalloc to get the object allocation traceback\n",
      "sys:1: ResourceWarning: unclosed socket <zmq.Socket(zmq.PUSH) at 0x7f6cd86d79a0>\n",
      "ResourceWarning: Enable tracemalloc to get the object allocation traceback\n",
      "sys:1: ResourceWarning: unclosed socket <zmq.Socket(zmq.PUSH) at 0x7f6cd86c1a80>\n",
      "ResourceWarning: Enable tracemalloc to get the object allocation traceback\n"
     ]
    },
    {
     "name": "stdout",
     "output_type": "stream",
     "text": [
      "[*******               14%                       ]  320 of 2310 completed"
     ]
    },
    {
     "name": "stderr",
     "output_type": "stream",
     "text": [
      "sys:1: ResourceWarning: unclosed socket <zmq.Socket(zmq.PUSH) at 0x7f6cd86ae7a0>\n",
      "ResourceWarning: Enable tracemalloc to get the object allocation traceback\n",
      "sys:1: ResourceWarning: unclosed socket <zmq.Socket(zmq.PUSH) at 0x7f6cd87928c0>\n",
      "ResourceWarning: Enable tracemalloc to get the object allocation traceback\n",
      "sys:1: ResourceWarning: unclosed socket <zmq.Socket(zmq.PUSH) at 0x7f6cd8750280>\n",
      "ResourceWarning: Enable tracemalloc to get the object allocation traceback\n"
     ]
    },
    {
     "name": "stdout",
     "output_type": "stream",
     "text": [
      "[*******               14%                       ]  324 of 2310 completed"
     ]
    },
    {
     "name": "stderr",
     "output_type": "stream",
     "text": [
      "sys:1: ResourceWarning: unclosed socket <zmq.Socket(zmq.PUSH) at 0x7f6cd8750b20>\n",
      "ResourceWarning: Enable tracemalloc to get the object allocation traceback\n",
      "sys:1: ResourceWarning: unclosed socket <zmq.Socket(zmq.PUSH) at 0x7f6cd86d7a60>\n",
      "ResourceWarning: Enable tracemalloc to get the object allocation traceback\n",
      "sys:1: ResourceWarning: unclosed socket <zmq.Socket(zmq.PUSH) at 0x7f6cd8703d00>\n",
      "ResourceWarning: Enable tracemalloc to get the object allocation traceback\n",
      "sys:1: ResourceWarning: unclosed socket <zmq.Socket(zmq.PUSH) at 0x7f6cd86d7a60>\n",
      "ResourceWarning: Enable tracemalloc to get the object allocation traceback\n"
     ]
    },
    {
     "name": "stdout",
     "output_type": "stream",
     "text": [
      "[*******               14%                       ]  329 of 2310 completed"
     ]
    },
    {
     "name": "stderr",
     "output_type": "stream",
     "text": [
      "sys:1: ResourceWarning: unclosed socket <zmq.Socket(zmq.PUSH) at 0x7f6cd87434c0>\n",
      "ResourceWarning: Enable tracemalloc to get the object allocation traceback\n",
      "sys:1: ResourceWarning: unclosed socket <zmq.Socket(zmq.PUSH) at 0x7f6cd8793a60>\n",
      "ResourceWarning: Enable tracemalloc to get the object allocation traceback\n",
      "sys:1: ResourceWarning: unclosed socket <zmq.Socket(zmq.PUSH) at 0x7f6cd86a79a0>\n",
      "ResourceWarning: Enable tracemalloc to get the object allocation traceback\n",
      "sys:1: ResourceWarning: unclosed socket <zmq.Socket(zmq.PUSH) at 0x7f6cd86a51e0>\n",
      "ResourceWarning: Enable tracemalloc to get the object allocation traceback\n",
      "sys:1: ResourceWarning: unclosed socket <zmq.Socket(zmq.PUSH) at 0x7f6cd86a79a0>\n",
      "ResourceWarning: Enable tracemalloc to get the object allocation traceback\n"
     ]
    },
    {
     "name": "stdout",
     "output_type": "stream",
     "text": [
      "[*******               14%                       ]  332 of 2310 completed"
     ]
    },
    {
     "name": "stderr",
     "output_type": "stream",
     "text": [
      "sys:1: ResourceWarning: unclosed socket <zmq.Socket(zmq.PUSH) at 0x7f6cd86a7e20>\n",
      "ResourceWarning: Enable tracemalloc to get the object allocation traceback\n",
      "sys:1: ResourceWarning: unclosed socket <zmq.Socket(zmq.PUSH) at 0x7f6cd87027a0>\n",
      "ResourceWarning: Enable tracemalloc to get the object allocation traceback\n",
      "sys:1: ResourceWarning: unclosed socket <zmq.Socket(zmq.PUSH) at 0x7f6cd86d6200>\n",
      "ResourceWarning: Enable tracemalloc to get the object allocation traceback\n"
     ]
    },
    {
     "name": "stdout",
     "output_type": "stream",
     "text": [
      "[*******               15%                       ]  337 of 2310 completed"
     ]
    },
    {
     "name": "stderr",
     "output_type": "stream",
     "text": [
      "sys:1: ResourceWarning: unclosed socket <zmq.Socket(zmq.PUSH) at 0x7f6cd872b940>\n",
      "ResourceWarning: Enable tracemalloc to get the object allocation traceback\n",
      "sys:1: ResourceWarning: unclosed socket <zmq.Socket(zmq.PUSH) at 0x7f6cd8742680>\n",
      "ResourceWarning: Enable tracemalloc to get the object allocation traceback\n",
      "sys:1: ResourceWarning: unclosed socket <zmq.Socket(zmq.PUSH) at 0x7f6cd8737ac0>\n",
      "ResourceWarning: Enable tracemalloc to get the object allocation traceback\n",
      "sys:1: ResourceWarning: unclosed socket <zmq.Socket(zmq.PUSH) at 0x7f6cd8703d00>\n",
      "ResourceWarning: Enable tracemalloc to get the object allocation traceback\n",
      "sys:1: ResourceWarning: unclosed socket <zmq.Socket(zmq.PUSH) at 0x7f6cd8702740>\n",
      "ResourceWarning: Enable tracemalloc to get the object allocation traceback\n"
     ]
    },
    {
     "name": "stdout",
     "output_type": "stream",
     "text": [
      "[*******               15%                       ]  341 of 2310 completed"
     ]
    },
    {
     "name": "stderr",
     "output_type": "stream",
     "text": [
      "sys:1: ResourceWarning: unclosed socket <zmq.Socket(zmq.PUSH) at 0x7f6cd872a380>\n",
      "ResourceWarning: Enable tracemalloc to get the object allocation traceback\n",
      "sys:1: ResourceWarning: unclosed socket <zmq.Socket(zmq.PUSH) at 0x7f6cd87924a0>\n",
      "ResourceWarning: Enable tracemalloc to get the object allocation traceback\n",
      "sys:1: ResourceWarning: unclosed socket <zmq.Socket(zmq.PUSH) at 0x7f6cd86ad360>\n",
      "ResourceWarning: Enable tracemalloc to get the object allocation traceback\n",
      "sys:1: ResourceWarning: unclosed socket <zmq.Socket(zmq.PUSH) at 0x7f6cd8703b20>\n",
      "ResourceWarning: Enable tracemalloc to get the object allocation traceback\n"
     ]
    },
    {
     "name": "stdout",
     "output_type": "stream",
     "text": [
      "[*******               15%                       ]  346 of 2310 completed"
     ]
    },
    {
     "name": "stderr",
     "output_type": "stream",
     "text": [
      "sys:1: ResourceWarning: unclosed socket <zmq.Socket(zmq.PUSH) at 0x7f6cd87437c0>\n",
      "ResourceWarning: Enable tracemalloc to get the object allocation traceback\n",
      "sys:1: ResourceWarning: unclosed socket <zmq.Socket(zmq.PUSH) at 0x7f6cd8743760>\n",
      "ResourceWarning: Enable tracemalloc to get the object allocation traceback\n",
      "sys:1: ResourceWarning: unclosed socket <zmq.Socket(zmq.PUSH) at 0x7f6cd86d4460>\n",
      "ResourceWarning: Enable tracemalloc to get the object allocation traceback\n",
      "sys:1: ResourceWarning: unclosed socket <zmq.Socket(zmq.PUSH) at 0x7f6cd86d4f40>\n",
      "ResourceWarning: Enable tracemalloc to get the object allocation traceback\n",
      "sys:1: ResourceWarning: unclosed socket <zmq.Socket(zmq.PUSH) at 0x7f6cd86d4460>\n",
      "ResourceWarning: Enable tracemalloc to get the object allocation traceback\n"
     ]
    },
    {
     "name": "stdout",
     "output_type": "stream",
     "text": [
      "[*******               15%                       ]  349 of 2310 completed"
     ]
    },
    {
     "name": "stderr",
     "output_type": "stream",
     "text": [
      "sys:1: ResourceWarning: unclosed socket <zmq.Socket(zmq.PUSH) at 0x7f6cd872a380>\n",
      "ResourceWarning: Enable tracemalloc to get the object allocation traceback\n",
      "sys:1: ResourceWarning: unclosed socket <zmq.Socket(zmq.PUSH) at 0x7f6cd8742b60>\n",
      "ResourceWarning: Enable tracemalloc to get the object allocation traceback\n",
      "sys:1: ResourceWarning: unclosed socket <zmq.Socket(zmq.PUSH) at 0x7f6cd8737520>\n",
      "ResourceWarning: Enable tracemalloc to get the object allocation traceback\n"
     ]
    },
    {
     "name": "stdout",
     "output_type": "stream",
     "text": [
      "[*******               15%                       ]  352 of 2310 completed"
     ]
    },
    {
     "name": "stderr",
     "output_type": "stream",
     "text": [
      "sys:1: ResourceWarning: unclosed socket <zmq.Socket(zmq.PUSH) at 0x7f6cd8703580>\n",
      "ResourceWarning: Enable tracemalloc to get the object allocation traceback\n",
      "sys:1: ResourceWarning: unclosed socket <zmq.Socket(zmq.PUSH) at 0x7f6cd872bdc0>\n",
      "ResourceWarning: Enable tracemalloc to get the object allocation traceback\n",
      "sys:1: ResourceWarning: unclosed socket <zmq.Socket(zmq.PUSH) at 0x7f6cd86c28c0>\n",
      "ResourceWarning: Enable tracemalloc to get the object allocation traceback\n"
     ]
    },
    {
     "name": "stdout",
     "output_type": "stream",
     "text": [
      "[*******               15%                       ]  356 of 2310 completed"
     ]
    },
    {
     "name": "stderr",
     "output_type": "stream",
     "text": [
      "sys:1: ResourceWarning: unclosed socket <zmq.Socket(zmq.PUSH) at 0x7f6cd872bf40>\n",
      "ResourceWarning: Enable tracemalloc to get the object allocation traceback\n",
      "sys:1: ResourceWarning: unclosed socket <zmq.Socket(zmq.PUSH) at 0x7f6cd8703340>\n",
      "ResourceWarning: Enable tracemalloc to get the object allocation traceback\n",
      "sys:1: ResourceWarning: unclosed socket <zmq.Socket(zmq.PUSH) at 0x7f6cd8703ee0>\n",
      "ResourceWarning: Enable tracemalloc to get the object allocation traceback\n",
      "sys:1: ResourceWarning: unclosed socket <zmq.Socket(zmq.PUSH) at 0x7f6cd86a7340>\n",
      "ResourceWarning: Enable tracemalloc to get the object allocation traceback\n"
     ]
    },
    {
     "name": "stdout",
     "output_type": "stream",
     "text": [
      "[********              16%                       ]  359 of 2310 completed"
     ]
    },
    {
     "name": "stderr",
     "output_type": "stream",
     "text": [
      "sys:1: ResourceWarning: unclosed socket <zmq.Socket(zmq.PUSH) at 0x7f6cd8793b20>\n",
      "ResourceWarning: Enable tracemalloc to get the object allocation traceback\n",
      "sys:1: ResourceWarning: unclosed socket <zmq.Socket(zmq.PUSH) at 0x7f6cd86a7340>\n",
      "ResourceWarning: Enable tracemalloc to get the object allocation traceback\n",
      "sys:1: ResourceWarning: unclosed socket <zmq.Socket(zmq.PUSH) at 0x7f6cd8703dc0>\n",
      "ResourceWarning: Enable tracemalloc to get the object allocation traceback\n"
     ]
    },
    {
     "name": "stdout",
     "output_type": "stream",
     "text": [
      "\r",
      "[********              16%                       ]  360 of 2310 completed"
     ]
    },
    {
     "name": "stderr",
     "output_type": "stream",
     "text": [
      "sys:1: ResourceWarning: unclosed socket <zmq.Socket(zmq.PUSH) at 0x7f6cd87913c0>\n",
      "ResourceWarning: Enable tracemalloc to get the object allocation traceback\n"
     ]
    },
    {
     "name": "stdout",
     "output_type": "stream",
     "text": [
      "[********              16%                       ]  362 of 2310 completed"
     ]
    },
    {
     "name": "stderr",
     "output_type": "stream",
     "text": [
      "sys:1: ResourceWarning: unclosed socket <zmq.Socket(zmq.PUSH) at 0x7f6cd8703dc0>\n",
      "ResourceWarning: Enable tracemalloc to get the object allocation traceback\n",
      "sys:1: ResourceWarning: unclosed socket <zmq.Socket(zmq.PUSH) at 0x7f6cd872a080>\n",
      "ResourceWarning: Enable tracemalloc to get the object allocation traceback\n"
     ]
    },
    {
     "name": "stdout",
     "output_type": "stream",
     "text": [
      "[********              16%                       ]  364 of 2310 completed"
     ]
    },
    {
     "name": "stderr",
     "output_type": "stream",
     "text": [
      "sys:1: ResourceWarning: unclosed socket <zmq.Socket(zmq.PUSH) at 0x7f6cd8733820>\n",
      "ResourceWarning: Enable tracemalloc to get the object allocation traceback\n",
      "sys:1: ResourceWarning: unclosed socket <zmq.Socket(zmq.PUSH) at 0x7f6cd872a380>\n",
      "ResourceWarning: Enable tracemalloc to get the object allocation traceback\n"
     ]
    },
    {
     "name": "stdout",
     "output_type": "stream",
     "text": [
      "[********              16%                       ]  368 of 2310 completed"
     ]
    },
    {
     "name": "stderr",
     "output_type": "stream",
     "text": [
      "sys:1: ResourceWarning: unclosed socket <zmq.Socket(zmq.PUSH) at 0x7f6cd86d7a60>\n",
      "ResourceWarning: Enable tracemalloc to get the object allocation traceback\n",
      "sys:1: ResourceWarning: unclosed socket <zmq.Socket(zmq.PUSH) at 0x7f6cd872bca0>\n",
      "ResourceWarning: Enable tracemalloc to get the object allocation traceback\n",
      "sys:1: ResourceWarning: unclosed socket <zmq.Socket(zmq.PUSH) at 0x7f6cd8703580>\n",
      "ResourceWarning: Enable tracemalloc to get the object allocation traceback\n",
      "sys:1: ResourceWarning: unclosed socket <zmq.Socket(zmq.PUSH) at 0x7f6cd8733940>\n",
      "ResourceWarning: Enable tracemalloc to get the object allocation traceback\n"
     ]
    },
    {
     "name": "stdout",
     "output_type": "stream",
     "text": [
      "\r",
      "[********              16%                       ]  369 of 2310 completed"
     ]
    },
    {
     "name": "stderr",
     "output_type": "stream",
     "text": [
      "sys:1: ResourceWarning: unclosed socket <zmq.Socket(zmq.PUSH) at 0x7f6cd87921a0>\n",
      "ResourceWarning: Enable tracemalloc to get the object allocation traceback\n"
     ]
    },
    {
     "name": "stdout",
     "output_type": "stream",
     "text": [
      "[********              16%                       ]  374 of 2310 completed"
     ]
    },
    {
     "name": "stderr",
     "output_type": "stream",
     "text": [
      "sys:1: ResourceWarning: unclosed socket <zmq.Socket(zmq.PUSH) at 0x7f6cd872bb20>\n",
      "ResourceWarning: Enable tracemalloc to get the object allocation traceback\n",
      "sys:1: ResourceWarning: unclosed socket <zmq.Socket(zmq.PUSH) at 0x7f6cd8702440>\n",
      "ResourceWarning: Enable tracemalloc to get the object allocation traceback\n",
      "sys:1: ResourceWarning: unclosed socket <zmq.Socket(zmq.PUSH) at 0x7f6cd8782260>\n",
      "ResourceWarning: Enable tracemalloc to get the object allocation traceback\n",
      "sys:1: ResourceWarning: unclosed socket <zmq.Socket(zmq.PUSH) at 0x7f6cd8733b80>\n",
      "ResourceWarning: Enable tracemalloc to get the object allocation traceback\n",
      "sys:1: ResourceWarning: unclosed socket <zmq.Socket(zmq.PUSH) at 0x7f6cd872ba00>\n",
      "ResourceWarning: Enable tracemalloc to get the object allocation traceback\n"
     ]
    },
    {
     "name": "stdout",
     "output_type": "stream",
     "text": [
      "\r",
      "[********              16%                       ]  375 of 2310 completed"
     ]
    },
    {
     "name": "stderr",
     "output_type": "stream",
     "text": [
      "sys:1: ResourceWarning: unclosed socket <zmq.Socket(zmq.PUSH) at 0x7f6cd8703340>\n",
      "ResourceWarning: Enable tracemalloc to get the object allocation traceback\n"
     ]
    },
    {
     "name": "stdout",
     "output_type": "stream",
     "text": [
      "\r",
      "[********              16%                       ]  376 of 2310 completed"
     ]
    },
    {
     "name": "stderr",
     "output_type": "stream",
     "text": [
      "sys:1: ResourceWarning: unclosed socket <zmq.Socket(zmq.PUSH) at 0x7f6cd8703ee0>\n",
      "ResourceWarning: Enable tracemalloc to get the object allocation traceback\n"
     ]
    },
    {
     "name": "stdout",
     "output_type": "stream",
     "text": [
      "[********              16%                       ]  378 of 2310 completed"
     ]
    },
    {
     "name": "stderr",
     "output_type": "stream",
     "text": [
      "sys:1: ResourceWarning: unclosed socket <zmq.Socket(zmq.PUSH) at 0x7f6cd8783a00>\n",
      "ResourceWarning: Enable tracemalloc to get the object allocation traceback\n",
      "sys:1: ResourceWarning: unclosed socket <zmq.Socket(zmq.PUSH) at 0x7f6cd87321a0>\n",
      "ResourceWarning: Enable tracemalloc to get the object allocation traceback\n"
     ]
    },
    {
     "name": "stdout",
     "output_type": "stream",
     "text": [
      "[********              16%                       ]  381 of 2310 completed"
     ]
    },
    {
     "name": "stderr",
     "output_type": "stream",
     "text": [
      "sys:1: ResourceWarning: unclosed socket <zmq.Socket(zmq.PUSH) at 0x7f6cd87322c0>\n",
      "ResourceWarning: Enable tracemalloc to get the object allocation traceback\n",
      "sys:1: ResourceWarning: unclosed socket <zmq.Socket(zmq.PUSH) at 0x7f6cd872ba60>\n",
      "ResourceWarning: Enable tracemalloc to get the object allocation traceback\n",
      "sys:1: ResourceWarning: unclosed socket <zmq.Socket(zmq.PUSH) at 0x7f6cd8702440>\n",
      "ResourceWarning: Enable tracemalloc to get the object allocation traceback\n"
     ]
    },
    {
     "name": "stdout",
     "output_type": "stream",
     "text": [
      "[********              17%                       ]  384 of 2310 completed"
     ]
    },
    {
     "name": "stderr",
     "output_type": "stream",
     "text": [
      "sys:1: ResourceWarning: unclosed socket <zmq.Socket(zmq.PUSH) at 0x7f6cd87334c0>\n",
      "ResourceWarning: Enable tracemalloc to get the object allocation traceback\n",
      "sys:1: ResourceWarning: unclosed socket <zmq.Socket(zmq.PUSH) at 0x7f6cd8703580>\n",
      "ResourceWarning: Enable tracemalloc to get the object allocation traceback\n",
      "sys:1: ResourceWarning: unclosed socket <zmq.Socket(zmq.PUSH) at 0x7f6cd8737520>\n",
      "ResourceWarning: Enable tracemalloc to get the object allocation traceback\n"
     ]
    },
    {
     "name": "stdout",
     "output_type": "stream",
     "text": [
      "[********              17%                       ]  387 of 2310 completed"
     ]
    },
    {
     "name": "stderr",
     "output_type": "stream",
     "text": [
      "sys:1: ResourceWarning: unclosed socket <zmq.Socket(zmq.PUSH) at 0x7f6cd872b4c0>\n",
      "ResourceWarning: Enable tracemalloc to get the object allocation traceback\n",
      "sys:1: ResourceWarning: unclosed socket <zmq.Socket(zmq.PUSH) at 0x7f6cd86c28c0>\n",
      "ResourceWarning: Enable tracemalloc to get the object allocation traceback\n",
      "sys:1: ResourceWarning: unclosed socket <zmq.Socket(zmq.PUSH) at 0x7f6cd86d5d80>\n",
      "ResourceWarning: Enable tracemalloc to get the object allocation traceback\n"
     ]
    },
    {
     "name": "stdout",
     "output_type": "stream",
     "text": [
      "[********              17%                       ]  389 of 2310 completed"
     ]
    },
    {
     "name": "stderr",
     "output_type": "stream",
     "text": [
      "sys:1: ResourceWarning: unclosed socket <zmq.Socket(zmq.PUSH) at 0x7f6cd86d6200>\n",
      "ResourceWarning: Enable tracemalloc to get the object allocation traceback\n",
      "sys:1: ResourceWarning: unclosed socket <zmq.Socket(zmq.PUSH) at 0x7f6cd8742920>\n",
      "ResourceWarning: Enable tracemalloc to get the object allocation traceback\n"
     ]
    },
    {
     "name": "stdout",
     "output_type": "stream",
     "text": [
      "[********              17%                       ]  391 of 2310 completed"
     ]
    },
    {
     "name": "stderr",
     "output_type": "stream",
     "text": [
      "sys:1: ResourceWarning: unclosed socket <zmq.Socket(zmq.PUSH) at 0x7f6cd8783dc0>\n",
      "ResourceWarning: Enable tracemalloc to get the object allocation traceback\n",
      "sys:1: ResourceWarning: unclosed socket <zmq.Socket(zmq.PUSH) at 0x7f6cd86a7280>\n",
      "ResourceWarning: Enable tracemalloc to get the object allocation traceback\n"
     ]
    },
    {
     "name": "stdout",
     "output_type": "stream",
     "text": [
      "\r",
      "[********              17%                       ]  392 of 2310 completed"
     ]
    },
    {
     "name": "stderr",
     "output_type": "stream",
     "text": [
      "sys:1: ResourceWarning: unclosed socket <zmq.Socket(zmq.PUSH) at 0x7f6cd86d5d80>\n",
      "ResourceWarning: Enable tracemalloc to get the object allocation traceback\n"
     ]
    },
    {
     "name": "stdout",
     "output_type": "stream",
     "text": [
      "[********              17%                       ]  394 of 2310 completed"
     ]
    },
    {
     "name": "stderr",
     "output_type": "stream",
     "text": [
      "sys:1: ResourceWarning: unclosed socket <zmq.Socket(zmq.PUSH) at 0x7f6cd8733c40>\n",
      "ResourceWarning: Enable tracemalloc to get the object allocation traceback\n",
      "sys:1: ResourceWarning: unclosed socket <zmq.Socket(zmq.PUSH) at 0x7f6cd8733b80>\n",
      "ResourceWarning: Enable tracemalloc to get the object allocation traceback\n"
     ]
    },
    {
     "name": "stdout",
     "output_type": "stream",
     "text": [
      "[********              17%                       ]  396 of 2310 completed"
     ]
    },
    {
     "name": "stderr",
     "output_type": "stream",
     "text": [
      "sys:1: ResourceWarning: unclosed socket <zmq.Socket(zmq.PUSH) at 0x7f6cd87420e0>\n",
      "ResourceWarning: Enable tracemalloc to get the object allocation traceback\n",
      "sys:1: ResourceWarning: unclosed socket <zmq.Socket(zmq.PUSH) at 0x7f6cd86a7e20>\n",
      "ResourceWarning: Enable tracemalloc to get the object allocation traceback\n"
     ]
    },
    {
     "name": "stdout",
     "output_type": "stream",
     "text": [
      "[********              17%                       ]  400 of 2310 completed"
     ]
    },
    {
     "name": "stderr",
     "output_type": "stream",
     "text": [
      "sys:1: ResourceWarning: unclosed socket <zmq.Socket(zmq.PUSH) at 0x7f6cd8703b20>\n",
      "ResourceWarning: Enable tracemalloc to get the object allocation traceback\n",
      "sys:1: ResourceWarning: unclosed socket <zmq.Socket(zmq.PUSH) at 0x7f6cd86d7a60>\n",
      "ResourceWarning: Enable tracemalloc to get the object allocation traceback\n",
      "sys:1: ResourceWarning: unclosed socket <zmq.Socket(zmq.PUSH) at 0x7f6cd8733940>\n",
      "ResourceWarning: Enable tracemalloc to get the object allocation traceback\n",
      "sys:1: ResourceWarning: unclosed socket <zmq.Socket(zmq.PUSH) at 0x7f6cd8733940>\n",
      "ResourceWarning: Enable tracemalloc to get the object allocation traceback\n"
     ]
    },
    {
     "name": "stdout",
     "output_type": "stream",
     "text": [
      "[********              17%                       ]  402 of 2310 completed"
     ]
    },
    {
     "name": "stderr",
     "output_type": "stream",
     "text": [
      "sys:1: ResourceWarning: unclosed socket <zmq.Socket(zmq.PUSH) at 0x7f6cd87322c0>\n",
      "ResourceWarning: Enable tracemalloc to get the object allocation traceback\n",
      "sys:1: ResourceWarning: unclosed socket <zmq.Socket(zmq.PUSH) at 0x7f6cd8703580>\n",
      "ResourceWarning: Enable tracemalloc to get the object allocation traceback\n"
     ]
    },
    {
     "name": "stdout",
     "output_type": "stream",
     "text": [
      "[********              17%                       ]  404 of 2310 completed"
     ]
    },
    {
     "name": "stderr",
     "output_type": "stream",
     "text": [
      "sys:1: ResourceWarning: unclosed socket <zmq.Socket(zmq.PUSH) at 0x7f6cd875fd60>\n",
      "ResourceWarning: Enable tracemalloc to get the object allocation traceback\n",
      "sys:1: ResourceWarning: unclosed socket <zmq.Socket(zmq.PUSH) at 0x7f6cd87829e0>\n",
      "ResourceWarning: Enable tracemalloc to get the object allocation traceback\n"
     ]
    },
    {
     "name": "stdout",
     "output_type": "stream",
     "text": [
      "[*********             18%                       ]  406 of 2310 completed"
     ]
    },
    {
     "name": "stderr",
     "output_type": "stream",
     "text": [
      "sys:1: ResourceWarning: unclosed socket <zmq.Socket(zmq.PUSH) at 0x7f6cd872be20>\n",
      "ResourceWarning: Enable tracemalloc to get the object allocation traceback\n",
      "sys:1: ResourceWarning: unclosed socket <zmq.Socket(zmq.PUSH) at 0x7f6cd8737460>\n",
      "ResourceWarning: Enable tracemalloc to get the object allocation traceback\n"
     ]
    },
    {
     "name": "stdout",
     "output_type": "stream",
     "text": [
      "[*********             18%                       ]  409 of 2310 completed"
     ]
    },
    {
     "name": "stderr",
     "output_type": "stream",
     "text": [
      "sys:1: ResourceWarning: unclosed socket <zmq.Socket(zmq.PUSH) at 0x7f6cd87829e0>\n",
      "ResourceWarning: Enable tracemalloc to get the object allocation traceback\n",
      "sys:1: ResourceWarning: unclosed socket <zmq.Socket(zmq.PUSH) at 0x7f6cd875ef80>\n",
      "ResourceWarning: Enable tracemalloc to get the object allocation traceback\n",
      "sys:1: ResourceWarning: unclosed socket <zmq.Socket(zmq.PUSH) at 0x7f6cd872a080>\n",
      "ResourceWarning: Enable tracemalloc to get the object allocation traceback\n"
     ]
    },
    {
     "name": "stdout",
     "output_type": "stream",
     "text": [
      "\r",
      "[*********             18%                       ]  410 of 2310 completed"
     ]
    },
    {
     "name": "stderr",
     "output_type": "stream",
     "text": [
      "sys:1: ResourceWarning: unclosed socket <zmq.Socket(zmq.PUSH) at 0x7f6cd872a080>\n",
      "ResourceWarning: Enable tracemalloc to get the object allocation traceback\n"
     ]
    },
    {
     "name": "stdout",
     "output_type": "stream",
     "text": [
      "[*********             18%                       ]  414 of 2310 completed"
     ]
    },
    {
     "name": "stderr",
     "output_type": "stream",
     "text": [
      "sys:1: ResourceWarning: unclosed socket <zmq.Socket(zmq.PUSH) at 0x7f6cd872bca0>\n",
      "ResourceWarning: Enable tracemalloc to get the object allocation traceback\n",
      "sys:1: ResourceWarning: unclosed socket <zmq.Socket(zmq.PUSH) at 0x7f6cd877bee0>\n",
      "ResourceWarning: Enable tracemalloc to get the object allocation traceback\n",
      "sys:1: ResourceWarning: unclosed socket <zmq.Socket(zmq.PUSH) at 0x7f6cd8783f40>\n",
      "ResourceWarning: Enable tracemalloc to get the object allocation traceback\n",
      "sys:1: ResourceWarning: unclosed socket <zmq.Socket(zmq.PUSH) at 0x7f6cd875fe80>\n",
      "ResourceWarning: Enable tracemalloc to get the object allocation traceback\n"
     ]
    },
    {
     "name": "stdout",
     "output_type": "stream",
     "text": [
      "[*********             18%                       ]  416 of 2310 completed"
     ]
    },
    {
     "name": "stderr",
     "output_type": "stream",
     "text": [
      "sys:1: ResourceWarning: unclosed socket <zmq.Socket(zmq.PUSH) at 0x7f6cd8733820>\n",
      "ResourceWarning: Enable tracemalloc to get the object allocation traceback\n",
      "sys:1: ResourceWarning: unclosed socket <zmq.Socket(zmq.PUSH) at 0x7f6cd86d7a60>\n",
      "ResourceWarning: Enable tracemalloc to get the object allocation traceback\n"
     ]
    },
    {
     "name": "stdout",
     "output_type": "stream",
     "text": [
      "\r",
      "[*********             18%                       ]  417 of 2310 completed"
     ]
    },
    {
     "name": "stderr",
     "output_type": "stream",
     "text": [
      "sys:1: ResourceWarning: unclosed socket <zmq.Socket(zmq.PUSH) at 0x7f6cd87322c0>\n",
      "ResourceWarning: Enable tracemalloc to get the object allocation traceback\n"
     ]
    },
    {
     "name": "stdout",
     "output_type": "stream",
     "text": [
      "[*********             18%                       ]  420 of 2310 completed"
     ]
    },
    {
     "name": "stderr",
     "output_type": "stream",
     "text": [
      "sys:1: ResourceWarning: unclosed socket <zmq.Socket(zmq.PUSH) at 0x7f6cd877a380>\n",
      "ResourceWarning: Enable tracemalloc to get the object allocation traceback\n",
      "sys:1: ResourceWarning: unclosed socket <zmq.Socket(zmq.PUSH) at 0x7f6cd8703580>\n",
      "ResourceWarning: Enable tracemalloc to get the object allocation traceback\n",
      "sys:1: ResourceWarning: unclosed socket <zmq.Socket(zmq.PUSH) at 0x7f6cd872b940>\n",
      "ResourceWarning: Enable tracemalloc to get the object allocation traceback\n"
     ]
    },
    {
     "name": "stdout",
     "output_type": "stream",
     "text": [
      "[*********             18%                       ]  423 of 2310 completed"
     ]
    },
    {
     "name": "stderr",
     "output_type": "stream",
     "text": [
      "sys:1: ResourceWarning: unclosed socket <zmq.Socket(zmq.PUSH) at 0x7f6cd875fac0>\n",
      "ResourceWarning: Enable tracemalloc to get the object allocation traceback\n",
      "sys:1: ResourceWarning: unclosed socket <zmq.Socket(zmq.PUSH) at 0x7f6cd877b0a0>\n",
      "ResourceWarning: Enable tracemalloc to get the object allocation traceback\n",
      "sys:1: ResourceWarning: unclosed socket <zmq.Socket(zmq.PUSH) at 0x7f6cd872b4c0>\n",
      "ResourceWarning: Enable tracemalloc to get the object allocation traceback\n"
     ]
    },
    {
     "name": "stdout",
     "output_type": "stream",
     "text": [
      "[*********             18%                       ]  425 of 2310 completed"
     ]
    },
    {
     "name": "stderr",
     "output_type": "stream",
     "text": [
      "sys:1: ResourceWarning: unclosed socket <zmq.Socket(zmq.PUSH) at 0x7f6cd877be80>\n",
      "ResourceWarning: Enable tracemalloc to get the object allocation traceback\n",
      "sys:1: ResourceWarning: unclosed socket <zmq.Socket(zmq.PUSH) at 0x7f6cd877be80>\n",
      "ResourceWarning: Enable tracemalloc to get the object allocation traceback\n"
     ]
    },
    {
     "name": "stdout",
     "output_type": "stream",
     "text": [
      "[*********             18%                       ]  427 of 2310 completed"
     ]
    },
    {
     "name": "stderr",
     "output_type": "stream",
     "text": [
      "sys:1: ResourceWarning: unclosed socket <zmq.Socket(zmq.PUSH) at 0x7f6cd8783b20>\n",
      "ResourceWarning: Enable tracemalloc to get the object allocation traceback\n",
      "sys:1: ResourceWarning: unclosed socket <zmq.Socket(zmq.PUSH) at 0x7f6cd8733820>\n",
      "ResourceWarning: Enable tracemalloc to get the object allocation traceback\n"
     ]
    },
    {
     "name": "stdout",
     "output_type": "stream",
     "text": [
      "[*********             19%                       ]  429 of 2310 completed"
     ]
    },
    {
     "name": "stderr",
     "output_type": "stream",
     "text": [
      "sys:1: ResourceWarning: unclosed socket <zmq.Socket(zmq.PUSH) at 0x7f6cd875f8e0>\n",
      "ResourceWarning: Enable tracemalloc to get the object allocation traceback\n",
      "sys:1: ResourceWarning: unclosed socket <zmq.Socket(zmq.PUSH) at 0x7f6cd877a260>\n",
      "ResourceWarning: Enable tracemalloc to get the object allocation traceback\n"
     ]
    },
    {
     "name": "stdout",
     "output_type": "stream",
     "text": [
      "[*********             19%                       ]  431 of 2310 completed"
     ]
    },
    {
     "name": "stderr",
     "output_type": "stream",
     "text": [
      "sys:1: ResourceWarning: unclosed socket <zmq.Socket(zmq.PUSH) at 0x7f6cd875fac0>\n",
      "ResourceWarning: Enable tracemalloc to get the object allocation traceback\n",
      "sys:1: ResourceWarning: unclosed socket <zmq.Socket(zmq.PUSH) at 0x7f6cd875eec0>\n",
      "ResourceWarning: Enable tracemalloc to get the object allocation traceback\n"
     ]
    },
    {
     "name": "stdout",
     "output_type": "stream",
     "text": [
      "[*********             19%                       ]  435 of 2310 completed"
     ]
    },
    {
     "name": "stderr",
     "output_type": "stream",
     "text": [
      "sys:1: ResourceWarning: unclosed socket <zmq.Socket(zmq.PUSH) at 0x7f6cd872b940>\n",
      "ResourceWarning: Enable tracemalloc to get the object allocation traceback\n",
      "sys:1: ResourceWarning: unclosed socket <zmq.Socket(zmq.PUSH) at 0x7f6cd877bb80>\n",
      "ResourceWarning: Enable tracemalloc to get the object allocation traceback\n",
      "sys:1: ResourceWarning: unclosed socket <zmq.Socket(zmq.PUSH) at 0x7f6cd872b940>\n",
      "ResourceWarning: Enable tracemalloc to get the object allocation traceback\n",
      "sys:1: ResourceWarning: unclosed socket <zmq.Socket(zmq.PUSH) at 0x7f6cd8733820>\n",
      "ResourceWarning: Enable tracemalloc to get the object allocation traceback\n"
     ]
    },
    {
     "name": "stdout",
     "output_type": "stream",
     "text": [
      "[*********             19%                       ]  437 of 2310 completed"
     ]
    },
    {
     "name": "stderr",
     "output_type": "stream",
     "text": [
      "sys:1: ResourceWarning: unclosed socket <zmq.Socket(zmq.PUSH) at 0x7f6cd87322c0>\n",
      "ResourceWarning: Enable tracemalloc to get the object allocation traceback\n",
      "sys:1: ResourceWarning: unclosed socket <zmq.Socket(zmq.PUSH) at 0x7f6cd8726f20>\n",
      "ResourceWarning: Enable tracemalloc to get the object allocation traceback\n"
     ]
    },
    {
     "name": "stdout",
     "output_type": "stream",
     "text": [
      "[*********             19%                       ]  439 of 2310 completed"
     ]
    },
    {
     "name": "stderr",
     "output_type": "stream",
     "text": [
      "sys:1: ResourceWarning: unclosed socket <zmq.Socket(zmq.PUSH) at 0x7f6cd877bee0>\n",
      "ResourceWarning: Enable tracemalloc to get the object allocation traceback\n",
      "sys:1: ResourceWarning: unclosed socket <zmq.Socket(zmq.PUSH) at 0x7f6cd875cf40>\n",
      "ResourceWarning: Enable tracemalloc to get the object allocation traceback\n"
     ]
    },
    {
     "name": "stdout",
     "output_type": "stream",
     "text": [
      "[*********             19%                       ]  441 of 2310 completed"
     ]
    },
    {
     "name": "stderr",
     "output_type": "stream",
     "text": [
      "sys:1: ResourceWarning: unclosed socket <zmq.Socket(zmq.PUSH) at 0x7f6cd872bca0>\n",
      "ResourceWarning: Enable tracemalloc to get the object allocation traceback\n",
      "sys:1: ResourceWarning: unclosed socket <zmq.Socket(zmq.PUSH) at 0x7f6cd877be80>\n",
      "ResourceWarning: Enable tracemalloc to get the object allocation traceback\n"
     ]
    },
    {
     "name": "stdout",
     "output_type": "stream",
     "text": [
      "[*********             19%                       ]  443 of 2310 completed"
     ]
    },
    {
     "name": "stderr",
     "output_type": "stream",
     "text": [
      "sys:1: ResourceWarning: unclosed socket <zmq.Socket(zmq.PUSH) at 0x7f6cd875f7c0>\n",
      "ResourceWarning: Enable tracemalloc to get the object allocation traceback\n",
      "sys:1: ResourceWarning: unclosed socket <zmq.Socket(zmq.PUSH) at 0x7f6cd8783b20>\n",
      "ResourceWarning: Enable tracemalloc to get the object allocation traceback\n"
     ]
    },
    {
     "name": "stdout",
     "output_type": "stream",
     "text": [
      "\r",
      "[*********             19%                       ]  444 of 2310 completed"
     ]
    },
    {
     "name": "stderr",
     "output_type": "stream",
     "text": [
      "sys:1: ResourceWarning: unclosed socket <zmq.Socket(zmq.PUSH) at 0x7f6cd877b160>\n",
      "ResourceWarning: Enable tracemalloc to get the object allocation traceback\n"
     ]
    },
    {
     "name": "stdout",
     "output_type": "stream",
     "text": [
      "[*********             19%                       ]  446 of 2310 completed"
     ]
    },
    {
     "name": "stderr",
     "output_type": "stream",
     "text": [
      "sys:1: ResourceWarning: unclosed socket <zmq.Socket(zmq.PUSH) at 0x7f6cd8733700>\n",
      "ResourceWarning: Enable tracemalloc to get the object allocation traceback\n",
      "sys:1: ResourceWarning: unclosed socket <zmq.Socket(zmq.PUSH) at 0x7f6cd87278e0>\n",
      "ResourceWarning: Enable tracemalloc to get the object allocation traceback\n"
     ]
    },
    {
     "name": "stdout",
     "output_type": "stream",
     "text": [
      "[*********             19%                       ]  448 of 2310 completed"
     ]
    },
    {
     "name": "stderr",
     "output_type": "stream",
     "text": [
      "sys:1: ResourceWarning: unclosed socket <zmq.Socket(zmq.PUSH) at 0x7f6cd877a380>\n",
      "ResourceWarning: Enable tracemalloc to get the object allocation traceback\n",
      "sys:1: ResourceWarning: unclosed socket <zmq.Socket(zmq.PUSH) at 0x7f6cd8733640>\n",
      "ResourceWarning: Enable tracemalloc to get the object allocation traceback\n"
     ]
    },
    {
     "name": "stdout",
     "output_type": "stream",
     "text": [
      "[*********             19%                       ]  450 of 2310 completed"
     ]
    },
    {
     "name": "stderr",
     "output_type": "stream",
     "text": [
      "sys:1: ResourceWarning: unclosed socket <zmq.Socket(zmq.PUSH) at 0x7f6cd879bee0>\n",
      "ResourceWarning: Enable tracemalloc to get the object allocation traceback\n",
      "sys:1: ResourceWarning: unclosed socket <zmq.Socket(zmq.PUSH) at 0x7f6cd8783160>\n",
      "ResourceWarning: Enable tracemalloc to get the object allocation traceback\n"
     ]
    },
    {
     "name": "stdout",
     "output_type": "stream",
     "text": [
      "[**********            20%                       ]  452 of 2310 completed"
     ]
    },
    {
     "name": "stderr",
     "output_type": "stream",
     "text": [
      "sys:1: ResourceWarning: unclosed socket <zmq.Socket(zmq.PUSH) at 0x7f6cd877bee0>\n",
      "ResourceWarning: Enable tracemalloc to get the object allocation traceback\n",
      "sys:1: ResourceWarning: unclosed socket <zmq.Socket(zmq.PUSH) at 0x7f6cd87322c0>\n",
      "ResourceWarning: Enable tracemalloc to get the object allocation traceback\n"
     ]
    },
    {
     "name": "stdout",
     "output_type": "stream",
     "text": [
      "\r",
      "[**********            20%                       ]  453 of 2310 completed"
     ]
    },
    {
     "name": "stderr",
     "output_type": "stream",
     "text": [
      "sys:1: ResourceWarning: unclosed socket <zmq.Socket(zmq.PUSH) at 0x7f6cd8783d60>\n",
      "ResourceWarning: Enable tracemalloc to get the object allocation traceback\n"
     ]
    },
    {
     "name": "stdout",
     "output_type": "stream",
     "text": [
      "[**********            20%                       ]  454 of 2310 completed"
     ]
    },
    {
     "name": "stderr",
     "output_type": "stream",
     "text": [
      "sys:1: ResourceWarning: unclosed socket <zmq.Socket(zmq.PUSH) at 0x7f6cd87336a0>\n",
      "ResourceWarning: Enable tracemalloc to get the object allocation traceback\n",
      "sys:1: ResourceWarning: unclosed socket <zmq.Socket(zmq.PUSH) at 0x7f6cd870f8e0>\n",
      "ResourceWarning: Enable tracemalloc to get the object allocation traceback\n"
     ]
    },
    {
     "name": "stdout",
     "output_type": "stream",
     "text": [
      "[**********            20%                       ]  458 of 2310 completed"
     ]
    },
    {
     "name": "stderr",
     "output_type": "stream",
     "text": [
      "sys:1: ResourceWarning: unclosed socket <zmq.Socket(zmq.PUSH) at 0x7f6cd8782800>\n",
      "ResourceWarning: Enable tracemalloc to get the object allocation traceback\n",
      "sys:1: ResourceWarning: unclosed socket <zmq.Socket(zmq.PUSH) at 0x7f6cd875fac0>\n",
      "ResourceWarning: Enable tracemalloc to get the object allocation traceback\n",
      "sys:1: ResourceWarning: unclosed socket <zmq.Socket(zmq.PUSH) at 0x7f6cd879be80>\n",
      "ResourceWarning: Enable tracemalloc to get the object allocation traceback\n"
     ]
    },
    {
     "name": "stdout",
     "output_type": "stream",
     "text": [
      "[**********            20%                       ]  460 of 2310 completed"
     ]
    },
    {
     "name": "stderr",
     "output_type": "stream",
     "text": [
      "sys:1: ResourceWarning: unclosed socket <zmq.Socket(zmq.PUSH) at 0x7f6cd877be80>\n",
      "ResourceWarning: Enable tracemalloc to get the object allocation traceback\n",
      "sys:1: ResourceWarning: unclosed socket <zmq.Socket(zmq.PUSH) at 0x7f6cd8726f20>\n",
      "ResourceWarning: Enable tracemalloc to get the object allocation traceback\n"
     ]
    },
    {
     "name": "stdout",
     "output_type": "stream",
     "text": [
      "[**********            20%                       ]  462 of 2310 completed"
     ]
    },
    {
     "name": "stderr",
     "output_type": "stream",
     "text": [
      "sys:1: ResourceWarning: unclosed socket <zmq.Socket(zmq.PUSH) at 0x7f6cd87829e0>\n",
      "ResourceWarning: Enable tracemalloc to get the object allocation traceback\n",
      "sys:1: ResourceWarning: unclosed socket <zmq.Socket(zmq.PUSH) at 0x7f6cd879afe0>\n",
      "ResourceWarning: Enable tracemalloc to get the object allocation traceback\n"
     ]
    },
    {
     "name": "stdout",
     "output_type": "stream",
     "text": [
      "[**********            20%                       ]  464 of 2310 completed"
     ]
    },
    {
     "name": "stderr",
     "output_type": "stream",
     "text": [
      "sys:1: ResourceWarning: unclosed socket <zmq.Socket(zmq.PUSH) at 0x7f6cd875fac0>\n",
      "ResourceWarning: Enable tracemalloc to get the object allocation traceback\n",
      "sys:1: ResourceWarning: unclosed socket <zmq.Socket(zmq.PUSH) at 0x7f6cd879b580>\n",
      "ResourceWarning: Enable tracemalloc to get the object allocation traceback\n"
     ]
    },
    {
     "name": "stdout",
     "output_type": "stream",
     "text": [
      "\r",
      "[**********            20%                       ]  465 of 2310 completed"
     ]
    },
    {
     "name": "stderr",
     "output_type": "stream",
     "text": [
      "sys:1: ResourceWarning: unclosed socket <zmq.Socket(zmq.PUSH) at 0x7f6cd875f8e0>\n",
      "ResourceWarning: Enable tracemalloc to get the object allocation traceback\n"
     ]
    },
    {
     "name": "stdout",
     "output_type": "stream",
     "text": [
      "[**********            20%                       ]  469 of 2310 completed"
     ]
    },
    {
     "name": "stderr",
     "output_type": "stream",
     "text": [
      "sys:1: ResourceWarning: unclosed socket <zmq.Socket(zmq.PUSH) at 0x7f6cd877bee0>\n",
      "ResourceWarning: Enable tracemalloc to get the object allocation traceback\n",
      "sys:1: ResourceWarning: unclosed socket <zmq.Socket(zmq.PUSH) at 0x7f6cd872bca0>\n",
      "ResourceWarning: Enable tracemalloc to get the object allocation traceback\n",
      "sys:1: ResourceWarning: unclosed socket <zmq.Socket(zmq.PUSH) at 0x7f6cd875fac0>\n",
      "ResourceWarning: Enable tracemalloc to get the object allocation traceback\n",
      "sys:1: ResourceWarning: unclosed socket <zmq.Socket(zmq.PUSH) at 0x7f6cd872bca0>\n",
      "ResourceWarning: Enable tracemalloc to get the object allocation traceback\n"
     ]
    },
    {
     "name": "stdout",
     "output_type": "stream",
     "text": [
      "\r",
      "[**********            20%                       ]  470 of 2310 completed"
     ]
    },
    {
     "name": "stderr",
     "output_type": "stream",
     "text": [
      "sys:1: ResourceWarning: unclosed socket <zmq.Socket(zmq.PUSH) at 0x7f6cd870f100>\n",
      "ResourceWarning: Enable tracemalloc to get the object allocation traceback\n"
     ]
    },
    {
     "name": "stdout",
     "output_type": "stream",
     "text": [
      "[**********            21%                       ]  474 of 2310 completed"
     ]
    },
    {
     "name": "stderr",
     "output_type": "stream",
     "text": [
      "sys:1: ResourceWarning: unclosed socket <zmq.Socket(zmq.PUSH) at 0x7f6cd870f160>\n",
      "ResourceWarning: Enable tracemalloc to get the object allocation traceback\n",
      "sys:1: ResourceWarning: unclosed socket <zmq.Socket(zmq.PUSH) at 0x7f6cd87322c0>\n",
      "ResourceWarning: Enable tracemalloc to get the object allocation traceback\n",
      "sys:1: ResourceWarning: unclosed socket <zmq.Socket(zmq.PUSH) at 0x7f6cd8782260>\n",
      "ResourceWarning: Enable tracemalloc to get the object allocation traceback\n",
      "sys:1: ResourceWarning: unclosed socket <zmq.Socket(zmq.PUSH) at 0x7f6cd8733700>\n",
      "ResourceWarning: Enable tracemalloc to get the object allocation traceback\n"
     ]
    },
    {
     "name": "stdout",
     "output_type": "stream",
     "text": [
      "[**********            21%                       ]  476 of 2310 completed"
     ]
    },
    {
     "name": "stderr",
     "output_type": "stream",
     "text": [
      "sys:1: ResourceWarning: unclosed socket <zmq.Socket(zmq.PUSH) at 0x7f6cd8750280>\n",
      "ResourceWarning: Enable tracemalloc to get the object allocation traceback\n",
      "sys:1: ResourceWarning: unclosed socket <zmq.Socket(zmq.PUSH) at 0x7f6cd8798ac0>\n",
      "ResourceWarning: Enable tracemalloc to get the object allocation traceback\n"
     ]
    },
    {
     "name": "stdout",
     "output_type": "stream",
     "text": [
      "[**********            21%                       ]  478 of 2310 completed"
     ]
    },
    {
     "name": "stderr",
     "output_type": "stream",
     "text": [
      "sys:1: ResourceWarning: unclosed socket <zmq.Socket(zmq.PUSH) at 0x7f6cd87278e0>\n",
      "ResourceWarning: Enable tracemalloc to get the object allocation traceback\n",
      "sys:1: ResourceWarning: unclosed socket <zmq.Socket(zmq.PUSH) at 0x7f6cd8750280>\n",
      "ResourceWarning: Enable tracemalloc to get the object allocation traceback\n"
     ]
    },
    {
     "name": "stdout",
     "output_type": "stream",
     "text": [
      "\r",
      "[**********            21%                       ]  479 of 2310 completed"
     ]
    },
    {
     "name": "stderr",
     "output_type": "stream",
     "text": [
      "sys:1: ResourceWarning: unclosed socket <zmq.Socket(zmq.PUSH) at 0x7f6cd8726f20>\n",
      "ResourceWarning: Enable tracemalloc to get the object allocation traceback\n"
     ]
    },
    {
     "name": "stdout",
     "output_type": "stream",
     "text": [
      "\r",
      "[**********            21%                       ]  480 of 2310 completed"
     ]
    },
    {
     "name": "stderr",
     "output_type": "stream",
     "text": [
      "sys:1: ResourceWarning: unclosed socket <zmq.Socket(zmq.PUSH) at 0x7f6cd875fac0>\n",
      "ResourceWarning: Enable tracemalloc to get the object allocation traceback\n"
     ]
    },
    {
     "name": "stdout",
     "output_type": "stream",
     "text": [
      "\r",
      "[**********            21%                       ]  481 of 2310 completed"
     ]
    },
    {
     "name": "stderr",
     "output_type": "stream",
     "text": [
      "sys:1: ResourceWarning: unclosed socket <zmq.Socket(zmq.PUSH) at 0x7f6cd875fe80>\n",
      "ResourceWarning: Enable tracemalloc to get the object allocation traceback\n"
     ]
    },
    {
     "name": "stdout",
     "output_type": "stream",
     "text": [
      "[**********            21%                       ]  485 of 2310 completed"
     ]
    },
    {
     "name": "stderr",
     "output_type": "stream",
     "text": [
      "sys:1: ResourceWarning: unclosed socket <zmq.Socket(zmq.PUSH) at 0x7f6cd8733b80>\n",
      "ResourceWarning: Enable tracemalloc to get the object allocation traceback\n",
      "sys:1: ResourceWarning: unclosed socket <zmq.Socket(zmq.PUSH) at 0x7f6cd8733b80>\n",
      "ResourceWarning: Enable tracemalloc to get the object allocation traceback\n",
      "sys:1: ResourceWarning: unclosed socket <zmq.Socket(zmq.PUSH) at 0x7f6cd8733700>\n",
      "ResourceWarning: Enable tracemalloc to get the object allocation traceback\n",
      "sys:1: ResourceWarning: unclosed socket <zmq.Socket(zmq.PUSH) at 0x7f6cd875eec0>\n",
      "ResourceWarning: Enable tracemalloc to get the object allocation traceback\n"
     ]
    },
    {
     "name": "stdout",
     "output_type": "stream",
     "text": [
      "\r",
      "[**********            21%                       ]  486 of 2310 completed"
     ]
    },
    {
     "name": "stderr",
     "output_type": "stream",
     "text": [
      "sys:1: ResourceWarning: unclosed socket <zmq.Socket(zmq.PUSH) at 0x7f6cd877b160>\n",
      "ResourceWarning: Enable tracemalloc to get the object allocation traceback\n"
     ]
    },
    {
     "name": "stdout",
     "output_type": "stream",
     "text": [
      "[**********            21%                       ]  489 of 2310 completed"
     ]
    },
    {
     "name": "stderr",
     "output_type": "stream",
     "text": [
      "sys:1: ResourceWarning: unclosed socket <zmq.Socket(zmq.PUSH) at 0x7f6cd877b160>\n",
      "ResourceWarning: Enable tracemalloc to get the object allocation traceback\n",
      "sys:1: ResourceWarning: unclosed socket <zmq.Socket(zmq.PUSH) at 0x7f6cd875fac0>\n",
      "ResourceWarning: Enable tracemalloc to get the object allocation traceback\n",
      "sys:1: ResourceWarning: unclosed socket <zmq.Socket(zmq.PUSH) at 0x7f6cd8750280>\n",
      "ResourceWarning: Enable tracemalloc to get the object allocation traceback\n"
     ]
    },
    {
     "name": "stdout",
     "output_type": "stream",
     "text": [
      "[**********            21%                       ]  492 of 2310 completed"
     ]
    },
    {
     "name": "stderr",
     "output_type": "stream",
     "text": [
      "sys:1: ResourceWarning: unclosed socket <zmq.Socket(zmq.PUSH) at 0x7f6cd8713b80>\n",
      "ResourceWarning: Enable tracemalloc to get the object allocation traceback\n",
      "sys:1: ResourceWarning: unclosed socket <zmq.Socket(zmq.PUSH) at 0x7f6cd8726800>\n",
      "ResourceWarning: Enable tracemalloc to get the object allocation traceback\n",
      "sys:1: ResourceWarning: unclosed socket <zmq.Socket(zmq.PUSH) at 0x7f6cd877bee0>\n",
      "ResourceWarning: Enable tracemalloc to get the object allocation traceback\n"
     ]
    },
    {
     "name": "stdout",
     "output_type": "stream",
     "text": [
      "[**********            21%                       ]  494 of 2310 completed"
     ]
    },
    {
     "name": "stderr",
     "output_type": "stream",
     "text": [
      "sys:1: ResourceWarning: unclosed socket <zmq.Socket(zmq.PUSH) at 0x7f6cd879bca0>\n",
      "ResourceWarning: Enable tracemalloc to get the object allocation traceback\n",
      "sys:1: ResourceWarning: unclosed socket <zmq.Socket(zmq.PUSH) at 0x7f6cd87322c0>\n",
      "ResourceWarning: Enable tracemalloc to get the object allocation traceback\n"
     ]
    },
    {
     "name": "stdout",
     "output_type": "stream",
     "text": [
      "\r",
      "[**********            21%                       ]  495 of 2310 completed"
     ]
    },
    {
     "name": "stderr",
     "output_type": "stream",
     "text": [
      "sys:1: ResourceWarning: unclosed socket <zmq.Socket(zmq.PUSH) at 0x7f6cd87137c0>\n",
      "ResourceWarning: Enable tracemalloc to get the object allocation traceback\n"
     ]
    },
    {
     "name": "stdout",
     "output_type": "stream",
     "text": [
      "[***********           22%                       ]  498 of 2310 completed"
     ]
    },
    {
     "name": "stderr",
     "output_type": "stream",
     "text": [
      "sys:1: ResourceWarning: unclosed socket <zmq.Socket(zmq.PUSH) at 0x7f6cd87255a0>\n",
      "ResourceWarning: Enable tracemalloc to get the object allocation traceback\n",
      "sys:1: ResourceWarning: unclosed socket <zmq.Socket(zmq.PUSH) at 0x7f6cd8713640>\n",
      "ResourceWarning: Enable tracemalloc to get the object allocation traceback\n",
      "sys:1: ResourceWarning: unclosed socket <zmq.Socket(zmq.PUSH) at 0x7f6cd870fa00>\n",
      "ResourceWarning: Enable tracemalloc to get the object allocation traceback\n"
     ]
    },
    {
     "name": "stdout",
     "output_type": "stream",
     "text": [
      "[***********           22%                       ]  501 of 2310 completed"
     ]
    },
    {
     "name": "stderr",
     "output_type": "stream",
     "text": [
      "sys:1: ResourceWarning: unclosed socket <zmq.Socket(zmq.PUSH) at 0x7f6cd870f8e0>\n",
      "ResourceWarning: Enable tracemalloc to get the object allocation traceback\n",
      "sys:1: ResourceWarning: unclosed socket <zmq.Socket(zmq.PUSH) at 0x7f6cd8733700>\n",
      "ResourceWarning: Enable tracemalloc to get the object allocation traceback\n",
      "sys:1: ResourceWarning: unclosed socket <zmq.Socket(zmq.PUSH) at 0x7f6cd872bca0>\n",
      "ResourceWarning: Enable tracemalloc to get the object allocation traceback\n"
     ]
    },
    {
     "name": "stdout",
     "output_type": "stream",
     "text": [
      "[***********           22%                       ]  503 of 2310 completed"
     ]
    },
    {
     "name": "stderr",
     "output_type": "stream",
     "text": [
      "sys:1: ResourceWarning: unclosed socket <zmq.Socket(zmq.PUSH) at 0x7f6cd8783b20>\n",
      "ResourceWarning: Enable tracemalloc to get the object allocation traceback\n",
      "sys:1: ResourceWarning: unclosed socket <zmq.Socket(zmq.PUSH) at 0x7f6cd872bca0>\n",
      "ResourceWarning: Enable tracemalloc to get the object allocation traceback\n"
     ]
    },
    {
     "name": "stdout",
     "output_type": "stream",
     "text": [
      "[***********           22%                       ]  506 of 2310 completed"
     ]
    },
    {
     "name": "stderr",
     "output_type": "stream",
     "text": [
      "sys:1: ResourceWarning: unclosed socket <zmq.Socket(zmq.PUSH) at 0x7f6cd8727ca0>\n",
      "ResourceWarning: Enable tracemalloc to get the object allocation traceback\n",
      "sys:1: ResourceWarning: unclosed socket <zmq.Socket(zmq.PUSH) at 0x7f6cd875f8e0>\n",
      "ResourceWarning: Enable tracemalloc to get the object allocation traceback\n",
      "sys:1: ResourceWarning: unclosed socket <zmq.Socket(zmq.PUSH) at 0x7f6cd875f8e0>\n",
      "ResourceWarning: Enable tracemalloc to get the object allocation traceback\n"
     ]
    },
    {
     "name": "stdout",
     "output_type": "stream",
     "text": [
      "[***********           22%                       ]  508 of 2310 completed"
     ]
    },
    {
     "name": "stderr",
     "output_type": "stream",
     "text": [
      "sys:1: ResourceWarning: unclosed socket <zmq.Socket(zmq.PUSH) at 0x7f6cd87278e0>\n",
      "ResourceWarning: Enable tracemalloc to get the object allocation traceback\n",
      "sys:1: ResourceWarning: unclosed socket <zmq.Socket(zmq.PUSH) at 0x7f6cd87125c0>\n",
      "ResourceWarning: Enable tracemalloc to get the object allocation traceback\n"
     ]
    },
    {
     "name": "stdout",
     "output_type": "stream",
     "text": [
      "[***********           22%                       ]  510 of 2310 completed"
     ]
    },
    {
     "name": "stderr",
     "output_type": "stream",
     "text": [
      "sys:1: ResourceWarning: unclosed socket <zmq.Socket(zmq.PUSH) at 0x7f6cd8713b80>\n",
      "ResourceWarning: Enable tracemalloc to get the object allocation traceback\n",
      "sys:1: ResourceWarning: unclosed socket <zmq.Socket(zmq.PUSH) at 0x7f6cd86d79a0>\n",
      "ResourceWarning: Enable tracemalloc to get the object allocation traceback\n"
     ]
    },
    {
     "name": "stdout",
     "output_type": "stream",
     "text": [
      "[***********           22%                       ]  512 of 2310 completed"
     ]
    },
    {
     "name": "stderr",
     "output_type": "stream",
     "text": [
      "sys:1: ResourceWarning: unclosed socket <zmq.Socket(zmq.PUSH) at 0x7f6d11de70a0>\n",
      "ResourceWarning: Enable tracemalloc to get the object allocation traceback\n",
      "sys:1: ResourceWarning: unclosed socket <zmq.Socket(zmq.PUSH) at 0x7f6cd8726800>\n",
      "ResourceWarning: Enable tracemalloc to get the object allocation traceback\n"
     ]
    },
    {
     "name": "stdout",
     "output_type": "stream",
     "text": [
      "\r",
      "[***********           22%                       ]  513 of 2310 completed"
     ]
    },
    {
     "name": "stderr",
     "output_type": "stream",
     "text": [
      "sys:1: ResourceWarning: unclosed socket <zmq.Socket(zmq.PUSH) at 0x7f6cd870f100>\n",
      "ResourceWarning: Enable tracemalloc to get the object allocation traceback\n"
     ]
    },
    {
     "name": "stdout",
     "output_type": "stream",
     "text": [
      "[***********           22%                       ]  516 of 2310 completed"
     ]
    },
    {
     "name": "stderr",
     "output_type": "stream",
     "text": [
      "sys:1: ResourceWarning: unclosed socket <zmq.Socket(zmq.PUSH) at 0x7f6d11de7b80>\n",
      "ResourceWarning: Enable tracemalloc to get the object allocation traceback\n",
      "sys:1: ResourceWarning: unclosed socket <zmq.Socket(zmq.PUSH) at 0x7f6cd8713dc0>\n",
      "ResourceWarning: Enable tracemalloc to get the object allocation traceback\n",
      "sys:1: ResourceWarning: unclosed socket <zmq.Socket(zmq.PUSH) at 0x7f6d11de6560>\n",
      "ResourceWarning: Enable tracemalloc to get the object allocation traceback\n"
     ]
    },
    {
     "name": "stdout",
     "output_type": "stream",
     "text": [
      "[***********           22%                       ]  518 of 2310 completed"
     ]
    },
    {
     "name": "stderr",
     "output_type": "stream",
     "text": [
      "sys:1: ResourceWarning: unclosed socket <zmq.Socket(zmq.PUSH) at 0x7f6cd87139a0>\n",
      "ResourceWarning: Enable tracemalloc to get the object allocation traceback\n",
      "sys:1: ResourceWarning: unclosed socket <zmq.Socket(zmq.PUSH) at 0x7f6cd8798ac0>\n",
      "ResourceWarning: Enable tracemalloc to get the object allocation traceback\n"
     ]
    },
    {
     "name": "stdout",
     "output_type": "stream",
     "text": [
      "[***********           23%                       ]  521 of 2310 completed"
     ]
    },
    {
     "name": "stderr",
     "output_type": "stream",
     "text": [
      "sys:1: ResourceWarning: unclosed socket <zmq.Socket(zmq.PUSH) at 0x7f6cd8726fe0>\n",
      "ResourceWarning: Enable tracemalloc to get the object allocation traceback\n",
      "sys:1: ResourceWarning: unclosed socket <zmq.Socket(zmq.PUSH) at 0x7f6cd8798ac0>\n",
      "ResourceWarning: Enable tracemalloc to get the object allocation traceback\n",
      "sys:1: ResourceWarning: unclosed socket <zmq.Socket(zmq.PUSH) at 0x7f6cd870f100>\n",
      "ResourceWarning: Enable tracemalloc to get the object allocation traceback\n"
     ]
    },
    {
     "name": "stdout",
     "output_type": "stream",
     "text": [
      "[***********           23%                       ]  525 of 2310 completed"
     ]
    },
    {
     "name": "stderr",
     "output_type": "stream",
     "text": [
      "sys:1: ResourceWarning: unclosed socket <zmq.Socket(zmq.PUSH) at 0x7f6cd87124a0>\n",
      "ResourceWarning: Enable tracemalloc to get the object allocation traceback\n",
      "sys:1: ResourceWarning: unclosed socket <zmq.Socket(zmq.PUSH) at 0x7f6cd87124a0>\n",
      "ResourceWarning: Enable tracemalloc to get the object allocation traceback\n",
      "sys:1: ResourceWarning: unclosed socket <zmq.Socket(zmq.PUSH) at 0x7f6cd8713460>\n",
      "ResourceWarning: Enable tracemalloc to get the object allocation traceback\n",
      "sys:1: ResourceWarning: unclosed socket <zmq.Socket(zmq.PUSH) at 0x7f6cd8733700>\n",
      "ResourceWarning: Enable tracemalloc to get the object allocation traceback\n"
     ]
    },
    {
     "name": "stdout",
     "output_type": "stream",
     "text": [
      "\r",
      "[***********           23%                       ]  526 of 2310 completed"
     ]
    },
    {
     "name": "stderr",
     "output_type": "stream",
     "text": [
      "sys:1: ResourceWarning: unclosed socket <zmq.Socket(zmq.PUSH) at 0x7f6cd879b580>\n",
      "ResourceWarning: Enable tracemalloc to get the object allocation traceback\n"
     ]
    },
    {
     "name": "stdout",
     "output_type": "stream",
     "text": [
      "[***********           23%                       ]  529 of 2310 completed"
     ]
    },
    {
     "name": "stderr",
     "output_type": "stream",
     "text": [
      "sys:1: ResourceWarning: unclosed socket <zmq.Socket(zmq.PUSH) at 0x7f6cd8798ac0>\n",
      "ResourceWarning: Enable tracemalloc to get the object allocation traceback\n",
      "sys:1: ResourceWarning: unclosed socket <zmq.Socket(zmq.PUSH) at 0x7f6d11de7e20>\n",
      "ResourceWarning: Enable tracemalloc to get the object allocation traceback\n",
      "sys:1: ResourceWarning: unclosed socket <zmq.Socket(zmq.PUSH) at 0x7f6cd875fac0>\n",
      "ResourceWarning: Enable tracemalloc to get the object allocation traceback\n"
     ]
    },
    {
     "name": "stdout",
     "output_type": "stream",
     "text": [
      "[***********           23%                       ]  531 of 2310 completed"
     ]
    },
    {
     "name": "stderr",
     "output_type": "stream",
     "text": [
      "sys:1: ResourceWarning: unclosed socket <zmq.Socket(zmq.PUSH) at 0x7f6cd8713b80>\n",
      "ResourceWarning: Enable tracemalloc to get the object allocation traceback\n",
      "sys:1: ResourceWarning: unclosed socket <zmq.Socket(zmq.PUSH) at 0x7f6cd87eb8e0>\n",
      "ResourceWarning: Enable tracemalloc to get the object allocation traceback\n"
     ]
    },
    {
     "name": "stdout",
     "output_type": "stream",
     "text": [
      "[***********           23%                       ]  533 of 2310 completed"
     ]
    },
    {
     "name": "stderr",
     "output_type": "stream",
     "text": [
      "sys:1: ResourceWarning: unclosed socket <zmq.Socket(zmq.PUSH) at 0x7f6cd87ebbe0>\n",
      "ResourceWarning: Enable tracemalloc to get the object allocation traceback\n",
      "sys:1: ResourceWarning: unclosed socket <zmq.Socket(zmq.PUSH) at 0x7f6cd8713460>\n",
      "ResourceWarning: Enable tracemalloc to get the object allocation traceback\n"
     ]
    },
    {
     "name": "stdout",
     "output_type": "stream",
     "text": [
      "\r",
      "[***********           23%                       ]  534 of 2310 completed"
     ]
    },
    {
     "name": "stderr",
     "output_type": "stream",
     "text": [
      "sys:1: ResourceWarning: unclosed socket <zmq.Socket(zmq.PUSH) at 0x7f6cd8727ca0>\n",
      "ResourceWarning: Enable tracemalloc to get the object allocation traceback\n"
     ]
    },
    {
     "name": "stdout",
     "output_type": "stream",
     "text": [
      "[***********           23%                       ]  537 of 2310 completed"
     ]
    },
    {
     "name": "stderr",
     "output_type": "stream",
     "text": [
      "sys:1: ResourceWarning: unclosed socket <zmq.Socket(zmq.PUSH) at 0x7f6cd87322c0>\n",
      "ResourceWarning: Enable tracemalloc to get the object allocation traceback\n",
      "sys:1: ResourceWarning: unclosed socket <zmq.Socket(zmq.PUSH) at 0x7f6cd870f8e0>\n",
      "ResourceWarning: Enable tracemalloc to get the object allocation traceback\n",
      "sys:1: ResourceWarning: unclosed socket <zmq.Socket(zmq.PUSH) at 0x7f6cd8733700>\n",
      "ResourceWarning: Enable tracemalloc to get the object allocation traceback\n"
     ]
    },
    {
     "name": "stdout",
     "output_type": "stream",
     "text": [
      "[***********           23%                       ]  540 of 2310 completed"
     ]
    },
    {
     "name": "stderr",
     "output_type": "stream",
     "text": [
      "sys:1: ResourceWarning: unclosed socket <zmq.Socket(zmq.PUSH) at 0x7f6cd879b7c0>\n",
      "ResourceWarning: Enable tracemalloc to get the object allocation traceback\n",
      "sys:1: ResourceWarning: unclosed socket <zmq.Socket(zmq.PUSH) at 0x7f6cd87eb340>\n",
      "ResourceWarning: Enable tracemalloc to get the object allocation traceback\n",
      "sys:1: ResourceWarning: unclosed socket <zmq.Socket(zmq.PUSH) at 0x7f6cd879b7c0>\n",
      "ResourceWarning: Enable tracemalloc to get the object allocation traceback\n"
     ]
    },
    {
     "name": "stdout",
     "output_type": "stream",
     "text": [
      "[***********           23%                       ]  542 of 2310 completed"
     ]
    },
    {
     "name": "stderr",
     "output_type": "stream",
     "text": [
      "sys:1: ResourceWarning: unclosed socket <zmq.Socket(zmq.PUSH) at 0x7f6cd879b580>\n",
      "ResourceWarning: Enable tracemalloc to get the object allocation traceback\n",
      "sys:1: ResourceWarning: unclosed socket <zmq.Socket(zmq.PUSH) at 0x7f6cd8713340>\n",
      "ResourceWarning: Enable tracemalloc to get the object allocation traceback\n",
      "sys:1: ResourceWarning: unclosed socket <zmq.Socket(zmq.PUSH) at 0x7f6d11de7280>\n",
      "ResourceWarning: Enable tracemalloc to get the object allocation traceback\n"
     ]
    },
    {
     "name": "stdout",
     "output_type": "stream",
     "text": [
      "[************          24%                       ]  545 of 2310 completed"
     ]
    },
    {
     "name": "stderr",
     "output_type": "stream",
     "text": [
      "sys:1: ResourceWarning: unclosed socket <zmq.Socket(zmq.PUSH) at 0x7f6cd87db940>\n",
      "ResourceWarning: Enable tracemalloc to get the object allocation traceback\n",
      "sys:1: ResourceWarning: unclosed socket <zmq.Socket(zmq.PUSH) at 0x7f6cd8750280>\n",
      "ResourceWarning: Enable tracemalloc to get the object allocation traceback\n"
     ]
    },
    {
     "name": "stdout",
     "output_type": "stream",
     "text": [
      "[************          24%                       ]  548 of 2310 completed"
     ]
    },
    {
     "name": "stderr",
     "output_type": "stream",
     "text": [
      "sys:1: ResourceWarning: unclosed socket <zmq.Socket(zmq.PUSH) at 0x7f6cd87e90c0>\n",
      "ResourceWarning: Enable tracemalloc to get the object allocation traceback\n",
      "sys:1: ResourceWarning: unclosed socket <zmq.Socket(zmq.PUSH) at 0x7f6cd87128c0>\n",
      "ResourceWarning: Enable tracemalloc to get the object allocation traceback\n",
      "sys:1: ResourceWarning: unclosed socket <zmq.Socket(zmq.PUSH) at 0x7f6cd87ce980>\n",
      "ResourceWarning: Enable tracemalloc to get the object allocation traceback\n",
      "sys:1: ResourceWarning: unclosed socket <zmq.Socket(zmq.PUSH) at 0x7f6cd8725fc0>\n",
      "ResourceWarning: Enable tracemalloc to get the object allocation traceback\n"
     ]
    },
    {
     "name": "stdout",
     "output_type": "stream",
     "text": [
      "[************          24%                       ]  553 of 2310 completed"
     ]
    },
    {
     "name": "stderr",
     "output_type": "stream",
     "text": [
      "sys:1: ResourceWarning: unclosed socket <zmq.Socket(zmq.PUSH) at 0x7f6cd870f100>\n",
      "ResourceWarning: Enable tracemalloc to get the object allocation traceback\n",
      "sys:1: ResourceWarning: unclosed socket <zmq.Socket(zmq.PUSH) at 0x7f6cd87db280>\n",
      "ResourceWarning: Enable tracemalloc to get the object allocation traceback\n",
      "sys:1: ResourceWarning: unclosed socket <zmq.Socket(zmq.PUSH) at 0x7f6d11de5c60>\n",
      "ResourceWarning: Enable tracemalloc to get the object allocation traceback\n",
      "sys:1: ResourceWarning: unclosed socket <zmq.Socket(zmq.PUSH) at 0x7f6cd87db580>\n",
      "ResourceWarning: Enable tracemalloc to get the object allocation traceback\n"
     ]
    },
    {
     "name": "stdout",
     "output_type": "stream",
     "text": [
      "[************          24%                       ]  557 of 2310 completed"
     ]
    },
    {
     "name": "stderr",
     "output_type": "stream",
     "text": [
      "sys:1: ResourceWarning: unclosed socket <zmq.Socket(zmq.PUSH) at 0x7f6cd8713340>\n",
      "ResourceWarning: Enable tracemalloc to get the object allocation traceback\n",
      "sys:1: ResourceWarning: unclosed socket <zmq.Socket(zmq.PUSH) at 0x7f6cd87da920>\n",
      "ResourceWarning: Enable tracemalloc to get the object allocation traceback\n",
      "sys:1: ResourceWarning: unclosed socket <zmq.Socket(zmq.PUSH) at 0x7f6cd87cfd60>\n",
      "ResourceWarning: Enable tracemalloc to get the object allocation traceback\n",
      "sys:1: ResourceWarning: unclosed socket <zmq.Socket(zmq.PUSH) at 0x7f6cd87cee60>\n",
      "ResourceWarning: Enable tracemalloc to get the object allocation traceback\n"
     ]
    },
    {
     "name": "stdout",
     "output_type": "stream",
     "text": [
      "[************          24%                       ]  561 of 2310 completed"
     ]
    },
    {
     "name": "stderr",
     "output_type": "stream",
     "text": [
      "sys:1: ResourceWarning: unclosed socket <zmq.Socket(zmq.PUSH) at 0x7f6cd87dae60>\n",
      "ResourceWarning: Enable tracemalloc to get the object allocation traceback\n",
      "sys:1: ResourceWarning: unclosed socket <zmq.Socket(zmq.PUSH) at 0x7f6cd8713460>\n",
      "ResourceWarning: Enable tracemalloc to get the object allocation traceback\n",
      "sys:1: ResourceWarning: unclosed socket <zmq.Socket(zmq.PUSH) at 0x7f6cd8713460>\n",
      "ResourceWarning: Enable tracemalloc to get the object allocation traceback\n",
      "sys:1: ResourceWarning: unclosed socket <zmq.Socket(zmq.PUSH) at 0x7f6cd870fa00>\n",
      "ResourceWarning: Enable tracemalloc to get the object allocation traceback\n"
     ]
    },
    {
     "name": "stdout",
     "output_type": "stream",
     "text": [
      "\r",
      "[************          24%                       ]  562 of 2310 completed"
     ]
    },
    {
     "name": "stderr",
     "output_type": "stream",
     "text": [
      "sys:1: ResourceWarning: unclosed socket <zmq.Socket(zmq.PUSH) at 0x7f6d11de5f00>\n",
      "ResourceWarning: Enable tracemalloc to get the object allocation traceback\n"
     ]
    },
    {
     "name": "stdout",
     "output_type": "stream",
     "text": [
      "[************          24%                       ]  565 of 2310 completed"
     ]
    },
    {
     "name": "stderr",
     "output_type": "stream",
     "text": [
      "sys:1: ResourceWarning: unclosed socket <zmq.Socket(zmq.PUSH) at 0x7f6cd87db100>\n",
      "ResourceWarning: Enable tracemalloc to get the object allocation traceback\n",
      "sys:1: ResourceWarning: unclosed socket <zmq.Socket(zmq.PUSH) at 0x7f6cd87dada0>\n",
      "ResourceWarning: Enable tracemalloc to get the object allocation traceback\n",
      "sys:1: ResourceWarning: unclosed socket <zmq.Socket(zmq.PUSH) at 0x7f6cd87dbee0>\n",
      "ResourceWarning: Enable tracemalloc to get the object allocation traceback\n"
     ]
    },
    {
     "name": "stdout",
     "output_type": "stream",
     "text": [
      "[************          25%                       ]  567 of 2310 completed"
     ]
    },
    {
     "name": "stderr",
     "output_type": "stream",
     "text": [
      "sys:1: ResourceWarning: unclosed socket <zmq.Socket(zmq.PUSH) at 0x7f6cd87dada0>\n",
      "ResourceWarning: Enable tracemalloc to get the object allocation traceback\n",
      "sys:1: ResourceWarning: unclosed socket <zmq.Socket(zmq.PUSH) at 0x7f6cd8713b80>\n",
      "ResourceWarning: Enable tracemalloc to get the object allocation traceback\n"
     ]
    },
    {
     "name": "stdout",
     "output_type": "stream",
     "text": [
      "[************          25%                       ]  568 of 2310 completed"
     ]
    },
    {
     "name": "stderr",
     "output_type": "stream",
     "text": [
      "sys:1: ResourceWarning: unclosed socket <zmq.Socket(zmq.PUSH) at 0x7f6d11de5c60>\n",
      "ResourceWarning: Enable tracemalloc to get the object allocation traceback\n",
      "sys:1: ResourceWarning: unclosed socket <zmq.Socket(zmq.PUSH) at 0x7f6cd87ceb60>\n",
      "ResourceWarning: Enable tracemalloc to get the object allocation traceback\n"
     ]
    },
    {
     "name": "stdout",
     "output_type": "stream",
     "text": [
      "[************          25%                       ]  572 of 2310 completed"
     ]
    },
    {
     "name": "stderr",
     "output_type": "stream",
     "text": [
      "sys:1: ResourceWarning: unclosed socket <zmq.Socket(zmq.PUSH) at 0x7f6cd87e90c0>\n",
      "ResourceWarning: Enable tracemalloc to get the object allocation traceback\n",
      "sys:1: ResourceWarning: unclosed socket <zmq.Socket(zmq.PUSH) at 0x7f6d11e0fbe0>\n",
      "ResourceWarning: Enable tracemalloc to get the object allocation traceback\n",
      "sys:1: ResourceWarning: unclosed socket <zmq.Socket(zmq.PUSH) at 0x7f6cd87db640>\n",
      "ResourceWarning: Enable tracemalloc to get the object allocation traceback\n"
     ]
    },
    {
     "name": "stdout",
     "output_type": "stream",
     "text": [
      "[************          25%                       ]  575 of 2310 completed"
     ]
    },
    {
     "name": "stderr",
     "output_type": "stream",
     "text": [
      "sys:1: ResourceWarning: unclosed socket <zmq.Socket(zmq.PUSH) at 0x7f6cd87cfee0>\n",
      "ResourceWarning: Enable tracemalloc to get the object allocation traceback\n",
      "sys:1: ResourceWarning: unclosed socket <zmq.Socket(zmq.PUSH) at 0x7f6cd87eb6a0>\n",
      "ResourceWarning: Enable tracemalloc to get the object allocation traceback\n",
      "sys:1: ResourceWarning: unclosed socket <zmq.Socket(zmq.PUSH) at 0x7f6cd870fa00>\n",
      "ResourceWarning: Enable tracemalloc to get the object allocation traceback\n"
     ]
    },
    {
     "name": "stdout",
     "output_type": "stream",
     "text": [
      "[************          25%                       ]  577 of 2310 completed"
     ]
    },
    {
     "name": "stderr",
     "output_type": "stream",
     "text": [
      "sys:1: ResourceWarning: unclosed socket <zmq.Socket(zmq.PUSH) at 0x7f6cd87ebf40>\n",
      "ResourceWarning: Enable tracemalloc to get the object allocation traceback\n",
      "sys:1: ResourceWarning: unclosed socket <zmq.Socket(zmq.PUSH) at 0x7f6cd87ebf40>\n",
      "ResourceWarning: Enable tracemalloc to get the object allocation traceback\n"
     ]
    },
    {
     "name": "stdout",
     "output_type": "stream",
     "text": [
      "\r",
      "[************          25%                       ]  578 of 2310 completed"
     ]
    },
    {
     "name": "stderr",
     "output_type": "stream",
     "text": [
      "sys:1: ResourceWarning: unclosed socket <zmq.Socket(zmq.PUSH) at 0x7f6cd870fa00>\n",
      "ResourceWarning: Enable tracemalloc to get the object allocation traceback\n"
     ]
    },
    {
     "name": "stdout",
     "output_type": "stream",
     "text": [
      "[************          25%                       ]  580 of 2310 completed"
     ]
    },
    {
     "name": "stderr",
     "output_type": "stream",
     "text": [
      "sys:1: ResourceWarning: unclosed socket <zmq.Socket(zmq.PUSH) at 0x7f6d11e0ec20>\n",
      "ResourceWarning: Enable tracemalloc to get the object allocation traceback\n",
      "sys:1: ResourceWarning: unclosed socket <zmq.Socket(zmq.PUSH) at 0x7f6d11e0cac0>\n",
      "ResourceWarning: Enable tracemalloc to get the object allocation traceback\n"
     ]
    },
    {
     "name": "stdout",
     "output_type": "stream",
     "text": [
      "[************          25%                       ]  582 of 2310 completed"
     ]
    },
    {
     "name": "stderr",
     "output_type": "stream",
     "text": [
      "sys:1: ResourceWarning: unclosed socket <zmq.Socket(zmq.PUSH) at 0x7f6cd87cebc0>\n",
      "ResourceWarning: Enable tracemalloc to get the object allocation traceback\n",
      "sys:1: ResourceWarning: unclosed socket <zmq.Socket(zmq.PUSH) at 0x7f6cd87db7c0>\n",
      "ResourceWarning: Enable tracemalloc to get the object allocation traceback\n"
     ]
    },
    {
     "name": "stdout",
     "output_type": "stream",
     "text": [
      "[************          25%                       ]  584 of 2310 completed"
     ]
    },
    {
     "name": "stderr",
     "output_type": "stream",
     "text": [
      "sys:1: ResourceWarning: unclosed socket <zmq.Socket(zmq.PUSH) at 0x7f6cd8750280>\n",
      "ResourceWarning: Enable tracemalloc to get the object allocation traceback\n",
      "sys:1: ResourceWarning: unclosed socket <zmq.Socket(zmq.PUSH) at 0x7f6d11e0f4c0>\n",
      "ResourceWarning: Enable tracemalloc to get the object allocation traceback\n"
     ]
    },
    {
     "name": "stdout",
     "output_type": "stream",
     "text": [
      "[************          25%                       ]  586 of 2310 completed"
     ]
    },
    {
     "name": "stderr",
     "output_type": "stream",
     "text": [
      "sys:1: ResourceWarning: unclosed socket <zmq.Socket(zmq.PUSH) at 0x7f6cd870ef20>\n",
      "ResourceWarning: Enable tracemalloc to get the object allocation traceback\n",
      "sys:1: ResourceWarning: unclosed socket <zmq.Socket(zmq.PUSH) at 0x7f6d11e0e380>\n",
      "ResourceWarning: Enable tracemalloc to get the object allocation traceback\n"
     ]
    },
    {
     "name": "stdout",
     "output_type": "stream",
     "text": [
      "[************          25%                       ]  588 of 2310 completed"
     ]
    },
    {
     "name": "stderr",
     "output_type": "stream",
     "text": [
      "sys:1: ResourceWarning: unclosed socket <zmq.Socket(zmq.PUSH) at 0x7f6d11e0f4c0>\n",
      "ResourceWarning: Enable tracemalloc to get the object allocation traceback\n",
      "sys:1: ResourceWarning: unclosed socket <zmq.Socket(zmq.PUSH) at 0x7f6cd87e90c0>\n",
      "ResourceWarning: Enable tracemalloc to get the object allocation traceback\n"
     ]
    },
    {
     "name": "stdout",
     "output_type": "stream",
     "text": [
      "[************          26%                       ]  590 of 2310 completed"
     ]
    },
    {
     "name": "stderr",
     "output_type": "stream",
     "text": [
      "sys:1: ResourceWarning: unclosed socket <zmq.Socket(zmq.PUSH) at 0x7f6d11e0fbe0>\n",
      "ResourceWarning: Enable tracemalloc to get the object allocation traceback\n",
      "sys:1: ResourceWarning: unclosed socket <zmq.Socket(zmq.PUSH) at 0x7f6cd87eb340>\n",
      "ResourceWarning: Enable tracemalloc to get the object allocation traceback\n"
     ]
    },
    {
     "name": "stdout",
     "output_type": "stream",
     "text": [
      "\r",
      "[************          26%                       ]  591 of 2310 completed"
     ]
    },
    {
     "name": "stderr",
     "output_type": "stream",
     "text": [
      "sys:1: ResourceWarning: unclosed socket <zmq.Socket(zmq.PUSH) at 0x7f6d11c980a0>\n",
      "ResourceWarning: Enable tracemalloc to get the object allocation traceback\n"
     ]
    },
    {
     "name": "stdout",
     "output_type": "stream",
     "text": [
      "[************          26%                       ]  594 of 2310 completed"
     ]
    },
    {
     "name": "stderr",
     "output_type": "stream",
     "text": [
      "sys:1: ResourceWarning: unclosed socket <zmq.Socket(zmq.PUSH) at 0x7f6cd87cfa00>\n",
      "ResourceWarning: Enable tracemalloc to get the object allocation traceback\n",
      "sys:1: ResourceWarning: unclosed socket <zmq.Socket(zmq.PUSH) at 0x7f6cd87cfa00>\n",
      "ResourceWarning: Enable tracemalloc to get the object allocation traceback\n",
      "sys:1: ResourceWarning: unclosed socket <zmq.Socket(zmq.PUSH) at 0x7f6cd87eb6a0>\n",
      "ResourceWarning: Enable tracemalloc to get the object allocation traceback\n"
     ]
    },
    {
     "name": "stdout",
     "output_type": "stream",
     "text": [
      "[************          26%                       ]  596 of 2310 completed"
     ]
    },
    {
     "name": "stderr",
     "output_type": "stream",
     "text": [
      "sys:1: ResourceWarning: unclosed socket <zmq.Socket(zmq.PUSH) at 0x7f6cd87eb6a0>\n",
      "ResourceWarning: Enable tracemalloc to get the object allocation traceback\n",
      "sys:1: ResourceWarning: unclosed socket <zmq.Socket(zmq.PUSH) at 0x7f6d11c9bbe0>\n",
      "ResourceWarning: Enable tracemalloc to get the object allocation traceback\n"
     ]
    },
    {
     "name": "stdout",
     "output_type": "stream",
     "text": [
      "[************          26%                       ]  598 of 2310 completed"
     ]
    },
    {
     "name": "stderr",
     "output_type": "stream",
     "text": [
      "sys:1: ResourceWarning: unclosed socket <zmq.Socket(zmq.PUSH) at 0x7f6cd87e90c0>\n",
      "ResourceWarning: Enable tracemalloc to get the object allocation traceback\n",
      "sys:1: ResourceWarning: unclosed socket <zmq.Socket(zmq.PUSH) at 0x7f6cd87e90c0>\n",
      "ResourceWarning: Enable tracemalloc to get the object allocation traceback\n"
     ]
    },
    {
     "name": "stdout",
     "output_type": "stream",
     "text": [
      "\r",
      "[************          26%                       ]  599 of 2310 completed"
     ]
    },
    {
     "name": "stderr",
     "output_type": "stream",
     "text": [
      "sys:1: ResourceWarning: unclosed socket <zmq.Socket(zmq.PUSH) at 0x7f6cd87e90c0>\n",
      "ResourceWarning: Enable tracemalloc to get the object allocation traceback\n"
     ]
    },
    {
     "name": "stdout",
     "output_type": "stream",
     "text": [
      "[************          26%                       ]  602 of 2310 completed"
     ]
    },
    {
     "name": "stderr",
     "output_type": "stream",
     "text": [
      "sys:1: ResourceWarning: unclosed socket <zmq.Socket(zmq.PUSH) at 0x7f6d11e0f8e0>\n",
      "ResourceWarning: Enable tracemalloc to get the object allocation traceback\n",
      "sys:1: ResourceWarning: unclosed socket <zmq.Socket(zmq.PUSH) at 0x7f6cd87ceda0>\n",
      "ResourceWarning: Enable tracemalloc to get the object allocation traceback\n",
      "sys:1: ResourceWarning: unclosed socket <zmq.Socket(zmq.PUSH) at 0x7f6d11c9b4c0>\n",
      "ResourceWarning: Enable tracemalloc to get the object allocation traceback\n"
     ]
    },
    {
     "name": "stdout",
     "output_type": "stream",
     "text": [
      "\r",
      "[************          26%                       ]  603 of 2310 completed"
     ]
    },
    {
     "name": "stderr",
     "output_type": "stream",
     "text": [
      "sys:1: ResourceWarning: unclosed socket <zmq.Socket(zmq.PUSH) at 0x7f6d11de7c40>\n",
      "ResourceWarning: Enable tracemalloc to get the object allocation traceback\n"
     ]
    },
    {
     "name": "stdout",
     "output_type": "stream",
     "text": [
      "[************          26%                       ]  606 of 2310 completed"
     ]
    },
    {
     "name": "stderr",
     "output_type": "stream",
     "text": [
      "sys:1: ResourceWarning: unclosed socket <zmq.Socket(zmq.PUSH) at 0x7f6d11de5f00>\n",
      "ResourceWarning: Enable tracemalloc to get the object allocation traceback\n",
      "sys:1: ResourceWarning: unclosed socket <zmq.Socket(zmq.PUSH) at 0x7f6d11ca3fa0>\n",
      "ResourceWarning: Enable tracemalloc to get the object allocation traceback\n",
      "sys:1: ResourceWarning: unclosed socket <zmq.Socket(zmq.PUSH) at 0x7f6cd87da920>\n",
      "ResourceWarning: Enable tracemalloc to get the object allocation traceback\n"
     ]
    },
    {
     "name": "stdout",
     "output_type": "stream",
     "text": [
      "\r",
      "[************          26%                       ]  607 of 2310 completed"
     ]
    },
    {
     "name": "stderr",
     "output_type": "stream",
     "text": [
      "sys:1: ResourceWarning: unclosed socket <zmq.Socket(zmq.PUSH) at 0x7f6cd87ceda0>\n",
      "ResourceWarning: Enable tracemalloc to get the object allocation traceback\n"
     ]
    },
    {
     "name": "stdout",
     "output_type": "stream",
     "text": [
      "[************          26%                       ]  609 of 2310 completed"
     ]
    },
    {
     "name": "stderr",
     "output_type": "stream",
     "text": [
      "sys:1: ResourceWarning: unclosed socket <zmq.Socket(zmq.PUSH) at 0x7f6cd87da9e0>\n",
      "ResourceWarning: Enable tracemalloc to get the object allocation traceback\n",
      "sys:1: ResourceWarning: unclosed socket <zmq.Socket(zmq.PUSH) at 0x7f6cd87ceda0>\n",
      "ResourceWarning: Enable tracemalloc to get the object allocation traceback\n"
     ]
    },
    {
     "name": "stdout",
     "output_type": "stream",
     "text": [
      "[************          26%                       ]  612 of 2310 completed"
     ]
    },
    {
     "name": "stderr",
     "output_type": "stream",
     "text": [
      "sys:1: ResourceWarning: unclosed socket <zmq.Socket(zmq.PUSH) at 0x7f6cd87dbee0>\n",
      "ResourceWarning: Enable tracemalloc to get the object allocation traceback\n",
      "sys:1: ResourceWarning: unclosed socket <zmq.Socket(zmq.PUSH) at 0x7f6cd87e90c0>\n",
      "ResourceWarning: Enable tracemalloc to get the object allocation traceback\n",
      "sys:1: ResourceWarning: unclosed socket <zmq.Socket(zmq.PUSH) at 0x7f6cd87db280>\n",
      "ResourceWarning: Enable tracemalloc to get the object allocation traceback\n"
     ]
    },
    {
     "name": "stdout",
     "output_type": "stream",
     "text": [
      "[*************         27%                       ]  614 of 2310 completed"
     ]
    },
    {
     "name": "stderr",
     "output_type": "stream",
     "text": [
      "sys:1: ResourceWarning: unclosed socket <zmq.Socket(zmq.PUSH) at 0x7f6cd87dbee0>\n",
      "ResourceWarning: Enable tracemalloc to get the object allocation traceback\n",
      "sys:1: ResourceWarning: unclosed socket <zmq.Socket(zmq.PUSH) at 0x7f6cd87cfac0>\n",
      "ResourceWarning: Enable tracemalloc to get the object allocation traceback\n"
     ]
    },
    {
     "name": "stdout",
     "output_type": "stream",
     "text": [
      "[*************         27%                       ]  616 of 2310 completed"
     ]
    },
    {
     "name": "stderr",
     "output_type": "stream",
     "text": [
      "sys:1: ResourceWarning: unclosed socket <zmq.Socket(zmq.PUSH) at 0x7f6cd87cebc0>\n",
      "ResourceWarning: Enable tracemalloc to get the object allocation traceback\n"
     ]
    },
    {
     "name": "stdout",
     "output_type": "stream",
     "text": [
      "\r",
      "[*************         27%                       ]  617 of 2310 completed"
     ]
    },
    {
     "name": "stderr",
     "output_type": "stream",
     "text": [
      "sys:1: ResourceWarning: unclosed socket <zmq.Socket(zmq.PUSH) at 0x7f6cd87eb6a0>\n",
      "ResourceWarning: Enable tracemalloc to get the object allocation traceback\n",
      "sys:1: ResourceWarning: unclosed socket <zmq.Socket(zmq.PUSH) at 0x7f6d11ca3be0>\n",
      "ResourceWarning: Enable tracemalloc to get the object allocation traceback\n"
     ]
    },
    {
     "name": "stdout",
     "output_type": "stream",
     "text": [
      "[*************         27%                       ]  620 of 2310 completed"
     ]
    },
    {
     "name": "stderr",
     "output_type": "stream",
     "text": [
      "sys:1: ResourceWarning: unclosed socket <zmq.Socket(zmq.PUSH) at 0x7f6d11ca3be0>\n",
      "ResourceWarning: Enable tracemalloc to get the object allocation traceback\n",
      "sys:1: ResourceWarning: unclosed socket <zmq.Socket(zmq.PUSH) at 0x7f6cd870f100>\n",
      "ResourceWarning: Enable tracemalloc to get the object allocation traceback\n",
      "sys:1: ResourceWarning: unclosed socket <zmq.Socket(zmq.PUSH) at 0x7f6cd870f100>\n",
      "ResourceWarning: Enable tracemalloc to get the object allocation traceback\n"
     ]
    },
    {
     "name": "stdout",
     "output_type": "stream",
     "text": [
      "[*************         27%                       ]  622 of 2310 completed"
     ]
    },
    {
     "name": "stderr",
     "output_type": "stream",
     "text": [
      "sys:1: ResourceWarning: unclosed socket <zmq.Socket(zmq.PUSH) at 0x7f6cd87db640>\n",
      "ResourceWarning: Enable tracemalloc to get the object allocation traceback\n",
      "sys:1: ResourceWarning: unclosed socket <zmq.Socket(zmq.PUSH) at 0x7f6d11de6ec0>\n",
      "ResourceWarning: Enable tracemalloc to get the object allocation traceback\n"
     ]
    },
    {
     "name": "stdout",
     "output_type": "stream",
     "text": [
      "[*************         27%                       ]  626 of 2310 completed"
     ]
    },
    {
     "name": "stderr",
     "output_type": "stream",
     "text": [
      "sys:1: ResourceWarning: unclosed socket <zmq.Socket(zmq.PUSH) at 0x7f6cd87db640>\n",
      "ResourceWarning: Enable tracemalloc to get the object allocation traceback\n",
      "sys:1: ResourceWarning: unclosed socket <zmq.Socket(zmq.PUSH) at 0x7f6cd87cebc0>\n",
      "ResourceWarning: Enable tracemalloc to get the object allocation traceback\n",
      "sys:1: ResourceWarning: unclosed socket <zmq.Socket(zmq.PUSH) at 0x7f6d11de7c40>\n",
      "ResourceWarning: Enable tracemalloc to get the object allocation traceback\n",
      "sys:1: ResourceWarning: unclosed socket <zmq.Socket(zmq.PUSH) at 0x7f6d11c9b940>\n",
      "ResourceWarning: Enable tracemalloc to get the object allocation traceback\n"
     ]
    },
    {
     "name": "stdout",
     "output_type": "stream",
     "text": [
      "\r",
      "[*************         27%                       ]  627 of 2310 completed"
     ]
    },
    {
     "name": "stderr",
     "output_type": "stream",
     "text": [
      "sys:1: ResourceWarning: unclosed socket <zmq.Socket(zmq.PUSH) at 0x7f6d11ca2980>\n",
      "ResourceWarning: Enable tracemalloc to get the object allocation traceback\n"
     ]
    },
    {
     "name": "stdout",
     "output_type": "stream",
     "text": [
      "\r",
      "[*************         27%                       ]  628 of 2310 completed"
     ]
    },
    {
     "name": "stderr",
     "output_type": "stream",
     "text": [
      "sys:1: ResourceWarning: unclosed socket <zmq.Socket(zmq.PUSH) at 0x7f6d11e0cac0>\n",
      "ResourceWarning: Enable tracemalloc to get the object allocation traceback\n"
     ]
    },
    {
     "name": "stdout",
     "output_type": "stream",
     "text": [
      "[*************         27%                       ]  630 of 2310 completed"
     ]
    },
    {
     "name": "stderr",
     "output_type": "stream",
     "text": [
      "sys:1: ResourceWarning: unclosed socket <zmq.Socket(zmq.PUSH) at 0x7f6cd8783b20>\n",
      "ResourceWarning: Enable tracemalloc to get the object allocation traceback\n",
      "sys:1: ResourceWarning: unclosed socket <zmq.Socket(zmq.PUSH) at 0x7f6cd87bb0a0>\n",
      "ResourceWarning: Enable tracemalloc to get the object allocation traceback\n"
     ]
    },
    {
     "name": "stdout",
     "output_type": "stream",
     "text": [
      "[*************         27%                       ]  632 of 2310 completed"
     ]
    },
    {
     "name": "stderr",
     "output_type": "stream",
     "text": [
      "sys:1: ResourceWarning: unclosed socket <zmq.Socket(zmq.PUSH) at 0x7f6d11ca3be0>\n",
      "ResourceWarning: Enable tracemalloc to get the object allocation traceback\n",
      "sys:1: ResourceWarning: unclosed socket <zmq.Socket(zmq.PUSH) at 0x7f6cd87b8c40>\n",
      "ResourceWarning: Enable tracemalloc to get the object allocation traceback\n"
     ]
    },
    {
     "name": "stdout",
     "output_type": "stream",
     "text": [
      "[*************         27%                       ]  634 of 2310 completed"
     ]
    },
    {
     "name": "stderr",
     "output_type": "stream",
     "text": [
      "sys:1: ResourceWarning: unclosed socket <zmq.Socket(zmq.PUSH) at 0x7f6d11c99720>\n",
      "ResourceWarning: Enable tracemalloc to get the object allocation traceback\n",
      "sys:1: ResourceWarning: unclosed socket <zmq.Socket(zmq.PUSH) at 0x7f6cd87cfac0>\n",
      "ResourceWarning: Enable tracemalloc to get the object allocation traceback\n"
     ]
    },
    {
     "name": "stdout",
     "output_type": "stream",
     "text": [
      "\r",
      "[*************         27%                       ]  635 of 2310 completed"
     ]
    },
    {
     "name": "stderr",
     "output_type": "stream",
     "text": [
      "sys:1: ResourceWarning: unclosed socket <zmq.Socket(zmq.PUSH) at 0x7f6cd87cebc0>\n",
      "ResourceWarning: Enable tracemalloc to get the object allocation traceback\n"
     ]
    },
    {
     "name": "stdout",
     "output_type": "stream",
     "text": [
      "[*************         28%                       ]  637 of 2310 completed"
     ]
    },
    {
     "name": "stderr",
     "output_type": "stream",
     "text": [
      "sys:1: ResourceWarning: unclosed socket <zmq.Socket(zmq.PUSH) at 0x7f6d11e0cac0>\n",
      "ResourceWarning: Enable tracemalloc to get the object allocation traceback\n",
      "sys:1: ResourceWarning: unclosed socket <zmq.Socket(zmq.PUSH) at 0x7f6d11ca3fa0>\n",
      "ResourceWarning: Enable tracemalloc to get the object allocation traceback\n",
      "sys:1: ResourceWarning: unclosed socket <zmq.Socket(zmq.PUSH) at 0x7f6d11e0f160>\n",
      "ResourceWarning: Enable tracemalloc to get the object allocation traceback\n"
     ]
    },
    {
     "name": "stdout",
     "output_type": "stream",
     "text": [
      "[*************         28%                       ]  640 of 2310 completed"
     ]
    },
    {
     "name": "stderr",
     "output_type": "stream",
     "text": [
      "sys:1: ResourceWarning: unclosed socket <zmq.Socket(zmq.PUSH) at 0x7f6d11ca3fa0>\n",
      "ResourceWarning: Enable tracemalloc to get the object allocation traceback\n",
      "sys:1: ResourceWarning: unclosed socket <zmq.Socket(zmq.PUSH) at 0x7f6cd87eb220>\n",
      "ResourceWarning: Enable tracemalloc to get the object allocation traceback\n"
     ]
    },
    {
     "name": "stdout",
     "output_type": "stream",
     "text": [
      "[*************         28%                       ]  642 of 2310 completed"
     ]
    },
    {
     "name": "stderr",
     "output_type": "stream",
     "text": [
      "sys:1: ResourceWarning: unclosed socket <zmq.Socket(zmq.PUSH) at 0x7f6cd87db7c0>\n",
      "ResourceWarning: Enable tracemalloc to get the object allocation traceback\n",
      "sys:1: ResourceWarning: unclosed socket <zmq.Socket(zmq.PUSH) at 0x7f6d11c9a8c0>\n",
      "ResourceWarning: Enable tracemalloc to get the object allocation traceback\n"
     ]
    },
    {
     "name": "stdout",
     "output_type": "stream",
     "text": [
      "[*************         28%                       ]  644 of 2310 completed"
     ]
    },
    {
     "name": "stderr",
     "output_type": "stream",
     "text": [
      "sys:1: ResourceWarning: unclosed socket <zmq.Socket(zmq.PUSH) at 0x7f6cd87bbe80>\n",
      "ResourceWarning: Enable tracemalloc to get the object allocation traceback\n",
      "sys:1: ResourceWarning: unclosed socket <zmq.Socket(zmq.PUSH) at 0x7f6d11c9b4c0>\n",
      "ResourceWarning: Enable tracemalloc to get the object allocation traceback\n"
     ]
    },
    {
     "name": "stdout",
     "output_type": "stream",
     "text": [
      "[*************         28%                       ]  649 of 2310 completed"
     ]
    },
    {
     "name": "stderr",
     "output_type": "stream",
     "text": [
      "sys:1: ResourceWarning: unclosed socket <zmq.Socket(zmq.PUSH) at 0x7f6d11e1ae60>\n",
      "ResourceWarning: Enable tracemalloc to get the object allocation traceback\n",
      "sys:1: ResourceWarning: unclosed socket <zmq.Socket(zmq.PUSH) at 0x7f6d11e1ae60>\n",
      "ResourceWarning: Enable tracemalloc to get the object allocation traceback\n",
      "sys:1: ResourceWarning: unclosed socket <zmq.Socket(zmq.PUSH) at 0x7f6d11e1aec0>\n",
      "ResourceWarning: Enable tracemalloc to get the object allocation traceback\n",
      "sys:1: ResourceWarning: unclosed socket <zmq.Socket(zmq.PUSH) at 0x7f6d11c9a560>\n",
      "ResourceWarning: Enable tracemalloc to get the object allocation traceback\n",
      "sys:1: ResourceWarning: unclosed socket <zmq.Socket(zmq.PUSH) at 0x7f6d11ca2980>\n",
      "ResourceWarning: Enable tracemalloc to get the object allocation traceback\n"
     ]
    },
    {
     "name": "stdout",
     "output_type": "stream",
     "text": [
      "\r",
      "[*************         28%                       ]  650 of 2310 completed"
     ]
    },
    {
     "name": "stderr",
     "output_type": "stream",
     "text": [
      "sys:1: ResourceWarning: unclosed socket <zmq.Socket(zmq.PUSH) at 0x7f6cd87eb340>\n",
      "ResourceWarning: Enable tracemalloc to get the object allocation traceback\n"
     ]
    },
    {
     "name": "stdout",
     "output_type": "stream",
     "text": [
      "\r",
      "[*************         28%                       ]  651 of 2310 completed"
     ]
    },
    {
     "name": "stderr",
     "output_type": "stream",
     "text": [
      "sys:1: ResourceWarning: unclosed socket <zmq.Socket(zmq.PUSH) at 0x7f6cd87e90c0>\n",
      "ResourceWarning: Enable tracemalloc to get the object allocation traceback\n"
     ]
    },
    {
     "name": "stdout",
     "output_type": "stream",
     "text": [
      "[*************         28%                       ]  653 of 2310 completed"
     ]
    },
    {
     "name": "stderr",
     "output_type": "stream",
     "text": [
      "sys:1: ResourceWarning: unclosed socket <zmq.Socket(zmq.PUSH) at 0x7f6d11e1aec0>\n",
      "ResourceWarning: Enable tracemalloc to get the object allocation traceback\n",
      "sys:1: ResourceWarning: unclosed socket <zmq.Socket(zmq.PUSH) at 0x7f6cd87e90c0>\n",
      "ResourceWarning: Enable tracemalloc to get the object allocation traceback\n"
     ]
    },
    {
     "name": "stdout",
     "output_type": "stream",
     "text": [
      "[*************         28%                       ]  656 of 2310 completed"
     ]
    },
    {
     "name": "stderr",
     "output_type": "stream",
     "text": [
      "sys:1: ResourceWarning: unclosed socket <zmq.Socket(zmq.PUSH) at 0x7f6cd87dbee0>\n",
      "ResourceWarning: Enable tracemalloc to get the object allocation traceback\n",
      "sys:1: ResourceWarning: unclosed socket <zmq.Socket(zmq.PUSH) at 0x7f6d11ca2980>\n",
      "ResourceWarning: Enable tracemalloc to get the object allocation traceback\n",
      "sys:1: ResourceWarning: unclosed socket <zmq.Socket(zmq.PUSH) at 0x7f6d11ca2980>\n",
      "ResourceWarning: Enable tracemalloc to get the object allocation traceback\n"
     ]
    },
    {
     "name": "stdout",
     "output_type": "stream",
     "text": [
      "[*************         28%                       ]  658 of 2310 completed"
     ]
    },
    {
     "name": "stderr",
     "output_type": "stream",
     "text": [
      "sys:1: ResourceWarning: unclosed socket <zmq.Socket(zmq.PUSH) at 0x7f6cd879b580>\n",
      "ResourceWarning: Enable tracemalloc to get the object allocation traceback\n",
      "sys:1: ResourceWarning: unclosed socket <zmq.Socket(zmq.PUSH) at 0x7f6cd87b96c0>\n",
      "ResourceWarning: Enable tracemalloc to get the object allocation traceback\n"
     ]
    },
    {
     "name": "stdout",
     "output_type": "stream",
     "text": [
      "\r",
      "[**************        29%                       ]  659 of 2310 completed"
     ]
    },
    {
     "name": "stderr",
     "output_type": "stream",
     "text": [
      "sys:1: ResourceWarning: unclosed socket <zmq.Socket(zmq.PUSH) at 0x7f6d11c9b4c0>\n",
      "ResourceWarning: Enable tracemalloc to get the object allocation traceback\n"
     ]
    },
    {
     "name": "stdout",
     "output_type": "stream",
     "text": [
      "[**************        29%                       ]  662 of 2310 completed"
     ]
    },
    {
     "name": "stderr",
     "output_type": "stream",
     "text": [
      "sys:1: ResourceWarning: unclosed socket <zmq.Socket(zmq.PUSH) at 0x7f6cd87bada0>\n",
      "ResourceWarning: Enable tracemalloc to get the object allocation traceback\n",
      "sys:1: ResourceWarning: unclosed socket <zmq.Socket(zmq.PUSH) at 0x7f6d11e0f820>\n",
      "ResourceWarning: Enable tracemalloc to get the object allocation traceback\n",
      "sys:1: ResourceWarning: unclosed socket <zmq.Socket(zmq.PUSH) at 0x7f6d11e1aec0>\n",
      "ResourceWarning: Enable tracemalloc to get the object allocation traceback\n"
     ]
    },
    {
     "name": "stdout",
     "output_type": "stream",
     "text": [
      "[**************        29%                       ]  664 of 2310 completed"
     ]
    },
    {
     "name": "stderr",
     "output_type": "stream",
     "text": [
      "sys:1: ResourceWarning: unclosed socket <zmq.Socket(zmq.PUSH) at 0x7f6d11e1bb80>\n",
      "ResourceWarning: Enable tracemalloc to get the object allocation traceback\n",
      "sys:1: ResourceWarning: unclosed socket <zmq.Socket(zmq.PUSH) at 0x7f6d11c9bac0>\n",
      "ResourceWarning: Enable tracemalloc to get the object allocation traceback\n"
     ]
    },
    {
     "name": "stdout",
     "output_type": "stream",
     "text": [
      "[**************        29%                       ]  667 of 2310 completed"
     ]
    },
    {
     "name": "stderr",
     "output_type": "stream",
     "text": [
      "sys:1: ResourceWarning: unclosed socket <zmq.Socket(zmq.PUSH) at 0x7f6d11e0fbe0>\n",
      "ResourceWarning: Enable tracemalloc to get the object allocation traceback\n",
      "sys:1: ResourceWarning: unclosed socket <zmq.Socket(zmq.PUSH) at 0x7f6cd87dbee0>\n",
      "ResourceWarning: Enable tracemalloc to get the object allocation traceback\n",
      "sys:1: ResourceWarning: unclosed socket <zmq.Socket(zmq.PUSH) at 0x7f6cd87db280>\n",
      "ResourceWarning: Enable tracemalloc to get the object allocation traceback\n"
     ]
    },
    {
     "name": "stdout",
     "output_type": "stream",
     "text": [
      "[**************        29%                       ]  669 of 2310 completed"
     ]
    },
    {
     "name": "stderr",
     "output_type": "stream",
     "text": [
      "sys:1: ResourceWarning: unclosed socket <zmq.Socket(zmq.PUSH) at 0x7f6cd87baf20>\n",
      "ResourceWarning: Enable tracemalloc to get the object allocation traceback\n"
     ]
    },
    {
     "name": "stdout",
     "output_type": "stream",
     "text": [
      "\r",
      "[**************        29%                       ]  670 of 2310 completed"
     ]
    },
    {
     "name": "stderr",
     "output_type": "stream",
     "text": [
      "sys:1: ResourceWarning: unclosed socket <zmq.Socket(zmq.PUSH) at 0x7f6d11c9a9e0>\n",
      "ResourceWarning: Enable tracemalloc to get the object allocation traceback\n",
      "sys:1: ResourceWarning: unclosed socket <zmq.Socket(zmq.PUSH) at 0x7f6d11e0f340>\n",
      "ResourceWarning: Enable tracemalloc to get the object allocation traceback\n"
     ]
    },
    {
     "name": "stdout",
     "output_type": "stream",
     "text": [
      "[**************        29%                       ]  672 of 2310 completed"
     ]
    },
    {
     "name": "stderr",
     "output_type": "stream",
     "text": [
      "sys:1: ResourceWarning: unclosed socket <zmq.Socket(zmq.PUSH) at 0x7f6cd87a9ae0>\n",
      "ResourceWarning: Enable tracemalloc to get the object allocation traceback\n",
      "sys:1: ResourceWarning: unclosed socket <zmq.Socket(zmq.PUSH) at 0x7f6d11e0f820>\n",
      "ResourceWarning: Enable tracemalloc to get the object allocation traceback\n",
      "sys:1: ResourceWarning: unclosed socket <zmq.Socket(zmq.PUSH) at 0x7f6d11e0fbe0>\n",
      "ResourceWarning: Enable tracemalloc to get the object allocation traceback\n"
     ]
    },
    {
     "name": "stdout",
     "output_type": "stream",
     "text": [
      "[**************        29%                       ]  675 of 2310 completed"
     ]
    },
    {
     "name": "stderr",
     "output_type": "stream",
     "text": [
      "sys:1: ResourceWarning: unclosed socket <zmq.Socket(zmq.PUSH) at 0x7f6d11c99720>\n",
      "ResourceWarning: Enable tracemalloc to get the object allocation traceback\n",
      "sys:1: ResourceWarning: unclosed socket <zmq.Socket(zmq.PUSH) at 0x7f6cd87eb340>\n",
      "ResourceWarning: Enable tracemalloc to get the object allocation traceback\n"
     ]
    },
    {
     "name": "stdout",
     "output_type": "stream",
     "text": [
      "\r",
      "[**************        29%                       ]  676 of 2310 completed"
     ]
    },
    {
     "name": "stderr",
     "output_type": "stream",
     "text": [
      "sys:1: ResourceWarning: unclosed socket <zmq.Socket(zmq.PUSH) at 0x7f6cd87db280>\n",
      "ResourceWarning: Enable tracemalloc to get the object allocation traceback\n"
     ]
    },
    {
     "name": "stdout",
     "output_type": "stream",
     "text": [
      "[**************        29%                       ]  680 of 2310 completed"
     ]
    },
    {
     "name": "stderr",
     "output_type": "stream",
     "text": [
      "sys:1: ResourceWarning: unclosed socket <zmq.Socket(zmq.PUSH) at 0x7f6cd87db280>\n",
      "ResourceWarning: Enable tracemalloc to get the object allocation traceback\n",
      "sys:1: ResourceWarning: unclosed socket <zmq.Socket(zmq.PUSH) at 0x7f6d11e0f820>\n",
      "ResourceWarning: Enable tracemalloc to get the object allocation traceback\n",
      "sys:1: ResourceWarning: unclosed socket <zmq.Socket(zmq.PUSH) at 0x7f6cd87db280>\n",
      "ResourceWarning: Enable tracemalloc to get the object allocation traceback\n",
      "sys:1: ResourceWarning: unclosed socket <zmq.Socket(zmq.PUSH) at 0x7f6d11e0f820>\n",
      "ResourceWarning: Enable tracemalloc to get the object allocation traceback\n"
     ]
    },
    {
     "name": "stdout",
     "output_type": "stream",
     "text": [
      "[**************        30%                       ]  682 of 2310 completed"
     ]
    },
    {
     "name": "stderr",
     "output_type": "stream",
     "text": [
      "sys:1: ResourceWarning: unclosed socket <zmq.Socket(zmq.PUSH) at 0x7f6d11e1a380>\n",
      "ResourceWarning: Enable tracemalloc to get the object allocation traceback\n",
      "sys:1: ResourceWarning: unclosed socket <zmq.Socket(zmq.PUSH) at 0x7f6d11c9a560>\n",
      "ResourceWarning: Enable tracemalloc to get the object allocation traceback\n"
     ]
    },
    {
     "name": "stdout",
     "output_type": "stream",
     "text": [
      "\r",
      "[**************        30%                       ]  683 of 2310 completed"
     ]
    },
    {
     "name": "stderr",
     "output_type": "stream",
     "text": [
      "sys:1: ResourceWarning: unclosed socket <zmq.Socket(zmq.PUSH) at 0x7f6d11c9a560>\n",
      "ResourceWarning: Enable tracemalloc to get the object allocation traceback\n"
     ]
    },
    {
     "name": "stdout",
     "output_type": "stream",
     "text": [
      "\r",
      "[**************        30%                       ]  684 of 2310 completed"
     ]
    },
    {
     "name": "stderr",
     "output_type": "stream",
     "text": [
      "sys:1: ResourceWarning: unclosed socket <zmq.Socket(zmq.PUSH) at 0x7f6d11c9a560>\n",
      "ResourceWarning: Enable tracemalloc to get the object allocation traceback\n"
     ]
    },
    {
     "name": "stdout",
     "output_type": "stream",
     "text": [
      "[**************        30%                       ]  686 of 2310 completed"
     ]
    },
    {
     "name": "stderr",
     "output_type": "stream",
     "text": [
      "sys:1: ResourceWarning: unclosed socket <zmq.Socket(zmq.PUSH) at 0x7f6d11cf6020>\n",
      "ResourceWarning: Enable tracemalloc to get the object allocation traceback\n",
      "sys:1: ResourceWarning: unclosed socket <zmq.Socket(zmq.PUSH) at 0x7f6cd87abe80>\n",
      "ResourceWarning: Enable tracemalloc to get the object allocation traceback\n"
     ]
    },
    {
     "name": "stdout",
     "output_type": "stream",
     "text": [
      "[**************        30%                       ]  691 of 2310 completed"
     ]
    },
    {
     "name": "stderr",
     "output_type": "stream",
     "text": [
      "sys:1: ResourceWarning: unclosed socket <zmq.Socket(zmq.PUSH) at 0x7f6d11c9b940>\n",
      "ResourceWarning: Enable tracemalloc to get the object allocation traceback\n",
      "sys:1: ResourceWarning: unclosed socket <zmq.Socket(zmq.PUSH) at 0x7f6d11c9b940>\n",
      "ResourceWarning: Enable tracemalloc to get the object allocation traceback\n",
      "sys:1: ResourceWarning: unclosed socket <zmq.Socket(zmq.PUSH) at 0x7f6d11c9a9e0>\n",
      "ResourceWarning: Enable tracemalloc to get the object allocation traceback\n",
      "sys:1: ResourceWarning: unclosed socket <zmq.Socket(zmq.PUSH) at 0x7f6d11c98820>\n",
      "ResourceWarning: Enable tracemalloc to get the object allocation traceback\n",
      "sys:1: ResourceWarning: unclosed socket <zmq.Socket(zmq.PUSH) at 0x7f6d1304a200>\n",
      "ResourceWarning: Enable tracemalloc to get the object allocation traceback\n"
     ]
    },
    {
     "name": "stdout",
     "output_type": "stream",
     "text": [
      "\r",
      "[**************        30%                       ]  692 of 2310 completed"
     ]
    },
    {
     "name": "stderr",
     "output_type": "stream",
     "text": [
      "sys:1: ResourceWarning: unclosed socket <zmq.Socket(zmq.PUSH) at 0x7f6d11e18a60>\n",
      "ResourceWarning: Enable tracemalloc to get the object allocation traceback\n"
     ]
    },
    {
     "name": "stdout",
     "output_type": "stream",
     "text": [
      "[**************        30%                       ]  696 of 2310 completed"
     ]
    },
    {
     "name": "stderr",
     "output_type": "stream",
     "text": [
      "sys:1: ResourceWarning: unclosed socket <zmq.Socket(zmq.PUSH) at 0x7f6d11cf6f80>\n",
      "ResourceWarning: Enable tracemalloc to get the object allocation traceback\n",
      "sys:1: ResourceWarning: unclosed socket <zmq.Socket(zmq.PUSH) at 0x7f6d11cf57e0>\n",
      "ResourceWarning: Enable tracemalloc to get the object allocation traceback\n",
      "sys:1: ResourceWarning: unclosed socket <zmq.Socket(zmq.PUSH) at 0x7f6cd87ab880>\n",
      "ResourceWarning: Enable tracemalloc to get the object allocation traceback\n",
      "sys:1: ResourceWarning: unclosed socket <zmq.Socket(zmq.PUSH) at 0x7f6d11c9a560>\n",
      "ResourceWarning: Enable tracemalloc to get the object allocation traceback\n"
     ]
    },
    {
     "name": "stdout",
     "output_type": "stream",
     "text": [
      "[**************        30%                       ]  699 of 2310 completed"
     ]
    },
    {
     "name": "stderr",
     "output_type": "stream",
     "text": [
      "sys:1: ResourceWarning: unclosed socket <zmq.Socket(zmq.PUSH) at 0x7f6cd87b9480>\n",
      "ResourceWarning: Enable tracemalloc to get the object allocation traceback\n",
      "sys:1: ResourceWarning: unclosed socket <zmq.Socket(zmq.PUSH) at 0x7f6d11c9a560>\n",
      "ResourceWarning: Enable tracemalloc to get the object allocation traceback\n",
      "sys:1: ResourceWarning: unclosed socket <zmq.Socket(zmq.PUSH) at 0x7f6cd87aab60>\n",
      "ResourceWarning: Enable tracemalloc to get the object allocation traceback\n"
     ]
    },
    {
     "name": "stdout",
     "output_type": "stream",
     "text": [
      "\r",
      "[**************        30%                       ]  700 of 2310 completed"
     ]
    },
    {
     "name": "stderr",
     "output_type": "stream",
     "text": [
      "sys:1: ResourceWarning: unclosed socket <zmq.Socket(zmq.PUSH) at 0x7f6cd87baf20>\n",
      "ResourceWarning: Enable tracemalloc to get the object allocation traceback\n"
     ]
    },
    {
     "name": "stdout",
     "output_type": "stream",
     "text": [
      "[**************        30%                       ]  702 of 2310 completed"
     ]
    },
    {
     "name": "stderr",
     "output_type": "stream",
     "text": [
      "sys:1: ResourceWarning: unclosed socket <zmq.Socket(zmq.PUSH) at 0x7f6d11e1ab60>\n",
      "ResourceWarning: Enable tracemalloc to get the object allocation traceback\n",
      "sys:1: ResourceWarning: unclosed socket <zmq.Socket(zmq.PUSH) at 0x7f6cd87ba680>\n",
      "ResourceWarning: Enable tracemalloc to get the object allocation traceback\n"
     ]
    },
    {
     "name": "stdout",
     "output_type": "stream",
     "text": [
      "[**************        30%                       ]  704 of 2310 completed"
     ]
    },
    {
     "name": "stderr",
     "output_type": "stream",
     "text": [
      "sys:1: ResourceWarning: unclosed socket <zmq.Socket(zmq.PUSH) at 0x7f6d11cf72e0>\n",
      "ResourceWarning: Enable tracemalloc to get the object allocation traceback\n",
      "sys:1: ResourceWarning: unclosed socket <zmq.Socket(zmq.PUSH) at 0x7f6d11e1b2e0>\n",
      "ResourceWarning: Enable tracemalloc to get the object allocation traceback\n"
     ]
    },
    {
     "name": "stdout",
     "output_type": "stream",
     "text": [
      "\r",
      "[***************       31%                       ]  705 of 2310 completed"
     ]
    },
    {
     "name": "stderr",
     "output_type": "stream",
     "text": [
      "sys:1: ResourceWarning: unclosed socket <zmq.Socket(zmq.PUSH) at 0x7f6d11cf72e0>\n",
      "ResourceWarning: Enable tracemalloc to get the object allocation traceback\n"
     ]
    },
    {
     "name": "stdout",
     "output_type": "stream",
     "text": [
      "[***************       31%                       ]  708 of 2310 completed"
     ]
    },
    {
     "name": "stderr",
     "output_type": "stream",
     "text": [
      "sys:1: ResourceWarning: unclosed socket <zmq.Socket(zmq.PUSH) at 0x7f6d13049780>\n",
      "ResourceWarning: Enable tracemalloc to get the object allocation traceback\n",
      "sys:1: ResourceWarning: unclosed socket <zmq.Socket(zmq.PUSH) at 0x7f6d12e92260>\n",
      "ResourceWarning: Enable tracemalloc to get the object allocation traceback\n",
      "sys:1: ResourceWarning: unclosed socket <zmq.Socket(zmq.PUSH) at 0x7f6cd87aab60>\n",
      "ResourceWarning: Enable tracemalloc to get the object allocation traceback\n"
     ]
    },
    {
     "name": "stdout",
     "output_type": "stream",
     "text": [
      "[***************       31%                       ]  710 of 2310 completed"
     ]
    },
    {
     "name": "stderr",
     "output_type": "stream",
     "text": [
      "sys:1: ResourceWarning: unclosed socket <zmq.Socket(zmq.PUSH) at 0x7f6cd87b96c0>\n",
      "ResourceWarning: Enable tracemalloc to get the object allocation traceback\n",
      "sys:1: ResourceWarning: unclosed socket <zmq.Socket(zmq.PUSH) at 0x7f6d11cf7280>\n",
      "ResourceWarning: Enable tracemalloc to get the object allocation traceback\n"
     ]
    },
    {
     "name": "stdout",
     "output_type": "stream",
     "text": [
      "\r",
      "[***************       31%                       ]  711 of 2310 completed"
     ]
    },
    {
     "name": "stderr",
     "output_type": "stream",
     "text": [
      "sys:1: ResourceWarning: unclosed socket <zmq.Socket(zmq.PUSH) at 0x7f6cd87eb340>\n",
      "ResourceWarning: Enable tracemalloc to get the object allocation traceback\n"
     ]
    },
    {
     "name": "stdout",
     "output_type": "stream",
     "text": [
      "[***************       31%                       ]  714 of 2310 completed"
     ]
    },
    {
     "name": "stderr",
     "output_type": "stream",
     "text": [
      "sys:1: ResourceWarning: unclosed socket <zmq.Socket(zmq.PUSH) at 0x7f6d12e93ee0>\n",
      "ResourceWarning: Enable tracemalloc to get the object allocation traceback\n",
      "sys:1: ResourceWarning: unclosed socket <zmq.Socket(zmq.PUSH) at 0x7f6cd87ba680>\n",
      "ResourceWarning: Enable tracemalloc to get the object allocation traceback\n",
      "sys:1: ResourceWarning: unclosed socket <zmq.Socket(zmq.PUSH) at 0x7f6d11cf72e0>\n",
      "ResourceWarning: Enable tracemalloc to get the object allocation traceback\n"
     ]
    },
    {
     "name": "stdout",
     "output_type": "stream",
     "text": [
      "[***************       31%                       ]  716 of 2310 completed"
     ]
    },
    {
     "name": "stderr",
     "output_type": "stream",
     "text": [
      "sys:1: ResourceWarning: unclosed socket <zmq.Socket(zmq.PUSH) at 0x7f6cd87abe80>\n",
      "ResourceWarning: Enable tracemalloc to get the object allocation traceback\n",
      "sys:1: ResourceWarning: unclosed socket <zmq.Socket(zmq.PUSH) at 0x7f6cd87cebc0>\n",
      "ResourceWarning: Enable tracemalloc to get the object allocation traceback\n"
     ]
    },
    {
     "name": "stdout",
     "output_type": "stream",
     "text": [
      "[***************       31%                       ]  720 of 2310 completed"
     ]
    },
    {
     "name": "stderr",
     "output_type": "stream",
     "text": [
      "sys:1: ResourceWarning: unclosed socket <zmq.Socket(zmq.PUSH) at 0x7f6d12e92260>\n",
      "ResourceWarning: Enable tracemalloc to get the object allocation traceback\n",
      "sys:1: ResourceWarning: unclosed socket <zmq.Socket(zmq.PUSH) at 0x7f6d12e93ee0>\n",
      "ResourceWarning: Enable tracemalloc to get the object allocation traceback\n",
      "sys:1: ResourceWarning: unclosed socket <zmq.Socket(zmq.PUSH) at 0x7f6d12e92260>\n",
      "ResourceWarning: Enable tracemalloc to get the object allocation traceback\n",
      "sys:1: ResourceWarning: unclosed socket <zmq.Socket(zmq.PUSH) at 0x7f6d12e93760>\n",
      "ResourceWarning: Enable tracemalloc to get the object allocation traceback\n"
     ]
    },
    {
     "name": "stdout",
     "output_type": "stream",
     "text": [
      "\r",
      "[***************       31%                       ]  721 of 2310 completed"
     ]
    },
    {
     "name": "stderr",
     "output_type": "stream",
     "text": [
      "sys:1: ResourceWarning: unclosed socket <zmq.Socket(zmq.PUSH) at 0x7f6cd87aab60>\n",
      "ResourceWarning: Enable tracemalloc to get the object allocation traceback\n"
     ]
    },
    {
     "name": "stdout",
     "output_type": "stream",
     "text": [
      "[***************       31%                       ]  724 of 2310 completed"
     ]
    },
    {
     "name": "stderr",
     "output_type": "stream",
     "text": [
      "sys:1: ResourceWarning: unclosed socket <zmq.Socket(zmq.PUSH) at 0x7f6d12e93100>\n",
      "ResourceWarning: Enable tracemalloc to get the object allocation traceback\n",
      "sys:1: ResourceWarning: unclosed socket <zmq.Socket(zmq.PUSH) at 0x7f6cd87abd60>\n",
      "ResourceWarning: Enable tracemalloc to get the object allocation traceback\n",
      "sys:1: ResourceWarning: unclosed socket <zmq.Socket(zmq.PUSH) at 0x7f6d11d27580>\n",
      "ResourceWarning: Enable tracemalloc to get the object allocation traceback\n"
     ]
    },
    {
     "name": "stdout",
     "output_type": "stream",
     "text": [
      "[***************       31%                       ]  726 of 2310 completed"
     ]
    },
    {
     "name": "stderr",
     "output_type": "stream",
     "text": [
      "sys:1: ResourceWarning: unclosed socket <zmq.Socket(zmq.PUSH) at 0x7f6d11d27ac0>\n",
      "ResourceWarning: Enable tracemalloc to get the object allocation traceback\n",
      "sys:1: ResourceWarning: unclosed socket <zmq.Socket(zmq.PUSH) at 0x7f6cd87cfac0>\n",
      "ResourceWarning: Enable tracemalloc to get the object allocation traceback\n"
     ]
    },
    {
     "name": "stdout",
     "output_type": "stream",
     "text": [
      "[***************       32%                       ]  729 of 2310 completed"
     ]
    },
    {
     "name": "stderr",
     "output_type": "stream",
     "text": [
      "sys:1: ResourceWarning: unclosed socket <zmq.Socket(zmq.PUSH) at 0x7f6d11e1a560>\n",
      "ResourceWarning: Enable tracemalloc to get the object allocation traceback\n",
      "sys:1: ResourceWarning: unclosed socket <zmq.Socket(zmq.PUSH) at 0x7f6cd87ebbe0>\n",
      "ResourceWarning: Enable tracemalloc to get the object allocation traceback\n",
      "sys:1: ResourceWarning: unclosed socket <zmq.Socket(zmq.PUSH) at 0x7f6d11cf57e0>\n",
      "ResourceWarning: Enable tracemalloc to get the object allocation traceback\n"
     ]
    },
    {
     "name": "stdout",
     "output_type": "stream",
     "text": [
      "\r",
      "[***************       32%                       ]  730 of 2310 completed"
     ]
    },
    {
     "name": "stderr",
     "output_type": "stream",
     "text": [
      "sys:1: ResourceWarning: unclosed socket <zmq.Socket(zmq.PUSH) at 0x7f6cd87eb340>\n",
      "ResourceWarning: Enable tracemalloc to get the object allocation traceback\n"
     ]
    },
    {
     "name": "stdout",
     "output_type": "stream",
     "text": [
      "[***************       32%                       ]  733 of 2310 completed"
     ]
    },
    {
     "name": "stderr",
     "output_type": "stream",
     "text": [
      "sys:1: ResourceWarning: unclosed socket <zmq.Socket(zmq.PUSH) at 0x7f6d11cdf8e0>\n",
      "ResourceWarning: Enable tracemalloc to get the object allocation traceback\n",
      "sys:1: ResourceWarning: unclosed socket <zmq.Socket(zmq.PUSH) at 0x7f6cd87abe80>\n",
      "ResourceWarning: Enable tracemalloc to get the object allocation traceback\n",
      "sys:1: ResourceWarning: unclosed socket <zmq.Socket(zmq.PUSH) at 0x7f6d11cdd900>\n",
      "ResourceWarning: Enable tracemalloc to get the object allocation traceback\n"
     ]
    },
    {
     "name": "stdout",
     "output_type": "stream",
     "text": [
      "[***************       32%                       ]  736 of 2310 completed"
     ]
    },
    {
     "name": "stderr",
     "output_type": "stream",
     "text": [
      "sys:1: ResourceWarning: unclosed socket <zmq.Socket(zmq.PUSH) at 0x7f6d11d274c0>\n",
      "ResourceWarning: Enable tracemalloc to get the object allocation traceback\n",
      "sys:1: ResourceWarning: unclosed socket <zmq.Socket(zmq.PUSH) at 0x7f6d11cdd240>\n",
      "ResourceWarning: Enable tracemalloc to get the object allocation traceback\n",
      "sys:1: ResourceWarning: unclosed socket <zmq.Socket(zmq.PUSH) at 0x7f6d11cdf100>\n",
      "ResourceWarning: Enable tracemalloc to get the object allocation traceback\n"
     ]
    },
    {
     "name": "stdout",
     "output_type": "stream",
     "text": [
      "\r",
      "[***************       32%                       ]  737 of 2310 completed"
     ]
    },
    {
     "name": "stderr",
     "output_type": "stream",
     "text": [
      "sys:1: ResourceWarning: unclosed socket <zmq.Socket(zmq.PUSH) at 0x7f6d11cdf100>\n",
      "ResourceWarning: Enable tracemalloc to get the object allocation traceback\n"
     ]
    },
    {
     "name": "stdout",
     "output_type": "stream",
     "text": [
      "[***************       32%                       ]  739 of 2310 completed"
     ]
    },
    {
     "name": "stderr",
     "output_type": "stream",
     "text": [
      "sys:1: ResourceWarning: unclosed socket <zmq.Socket(zmq.PUSH) at 0x7f6cd87ebbe0>\n",
      "ResourceWarning: Enable tracemalloc to get the object allocation traceback\n",
      "sys:1: ResourceWarning: unclosed socket <zmq.Socket(zmq.PUSH) at 0x7f6d11d27580>\n",
      "ResourceWarning: Enable tracemalloc to get the object allocation traceback\n"
     ]
    },
    {
     "name": "stdout",
     "output_type": "stream",
     "text": [
      "\r",
      "[***************       32%                       ]  740 of 2310 completed"
     ]
    },
    {
     "name": "stderr",
     "output_type": "stream",
     "text": [
      "sys:1: ResourceWarning: unclosed socket <zmq.Socket(zmq.PUSH) at 0x7f6d11cdf940>\n",
      "ResourceWarning: Enable tracemalloc to get the object allocation traceback\n"
     ]
    },
    {
     "name": "stdout",
     "output_type": "stream",
     "text": [
      "[***************       32%                       ]  743 of 2310 completed"
     ]
    },
    {
     "name": "stderr",
     "output_type": "stream",
     "text": [
      "sys:1: ResourceWarning: unclosed socket <zmq.Socket(zmq.PUSH) at 0x7f6d11cdd180>\n",
      "ResourceWarning: Enable tracemalloc to get the object allocation traceback\n",
      "sys:1: ResourceWarning: unclosed socket <zmq.Socket(zmq.PUSH) at 0x7f6cd87abe80>\n",
      "ResourceWarning: Enable tracemalloc to get the object allocation traceback\n",
      "sys:1: ResourceWarning: unclosed socket <zmq.Socket(zmq.PUSH) at 0x7f6cd87cfac0>\n",
      "ResourceWarning: Enable tracemalloc to get the object allocation traceback\n"
     ]
    },
    {
     "name": "stdout",
     "output_type": "stream",
     "text": [
      "[***************       32%                       ]  745 of 2310 completed"
     ]
    },
    {
     "name": "stderr",
     "output_type": "stream",
     "text": [
      "sys:1: ResourceWarning: unclosed socket <zmq.Socket(zmq.PUSH) at 0x7f6d11cf6ec0>\n",
      "ResourceWarning: Enable tracemalloc to get the object allocation traceback\n",
      "sys:1: ResourceWarning: unclosed socket <zmq.Socket(zmq.PUSH) at 0x7f6d11cf6b00>\n",
      "ResourceWarning: Enable tracemalloc to get the object allocation traceback\n"
     ]
    },
    {
     "name": "stdout",
     "output_type": "stream",
     "text": [
      "\r",
      "[***************       32%                       ]  746 of 2310 completed"
     ]
    },
    {
     "name": "stderr",
     "output_type": "stream",
     "text": [
      "sys:1: ResourceWarning: unclosed socket <zmq.Socket(zmq.PUSH) at 0x7f6d11cdd960>\n",
      "ResourceWarning: Enable tracemalloc to get the object allocation traceback\n"
     ]
    },
    {
     "name": "stdout",
     "output_type": "stream",
     "text": [
      "[***************       32%                       ]  748 of 2310 completed"
     ]
    },
    {
     "name": "stderr",
     "output_type": "stream",
     "text": [
      "sys:1: ResourceWarning: unclosed socket <zmq.Socket(zmq.PUSH) at 0x7f6d11e0f340>\n",
      "ResourceWarning: Enable tracemalloc to get the object allocation traceback\n",
      "sys:1: ResourceWarning: unclosed socket <zmq.Socket(zmq.PUSH) at 0x7f6cd87b96c0>\n",
      "ResourceWarning: Enable tracemalloc to get the object allocation traceback\n"
     ]
    },
    {
     "name": "stdout",
     "output_type": "stream",
     "text": [
      "[***************       32%                       ]  750 of 2310 completed"
     ]
    },
    {
     "name": "stderr",
     "output_type": "stream",
     "text": [
      "sys:1: ResourceWarning: unclosed socket <zmq.Socket(zmq.PUSH) at 0x7f6d11cbf7c0>\n",
      "ResourceWarning: Enable tracemalloc to get the object allocation traceback\n",
      "sys:1: ResourceWarning: unclosed socket <zmq.Socket(zmq.PUSH) at 0x7f6d11cdd900>\n",
      "ResourceWarning: Enable tracemalloc to get the object allocation traceback\n"
     ]
    },
    {
     "name": "stdout",
     "output_type": "stream",
     "text": [
      "[****************      33%                       ]  753 of 2310 completed"
     ]
    },
    {
     "name": "stderr",
     "output_type": "stream",
     "text": [
      "sys:1: ResourceWarning: unclosed socket <zmq.Socket(zmq.PUSH) at 0x7f6d11cf77c0>\n",
      "ResourceWarning: Enable tracemalloc to get the object allocation traceback\n",
      "sys:1: ResourceWarning: unclosed socket <zmq.Socket(zmq.PUSH) at 0x7f6cf81ec820>\n",
      "ResourceWarning: Enable tracemalloc to get the object allocation traceback\n",
      "sys:1: ResourceWarning: unclosed socket <zmq.Socket(zmq.PUSH) at 0x7f6d11cf6fe0>\n",
      "ResourceWarning: Enable tracemalloc to get the object allocation traceback\n"
     ]
    },
    {
     "name": "stdout",
     "output_type": "stream",
     "text": [
      "[****************      33%                       ]  755 of 2310 completed"
     ]
    },
    {
     "name": "stderr",
     "output_type": "stream",
     "text": [
      "sys:1: ResourceWarning: unclosed socket <zmq.Socket(zmq.PUSH) at 0x7f6d11d27e20>\n",
      "ResourceWarning: Enable tracemalloc to get the object allocation traceback\n",
      "sys:1: ResourceWarning: unclosed socket <zmq.Socket(zmq.PUSH) at 0x7f6d11cf6fe0>\n",
      "ResourceWarning: Enable tracemalloc to get the object allocation traceback\n"
     ]
    },
    {
     "name": "stdout",
     "output_type": "stream",
     "text": [
      "[****************      33%                       ]  758 of 2310 completed"
     ]
    },
    {
     "name": "stderr",
     "output_type": "stream",
     "text": [
      "sys:1: ResourceWarning: unclosed socket <zmq.Socket(zmq.PUSH) at 0x7f6d11cbf160>\n",
      "ResourceWarning: Enable tracemalloc to get the object allocation traceback\n",
      "sys:1: ResourceWarning: unclosed socket <zmq.Socket(zmq.PUSH) at 0x7f6d11d27e20>\n",
      "ResourceWarning: Enable tracemalloc to get the object allocation traceback\n",
      "sys:1: ResourceWarning: unclosed socket <zmq.Socket(zmq.PUSH) at 0x7f6d11cdf940>\n",
      "ResourceWarning: Enable tracemalloc to get the object allocation traceback\n"
     ]
    },
    {
     "name": "stdout",
     "output_type": "stream",
     "text": [
      "[****************      33%                       ]  760 of 2310 completed"
     ]
    },
    {
     "name": "stderr",
     "output_type": "stream",
     "text": [
      "sys:1: ResourceWarning: unclosed socket <zmq.Socket(zmq.PUSH) at 0x7f6d11cdfbe0>\n",
      "ResourceWarning: Enable tracemalloc to get the object allocation traceback\n",
      "sys:1: ResourceWarning: unclosed socket <zmq.Socket(zmq.PUSH) at 0x7f6d11d27580>\n",
      "ResourceWarning: Enable tracemalloc to get the object allocation traceback\n"
     ]
    },
    {
     "name": "stdout",
     "output_type": "stream",
     "text": [
      "[****************      33%                       ]  763 of 2310 completed"
     ]
    },
    {
     "name": "stderr",
     "output_type": "stream",
     "text": [
      "sys:1: ResourceWarning: unclosed socket <zmq.Socket(zmq.PUSH) at 0x7f6d11cde380>\n",
      "ResourceWarning: Enable tracemalloc to get the object allocation traceback\n",
      "sys:1: ResourceWarning: unclosed socket <zmq.Socket(zmq.PUSH) at 0x7f6d11cf77c0>\n",
      "ResourceWarning: Enable tracemalloc to get the object allocation traceback\n",
      "sys:1: ResourceWarning: unclosed socket <zmq.Socket(zmq.PUSH) at 0x7f6d11e1b4c0>\n",
      "ResourceWarning: Enable tracemalloc to get the object allocation traceback\n"
     ]
    },
    {
     "name": "stdout",
     "output_type": "stream",
     "text": [
      "\r",
      "[****************      33%                       ]  764 of 2310 completed"
     ]
    },
    {
     "name": "stderr",
     "output_type": "stream",
     "text": [
      "sys:1: ResourceWarning: unclosed socket <zmq.Socket(zmq.PUSH) at 0x7f6d11e1b4c0>\n",
      "ResourceWarning: Enable tracemalloc to get the object allocation traceback\n"
     ]
    },
    {
     "name": "stdout",
     "output_type": "stream",
     "text": [
      "[****************      33%                       ]  766 of 2310 completed"
     ]
    },
    {
     "name": "stderr",
     "output_type": "stream",
     "text": [
      "sys:1: ResourceWarning: unclosed socket <zmq.Socket(zmq.PUSH) at 0x7f6d11c9a9e0>\n",
      "ResourceWarning: Enable tracemalloc to get the object allocation traceback\n",
      "sys:1: ResourceWarning: unclosed socket <zmq.Socket(zmq.PUSH) at 0x7f6cd87dbee0>\n",
      "ResourceWarning: Enable tracemalloc to get the object allocation traceback\n"
     ]
    },
    {
     "name": "stdout",
     "output_type": "stream",
     "text": [
      "[****************      33%                       ]  768 of 2310 completed"
     ]
    },
    {
     "name": "stderr",
     "output_type": "stream",
     "text": [
      "sys:1: ResourceWarning: unclosed socket <zmq.Socket(zmq.PUSH) at 0x7f6d11d27f40>\n",
      "ResourceWarning: Enable tracemalloc to get the object allocation traceback\n",
      "sys:1: ResourceWarning: unclosed socket <zmq.Socket(zmq.PUSH) at 0x7f6d11d27160>\n",
      "ResourceWarning: Enable tracemalloc to get the object allocation traceback\n"
     ]
    },
    {
     "name": "stdout",
     "output_type": "stream",
     "text": [
      "[****************      33%                       ]  772 of 2310 completed"
     ]
    },
    {
     "name": "stderr",
     "output_type": "stream",
     "text": [
      "sys:1: ResourceWarning: unclosed socket <zmq.Socket(zmq.PUSH) at 0x7f6d11d27f40>\n",
      "ResourceWarning: Enable tracemalloc to get the object allocation traceback\n",
      "sys:1: ResourceWarning: unclosed socket <zmq.Socket(zmq.PUSH) at 0x7f6d11cf6fe0>\n",
      "ResourceWarning: Enable tracemalloc to get the object allocation traceback\n",
      "sys:1: ResourceWarning: unclosed socket <zmq.Socket(zmq.PUSH) at 0x7f6d11cdeb60>\n",
      "ResourceWarning: Enable tracemalloc to get the object allocation traceback\n",
      "sys:1: ResourceWarning: unclosed socket <zmq.Socket(zmq.PUSH) at 0x7f6d11cf6fe0>\n",
      "ResourceWarning: Enable tracemalloc to get the object allocation traceback\n"
     ]
    },
    {
     "name": "stdout",
     "output_type": "stream",
     "text": [
      "[****************      34%                       ]  774 of 2310 completed"
     ]
    },
    {
     "name": "stderr",
     "output_type": "stream",
     "text": [
      "sys:1: ResourceWarning: unclosed socket <zmq.Socket(zmq.PUSH) at 0x7f6d11cdf340>\n",
      "ResourceWarning: Enable tracemalloc to get the object allocation traceback\n",
      "sys:1: ResourceWarning: unclosed socket <zmq.Socket(zmq.PUSH) at 0x7f6d12e9fb20>\n",
      "ResourceWarning: Enable tracemalloc to get the object allocation traceback\n"
     ]
    },
    {
     "name": "stdout",
     "output_type": "stream",
     "text": [
      "[****************      34%                       ]  776 of 2310 completed"
     ]
    },
    {
     "name": "stderr",
     "output_type": "stream",
     "text": [
      "sys:1: ResourceWarning: unclosed socket <zmq.Socket(zmq.PUSH) at 0x7f6d12e93a60>\n",
      "ResourceWarning: Enable tracemalloc to get the object allocation traceback\n",
      "sys:1: ResourceWarning: unclosed socket <zmq.Socket(zmq.PUSH) at 0x7f6d12e9ec80>\n",
      "ResourceWarning: Enable tracemalloc to get the object allocation traceback\n"
     ]
    },
    {
     "name": "stdout",
     "output_type": "stream",
     "text": [
      "[****************      34%                       ]  779 of 2310 completed"
     ]
    },
    {
     "name": "stderr",
     "output_type": "stream",
     "text": [
      "sys:1: ResourceWarning: unclosed socket <zmq.Socket(zmq.PUSH) at 0x7f6d12e9f520>\n",
      "ResourceWarning: Enable tracemalloc to get the object allocation traceback\n",
      "sys:1: ResourceWarning: unclosed socket <zmq.Socket(zmq.PUSH) at 0x7f6d12e93a60>\n",
      "ResourceWarning: Enable tracemalloc to get the object allocation traceback\n",
      "sys:1: ResourceWarning: unclosed socket <zmq.Socket(zmq.PUSH) at 0x7f6d11cbef80>\n",
      "ResourceWarning: Enable tracemalloc to get the object allocation traceback\n"
     ]
    },
    {
     "name": "stdout",
     "output_type": "stream",
     "text": [
      "[****************      34%                       ]  782 of 2310 completed"
     ]
    },
    {
     "name": "stderr",
     "output_type": "stream",
     "text": [
      "sys:1: ResourceWarning: unclosed socket <zmq.Socket(zmq.PUSH) at 0x7f6d11e1a560>\n",
      "ResourceWarning: Enable tracemalloc to get the object allocation traceback\n",
      "sys:1: ResourceWarning: unclosed socket <zmq.Socket(zmq.PUSH) at 0x7f6d11cf6ec0>\n",
      "ResourceWarning: Enable tracemalloc to get the object allocation traceback\n",
      "sys:1: ResourceWarning: unclosed socket <zmq.Socket(zmq.PUSH) at 0x7f6d11d276a0>\n",
      "ResourceWarning: Enable tracemalloc to get the object allocation traceback\n"
     ]
    },
    {
     "name": "stdout",
     "output_type": "stream",
     "text": [
      "[****************      34%                       ]  784 of 2310 completed"
     ]
    },
    {
     "name": "stderr",
     "output_type": "stream",
     "text": [
      "sys:1: ResourceWarning: unclosed socket <zmq.Socket(zmq.PUSH) at 0x7f6d11cf6ec0>\n",
      "ResourceWarning: Enable tracemalloc to get the object allocation traceback\n",
      "sys:1: ResourceWarning: unclosed socket <zmq.Socket(zmq.PUSH) at 0x7f6d12e9e8c0>\n",
      "ResourceWarning: Enable tracemalloc to get the object allocation traceback\n"
     ]
    },
    {
     "name": "stdout",
     "output_type": "stream",
     "text": [
      "\r",
      "[****************      34%                       ]  785 of 2310 completed"
     ]
    },
    {
     "name": "stderr",
     "output_type": "stream",
     "text": [
      "sys:1: ResourceWarning: unclosed socket <zmq.Socket(zmq.PUSH) at 0x7f6d11cde380>\n",
      "ResourceWarning: Enable tracemalloc to get the object allocation traceback\n"
     ]
    },
    {
     "name": "stdout",
     "output_type": "stream",
     "text": [
      "[****************      34%                       ]  789 of 2310 completed"
     ]
    },
    {
     "name": "stderr",
     "output_type": "stream",
     "text": [
      "sys:1: ResourceWarning: unclosed socket <zmq.Socket(zmq.PUSH) at 0x7f6cd87dbee0>\n",
      "ResourceWarning: Enable tracemalloc to get the object allocation traceback\n",
      "sys:1: ResourceWarning: unclosed socket <zmq.Socket(zmq.PUSH) at 0x7f6cd87b96c0>\n",
      "ResourceWarning: Enable tracemalloc to get the object allocation traceback\n",
      "sys:1: ResourceWarning: unclosed socket <zmq.Socket(zmq.PUSH) at 0x7f6d12e92e60>\n",
      "ResourceWarning: Enable tracemalloc to get the object allocation traceback\n",
      "sys:1: ResourceWarning: unclosed socket <zmq.Socket(zmq.PUSH) at 0x7f6d11cf77c0>\n",
      "ResourceWarning: Enable tracemalloc to get the object allocation traceback\n"
     ]
    },
    {
     "name": "stdout",
     "output_type": "stream",
     "text": [
      "[****************      34%                       ]  791 of 2310 completed"
     ]
    },
    {
     "name": "stderr",
     "output_type": "stream",
     "text": [
      "sys:1: ResourceWarning: unclosed socket <zmq.Socket(zmq.PUSH) at 0x7f6d11cf6ec0>\n",
      "ResourceWarning: Enable tracemalloc to get the object allocation traceback\n",
      "sys:1: ResourceWarning: unclosed socket <zmq.Socket(zmq.PUSH) at 0x7f6d11c9a9e0>\n",
      "ResourceWarning: Enable tracemalloc to get the object allocation traceback\n"
     ]
    },
    {
     "name": "stdout",
     "output_type": "stream",
     "text": [
      "[****************      34%                       ]  793 of 2310 completed"
     ]
    },
    {
     "name": "stderr",
     "output_type": "stream",
     "text": [
      "sys:1: ResourceWarning: unclosed socket <zmq.Socket(zmq.PUSH) at 0x7f6d12eaf8e0>\n",
      "ResourceWarning: Enable tracemalloc to get the object allocation traceback\n",
      "sys:1: ResourceWarning: unclosed socket <zmq.Socket(zmq.PUSH) at 0x7f6d11d27160>\n",
      "ResourceWarning: Enable tracemalloc to get the object allocation traceback\n"
     ]
    },
    {
     "name": "stdout",
     "output_type": "stream",
     "text": [
      "[*****************     35%                       ]  797 of 2310 completed"
     ]
    },
    {
     "name": "stderr",
     "output_type": "stream",
     "text": [
      "sys:1: ResourceWarning: unclosed socket <zmq.Socket(zmq.PUSH) at 0x7f6d12e9fb20>\n",
      "ResourceWarning: Enable tracemalloc to get the object allocation traceback\n",
      "sys:1: ResourceWarning: unclosed socket <zmq.Socket(zmq.PUSH) at 0x7f6d12eae8c0>\n",
      "ResourceWarning: Enable tracemalloc to get the object allocation traceback\n",
      "sys:1: ResourceWarning: unclosed socket <zmq.Socket(zmq.PUSH) at 0x7f6d11cbf280>\n",
      "ResourceWarning: Enable tracemalloc to get the object allocation traceback\n",
      "sys:1: ResourceWarning: unclosed socket <zmq.Socket(zmq.PUSH) at 0x7f6d11cbfca0>\n",
      "ResourceWarning: Enable tracemalloc to get the object allocation traceback\n"
     ]
    },
    {
     "name": "stdout",
     "output_type": "stream",
     "text": [
      "\r",
      "[*****************     35%                       ]  798 of 2310 completed"
     ]
    },
    {
     "name": "stderr",
     "output_type": "stream",
     "text": [
      "sys:1: ResourceWarning: unclosed socket <zmq.Socket(zmq.PUSH) at 0x7f6d12eaece0>\n",
      "ResourceWarning: Enable tracemalloc to get the object allocation traceback\n"
     ]
    },
    {
     "name": "stdout",
     "output_type": "stream",
     "text": [
      "[*****************     35%                       ]  800 of 2310 completed"
     ]
    },
    {
     "name": "stderr",
     "output_type": "stream",
     "text": [
      "sys:1: ResourceWarning: unclosed socket <zmq.Socket(zmq.PUSH) at 0x7f6d11d279a0>\n",
      "ResourceWarning: Enable tracemalloc to get the object allocation traceback\n",
      "sys:1: ResourceWarning: unclosed socket <zmq.Socket(zmq.PUSH) at 0x7f6cd87dbee0>\n",
      "ResourceWarning: Enable tracemalloc to get the object allocation traceback\n"
     ]
    },
    {
     "name": "stdout",
     "output_type": "stream",
     "text": [
      "[*****************     35%                       ]  802 of 2310 completed"
     ]
    },
    {
     "name": "stderr",
     "output_type": "stream",
     "text": [
      "sys:1: ResourceWarning: unclosed socket <zmq.Socket(zmq.PUSH) at 0x7f6d12eaece0>\n",
      "ResourceWarning: Enable tracemalloc to get the object allocation traceback\n",
      "sys:1: ResourceWarning: unclosed socket <zmq.Socket(zmq.PUSH) at 0x7f6d11d25900>\n",
      "ResourceWarning: Enable tracemalloc to get the object allocation traceback\n"
     ]
    },
    {
     "name": "stdout",
     "output_type": "stream",
     "text": [
      "\r",
      "[*****************     35%                       ]  803 of 2310 completed"
     ]
    },
    {
     "name": "stderr",
     "output_type": "stream",
     "text": [
      "sys:1: ResourceWarning: unclosed socket <zmq.Socket(zmq.PUSH) at 0x7f6d11cbf460>\n",
      "ResourceWarning: Enable tracemalloc to get the object allocation traceback\n"
     ]
    },
    {
     "name": "stdout",
     "output_type": "stream",
     "text": [
      "\r",
      "[*****************     35%                       ]  804 of 2310 completed"
     ]
    },
    {
     "name": "stderr",
     "output_type": "stream",
     "text": [
      "sys:1: ResourceWarning: unclosed socket <zmq.Socket(zmq.PUSH) at 0x7f6d12e9f5e0>\n",
      "ResourceWarning: Enable tracemalloc to get the object allocation traceback\n"
     ]
    },
    {
     "name": "stdout",
     "output_type": "stream",
     "text": [
      "\r",
      "[*****************     35%                       ]  805 of 2310 completed"
     ]
    },
    {
     "name": "stderr",
     "output_type": "stream",
     "text": [
      "sys:1: ResourceWarning: unclosed socket <zmq.Socket(zmq.PUSH) at 0x7f6d11cbfca0>\n",
      "ResourceWarning: Enable tracemalloc to get the object allocation traceback\n"
     ]
    },
    {
     "name": "stdout",
     "output_type": "stream",
     "text": [
      "[*****************     35%                       ]  809 of 2310 completed"
     ]
    },
    {
     "name": "stderr",
     "output_type": "stream",
     "text": [
      "sys:1: ResourceWarning: unclosed socket <zmq.Socket(zmq.PUSH) at 0x7f6d11cbfca0>\n",
      "ResourceWarning: Enable tracemalloc to get the object allocation traceback\n",
      "sys:1: ResourceWarning: unclosed socket <zmq.Socket(zmq.PUSH) at 0x7f6d11cdd960>\n",
      "ResourceWarning: Enable tracemalloc to get the object allocation traceback\n",
      "sys:1: ResourceWarning: unclosed socket <zmq.Socket(zmq.PUSH) at 0x7f6d11cbee00>\n",
      "ResourceWarning: Enable tracemalloc to get the object allocation traceback\n",
      "sys:1: ResourceWarning: unclosed socket <zmq.Socket(zmq.PUSH) at 0x7f6d12e9dde0>\n",
      "ResourceWarning: Enable tracemalloc to get the object allocation traceback\n"
     ]
    },
    {
     "name": "stdout",
     "output_type": "stream",
     "text": [
      "\r",
      "[*****************     35%                       ]  810 of 2310 completed"
     ]
    },
    {
     "name": "stderr",
     "output_type": "stream",
     "text": [
      "sys:1: ResourceWarning: unclosed socket <zmq.Socket(zmq.PUSH) at 0x7f6cd87ebbe0>\n",
      "ResourceWarning: Enable tracemalloc to get the object allocation traceback\n"
     ]
    },
    {
     "name": "stdout",
     "output_type": "stream",
     "text": [
      "\r",
      "[*****************     35%                       ]  811 of 2310 completed"
     ]
    },
    {
     "name": "stderr",
     "output_type": "stream",
     "text": [
      "sys:1: ResourceWarning: unclosed socket <zmq.Socket(zmq.PUSH) at 0x7f6d12eaf4c0>\n",
      "ResourceWarning: Enable tracemalloc to get the object allocation traceback\n"
     ]
    },
    {
     "name": "stdout",
     "output_type": "stream",
     "text": [
      "[*****************     35%                       ]  814 of 2310 completed"
     ]
    },
    {
     "name": "stderr",
     "output_type": "stream",
     "text": [
      "sys:1: ResourceWarning: unclosed socket <zmq.Socket(zmq.PUSH) at 0x7f6d11d25900>\n",
      "ResourceWarning: Enable tracemalloc to get the object allocation traceback\n",
      "sys:1: ResourceWarning: unclosed socket <zmq.Socket(zmq.PUSH) at 0x7f6d11cdf340>\n",
      "ResourceWarning: Enable tracemalloc to get the object allocation traceback\n",
      "sys:1: ResourceWarning: unclosed socket <zmq.Socket(zmq.PUSH) at 0x7f6d11cdfca0>\n",
      "ResourceWarning: Enable tracemalloc to get the object allocation traceback\n"
     ]
    },
    {
     "name": "stdout",
     "output_type": "stream",
     "text": [
      "[*****************     35%                       ]  816 of 2310 completed"
     ]
    },
    {
     "name": "stderr",
     "output_type": "stream",
     "text": [
      "sys:1: ResourceWarning: unclosed socket <zmq.Socket(zmq.PUSH) at 0x7f6d11d25900>\n",
      "ResourceWarning: Enable tracemalloc to get the object allocation traceback\n",
      "sys:1: ResourceWarning: unclosed socket <zmq.Socket(zmq.PUSH) at 0x7f6d12eae860>\n",
      "ResourceWarning: Enable tracemalloc to get the object allocation traceback\n"
     ]
    },
    {
     "name": "stdout",
     "output_type": "stream",
     "text": [
      "[*****************     35%                       ]  818 of 2310 completed"
     ]
    },
    {
     "name": "stderr",
     "output_type": "stream",
     "text": [
      "sys:1: ResourceWarning: unclosed socket <zmq.Socket(zmq.PUSH) at 0x7f6d11ccbe80>\n",
      "ResourceWarning: Enable tracemalloc to get the object allocation traceback\n",
      "sys:1: ResourceWarning: unclosed socket <zmq.Socket(zmq.PUSH) at 0x7f6d12e9f9a0>\n",
      "ResourceWarning: Enable tracemalloc to get the object allocation traceback\n"
     ]
    },
    {
     "name": "stdout",
     "output_type": "stream",
     "text": [
      "\r",
      "[*****************     35%                       ]  819 of 2310 completed"
     ]
    },
    {
     "name": "stderr",
     "output_type": "stream",
     "text": [
      "sys:1: ResourceWarning: unclosed socket <zmq.Socket(zmq.PUSH) at 0x7f6d11cf6f80>\n",
      "ResourceWarning: Enable tracemalloc to get the object allocation traceback\n"
     ]
    },
    {
     "name": "stdout",
     "output_type": "stream",
     "text": [
      "\r",
      "[*****************     35%                       ]  820 of 2310 completed"
     ]
    },
    {
     "name": "stderr",
     "output_type": "stream",
     "text": [
      "sys:1: ResourceWarning: unclosed socket <zmq.Socket(zmq.PUSH) at 0x7f6d12ebfe20>\n",
      "ResourceWarning: Enable tracemalloc to get the object allocation traceback\n"
     ]
    },
    {
     "name": "stdout",
     "output_type": "stream",
     "text": [
      "[*****************     36%                       ]  823 of 2310 completed"
     ]
    },
    {
     "name": "stderr",
     "output_type": "stream",
     "text": [
      "sys:1: ResourceWarning: unclosed socket <zmq.Socket(zmq.PUSH) at 0x7f6d12ebee00>\n",
      "ResourceWarning: Enable tracemalloc to get the object allocation traceback\n",
      "sys:1: ResourceWarning: unclosed socket <zmq.Socket(zmq.PUSH) at 0x7f6cd87ebbe0>\n",
      "ResourceWarning: Enable tracemalloc to get the object allocation traceback\n",
      "sys:1: ResourceWarning: unclosed socket <zmq.Socket(zmq.PUSH) at 0x7f6d11ccae60>\n",
      "ResourceWarning: Enable tracemalloc to get the object allocation traceback\n"
     ]
    },
    {
     "name": "stdout",
     "output_type": "stream",
     "text": [
      "[*****************     36%                       ]  825 of 2310 completed"
     ]
    },
    {
     "name": "stderr",
     "output_type": "stream",
     "text": [
      "sys:1: ResourceWarning: unclosed socket <zmq.Socket(zmq.PUSH) at 0x7f6d12e9fb20>\n",
      "ResourceWarning: Enable tracemalloc to get the object allocation traceback\n",
      "sys:1: ResourceWarning: unclosed socket <zmq.Socket(zmq.PUSH) at 0x7f6d12eaf4c0>\n",
      "ResourceWarning: Enable tracemalloc to get the object allocation traceback\n"
     ]
    },
    {
     "name": "stdout",
     "output_type": "stream",
     "text": [
      "[*****************     36%                       ]  827 of 2310 completed"
     ]
    },
    {
     "name": "stderr",
     "output_type": "stream",
     "text": [
      "sys:1: ResourceWarning: unclosed socket <zmq.Socket(zmq.PUSH) at 0x7f6d12ebe1a0>\n",
      "ResourceWarning: Enable tracemalloc to get the object allocation traceback\n",
      "sys:1: ResourceWarning: unclosed socket <zmq.Socket(zmq.PUSH) at 0x7f6d11cbe4a0>\n",
      "ResourceWarning: Enable tracemalloc to get the object allocation traceback\n"
     ]
    },
    {
     "name": "stdout",
     "output_type": "stream",
     "text": [
      "\r",
      "[*****************     36%                       ]  828 of 2310 completed"
     ]
    },
    {
     "name": "stderr",
     "output_type": "stream",
     "text": [
      "sys:1: ResourceWarning: unclosed socket <zmq.Socket(zmq.PUSH) at 0x7f6d12ebfe20>\n",
      "ResourceWarning: Enable tracemalloc to get the object allocation traceback\n"
     ]
    },
    {
     "name": "stdout",
     "output_type": "stream",
     "text": [
      "[*****************     36%                       ]  832 of 2310 completed"
     ]
    },
    {
     "name": "stderr",
     "output_type": "stream",
     "text": [
      "sys:1: ResourceWarning: unclosed socket <zmq.Socket(zmq.PUSH) at 0x7f6d11cbf940>\n",
      "ResourceWarning: Enable tracemalloc to get the object allocation traceback\n",
      "sys:1: ResourceWarning: unclosed socket <zmq.Socket(zmq.PUSH) at 0x7f6d11cf6f80>\n",
      "ResourceWarning: Enable tracemalloc to get the object allocation traceback\n",
      "sys:1: ResourceWarning: unclosed socket <zmq.Socket(zmq.PUSH) at 0x7f6d11d256c0>\n",
      "ResourceWarning: Enable tracemalloc to get the object allocation traceback\n",
      "sys:1: ResourceWarning: unclosed socket <zmq.Socket(zmq.PUSH) at 0x7f6d12eaf8e0>\n",
      "ResourceWarning: Enable tracemalloc to get the object allocation traceback\n"
     ]
    },
    {
     "name": "stdout",
     "output_type": "stream",
     "text": [
      "[*****************     36%                       ]  835 of 2310 completed"
     ]
    },
    {
     "name": "stderr",
     "output_type": "stream",
     "text": [
      "sys:1: ResourceWarning: unclosed socket <zmq.Socket(zmq.PUSH) at 0x7f6cd87dbee0>\n",
      "ResourceWarning: Enable tracemalloc to get the object allocation traceback\n",
      "sys:1: ResourceWarning: unclosed socket <zmq.Socket(zmq.PUSH) at 0x7f6d11d279a0>\n",
      "ResourceWarning: Enable tracemalloc to get the object allocation traceback\n",
      "sys:1: ResourceWarning: unclosed socket <zmq.Socket(zmq.PUSH) at 0x7f6d12ebdcc0>\n",
      "ResourceWarning: Enable tracemalloc to get the object allocation traceback\n"
     ]
    },
    {
     "name": "stdout",
     "output_type": "stream",
     "text": [
      "\r",
      "[*****************     36%                       ]  836 of 2310 completed"
     ]
    },
    {
     "name": "stderr",
     "output_type": "stream",
     "text": [
      "sys:1: ResourceWarning: unclosed socket <zmq.Socket(zmq.PUSH) at 0x7f6d11cf6ec0>\n",
      "ResourceWarning: Enable tracemalloc to get the object allocation traceback\n"
     ]
    },
    {
     "name": "stdout",
     "output_type": "stream",
     "text": [
      "[*****************     36%                       ]  840 of 2310 completed"
     ]
    },
    {
     "name": "stderr",
     "output_type": "stream",
     "text": [
      "sys:1: ResourceWarning: unclosed socket <zmq.Socket(zmq.PUSH) at 0x7f6d12ebdcc0>\n",
      "ResourceWarning: Enable tracemalloc to get the object allocation traceback\n",
      "sys:1: ResourceWarning: unclosed socket <zmq.Socket(zmq.PUSH) at 0x7f6d12ebfe20>\n",
      "ResourceWarning: Enable tracemalloc to get the object allocation traceback\n",
      "sys:1: ResourceWarning: unclosed socket <zmq.Socket(zmq.PUSH) at 0x7f6d11cc9e40>\n",
      "ResourceWarning: Enable tracemalloc to get the object allocation traceback\n",
      "sys:1: ResourceWarning: unclosed socket <zmq.Socket(zmq.PUSH) at 0x7f6d12eaf5e0>\n",
      "ResourceWarning: Enable tracemalloc to get the object allocation traceback\n"
     ]
    },
    {
     "name": "stdout",
     "output_type": "stream",
     "text": [
      "\r",
      "[*****************     36%                       ]  841 of 2310 completed"
     ]
    },
    {
     "name": "stderr",
     "output_type": "stream",
     "text": [
      "sys:1: ResourceWarning: unclosed socket <zmq.Socket(zmq.PUSH) at 0x7f6d12ebfdc0>\n",
      "ResourceWarning: Enable tracemalloc to get the object allocation traceback\n"
     ]
    },
    {
     "name": "stdout",
     "output_type": "stream",
     "text": [
      "[******************    37%                       ]  844 of 2310 completed"
     ]
    },
    {
     "name": "stderr",
     "output_type": "stream",
     "text": [
      "sys:1: ResourceWarning: unclosed socket <zmq.Socket(zmq.PUSH) at 0x7f6d11cdf340>\n",
      "ResourceWarning: Enable tracemalloc to get the object allocation traceback\n",
      "sys:1: ResourceWarning: unclosed socket <zmq.Socket(zmq.PUSH) at 0x7f6d11bebe20>\n",
      "ResourceWarning: Enable tracemalloc to get the object allocation traceback\n"
     ]
    },
    {
     "name": "stdout",
     "output_type": "stream",
     "text": [
      "\r",
      "[******************    37%                       ]  845 of 2310 completed"
     ]
    },
    {
     "name": "stderr",
     "output_type": "stream",
     "text": [
      "sys:1: ResourceWarning: unclosed socket <zmq.Socket(zmq.PUSH) at 0x7f6d12ebd4e0>\n",
      "ResourceWarning: Enable tracemalloc to get the object allocation traceback\n",
      "sys:1: ResourceWarning: unclosed socket <zmq.Socket(zmq.PUSH) at 0x7f6d11ccb580>\n",
      "ResourceWarning: Enable tracemalloc to get the object allocation traceback\n"
     ]
    },
    {
     "name": "stdout",
     "output_type": "stream",
     "text": [
      "[******************    37%                       ]  847 of 2310 completed"
     ]
    },
    {
     "name": "stderr",
     "output_type": "stream",
     "text": [
      "sys:1: ResourceWarning: unclosed socket <zmq.Socket(zmq.PUSH) at 0x7f6d12ebd4e0>\n",
      "ResourceWarning: Enable tracemalloc to get the object allocation traceback\n",
      "sys:1: ResourceWarning: unclosed socket <zmq.Socket(zmq.PUSH) at 0x7f6d12e9f5e0>\n",
      "ResourceWarning: Enable tracemalloc to get the object allocation traceback\n"
     ]
    },
    {
     "name": "stdout",
     "output_type": "stream",
     "text": [
      "[******************    37%                       ]  850 of 2310 completed"
     ]
    },
    {
     "name": "stderr",
     "output_type": "stream",
     "text": [
      "sys:1: ResourceWarning: unclosed socket <zmq.Socket(zmq.PUSH) at 0x7f6d12ebdcc0>\n",
      "ResourceWarning: Enable tracemalloc to get the object allocation traceback\n",
      "sys:1: ResourceWarning: unclosed socket <zmq.Socket(zmq.PUSH) at 0x7f6d12ebdcc0>\n",
      "ResourceWarning: Enable tracemalloc to get the object allocation traceback\n",
      "sys:1: ResourceWarning: unclosed socket <zmq.Socket(zmq.PUSH) at 0x7f6d12eaeb60>\n",
      "ResourceWarning: Enable tracemalloc to get the object allocation traceback\n"
     ]
    },
    {
     "name": "stdout",
     "output_type": "stream",
     "text": [
      "[******************    37%                       ]  852 of 2310 completed"
     ]
    },
    {
     "name": "stderr",
     "output_type": "stream",
     "text": [
      "sys:1: ResourceWarning: unclosed socket <zmq.Socket(zmq.PUSH) at 0x7f6d11cdeb60>\n",
      "ResourceWarning: Enable tracemalloc to get the object allocation traceback\n",
      "sys:1: ResourceWarning: unclosed socket <zmq.Socket(zmq.PUSH) at 0x7f6d11cbe4a0>\n",
      "ResourceWarning: Enable tracemalloc to get the object allocation traceback\n"
     ]
    },
    {
     "name": "stdout",
     "output_type": "stream",
     "text": [
      "\r",
      "[******************    37%                       ]  853 of 2310 completed"
     ]
    },
    {
     "name": "stderr",
     "output_type": "stream",
     "text": [
      "sys:1: ResourceWarning: unclosed socket <zmq.Socket(zmq.PUSH) at 0x7f6d11bebdc0>\n",
      "ResourceWarning: Enable tracemalloc to get the object allocation traceback\n"
     ]
    },
    {
     "name": "stdout",
     "output_type": "stream",
     "text": [
      "[******************    37%                       ]  857 of 2310 completed"
     ]
    },
    {
     "name": "stderr",
     "output_type": "stream",
     "text": [
      "sys:1: ResourceWarning: unclosed socket <zmq.Socket(zmq.PUSH) at 0x7f6d11ccbee0>\n",
      "ResourceWarning: Enable tracemalloc to get the object allocation traceback\n",
      "sys:1: ResourceWarning: unclosed socket <zmq.Socket(zmq.PUSH) at 0x7f6d12e93100>\n",
      "ResourceWarning: Enable tracemalloc to get the object allocation traceback\n",
      "sys:1: ResourceWarning: unclosed socket <zmq.Socket(zmq.PUSH) at 0x7f6d11cdeb60>\n",
      "ResourceWarning: Enable tracemalloc to get the object allocation traceback\n",
      "sys:1: ResourceWarning: unclosed socket <zmq.Socket(zmq.PUSH) at 0x7f6d11cbfc40>\n",
      "ResourceWarning: Enable tracemalloc to get the object allocation traceback\n"
     ]
    },
    {
     "name": "stdout",
     "output_type": "stream",
     "text": [
      "\r",
      "[******************    37%                       ]  858 of 2310 completed"
     ]
    },
    {
     "name": "stderr",
     "output_type": "stream",
     "text": [
      "sys:1: ResourceWarning: unclosed socket <zmq.Socket(zmq.PUSH) at 0x7f6d12eaf5e0>\n",
      "ResourceWarning: Enable tracemalloc to get the object allocation traceback\n"
     ]
    },
    {
     "name": "stdout",
     "output_type": "stream",
     "text": [
      "\r",
      "[******************    37%                       ]  859 of 2310 completed"
     ]
    },
    {
     "name": "stderr",
     "output_type": "stream",
     "text": [
      "sys:1: ResourceWarning: unclosed socket <zmq.Socket(zmq.PUSH) at 0x7f6d11cbf940>\n",
      "ResourceWarning: Enable tracemalloc to get the object allocation traceback\n"
     ]
    },
    {
     "name": "stdout",
     "output_type": "stream",
     "text": [
      "[******************    37%                       ]  862 of 2310 completed"
     ]
    },
    {
     "name": "stderr",
     "output_type": "stream",
     "text": [
      "sys:1: ResourceWarning: unclosed socket <zmq.Socket(zmq.PUSH) at 0x7f6d12eaef80>\n",
      "ResourceWarning: Enable tracemalloc to get the object allocation traceback\n",
      "sys:1: ResourceWarning: unclosed socket <zmq.Socket(zmq.PUSH) at 0x7f6d12e9fb20>\n",
      "ResourceWarning: Enable tracemalloc to get the object allocation traceback\n",
      "sys:1: ResourceWarning: unclosed socket <zmq.Socket(zmq.PUSH) at 0x7f6d11ccbee0>\n",
      "ResourceWarning: Enable tracemalloc to get the object allocation traceback\n"
     ]
    },
    {
     "name": "stdout",
     "output_type": "stream",
     "text": [
      "[******************    37%                       ]  865 of 2310 completed"
     ]
    },
    {
     "name": "stderr",
     "output_type": "stream",
     "text": [
      "sys:1: ResourceWarning: unclosed socket <zmq.Socket(zmq.PUSH) at 0x7f6d12e9fb20>\n",
      "ResourceWarning: Enable tracemalloc to get the object allocation traceback\n",
      "sys:1: ResourceWarning: unclosed socket <zmq.Socket(zmq.PUSH) at 0x7f6d12e9fb20>\n",
      "ResourceWarning: Enable tracemalloc to get the object allocation traceback\n",
      "sys:1: ResourceWarning: unclosed socket <zmq.Socket(zmq.PUSH) at 0x7f6d11cbfc40>\n",
      "ResourceWarning: Enable tracemalloc to get the object allocation traceback\n"
     ]
    },
    {
     "name": "stdout",
     "output_type": "stream",
     "text": [
      "\r",
      "[******************    37%                       ]  866 of 2310 completed"
     ]
    },
    {
     "name": "stderr",
     "output_type": "stream",
     "text": [
      "sys:1: ResourceWarning: unclosed socket <zmq.Socket(zmq.PUSH) at 0x7f6d11ccbb80>\n",
      "ResourceWarning: Enable tracemalloc to get the object allocation traceback\n"
     ]
    },
    {
     "name": "stdout",
     "output_type": "stream",
     "text": [
      "\r",
      "[******************    38%                       ]  867 of 2310 completed"
     ]
    },
    {
     "name": "stderr",
     "output_type": "stream",
     "text": [
      "sys:1: ResourceWarning: unclosed socket <zmq.Socket(zmq.PUSH) at 0x7f6d11bea140>\n",
      "ResourceWarning: Enable tracemalloc to get the object allocation traceback\n"
     ]
    },
    {
     "name": "stdout",
     "output_type": "stream",
     "text": [
      "[******************    38%                       ]  870 of 2310 completed"
     ]
    },
    {
     "name": "stderr",
     "output_type": "stream",
     "text": [
      "sys:1: ResourceWarning: unclosed socket <zmq.Socket(zmq.PUSH) at 0x7f6d12ebfe20>\n",
      "ResourceWarning: Enable tracemalloc to get the object allocation traceback\n",
      "sys:1: ResourceWarning: unclosed socket <zmq.Socket(zmq.PUSH) at 0x7f6cd87ebbe0>\n",
      "ResourceWarning: Enable tracemalloc to get the object allocation traceback\n",
      "sys:1: ResourceWarning: unclosed socket <zmq.Socket(zmq.PUSH) at 0x7f6cd87ebbe0>\n",
      "ResourceWarning: Enable tracemalloc to get the object allocation traceback\n"
     ]
    },
    {
     "name": "stdout",
     "output_type": "stream",
     "text": [
      "[******************    38%                       ]  873 of 2310 completed"
     ]
    },
    {
     "name": "stderr",
     "output_type": "stream",
     "text": [
      "sys:1: ResourceWarning: unclosed socket <zmq.Socket(zmq.PUSH) at 0x7f6d11beac20>\n",
      "ResourceWarning: Enable tracemalloc to get the object allocation traceback\n",
      "sys:1: ResourceWarning: unclosed socket <zmq.Socket(zmq.PUSH) at 0x7f6d11cbee00>\n",
      "ResourceWarning: Enable tracemalloc to get the object allocation traceback\n",
      "sys:1: ResourceWarning: unclosed socket <zmq.Socket(zmq.PUSH) at 0x7f6d11ccbee0>\n",
      "ResourceWarning: Enable tracemalloc to get the object allocation traceback\n"
     ]
    },
    {
     "name": "stdout",
     "output_type": "stream",
     "text": [
      "[******************    38%                       ]  877 of 2310 completed"
     ]
    },
    {
     "name": "stderr",
     "output_type": "stream",
     "text": [
      "sys:1: ResourceWarning: unclosed socket <zmq.Socket(zmq.PUSH) at 0x7f6d11ccae60>\n",
      "ResourceWarning: Enable tracemalloc to get the object allocation traceback\n",
      "sys:1: ResourceWarning: unclosed socket <zmq.Socket(zmq.PUSH) at 0x7f6d11ccbb80>\n",
      "ResourceWarning: Enable tracemalloc to get the object allocation traceback\n",
      "sys:1: ResourceWarning: unclosed socket <zmq.Socket(zmq.PUSH) at 0x7f6d11cbee00>\n",
      "ResourceWarning: Enable tracemalloc to get the object allocation traceback\n",
      "sys:1: ResourceWarning: unclosed socket <zmq.Socket(zmq.PUSH) at 0x7f6d11cbe4a0>\n",
      "ResourceWarning: Enable tracemalloc to get the object allocation traceback\n"
     ]
    },
    {
     "name": "stdout",
     "output_type": "stream",
     "text": [
      "[******************    38%                       ]  880 of 2310 completed"
     ]
    },
    {
     "name": "stderr",
     "output_type": "stream",
     "text": [
      "sys:1: ResourceWarning: unclosed socket <zmq.Socket(zmq.PUSH) at 0x7f6d11cbee00>\n",
      "ResourceWarning: Enable tracemalloc to get the object allocation traceback\n",
      "sys:1: ResourceWarning: unclosed socket <zmq.Socket(zmq.PUSH) at 0x7f6d11ccae60>\n",
      "ResourceWarning: Enable tracemalloc to get the object allocation traceback\n",
      "sys:1: ResourceWarning: unclosed socket <zmq.Socket(zmq.PUSH) at 0x7f6d11cdf340>\n",
      "ResourceWarning: Enable tracemalloc to get the object allocation traceback\n"
     ]
    },
    {
     "name": "stdout",
     "output_type": "stream",
     "text": [
      "[******************    38%                       ]  884 of 2310 completed"
     ]
    },
    {
     "name": "stderr",
     "output_type": "stream",
     "text": [
      "sys:1: ResourceWarning: unclosed socket <zmq.Socket(zmq.PUSH) at 0x7f6d12e9fa00>\n",
      "ResourceWarning: Enable tracemalloc to get the object allocation traceback\n",
      "sys:1: ResourceWarning: unclosed socket <zmq.Socket(zmq.PUSH) at 0x7f6d11d25900>\n",
      "ResourceWarning: Enable tracemalloc to get the object allocation traceback\n",
      "sys:1: ResourceWarning: unclosed socket <zmq.Socket(zmq.PUSH) at 0x7f6d11cbf280>\n",
      "ResourceWarning: Enable tracemalloc to get the object allocation traceback\n",
      "sys:1: ResourceWarning: unclosed socket <zmq.Socket(zmq.PUSH) at 0x7f6d12eeb700>\n",
      "ResourceWarning: Enable tracemalloc to get the object allocation traceback\n"
     ]
    },
    {
     "name": "stdout",
     "output_type": "stream",
     "text": [
      "\r",
      "[******************    38%                       ]  885 of 2310 completed"
     ]
    },
    {
     "name": "stderr",
     "output_type": "stream",
     "text": [
      "sys:1: ResourceWarning: unclosed socket <zmq.Socket(zmq.PUSH) at 0x7f6d12eeb580>\n",
      "ResourceWarning: Enable tracemalloc to get the object allocation traceback\n"
     ]
    },
    {
     "name": "stdout",
     "output_type": "stream",
     "text": [
      "\r",
      "[******************    38%                       ]  886 of 2310 completed"
     ]
    },
    {
     "name": "stderr",
     "output_type": "stream",
     "text": [
      "sys:1: ResourceWarning: unclosed socket <zmq.Socket(zmq.PUSH) at 0x7f6d12eeb580>\n",
      "ResourceWarning: Enable tracemalloc to get the object allocation traceback\n"
     ]
    },
    {
     "name": "stdout",
     "output_type": "stream",
     "text": [
      "\r",
      "[******************    38%                       ]  887 of 2310 completed"
     ]
    },
    {
     "name": "stderr",
     "output_type": "stream",
     "text": [
      "sys:1: ResourceWarning: unclosed socket <zmq.Socket(zmq.PUSH) at 0x7f6d12eae8c0>\n",
      "ResourceWarning: Enable tracemalloc to get the object allocation traceback\n"
     ]
    },
    {
     "name": "stdout",
     "output_type": "stream",
     "text": [
      "[*******************   39%                       ]  891 of 2310 completed"
     ]
    },
    {
     "name": "stderr",
     "output_type": "stream",
     "text": [
      "sys:1: ResourceWarning: unclosed socket <zmq.Socket(zmq.PUSH) at 0x7f6d12eae8c0>\n",
      "ResourceWarning: Enable tracemalloc to get the object allocation traceback\n",
      "sys:1: ResourceWarning: unclosed socket <zmq.Socket(zmq.PUSH) at 0x7f6d11cbf280>\n",
      "ResourceWarning: Enable tracemalloc to get the object allocation traceback\n",
      "sys:1: ResourceWarning: unclosed socket <zmq.Socket(zmq.PUSH) at 0x7f6d12eeaec0>\n",
      "ResourceWarning: Enable tracemalloc to get the object allocation traceback\n",
      "sys:1: ResourceWarning: unclosed socket <zmq.Socket(zmq.PUSH) at 0x7f6d12ee9cc0>\n",
      "ResourceWarning: Enable tracemalloc to get the object allocation traceback\n"
     ]
    },
    {
     "name": "stdout",
     "output_type": "stream",
     "text": [
      "[*******************   39%                       ]  893 of 2310 completed"
     ]
    },
    {
     "name": "stderr",
     "output_type": "stream",
     "text": [
      "sys:1: ResourceWarning: unclosed socket <zmq.Socket(zmq.PUSH) at 0x7f6d12e9fb20>\n",
      "ResourceWarning: Enable tracemalloc to get the object allocation traceback\n",
      "sys:1: ResourceWarning: unclosed socket <zmq.Socket(zmq.PUSH) at 0x7f6d12ede920>\n",
      "ResourceWarning: Enable tracemalloc to get the object allocation traceback\n"
     ]
    },
    {
     "name": "stdout",
     "output_type": "stream",
     "text": [
      "\r",
      "[*******************   39%                       ]  894 of 2310 completed"
     ]
    },
    {
     "name": "stderr",
     "output_type": "stream",
     "text": [
      "sys:1: ResourceWarning: unclosed socket <zmq.Socket(zmq.PUSH) at 0x7f6d12ebd4e0>\n",
      "ResourceWarning: Enable tracemalloc to get the object allocation traceback\n"
     ]
    },
    {
     "name": "stdout",
     "output_type": "stream",
     "text": [
      "[*******************   39%                       ]  897 of 2310 completed"
     ]
    },
    {
     "name": "stderr",
     "output_type": "stream",
     "text": [
      "sys:1: ResourceWarning: unclosed socket <zmq.Socket(zmq.PUSH) at 0x7f6d11beba00>\n",
      "ResourceWarning: Enable tracemalloc to get the object allocation traceback\n",
      "sys:1: ResourceWarning: unclosed socket <zmq.Socket(zmq.PUSH) at 0x7f6d11ccbac0>\n",
      "ResourceWarning: Enable tracemalloc to get the object allocation traceback\n",
      "sys:1: ResourceWarning: unclosed socket <zmq.Socket(zmq.PUSH) at 0x7f6d11cbe4a0>\n",
      "ResourceWarning: Enable tracemalloc to get the object allocation traceback\n"
     ]
    },
    {
     "name": "stdout",
     "output_type": "stream",
     "text": [
      "[*******************   39%                       ]  899 of 2310 completed"
     ]
    },
    {
     "name": "stderr",
     "output_type": "stream",
     "text": [
      "sys:1: ResourceWarning: unclosed socket <zmq.Socket(zmq.PUSH) at 0x7f6d11ccbee0>\n",
      "ResourceWarning: Enable tracemalloc to get the object allocation traceback\n",
      "sys:1: ResourceWarning: unclosed socket <zmq.Socket(zmq.PUSH) at 0x7f6d12eaeb60>\n",
      "ResourceWarning: Enable tracemalloc to get the object allocation traceback\n"
     ]
    },
    {
     "name": "stdout",
     "output_type": "stream",
     "text": [
      "[*******************   39%                       ]  901 of 2310 completed"
     ]
    },
    {
     "name": "stderr",
     "output_type": "stream",
     "text": [
      "sys:1: ResourceWarning: unclosed socket <zmq.Socket(zmq.PUSH) at 0x7f6d12eaeb60>\n",
      "ResourceWarning: Enable tracemalloc to get the object allocation traceback\n",
      "sys:1: ResourceWarning: unclosed socket <zmq.Socket(zmq.PUSH) at 0x7f6d12eeb0a0>\n",
      "ResourceWarning: Enable tracemalloc to get the object allocation traceback\n"
     ]
    },
    {
     "name": "stdout",
     "output_type": "stream",
     "text": [
      "\r",
      "[*******************   39%                       ]  902 of 2310 completed"
     ]
    },
    {
     "name": "stderr",
     "output_type": "stream",
     "text": [
      "sys:1: ResourceWarning: unclosed socket <zmq.Socket(zmq.PUSH) at 0x7f6d11d25900>\n",
      "ResourceWarning: Enable tracemalloc to get the object allocation traceback\n"
     ]
    },
    {
     "name": "stdout",
     "output_type": "stream",
     "text": [
      "[*******************   39%                       ]  904 of 2310 completed"
     ]
    },
    {
     "name": "stderr",
     "output_type": "stream",
     "text": [
      "sys:1: ResourceWarning: unclosed socket <zmq.Socket(zmq.PUSH) at 0x7f6d11ccbac0>\n",
      "ResourceWarning: Enable tracemalloc to get the object allocation traceback\n",
      "sys:1: ResourceWarning: unclosed socket <zmq.Socket(zmq.PUSH) at 0x7f6d12eaf4c0>\n",
      "ResourceWarning: Enable tracemalloc to get the object allocation traceback\n"
     ]
    },
    {
     "name": "stdout",
     "output_type": "stream",
     "text": [
      "[*******************   39%                       ]  906 of 2310 completed"
     ]
    },
    {
     "name": "stderr",
     "output_type": "stream",
     "text": [
      "sys:1: ResourceWarning: unclosed socket <zmq.Socket(zmq.PUSH) at 0x7f6d12eaf4c0>\n",
      "ResourceWarning: Enable tracemalloc to get the object allocation traceback\n",
      "sys:1: ResourceWarning: unclosed socket <zmq.Socket(zmq.PUSH) at 0x7f6d12e9fa00>\n",
      "ResourceWarning: Enable tracemalloc to get the object allocation traceback\n"
     ]
    },
    {
     "name": "stdout",
     "output_type": "stream",
     "text": [
      "[*******************   39%                       ]  908 of 2310 completed"
     ]
    },
    {
     "name": "stderr",
     "output_type": "stream",
     "text": [
      "sys:1: ResourceWarning: unclosed socket <zmq.Socket(zmq.PUSH) at 0x7f6d11ccbac0>\n",
      "ResourceWarning: Enable tracemalloc to get the object allocation traceback\n",
      "sys:1: ResourceWarning: unclosed socket <zmq.Socket(zmq.PUSH) at 0x7f6d11cbe4a0>\n",
      "ResourceWarning: Enable tracemalloc to get the object allocation traceback\n"
     ]
    },
    {
     "name": "stdout",
     "output_type": "stream",
     "text": [
      "[*******************   39%                       ]  912 of 2310 completed"
     ]
    },
    {
     "name": "stderr",
     "output_type": "stream",
     "text": [
      "sys:1: ResourceWarning: unclosed socket <zmq.Socket(zmq.PUSH) at 0x7f6d11cca380>\n",
      "ResourceWarning: Enable tracemalloc to get the object allocation traceback\n",
      "sys:1: ResourceWarning: unclosed socket <zmq.Socket(zmq.PUSH) at 0x7f6d11e4fbe0>\n",
      "ResourceWarning: Enable tracemalloc to get the object allocation traceback\n",
      "sys:1: ResourceWarning: unclosed socket <zmq.Socket(zmq.PUSH) at 0x7f6d11be9ba0>\n",
      "ResourceWarning: Enable tracemalloc to get the object allocation traceback\n",
      "sys:1: ResourceWarning: unclosed socket <zmq.Socket(zmq.PUSH) at 0x7f6d12edf160>\n",
      "ResourceWarning: Enable tracemalloc to get the object allocation traceback\n"
     ]
    },
    {
     "name": "stdout",
     "output_type": "stream",
     "text": [
      "[*******************   40%                       ]  915 of 2310 completed"
     ]
    },
    {
     "name": "stderr",
     "output_type": "stream",
     "text": [
      "sys:1: ResourceWarning: unclosed socket <zmq.Socket(zmq.PUSH) at 0x7f6d12edf160>\n",
      "ResourceWarning: Enable tracemalloc to get the object allocation traceback\n",
      "sys:1: ResourceWarning: unclosed socket <zmq.Socket(zmq.PUSH) at 0x7f6d12ebf400>\n",
      "ResourceWarning: Enable tracemalloc to get the object allocation traceback\n",
      "sys:1: ResourceWarning: unclosed socket <zmq.Socket(zmq.PUSH) at 0x7f6d12eeb580>\n",
      "ResourceWarning: Enable tracemalloc to get the object allocation traceback\n"
     ]
    },
    {
     "name": "stdout",
     "output_type": "stream",
     "text": [
      "[*******************   40%                       ]  917 of 2310 completed"
     ]
    },
    {
     "name": "stderr",
     "output_type": "stream",
     "text": [
      "sys:1: ResourceWarning: unclosed socket <zmq.Socket(zmq.PUSH) at 0x7f6d12eeaec0>\n",
      "ResourceWarning: Enable tracemalloc to get the object allocation traceback\n",
      "sys:1: ResourceWarning: unclosed socket <zmq.Socket(zmq.PUSH) at 0x7f6d12eeaec0>\n",
      "ResourceWarning: Enable tracemalloc to get the object allocation traceback\n"
     ]
    },
    {
     "name": "stdout",
     "output_type": "stream",
     "text": [
      "[*******************   40%                       ]  921 of 2310 completed"
     ]
    },
    {
     "name": "stderr",
     "output_type": "stream",
     "text": [
      "sys:1: ResourceWarning: unclosed socket <zmq.Socket(zmq.PUSH) at 0x7f6d12eaeb60>\n",
      "ResourceWarning: Enable tracemalloc to get the object allocation traceback\n",
      "sys:1: ResourceWarning: unclosed socket <zmq.Socket(zmq.PUSH) at 0x7f6d12ef1240>\n",
      "ResourceWarning: Enable tracemalloc to get the object allocation traceback\n",
      "sys:1: ResourceWarning: unclosed socket <zmq.Socket(zmq.PUSH) at 0x7f6d11e4fbe0>\n",
      "ResourceWarning: Enable tracemalloc to get the object allocation traceback\n",
      "sys:1: ResourceWarning: unclosed socket <zmq.Socket(zmq.PUSH) at 0x7f6d12ef2b00>\n",
      "ResourceWarning: Enable tracemalloc to get the object allocation traceback\n"
     ]
    },
    {
     "name": "stdout",
     "output_type": "stream",
     "text": [
      "[*******************   40%                       ]  924 of 2310 completed"
     ]
    },
    {
     "name": "stderr",
     "output_type": "stream",
     "text": [
      "sys:1: ResourceWarning: unclosed socket <zmq.Socket(zmq.PUSH) at 0x7f6d11be9ba0>\n",
      "ResourceWarning: Enable tracemalloc to get the object allocation traceback\n",
      "sys:1: ResourceWarning: unclosed socket <zmq.Socket(zmq.PUSH) at 0x7f6d11cbe4a0>\n",
      "ResourceWarning: Enable tracemalloc to get the object allocation traceback\n",
      "sys:1: ResourceWarning: unclosed socket <zmq.Socket(zmq.PUSH) at 0x7f6d11d25900>\n",
      "ResourceWarning: Enable tracemalloc to get the object allocation traceback\n"
     ]
    },
    {
     "name": "stdout",
     "output_type": "stream",
     "text": [
      "[*******************   40%                       ]  926 of 2310 completed"
     ]
    },
    {
     "name": "stderr",
     "output_type": "stream",
     "text": [
      "sys:1: ResourceWarning: unclosed socket <zmq.Socket(zmq.PUSH) at 0x7f6d12ef0940>\n",
      "ResourceWarning: Enable tracemalloc to get the object allocation traceback\n",
      "sys:1: ResourceWarning: unclosed socket <zmq.Socket(zmq.PUSH) at 0x7f6d12ef3700>\n",
      "ResourceWarning: Enable tracemalloc to get the object allocation traceback\n"
     ]
    },
    {
     "name": "stdout",
     "output_type": "stream",
     "text": [
      "\r",
      "[*******************   40%                       ]  927 of 2310 completed"
     ]
    },
    {
     "name": "stderr",
     "output_type": "stream",
     "text": [
      "sys:1: ResourceWarning: unclosed socket <zmq.Socket(zmq.PUSH) at 0x7f6d12ef3ca0>\n",
      "ResourceWarning: Enable tracemalloc to get the object allocation traceback\n"
     ]
    },
    {
     "name": "stdout",
     "output_type": "stream",
     "text": [
      "[*******************   40%                       ]  930 of 2310 completed"
     ]
    },
    {
     "name": "stderr",
     "output_type": "stream",
     "text": [
      "sys:1: ResourceWarning: unclosed socket <zmq.Socket(zmq.PUSH) at 0x7f6d11c9a9e0>\n",
      "ResourceWarning: Enable tracemalloc to get the object allocation traceback\n",
      "sys:1: ResourceWarning: unclosed socket <zmq.Socket(zmq.PUSH) at 0x7f6d11e4ece0>\n",
      "ResourceWarning: Enable tracemalloc to get the object allocation traceback\n",
      "sys:1: ResourceWarning: unclosed socket <zmq.Socket(zmq.PUSH) at 0x7f6d11ccbac0>\n",
      "ResourceWarning: Enable tracemalloc to get the object allocation traceback\n"
     ]
    },
    {
     "name": "stdout",
     "output_type": "stream",
     "text": [
      "[*******************   40%                       ]  933 of 2310 completed"
     ]
    },
    {
     "name": "stderr",
     "output_type": "stream",
     "text": [
      "sys:1: ResourceWarning: unclosed socket <zmq.Socket(zmq.PUSH) at 0x7f6d11e4f940>\n",
      "ResourceWarning: Enable tracemalloc to get the object allocation traceback\n",
      "sys:1: ResourceWarning: unclosed socket <zmq.Socket(zmq.PUSH) at 0x7f6d11cbe4a0>\n",
      "ResourceWarning: Enable tracemalloc to get the object allocation traceback\n",
      "sys:1: ResourceWarning: unclosed socket <zmq.Socket(zmq.PUSH) at 0x7f6d11ccbac0>\n",
      "ResourceWarning: Enable tracemalloc to get the object allocation traceback\n"
     ]
    },
    {
     "name": "stdout",
     "output_type": "stream",
     "text": [
      "\r",
      "[*******************   40%                       ]  934 of 2310 completed"
     ]
    },
    {
     "name": "stderr",
     "output_type": "stream",
     "text": [
      "sys:1: ResourceWarning: unclosed socket <zmq.Socket(zmq.PUSH) at 0x7f6d12ef9300>\n",
      "ResourceWarning: Enable tracemalloc to get the object allocation traceback\n"
     ]
    },
    {
     "name": "stdout",
     "output_type": "stream",
     "text": [
      "[********************  41%                       ]  936 of 2310 completed"
     ]
    },
    {
     "name": "stderr",
     "output_type": "stream",
     "text": [
      "sys:1: ResourceWarning: unclosed socket <zmq.Socket(zmq.PUSH) at 0x7f6d12ee9cc0>\n",
      "ResourceWarning: Enable tracemalloc to get the object allocation traceback\n",
      "sys:1: ResourceWarning: unclosed socket <zmq.Socket(zmq.PUSH) at 0x7f6d11be9ba0>\n",
      "ResourceWarning: Enable tracemalloc to get the object allocation traceback\n"
     ]
    },
    {
     "name": "stdout",
     "output_type": "stream",
     "text": [
      "\r",
      "[********************  41%                       ]  937 of 2310 completed"
     ]
    },
    {
     "name": "stderr",
     "output_type": "stream",
     "text": [
      "sys:1: ResourceWarning: unclosed socket <zmq.Socket(zmq.PUSH) at 0x7f6d12ef3700>\n",
      "ResourceWarning: Enable tracemalloc to get the object allocation traceback\n"
     ]
    },
    {
     "name": "stdout",
     "output_type": "stream",
     "text": [
      "[********************  41%                       ]  939 of 2310 completed"
     ]
    },
    {
     "name": "stderr",
     "output_type": "stream",
     "text": [
      "sys:1: ResourceWarning: unclosed socket <zmq.Socket(zmq.PUSH) at 0x7f6d12ef3460>\n",
      "ResourceWarning: Enable tracemalloc to get the object allocation traceback\n",
      "sys:1: ResourceWarning: unclosed socket <zmq.Socket(zmq.PUSH) at 0x7f6d11e4fbe0>\n",
      "ResourceWarning: Enable tracemalloc to get the object allocation traceback\n"
     ]
    },
    {
     "name": "stdout",
     "output_type": "stream",
     "text": [
      "\r",
      "[********************  41%                       ]  940 of 2310 completed"
     ]
    },
    {
     "name": "stderr",
     "output_type": "stream",
     "text": [
      "sys:1: ResourceWarning: unclosed socket <zmq.Socket(zmq.PUSH) at 0x7f6d12eaf4c0>\n",
      "ResourceWarning: Enable tracemalloc to get the object allocation traceback\n"
     ]
    },
    {
     "name": "stdout",
     "output_type": "stream",
     "text": [
      "[********************  41%                       ]  942 of 2310 completed"
     ]
    },
    {
     "name": "stderr",
     "output_type": "stream",
     "text": [
      "sys:1: ResourceWarning: unclosed socket <zmq.Socket(zmq.PUSH) at 0x7f6d12ee9cc0>\n",
      "ResourceWarning: Enable tracemalloc to get the object allocation traceback\n",
      "sys:1: ResourceWarning: unclosed socket <zmq.Socket(zmq.PUSH) at 0x7f6d11ccae60>\n",
      "ResourceWarning: Enable tracemalloc to get the object allocation traceback\n"
     ]
    },
    {
     "name": "stdout",
     "output_type": "stream",
     "text": [
      "[********************  41%                       ]  945 of 2310 completed"
     ]
    },
    {
     "name": "stderr",
     "output_type": "stream",
     "text": [
      "sys:1: ResourceWarning: unclosed socket <zmq.Socket(zmq.PUSH) at 0x7f6d12ee9cc0>\n",
      "ResourceWarning: Enable tracemalloc to get the object allocation traceback\n",
      "sys:1: ResourceWarning: unclosed socket <zmq.Socket(zmq.PUSH) at 0x7f6d11e4ec80>\n",
      "ResourceWarning: Enable tracemalloc to get the object allocation traceback\n",
      "sys:1: ResourceWarning: unclosed socket <zmq.Socket(zmq.PUSH) at 0x7f6d12efb820>\n",
      "ResourceWarning: Enable tracemalloc to get the object allocation traceback\n"
     ]
    },
    {
     "name": "stdout",
     "output_type": "stream",
     "text": [
      "[********************  41%                       ]  947 of 2310 completed"
     ]
    },
    {
     "name": "stderr",
     "output_type": "stream",
     "text": [
      "sys:1: ResourceWarning: unclosed socket <zmq.Socket(zmq.PUSH) at 0x7f6d12efafe0>\n",
      "ResourceWarning: Enable tracemalloc to get the object allocation traceback\n",
      "sys:1: ResourceWarning: unclosed socket <zmq.Socket(zmq.PUSH) at 0x7f6d11bebdc0>\n",
      "ResourceWarning: Enable tracemalloc to get the object allocation traceback\n"
     ]
    },
    {
     "name": "stdout",
     "output_type": "stream",
     "text": [
      "\r",
      "[********************  41%                       ]  948 of 2310 completed"
     ]
    },
    {
     "name": "stderr",
     "output_type": "stream",
     "text": [
      "sys:1: ResourceWarning: unclosed socket <zmq.Socket(zmq.PUSH) at 0x7f6d12ebd4e0>\n",
      "ResourceWarning: Enable tracemalloc to get the object allocation traceback\n"
     ]
    },
    {
     "name": "stdout",
     "output_type": "stream",
     "text": [
      "[********************  41%                       ]  950 of 2310 completed"
     ]
    },
    {
     "name": "stderr",
     "output_type": "stream",
     "text": [
      "sys:1: ResourceWarning: unclosed socket <zmq.Socket(zmq.PUSH) at 0x7f6d11e4fbe0>\n",
      "ResourceWarning: Enable tracemalloc to get the object allocation traceback\n",
      "sys:1: ResourceWarning: unclosed socket <zmq.Socket(zmq.PUSH) at 0x7f6d11c1ebc0>\n",
      "ResourceWarning: Enable tracemalloc to get the object allocation traceback\n"
     ]
    },
    {
     "name": "stdout",
     "output_type": "stream",
     "text": [
      "[********************  41%                       ]  953 of 2310 completed"
     ]
    },
    {
     "name": "stderr",
     "output_type": "stream",
     "text": [
      "sys:1: ResourceWarning: unclosed socket <zmq.Socket(zmq.PUSH) at 0x7f6d12edf160>\n",
      "ResourceWarning: Enable tracemalloc to get the object allocation traceback\n",
      "sys:1: ResourceWarning: unclosed socket <zmq.Socket(zmq.PUSH) at 0x7f6d11c1fe20>\n",
      "ResourceWarning: Enable tracemalloc to get the object allocation traceback\n",
      "sys:1: ResourceWarning: unclosed socket <zmq.Socket(zmq.PUSH) at 0x7f6d11c1fa60>\n",
      "ResourceWarning: Enable tracemalloc to get the object allocation traceback\n"
     ]
    },
    {
     "name": "stdout",
     "output_type": "stream",
     "text": [
      "[********************  41%                       ]  955 of 2310 completed"
     ]
    },
    {
     "name": "stderr",
     "output_type": "stream",
     "text": [
      "sys:1: ResourceWarning: unclosed socket <zmq.Socket(zmq.PUSH) at 0x7f6d11c1dd80>\n",
      "ResourceWarning: Enable tracemalloc to get the object allocation traceback\n",
      "sys:1: ResourceWarning: unclosed socket <zmq.Socket(zmq.PUSH) at 0x7f6d12e9fb20>\n",
      "ResourceWarning: Enable tracemalloc to get the object allocation traceback\n"
     ]
    },
    {
     "name": "stdout",
     "output_type": "stream",
     "text": [
      "[********************  41%                       ]  958 of 2310 completed"
     ]
    },
    {
     "name": "stderr",
     "output_type": "stream",
     "text": [
      "sys:1: ResourceWarning: unclosed socket <zmq.Socket(zmq.PUSH) at 0x7f6d12efa200>\n",
      "ResourceWarning: Enable tracemalloc to get the object allocation traceback\n",
      "sys:1: ResourceWarning: unclosed socket <zmq.Socket(zmq.PUSH) at 0x7f6d12efa200>\n",
      "ResourceWarning: Enable tracemalloc to get the object allocation traceback\n",
      "sys:1: ResourceWarning: unclosed socket <zmq.Socket(zmq.PUSH) at 0x7f6d11c1f8e0>\n",
      "ResourceWarning: Enable tracemalloc to get the object allocation traceback\n"
     ]
    },
    {
     "name": "stdout",
     "output_type": "stream",
     "text": [
      "[********************  42%                       ]  960 of 2310 completed"
     ]
    },
    {
     "name": "stderr",
     "output_type": "stream",
     "text": [
      "sys:1: ResourceWarning: unclosed socket <zmq.Socket(zmq.PUSH) at 0x7f6d12efa5c0>\n",
      "ResourceWarning: Enable tracemalloc to get the object allocation traceback\n",
      "sys:1: ResourceWarning: unclosed socket <zmq.Socket(zmq.PUSH) at 0x7f6d12ef3ca0>\n",
      "ResourceWarning: Enable tracemalloc to get the object allocation traceback\n"
     ]
    },
    {
     "name": "stdout",
     "output_type": "stream",
     "text": [
      "[********************  42%                       ]  963 of 2310 completed"
     ]
    },
    {
     "name": "stderr",
     "output_type": "stream",
     "text": [
      "sys:1: ResourceWarning: unclosed socket <zmq.Socket(zmq.PUSH) at 0x7f6d11bcbb20>\n",
      "ResourceWarning: Enable tracemalloc to get the object allocation traceback\n",
      "sys:1: ResourceWarning: unclosed socket <zmq.Socket(zmq.PUSH) at 0x7f6d12efb820>\n",
      "ResourceWarning: Enable tracemalloc to get the object allocation traceback\n",
      "sys:1: ResourceWarning: unclosed socket <zmq.Socket(zmq.PUSH) at 0x7f6d12ef20e0>\n",
      "ResourceWarning: Enable tracemalloc to get the object allocation traceback\n"
     ]
    },
    {
     "name": "stdout",
     "output_type": "stream",
     "text": [
      "[********************  42%                       ]  966 of 2310 completed"
     ]
    },
    {
     "name": "stderr",
     "output_type": "stream",
     "text": [
      "sys:1: ResourceWarning: unclosed socket <zmq.Socket(zmq.PUSH) at 0x7f6d11c1dd80>\n",
      "ResourceWarning: Enable tracemalloc to get the object allocation traceback\n",
      "sys:1: ResourceWarning: unclosed socket <zmq.Socket(zmq.PUSH) at 0x7f6d11c1dd80>\n",
      "ResourceWarning: Enable tracemalloc to get the object allocation traceback\n",
      "sys:1: ResourceWarning: unclosed socket <zmq.Socket(zmq.PUSH) at 0x7f6d11ccbac0>\n",
      "ResourceWarning: Enable tracemalloc to get the object allocation traceback\n"
     ]
    },
    {
     "name": "stdout",
     "output_type": "stream",
     "text": [
      "[********************  42%                       ]  969 of 2310 completed"
     ]
    },
    {
     "name": "stderr",
     "output_type": "stream",
     "text": [
      "sys:1: ResourceWarning: unclosed socket <zmq.Socket(zmq.PUSH) at 0x7f6d11be9ba0>\n",
      "ResourceWarning: Enable tracemalloc to get the object allocation traceback\n",
      "sys:1: ResourceWarning: unclosed socket <zmq.Socket(zmq.PUSH) at 0x7f6d12ef3ca0>\n",
      "ResourceWarning: Enable tracemalloc to get the object allocation traceback\n",
      "sys:1: ResourceWarning: unclosed socket <zmq.Socket(zmq.PUSH) at 0x7f6d11c1ee60>\n",
      "ResourceWarning: Enable tracemalloc to get the object allocation traceback\n"
     ]
    },
    {
     "name": "stdout",
     "output_type": "stream",
     "text": [
      "\r",
      "[********************  42%                       ]  970 of 2310 completed"
     ]
    },
    {
     "name": "stderr",
     "output_type": "stream",
     "text": [
      "sys:1: ResourceWarning: unclosed socket <zmq.Socket(zmq.PUSH) at 0x7f6d11c1ee60>\n",
      "ResourceWarning: Enable tracemalloc to get the object allocation traceback\n"
     ]
    },
    {
     "name": "stdout",
     "output_type": "stream",
     "text": [
      "[********************  42%                       ]  974 of 2310 completed"
     ]
    },
    {
     "name": "stderr",
     "output_type": "stream",
     "text": [
      "sys:1: ResourceWarning: unclosed socket <zmq.Socket(zmq.PUSH) at 0x7f6d11c1f8e0>\n",
      "ResourceWarning: Enable tracemalloc to get the object allocation traceback\n",
      "sys:1: ResourceWarning: unclosed socket <zmq.Socket(zmq.PUSH) at 0x7f6d11c9a9e0>\n",
      "ResourceWarning: Enable tracemalloc to get the object allocation traceback\n",
      "sys:1: ResourceWarning: unclosed socket <zmq.Socket(zmq.PUSH) at 0x7f6d12eeb700>\n",
      "ResourceWarning: Enable tracemalloc to get the object allocation traceback\n",
      "sys:1: ResourceWarning: unclosed socket <zmq.Socket(zmq.PUSH) at 0x7f6d11c1dd80>\n",
      "ResourceWarning: Enable tracemalloc to get the object allocation traceback\n"
     ]
    },
    {
     "name": "stdout",
     "output_type": "stream",
     "text": [
      "[********************  42%                       ]  977 of 2310 completed"
     ]
    },
    {
     "name": "stderr",
     "output_type": "stream",
     "text": [
      "sys:1: ResourceWarning: unclosed socket <zmq.Socket(zmq.PUSH) at 0x7f6d11be9ba0>\n",
      "ResourceWarning: Enable tracemalloc to get the object allocation traceback\n",
      "sys:1: ResourceWarning: unclosed socket <zmq.Socket(zmq.PUSH) at 0x7f6d11be9ba0>\n",
      "ResourceWarning: Enable tracemalloc to get the object allocation traceback\n",
      "sys:1: ResourceWarning: unclosed socket <zmq.Socket(zmq.PUSH) at 0x7f6d12ef0880>\n",
      "ResourceWarning: Enable tracemalloc to get the object allocation traceback\n"
     ]
    },
    {
     "name": "stdout",
     "output_type": "stream",
     "text": [
      "\r",
      "[********************  42%                       ]  978 of 2310 completed"
     ]
    },
    {
     "name": "stderr",
     "output_type": "stream",
     "text": [
      "sys:1: ResourceWarning: unclosed socket <zmq.Socket(zmq.PUSH) at 0x7f6d12ef20e0>\n",
      "ResourceWarning: Enable tracemalloc to get the object allocation traceback\n"
     ]
    },
    {
     "name": "stdout",
     "output_type": "stream",
     "text": [
      "[********************* 43%                       ]  982 of 2310 completed"
     ]
    },
    {
     "name": "stderr",
     "output_type": "stream",
     "text": [
      "sys:1: ResourceWarning: unclosed socket <zmq.Socket(zmq.PUSH) at 0x7f6d11ccbac0>\n",
      "ResourceWarning: Enable tracemalloc to get the object allocation traceback\n",
      "sys:1: ResourceWarning: unclosed socket <zmq.Socket(zmq.PUSH) at 0x7f6d11bcba60>\n",
      "ResourceWarning: Enable tracemalloc to get the object allocation traceback\n",
      "sys:1: ResourceWarning: unclosed socket <zmq.Socket(zmq.PUSH) at 0x7f6d11ccbac0>\n",
      "ResourceWarning: Enable tracemalloc to get the object allocation traceback\n",
      "sys:1: ResourceWarning: unclosed socket <zmq.Socket(zmq.PUSH) at 0x7f6d11bcb100>\n",
      "ResourceWarning: Enable tracemalloc to get the object allocation traceback\n"
     ]
    },
    {
     "name": "stdout",
     "output_type": "stream",
     "text": [
      "[********************* 43%                       ]  986 of 2310 completed"
     ]
    },
    {
     "name": "stderr",
     "output_type": "stream",
     "text": [
      "sys:1: ResourceWarning: unclosed socket <zmq.Socket(zmq.PUSH) at 0x7f6d11bcb700>\n",
      "ResourceWarning: Enable tracemalloc to get the object allocation traceback\n",
      "sys:1: ResourceWarning: unclosed socket <zmq.Socket(zmq.PUSH) at 0x7f6d11c1fb20>\n",
      "ResourceWarning: Enable tracemalloc to get the object allocation traceback\n",
      "sys:1: ResourceWarning: unclosed socket <zmq.Socket(zmq.PUSH) at 0x7f6d11ccbac0>\n",
      "ResourceWarning: Enable tracemalloc to get the object allocation traceback\n",
      "sys:1: ResourceWarning: unclosed socket <zmq.Socket(zmq.PUSH) at 0x7f6d12ef0880>\n",
      "ResourceWarning: Enable tracemalloc to get the object allocation traceback\n"
     ]
    },
    {
     "name": "stdout",
     "output_type": "stream",
     "text": [
      "[********************* 43%                       ]  988 of 2310 completed"
     ]
    },
    {
     "name": "stderr",
     "output_type": "stream",
     "text": [
      "sys:1: ResourceWarning: unclosed socket <zmq.Socket(zmq.PUSH) at 0x7f6d12ef3ca0>\n",
      "ResourceWarning: Enable tracemalloc to get the object allocation traceback\n",
      "sys:1: ResourceWarning: unclosed socket <zmq.Socket(zmq.PUSH) at 0x7f6d11c9a9e0>\n",
      "ResourceWarning: Enable tracemalloc to get the object allocation traceback\n"
     ]
    },
    {
     "name": "stdout",
     "output_type": "stream",
     "text": [
      "\r",
      "[********************* 43%                       ]  989 of 2310 completed"
     ]
    },
    {
     "name": "stderr",
     "output_type": "stream",
     "text": [
      "sys:1: ResourceWarning: unclosed socket <zmq.Socket(zmq.PUSH) at 0x7f6d11bcb160>\n",
      "ResourceWarning: Enable tracemalloc to get the object allocation traceback\n"
     ]
    },
    {
     "name": "stdout",
     "output_type": "stream",
     "text": [
      "\r",
      "[********************* 43%                       ]  990 of 2310 completed"
     ]
    },
    {
     "name": "stderr",
     "output_type": "stream",
     "text": [
      "sys:1: ResourceWarning: unclosed socket <zmq.Socket(zmq.PUSH) at 0x7f6d11e4f9a0>\n",
      "ResourceWarning: Enable tracemalloc to get the object allocation traceback\n"
     ]
    },
    {
     "name": "stdout",
     "output_type": "stream",
     "text": [
      "[********************* 43%                       ]  993 of 2310 completed"
     ]
    },
    {
     "name": "stderr",
     "output_type": "stream",
     "text": [
      "sys:1: ResourceWarning: unclosed socket <zmq.Socket(zmq.PUSH) at 0x7f6d11a779a0>\n",
      "ResourceWarning: Enable tracemalloc to get the object allocation traceback\n",
      "sys:1: ResourceWarning: unclosed socket <zmq.Socket(zmq.PUSH) at 0x7f6d12ef3be0>\n",
      "ResourceWarning: Enable tracemalloc to get the object allocation traceback\n",
      "sys:1: ResourceWarning: unclosed socket <zmq.Socket(zmq.PUSH) at 0x7f6d12ef32e0>\n",
      "ResourceWarning: Enable tracemalloc to get the object allocation traceback\n"
     ]
    },
    {
     "name": "stdout",
     "output_type": "stream",
     "text": [
      "[********************* 43%                       ]  995 of 2310 completed"
     ]
    },
    {
     "name": "stderr",
     "output_type": "stream",
     "text": [
      "sys:1: ResourceWarning: unclosed socket <zmq.Socket(zmq.PUSH) at 0x7f6d11a779a0>\n",
      "ResourceWarning: Enable tracemalloc to get the object allocation traceback\n",
      "sys:1: ResourceWarning: unclosed socket <zmq.Socket(zmq.PUSH) at 0x7f6d12ef3520>\n",
      "ResourceWarning: Enable tracemalloc to get the object allocation traceback\n"
     ]
    },
    {
     "name": "stdout",
     "output_type": "stream",
     "text": [
      "[********************* 43%                       ]  997 of 2310 completed"
     ]
    },
    {
     "name": "stderr",
     "output_type": "stream",
     "text": [
      "sys:1: ResourceWarning: unclosed socket <zmq.Socket(zmq.PUSH) at 0x7f6d11be9ba0>\n",
      "ResourceWarning: Enable tracemalloc to get the object allocation traceback\n",
      "sys:1: ResourceWarning: unclosed socket <zmq.Socket(zmq.PUSH) at 0x7f6d11a77700>\n",
      "ResourceWarning: Enable tracemalloc to get the object allocation traceback\n"
     ]
    },
    {
     "name": "stdout",
     "output_type": "stream",
     "text": [
      "\r",
      "[********************* 43%                       ]  998 of 2310 completed"
     ]
    },
    {
     "name": "stderr",
     "output_type": "stream",
     "text": [
      "sys:1: ResourceWarning: unclosed socket <zmq.Socket(zmq.PUSH) at 0x7f6d11a766e0>\n",
      "ResourceWarning: Enable tracemalloc to get the object allocation traceback\n"
     ]
    },
    {
     "name": "stdout",
     "output_type": "stream",
     "text": [
      "[********************* 43%                       ]  1001 of 2310 completed"
     ]
    },
    {
     "name": "stderr",
     "output_type": "stream",
     "text": [
      "sys:1: ResourceWarning: unclosed socket <zmq.Socket(zmq.PUSH) at 0x7f6d11a766e0>\n",
      "ResourceWarning: Enable tracemalloc to get the object allocation traceback\n",
      "sys:1: ResourceWarning: unclosed socket <zmq.Socket(zmq.PUSH) at 0x7f6d11bcb100>\n",
      "ResourceWarning: Enable tracemalloc to get the object allocation traceback\n",
      "sys:1: ResourceWarning: unclosed socket <zmq.Socket(zmq.PUSH) at 0x7f6d12efafe0>\n",
      "ResourceWarning: Enable tracemalloc to get the object allocation traceback\n"
     ]
    },
    {
     "name": "stdout",
     "output_type": "stream",
     "text": [
      "[********************* 43%                       ]  1003 of 2310 completed"
     ]
    },
    {
     "name": "stderr",
     "output_type": "stream",
     "text": [
      "sys:1: ResourceWarning: unclosed socket <zmq.Socket(zmq.PUSH) at 0x7f6d12efa200>\n",
      "ResourceWarning: Enable tracemalloc to get the object allocation traceback\n",
      "sys:1: ResourceWarning: unclosed socket <zmq.Socket(zmq.PUSH) at 0x7f6d12ef2b00>\n",
      "ResourceWarning: Enable tracemalloc to get the object allocation traceback\n"
     ]
    },
    {
     "name": "stdout",
     "output_type": "stream",
     "text": [
      "[********************* 44%                       ]  1006 of 2310 completed"
     ]
    },
    {
     "name": "stderr",
     "output_type": "stream",
     "text": [
      "sys:1: ResourceWarning: unclosed socket <zmq.Socket(zmq.PUSH) at 0x7f6d11aa3be0>\n",
      "ResourceWarning: Enable tracemalloc to get the object allocation traceback\n",
      "sys:1: ResourceWarning: unclosed socket <zmq.Socket(zmq.PUSH) at 0x7f6d12ef32e0>\n",
      "ResourceWarning: Enable tracemalloc to get the object allocation traceback\n",
      "sys:1: ResourceWarning: unclosed socket <zmq.Socket(zmq.PUSH) at 0x7f6d12ef32e0>\n",
      "ResourceWarning: Enable tracemalloc to get the object allocation traceback\n"
     ]
    },
    {
     "name": "stdout",
     "output_type": "stream",
     "text": [
      "[********************* 44%                       ]  1008 of 2310 completed"
     ]
    },
    {
     "name": "stderr",
     "output_type": "stream",
     "text": [
      "sys:1: ResourceWarning: unclosed socket <zmq.Socket(zmq.PUSH) at 0x7f6d11bcbbe0>\n",
      "ResourceWarning: Enable tracemalloc to get the object allocation traceback\n",
      "sys:1: ResourceWarning: unclosed socket <zmq.Socket(zmq.PUSH) at 0x7f6d12ef20e0>\n",
      "ResourceWarning: Enable tracemalloc to get the object allocation traceback\n"
     ]
    },
    {
     "name": "stdout",
     "output_type": "stream",
     "text": [
      "[********************* 44%                       ]  1010 of 2310 completed"
     ]
    },
    {
     "name": "stderr",
     "output_type": "stream",
     "text": [
      "sys:1: ResourceWarning: unclosed socket <zmq.Socket(zmq.PUSH) at 0x7f6d12ef2980>\n",
      "ResourceWarning: Enable tracemalloc to get the object allocation traceback\n",
      "sys:1: ResourceWarning: unclosed socket <zmq.Socket(zmq.PUSH) at 0x7f6d11bcbbe0>\n",
      "ResourceWarning: Enable tracemalloc to get the object allocation traceback\n"
     ]
    },
    {
     "name": "stdout",
     "output_type": "stream",
     "text": [
      "\r",
      "[********************* 44%                       ]  1011 of 2310 completed"
     ]
    },
    {
     "name": "stderr",
     "output_type": "stream",
     "text": [
      "sys:1: ResourceWarning: unclosed socket <zmq.Socket(zmq.PUSH) at 0x7f6d11a77280>\n",
      "ResourceWarning: Enable tracemalloc to get the object allocation traceback\n"
     ]
    },
    {
     "name": "stdout",
     "output_type": "stream",
     "text": [
      "[********************* 44%                       ]  1013 of 2310 completed"
     ]
    },
    {
     "name": "stderr",
     "output_type": "stream",
     "text": [
      "sys:1: ResourceWarning: unclosed socket <zmq.Socket(zmq.PUSH) at 0x7f6d11ccae60>\n",
      "ResourceWarning: Enable tracemalloc to get the object allocation traceback\n",
      "sys:1: ResourceWarning: unclosed socket <zmq.Socket(zmq.PUSH) at 0x7f6d12efb100>\n",
      "ResourceWarning: Enable tracemalloc to get the object allocation traceback\n"
     ]
    },
    {
     "name": "stdout",
     "output_type": "stream",
     "text": [
      "\r",
      "[********************* 44%                       ]  1014 of 2310 completed"
     ]
    },
    {
     "name": "stderr",
     "output_type": "stream",
     "text": [
      "sys:1: ResourceWarning: unclosed socket <zmq.Socket(zmq.PUSH) at 0x7f6d11aa3a60>\n",
      "ResourceWarning: Enable tracemalloc to get the object allocation traceback\n"
     ]
    },
    {
     "name": "stdout",
     "output_type": "stream",
     "text": [
      "[********************* 44%                       ]  1018 of 2310 completed"
     ]
    },
    {
     "name": "stderr",
     "output_type": "stream",
     "text": [
      "sys:1: ResourceWarning: unclosed socket <zmq.Socket(zmq.PUSH) at 0x7f6d11a779a0>\n",
      "ResourceWarning: Enable tracemalloc to get the object allocation traceback\n",
      "sys:1: ResourceWarning: unclosed socket <zmq.Socket(zmq.PUSH) at 0x7f6d11bcbbe0>\n",
      "ResourceWarning: Enable tracemalloc to get the object allocation traceback\n",
      "sys:1: ResourceWarning: unclosed socket <zmq.Socket(zmq.PUSH) at 0x7f6d11bcab00>\n",
      "ResourceWarning: Enable tracemalloc to get the object allocation traceback\n",
      "sys:1: ResourceWarning: unclosed socket <zmq.Socket(zmq.PUSH) at 0x7f6d11a75660>\n",
      "ResourceWarning: Enable tracemalloc to get the object allocation traceback\n"
     ]
    },
    {
     "name": "stdout",
     "output_type": "stream",
     "text": [
      "\r",
      "[********************* 44%                       ]  1019 of 2310 completed"
     ]
    },
    {
     "name": "stderr",
     "output_type": "stream",
     "text": [
      "sys:1: ResourceWarning: unclosed socket <zmq.Socket(zmq.PUSH) at 0x7f6d11a77ca0>\n",
      "ResourceWarning: Enable tracemalloc to get the object allocation traceback\n"
     ]
    },
    {
     "name": "stdout",
     "output_type": "stream",
     "text": [
      "[********************* 44%                       ]  1021 of 2310 completed"
     ]
    },
    {
     "name": "stderr",
     "output_type": "stream",
     "text": [
      "sys:1: ResourceWarning: unclosed socket <zmq.Socket(zmq.PUSH) at 0x7f6d11a77f40>\n",
      "ResourceWarning: Enable tracemalloc to get the object allocation traceback\n",
      "sys:1: ResourceWarning: unclosed socket <zmq.Socket(zmq.PUSH) at 0x7f6d11c57e20>\n",
      "ResourceWarning: Enable tracemalloc to get the object allocation traceback\n"
     ]
    },
    {
     "name": "stdout",
     "output_type": "stream",
     "text": [
      "\r",
      "[********************* 44%                       ]  1022 of 2310 completed"
     ]
    },
    {
     "name": "stderr",
     "output_type": "stream",
     "text": [
      "sys:1: ResourceWarning: unclosed socket <zmq.Socket(zmq.PUSH) at 0x7f6d11bcba60>\n",
      "ResourceWarning: Enable tracemalloc to get the object allocation traceback\n"
     ]
    },
    {
     "name": "stdout",
     "output_type": "stream",
     "text": [
      "[********************* 44%                       ]  1025 of 2310 completed"
     ]
    },
    {
     "name": "stderr",
     "output_type": "stream",
     "text": [
      "sys:1: ResourceWarning: unclosed socket <zmq.Socket(zmq.PUSH) at 0x7f6d11aa0fa0>\n",
      "ResourceWarning: Enable tracemalloc to get the object allocation traceback\n",
      "sys:1: ResourceWarning: unclosed socket <zmq.Socket(zmq.PUSH) at 0x7f6d11c577c0>\n",
      "ResourceWarning: Enable tracemalloc to get the object allocation traceback\n",
      "sys:1: ResourceWarning: unclosed socket <zmq.Socket(zmq.PUSH) at 0x7f6d11aa33a0>\n",
      "ResourceWarning: Enable tracemalloc to get the object allocation traceback\n"
     ]
    },
    {
     "name": "stdout",
     "output_type": "stream",
     "text": [
      "\r",
      "[********************* 44%                       ]  1026 of 2310 completed"
     ]
    },
    {
     "name": "stderr",
     "output_type": "stream",
     "text": [
      "sys:1: ResourceWarning: unclosed socket <zmq.Socket(zmq.PUSH) at 0x7f6d11aa2aa0>\n",
      "ResourceWarning: Enable tracemalloc to get the object allocation traceback\n"
     ]
    },
    {
     "name": "stdout",
     "output_type": "stream",
     "text": [
      "[**********************45%                       ]  1028 of 2310 completed"
     ]
    },
    {
     "name": "stderr",
     "output_type": "stream",
     "text": [
      "sys:1: ResourceWarning: unclosed socket <zmq.Socket(zmq.PUSH) at 0x7f6d11c57ee0>\n",
      "ResourceWarning: Enable tracemalloc to get the object allocation traceback\n",
      "sys:1: ResourceWarning: unclosed socket <zmq.Socket(zmq.PUSH) at 0x7f6d11aa2aa0>\n",
      "ResourceWarning: Enable tracemalloc to get the object allocation traceback\n"
     ]
    },
    {
     "name": "stdout",
     "output_type": "stream",
     "text": [
      "[**********************45%                       ]  1030 of 2310 completed"
     ]
    },
    {
     "name": "stderr",
     "output_type": "stream",
     "text": [
      "sys:1: ResourceWarning: unclosed socket <zmq.Socket(zmq.PUSH) at 0x7f6d11aa23e0>\n",
      "ResourceWarning: Enable tracemalloc to get the object allocation traceback\n",
      "sys:1: ResourceWarning: unclosed socket <zmq.Socket(zmq.PUSH) at 0x7f6d11aa23e0>\n",
      "ResourceWarning: Enable tracemalloc to get the object allocation traceback\n"
     ]
    },
    {
     "name": "stdout",
     "output_type": "stream",
     "text": [
      "[**********************45%                       ]  1032 of 2310 completed"
     ]
    },
    {
     "name": "stderr",
     "output_type": "stream",
     "text": [
      "sys:1: ResourceWarning: unclosed socket <zmq.Socket(zmq.PUSH) at 0x7f6d11a77ca0>\n",
      "ResourceWarning: Enable tracemalloc to get the object allocation traceback\n",
      "sys:1: ResourceWarning: unclosed socket <zmq.Socket(zmq.PUSH) at 0x7f6d11c9a9e0>\n",
      "ResourceWarning: Enable tracemalloc to get the object allocation traceback\n",
      "sys:1: ResourceWarning: unclosed socket <zmq.Socket(zmq.PUSH) at 0x7f6d12efb820>\n",
      "ResourceWarning: Enable tracemalloc to get the object allocation traceback\n"
     ]
    },
    {
     "name": "stdout",
     "output_type": "stream",
     "text": [
      "\r",
      "[**********************45%                       ]  1034 of 2310 completed"
     ]
    },
    {
     "name": "stderr",
     "output_type": "stream",
     "text": [
      "sys:1: ResourceWarning: unclosed socket <zmq.Socket(zmq.PUSH) at 0x7f6d11c9a9e0>\n",
      "ResourceWarning: Enable tracemalloc to get the object allocation traceback\n"
     ]
    },
    {
     "name": "stdout",
     "output_type": "stream",
     "text": [
      "[**********************45%                       ]  1036 of 2310 completed"
     ]
    },
    {
     "name": "stderr",
     "output_type": "stream",
     "text": [
      "sys:1: ResourceWarning: unclosed socket <zmq.Socket(zmq.PUSH) at 0x7f6d11c57e20>\n",
      "ResourceWarning: Enable tracemalloc to get the object allocation traceback\n",
      "sys:1: ResourceWarning: unclosed socket <zmq.Socket(zmq.PUSH) at 0x7f6d11c553c0>\n",
      "ResourceWarning: Enable tracemalloc to get the object allocation traceback\n"
     ]
    },
    {
     "name": "stdout",
     "output_type": "stream",
     "text": [
      "[**********************45%                       ]  1038 of 2310 completed"
     ]
    },
    {
     "name": "stderr",
     "output_type": "stream",
     "text": [
      "sys:1: ResourceWarning: unclosed socket <zmq.Socket(zmq.PUSH) at 0x7f6d11aa35e0>\n",
      "ResourceWarning: Enable tracemalloc to get the object allocation traceback\n",
      "sys:1: ResourceWarning: unclosed socket <zmq.Socket(zmq.PUSH) at 0x7f6d11c559c0>\n",
      "ResourceWarning: Enable tracemalloc to get the object allocation traceback\n"
     ]
    },
    {
     "name": "stdout",
     "output_type": "stream",
     "text": [
      "[**********************45%                       ]  1041 of 2310 completed"
     ]
    },
    {
     "name": "stderr",
     "output_type": "stream",
     "text": [
      "sys:1: ResourceWarning: unclosed socket <zmq.Socket(zmq.PUSH) at 0x7f6d11aa2aa0>\n",
      "ResourceWarning: Enable tracemalloc to get the object allocation traceback\n",
      "sys:1: ResourceWarning: unclosed socket <zmq.Socket(zmq.PUSH) at 0x7f6d11c559c0>\n",
      "ResourceWarning: Enable tracemalloc to get the object allocation traceback\n",
      "sys:1: ResourceWarning: unclosed socket <zmq.Socket(zmq.PUSH) at 0x7f6d11c57b80>\n",
      "ResourceWarning: Enable tracemalloc to get the object allocation traceback\n"
     ]
    },
    {
     "name": "stdout",
     "output_type": "stream",
     "text": [
      "\r",
      "[**********************45%                       ]  1042 of 2310 completed"
     ]
    },
    {
     "name": "stderr",
     "output_type": "stream",
     "text": [
      "sys:1: ResourceWarning: unclosed socket <zmq.Socket(zmq.PUSH) at 0x7f6d12f16800>\n",
      "ResourceWarning: Enable tracemalloc to get the object allocation traceback\n"
     ]
    },
    {
     "name": "stdout",
     "output_type": "stream",
     "text": [
      "[**********************45%                       ]  1045 of 2310 completed"
     ]
    },
    {
     "name": "stderr",
     "output_type": "stream",
     "text": [
      "sys:1: ResourceWarning: unclosed socket <zmq.Socket(zmq.PUSH) at 0x7f6d12ef0e20>\n",
      "ResourceWarning: Enable tracemalloc to get the object allocation traceback\n",
      "sys:1: ResourceWarning: unclosed socket <zmq.Socket(zmq.PUSH) at 0x7f6d11bcbbe0>\n",
      "ResourceWarning: Enable tracemalloc to get the object allocation traceback\n",
      "sys:1: ResourceWarning: unclosed socket <zmq.Socket(zmq.PUSH) at 0x7f6d12ef2b00>\n",
      "ResourceWarning: Enable tracemalloc to get the object allocation traceback\n"
     ]
    },
    {
     "name": "stdout",
     "output_type": "stream",
     "text": [
      "\r",
      "[**********************45%                       ]  1046 of 2310 completed"
     ]
    },
    {
     "name": "stderr",
     "output_type": "stream",
     "text": [
      "sys:1: ResourceWarning: unclosed socket <zmq.Socket(zmq.PUSH) at 0x7f6d11bcb100>\n",
      "ResourceWarning: Enable tracemalloc to get the object allocation traceback\n"
     ]
    },
    {
     "name": "stdout",
     "output_type": "stream",
     "text": [
      "[**********************45%                       ]  1049 of 2310 completed"
     ]
    },
    {
     "name": "stderr",
     "output_type": "stream",
     "text": [
      "sys:1: ResourceWarning: unclosed socket <zmq.Socket(zmq.PUSH) at 0x7f6d11ccae60>\n",
      "ResourceWarning: Enable tracemalloc to get the object allocation traceback\n",
      "sys:1: ResourceWarning: unclosed socket <zmq.Socket(zmq.PUSH) at 0x7f6d11c57ac0>\n",
      "ResourceWarning: Enable tracemalloc to get the object allocation traceback\n",
      "sys:1: ResourceWarning: unclosed socket <zmq.Socket(zmq.PUSH) at 0x7f6d12efb820>\n",
      "ResourceWarning: Enable tracemalloc to get the object allocation traceback\n"
     ]
    },
    {
     "name": "stdout",
     "output_type": "stream",
     "text": [
      "[**********************45%                       ]  1051 of 2310 completed"
     ]
    },
    {
     "name": "stderr",
     "output_type": "stream",
     "text": [
      "sys:1: ResourceWarning: unclosed socket <zmq.Socket(zmq.PUSH) at 0x7f6d11c57e20>\n",
      "ResourceWarning: Enable tracemalloc to get the object allocation traceback\n",
      "sys:1: ResourceWarning: unclosed socket <zmq.Socket(zmq.PUSH) at 0x7f6d11aa35e0>\n",
      "ResourceWarning: Enable tracemalloc to get the object allocation traceback\n"
     ]
    },
    {
     "name": "stdout",
     "output_type": "stream",
     "text": [
      "[**********************46%                       ]  1054 of 2310 completed"
     ]
    },
    {
     "name": "stderr",
     "output_type": "stream",
     "text": [
      "sys:1: ResourceWarning: unclosed socket <zmq.Socket(zmq.PUSH) at 0x7f6d11c554e0>\n",
      "ResourceWarning: Enable tracemalloc to get the object allocation traceback\n",
      "sys:1: ResourceWarning: unclosed socket <zmq.Socket(zmq.PUSH) at 0x7f6d11a75660>\n",
      "ResourceWarning: Enable tracemalloc to get the object allocation traceback\n",
      "sys:1: ResourceWarning: unclosed socket <zmq.Socket(zmq.PUSH) at 0x7f6d11c553c0>\n",
      "ResourceWarning: Enable tracemalloc to get the object allocation traceback\n"
     ]
    },
    {
     "name": "stdout",
     "output_type": "stream",
     "text": [
      "\r",
      "[**********************46%                       ]  1055 of 2310 completed"
     ]
    },
    {
     "name": "stderr",
     "output_type": "stream",
     "text": [
      "sys:1: ResourceWarning: unclosed socket <zmq.Socket(zmq.PUSH) at 0x7f6d12f15e40>\n",
      "ResourceWarning: Enable tracemalloc to get the object allocation traceback\n"
     ]
    },
    {
     "name": "stdout",
     "output_type": "stream",
     "text": [
      "[**********************46%                       ]  1057 of 2310 completed"
     ]
    },
    {
     "name": "stderr",
     "output_type": "stream",
     "text": [
      "sys:1: ResourceWarning: unclosed socket <zmq.Socket(zmq.PUSH) at 0x7f6d12f25960>\n",
      "ResourceWarning: Enable tracemalloc to get the object allocation traceback\n",
      "sys:1: ResourceWarning: unclosed socket <zmq.Socket(zmq.PUSH) at 0x7f6d11aa35e0>\n",
      "ResourceWarning: Enable tracemalloc to get the object allocation traceback\n"
     ]
    },
    {
     "name": "stdout",
     "output_type": "stream",
     "text": [
      "[**********************46%                       ]  1060 of 2310 completed"
     ]
    },
    {
     "name": "stderr",
     "output_type": "stream",
     "text": [
      "sys:1: ResourceWarning: unclosed socket <zmq.Socket(zmq.PUSH) at 0x7f6d12ef0e20>\n",
      "ResourceWarning: Enable tracemalloc to get the object allocation traceback\n",
      "sys:1: ResourceWarning: unclosed socket <zmq.Socket(zmq.PUSH) at 0x7f6d11c57fa0>\n",
      "ResourceWarning: Enable tracemalloc to get the object allocation traceback\n",
      "sys:1: ResourceWarning: unclosed socket <zmq.Socket(zmq.PUSH) at 0x7f6d12f14820>\n",
      "ResourceWarning: Enable tracemalloc to get the object allocation traceback\n",
      "sys:1: ResourceWarning: unclosed socket <zmq.Socket(zmq.PUSH) at 0x7f6d12ef2b00>\n",
      "ResourceWarning: Enable tracemalloc to get the object allocation traceback\n"
     ]
    },
    {
     "name": "stdout",
     "output_type": "stream",
     "text": [
      "\r",
      "[**********************46%                       ]  1062 of 2310 completed"
     ]
    },
    {
     "name": "stderr",
     "output_type": "stream",
     "text": [
      "sys:1: ResourceWarning: unclosed socket <zmq.Socket(zmq.PUSH) at 0x7f6d12f17760>\n",
      "ResourceWarning: Enable tracemalloc to get the object allocation traceback\n"
     ]
    },
    {
     "name": "stdout",
     "output_type": "stream",
     "text": [
      "[**********************46%                       ]  1064 of 2310 completed"
     ]
    },
    {
     "name": "stderr",
     "output_type": "stream",
     "text": [
      "sys:1: ResourceWarning: unclosed socket <zmq.Socket(zmq.PUSH) at 0x7f6d12efb820>\n",
      "ResourceWarning: Enable tracemalloc to get the object allocation traceback\n",
      "sys:1: ResourceWarning: unclosed socket <zmq.Socket(zmq.PUSH) at 0x7f6d12f25d80>\n",
      "ResourceWarning: Enable tracemalloc to get the object allocation traceback\n"
     ]
    },
    {
     "name": "stdout",
     "output_type": "stream",
     "text": [
      "[**********************46%                       ]  1066 of 2310 completed"
     ]
    },
    {
     "name": "stderr",
     "output_type": "stream",
     "text": [
      "sys:1: ResourceWarning: unclosed socket <zmq.Socket(zmq.PUSH) at 0x7f6d12f25d80>\n",
      "ResourceWarning: Enable tracemalloc to get the object allocation traceback\n",
      "sys:1: ResourceWarning: unclosed socket <zmq.Socket(zmq.PUSH) at 0x7f6d12f15e40>\n",
      "ResourceWarning: Enable tracemalloc to get the object allocation traceback\n"
     ]
    },
    {
     "name": "stdout",
     "output_type": "stream",
     "text": [
      "[**********************46%                       ]  1069 of 2310 completed"
     ]
    },
    {
     "name": "stderr",
     "output_type": "stream",
     "text": [
      "sys:1: ResourceWarning: unclosed socket <zmq.Socket(zmq.PUSH) at 0x7f6d11c559c0>\n",
      "ResourceWarning: Enable tracemalloc to get the object allocation traceback\n",
      "sys:1: ResourceWarning: unclosed socket <zmq.Socket(zmq.PUSH) at 0x7f6d12eeb700>\n",
      "ResourceWarning: Enable tracemalloc to get the object allocation traceback\n",
      "sys:1: ResourceWarning: unclosed socket <zmq.Socket(zmq.PUSH) at 0x7f6d11d1a200>\n",
      "ResourceWarning: Enable tracemalloc to get the object allocation traceback\n"
     ]
    },
    {
     "name": "stdout",
     "output_type": "stream",
     "text": [
      "\r",
      "[**********************46%                       ]  1070 of 2310 completed"
     ]
    },
    {
     "name": "stderr",
     "output_type": "stream",
     "text": [
      "sys:1: ResourceWarning: unclosed socket <zmq.Socket(zmq.PUSH) at 0x7f6d11d18460>\n",
      "ResourceWarning: Enable tracemalloc to get the object allocation traceback\n"
     ]
    },
    {
     "name": "stdout",
     "output_type": "stream",
     "text": [
      "[**********************46%                       ]  1072 of 2310 completed"
     ]
    },
    {
     "name": "stderr",
     "output_type": "stream",
     "text": [
      "sys:1: ResourceWarning: unclosed socket <zmq.Socket(zmq.PUSH) at 0x7f6d12f25960>\n",
      "ResourceWarning: Enable tracemalloc to get the object allocation traceback\n",
      "sys:1: ResourceWarning: unclosed socket <zmq.Socket(zmq.PUSH) at 0x7f6d12f16fe0>\n",
      "ResourceWarning: Enable tracemalloc to get the object allocation traceback\n"
     ]
    },
    {
     "name": "stdout",
     "output_type": "stream",
     "text": [
      "[**********************47%                       ]  1076 of 2310 completed"
     ]
    },
    {
     "name": "stderr",
     "output_type": "stream",
     "text": [
      "sys:1: ResourceWarning: unclosed socket <zmq.Socket(zmq.PUSH) at 0x7f6d11c56b00>\n",
      "ResourceWarning: Enable tracemalloc to get the object allocation traceback\n",
      "sys:1: ResourceWarning: unclosed socket <zmq.Socket(zmq.PUSH) at 0x7f6d11bcb100>\n",
      "ResourceWarning: Enable tracemalloc to get the object allocation traceback\n",
      "sys:1: ResourceWarning: unclosed socket <zmq.Socket(zmq.PUSH) at 0x7f6d12f14820>\n",
      "ResourceWarning: Enable tracemalloc to get the object allocation traceback\n",
      "sys:1: ResourceWarning: unclosed socket <zmq.Socket(zmq.PUSH) at 0x7f6d12f14820>\n",
      "ResourceWarning: Enable tracemalloc to get the object allocation traceback\n",
      "sys:1: ResourceWarning: unclosed socket <zmq.Socket(zmq.PUSH) at 0x7f6d12f15e40>\n",
      "ResourceWarning: Enable tracemalloc to get the object allocation traceback\n"
     ]
    },
    {
     "name": "stdout",
     "output_type": "stream",
     "text": [
      "[**********************47%                       ]  1079 of 2310 completed"
     ]
    },
    {
     "name": "stderr",
     "output_type": "stream",
     "text": [
      "sys:1: ResourceWarning: unclosed socket <zmq.Socket(zmq.PUSH) at 0x7f6d12ef2b00>\n",
      "ResourceWarning: Enable tracemalloc to get the object allocation traceback\n",
      "sys:1: ResourceWarning: unclosed socket <zmq.Socket(zmq.PUSH) at 0x7f6d11d1a200>\n",
      "ResourceWarning: Enable tracemalloc to get the object allocation traceback\n"
     ]
    },
    {
     "name": "stdout",
     "output_type": "stream",
     "text": [
      "[**********************47%                       ]  1082 of 2310 completed"
     ]
    },
    {
     "name": "stderr",
     "output_type": "stream",
     "text": [
      "sys:1: ResourceWarning: unclosed socket <zmq.Socket(zmq.PUSH) at 0x7f6d11d18580>\n",
      "ResourceWarning: Enable tracemalloc to get the object allocation traceback\n",
      "sys:1: ResourceWarning: unclosed socket <zmq.Socket(zmq.PUSH) at 0x7f6d11c57b80>\n",
      "ResourceWarning: Enable tracemalloc to get the object allocation traceback\n",
      "sys:1: ResourceWarning: unclosed socket <zmq.Socket(zmq.PUSH) at 0x7f6d12f26020>\n",
      "ResourceWarning: Enable tracemalloc to get the object allocation traceback\n"
     ]
    },
    {
     "name": "stdout",
     "output_type": "stream",
     "text": [
      "\r",
      "[**********************47%                       ]  1083 of 2310 completed"
     ]
    },
    {
     "name": "stderr",
     "output_type": "stream",
     "text": [
      "sys:1: ResourceWarning: unclosed socket <zmq.Socket(zmq.PUSH) at 0x7f6d11a766e0>\n",
      "ResourceWarning: Enable tracemalloc to get the object allocation traceback\n"
     ]
    },
    {
     "name": "stdout",
     "output_type": "stream",
     "text": [
      "[**********************47%                       ]  1085 of 2310 completed"
     ]
    },
    {
     "name": "stderr",
     "output_type": "stream",
     "text": [
      "sys:1: ResourceWarning: unclosed socket <zmq.Socket(zmq.PUSH) at 0x7f6d11d1b760>\n",
      "ResourceWarning: Enable tracemalloc to get the object allocation traceback\n",
      "sys:1: ResourceWarning: unclosed socket <zmq.Socket(zmq.PUSH) at 0x7f6d11d1b7c0>\n",
      "ResourceWarning: Enable tracemalloc to get the object allocation traceback\n"
     ]
    },
    {
     "name": "stdout",
     "output_type": "stream",
     "text": [
      "[**********************47%                       ]  1087 of 2310 completed"
     ]
    },
    {
     "name": "stderr",
     "output_type": "stream",
     "text": [
      "sys:1: ResourceWarning: unclosed socket <zmq.Socket(zmq.PUSH) at 0x7f6d11d1b580>\n",
      "ResourceWarning: Enable tracemalloc to get the object allocation traceback\n",
      "sys:1: ResourceWarning: unclosed socket <zmq.Socket(zmq.PUSH) at 0x7f6d11d1b220>\n",
      "ResourceWarning: Enable tracemalloc to get the object allocation traceback\n"
     ]
    },
    {
     "name": "stdout",
     "output_type": "stream",
     "text": [
      "\r",
      "[**********************47%                       ]  1088 of 2310 completed"
     ]
    },
    {
     "name": "stderr",
     "output_type": "stream",
     "text": [
      "sys:1: ResourceWarning: unclosed socket <zmq.Socket(zmq.PUSH) at 0x7f6d11c553c0>\n",
      "ResourceWarning: Enable tracemalloc to get the object allocation traceback\n"
     ]
    },
    {
     "name": "stdout",
     "output_type": "stream",
     "text": [
      "\r",
      "[**********************47%                       ]  1089 of 2310 completed"
     ]
    },
    {
     "name": "stderr",
     "output_type": "stream",
     "text": [
      "sys:1: ResourceWarning: unclosed socket <zmq.Socket(zmq.PUSH) at 0x7f6d11d1a4a0>\n",
      "ResourceWarning: Enable tracemalloc to get the object allocation traceback\n"
     ]
    },
    {
     "name": "stdout",
     "output_type": "stream",
     "text": [
      "[**********************47%                       ]  1092 of 2310 completed"
     ]
    },
    {
     "name": "stderr",
     "output_type": "stream",
     "text": [
      "sys:1: ResourceWarning: unclosed socket <zmq.Socket(zmq.PUSH) at 0x7f6d11c57b80>\n",
      "ResourceWarning: Enable tracemalloc to get the object allocation traceback\n",
      "sys:1: ResourceWarning: unclosed socket <zmq.Socket(zmq.PUSH) at 0x7f6d12f14820>\n",
      "ResourceWarning: Enable tracemalloc to get the object allocation traceback\n",
      "sys:1: ResourceWarning: unclosed socket <zmq.Socket(zmq.PUSH) at 0x7f6d12f3ea40>\n",
      "ResourceWarning: Enable tracemalloc to get the object allocation traceback\n"
     ]
    },
    {
     "name": "stdout",
     "output_type": "stream",
     "text": [
      "[**********************47%                       ]  1095 of 2310 completed"
     ]
    },
    {
     "name": "stderr",
     "output_type": "stream",
     "text": [
      "sys:1: ResourceWarning: unclosed socket <zmq.Socket(zmq.PUSH) at 0x7f6d12f14820>\n",
      "ResourceWarning: Enable tracemalloc to get the object allocation traceback\n",
      "sys:1: ResourceWarning: unclosed socket <zmq.Socket(zmq.PUSH) at 0x7f6d12f26020>\n",
      "ResourceWarning: Enable tracemalloc to get the object allocation traceback\n"
     ]
    },
    {
     "name": "stdout",
     "output_type": "stream",
     "text": [
      "[**********************48%                       ]  1100 of 2310 completed"
     ]
    },
    {
     "name": "stderr",
     "output_type": "stream",
     "text": [
      "sys:1: ResourceWarning: unclosed socket <zmq.Socket(zmq.PUSH) at 0x7f6d12f16fe0>\n",
      "ResourceWarning: Enable tracemalloc to get the object allocation traceback\n",
      "sys:1: ResourceWarning: unclosed socket <zmq.Socket(zmq.PUSH) at 0x7f6d12f162c0>\n",
      "ResourceWarning: Enable tracemalloc to get the object allocation traceback\n",
      "sys:1: ResourceWarning: unclosed socket <zmq.Socket(zmq.PUSH) at 0x7f6d11c1f8e0>\n",
      "ResourceWarning: Enable tracemalloc to get the object allocation traceback\n",
      "sys:1: ResourceWarning: unclosed socket <zmq.Socket(zmq.PUSH) at 0x7f6d11c57a00>\n",
      "ResourceWarning: Enable tracemalloc to get the object allocation traceback\n",
      "sys:1: ResourceWarning: unclosed socket <zmq.Socket(zmq.PUSH) at 0x7f6d12f24a60>\n",
      "ResourceWarning: Enable tracemalloc to get the object allocation traceback\n",
      "sys:1: ResourceWarning: unclosed socket <zmq.Socket(zmq.PUSH) at 0x7f6d11c577c0>\n",
      "ResourceWarning: Enable tracemalloc to get the object allocation traceback\n"
     ]
    },
    {
     "name": "stdout",
     "output_type": "stream",
     "text": [
      "\r",
      "[**********************48%                       ]  1101 of 2310 completed"
     ]
    },
    {
     "name": "stderr",
     "output_type": "stream",
     "text": [
      "sys:1: ResourceWarning: unclosed socket <zmq.Socket(zmq.PUSH) at 0x7f6d12f3ea40>\n",
      "ResourceWarning: Enable tracemalloc to get the object allocation traceback\n"
     ]
    },
    {
     "name": "stdout",
     "output_type": "stream",
     "text": [
      "[**********************48%                       ]  1105 of 2310 completed"
     ]
    },
    {
     "name": "stderr",
     "output_type": "stream",
     "text": [
      "sys:1: ResourceWarning: unclosed socket <zmq.Socket(zmq.PUSH) at 0x7f6d12f25960>\n",
      "ResourceWarning: Enable tracemalloc to get the object allocation traceback\n",
      "sys:1: ResourceWarning: unclosed socket <zmq.Socket(zmq.PUSH) at 0x7f6d11d1a4a0>\n",
      "ResourceWarning: Enable tracemalloc to get the object allocation traceback\n",
      "sys:1: ResourceWarning: unclosed socket <zmq.Socket(zmq.PUSH) at 0x7f6d12f27b80>\n",
      "ResourceWarning: Enable tracemalloc to get the object allocation traceback\n",
      "sys:1: ResourceWarning: unclosed socket <zmq.Socket(zmq.PUSH) at 0x7f6d11d1bd60>\n",
      "ResourceWarning: Enable tracemalloc to get the object allocation traceback\n"
     ]
    },
    {
     "name": "stdout",
     "output_type": "stream",
     "text": [
      "[**********************48%                       ]  1107 of 2310 completed"
     ]
    },
    {
     "name": "stderr",
     "output_type": "stream",
     "text": [
      "sys:1: ResourceWarning: unclosed socket <zmq.Socket(zmq.PUSH) at 0x7f6d11d1a8c0>\n",
      "ResourceWarning: Enable tracemalloc to get the object allocation traceback\n",
      "sys:1: ResourceWarning: unclosed socket <zmq.Socket(zmq.PUSH) at 0x7f6d11d1a8c0>\n",
      "ResourceWarning: Enable tracemalloc to get the object allocation traceback\n"
     ]
    },
    {
     "name": "stdout",
     "output_type": "stream",
     "text": [
      "\r",
      "[**********************48%                       ]  1108 of 2310 completed"
     ]
    },
    {
     "name": "stderr",
     "output_type": "stream",
     "text": [
      "sys:1: ResourceWarning: unclosed socket <zmq.Socket(zmq.PUSH) at 0x7f6d11b2b160>\n",
      "ResourceWarning: Enable tracemalloc to get the object allocation traceback\n"
     ]
    },
    {
     "name": "stdout",
     "output_type": "stream",
     "text": [
      "\r",
      "[**********************48%                       ]  1109 of 2310 completed"
     ]
    },
    {
     "name": "stderr",
     "output_type": "stream",
     "text": [
      "sys:1: ResourceWarning: unclosed socket <zmq.Socket(zmq.PUSH) at 0x7f6d11b2ae60>\n",
      "ResourceWarning: Enable tracemalloc to get the object allocation traceback\n"
     ]
    },
    {
     "name": "stdout",
     "output_type": "stream",
     "text": [
      "[**********************48%                       ]  1111 of 2310 completed"
     ]
    },
    {
     "name": "stderr",
     "output_type": "stream",
     "text": [
      "sys:1: ResourceWarning: unclosed socket <zmq.Socket(zmq.PUSH) at 0x7f6d12f279a0>\n",
      "ResourceWarning: Enable tracemalloc to get the object allocation traceback\n",
      "sys:1: ResourceWarning: unclosed socket <zmq.Socket(zmq.PUSH) at 0x7f6d11d1bd60>\n",
      "ResourceWarning: Enable tracemalloc to get the object allocation traceback\n"
     ]
    },
    {
     "name": "stdout",
     "output_type": "stream",
     "text": [
      "[**********************48%                       ]  1114 of 2310 completed"
     ]
    },
    {
     "name": "stderr",
     "output_type": "stream",
     "text": [
      "sys:1: ResourceWarning: unclosed socket <zmq.Socket(zmq.PUSH) at 0x7f6d12f26c80>\n",
      "ResourceWarning: Enable tracemalloc to get the object allocation traceback\n",
      "sys:1: ResourceWarning: unclosed socket <zmq.Socket(zmq.PUSH) at 0x7f6d11c57b80>\n",
      "ResourceWarning: Enable tracemalloc to get the object allocation traceback\n",
      "sys:1: ResourceWarning: unclosed socket <zmq.Socket(zmq.PUSH) at 0x7f6d12f24a60>\n",
      "ResourceWarning: Enable tracemalloc to get the object allocation traceback\n"
     ]
    },
    {
     "name": "stdout",
     "output_type": "stream",
     "text": [
      "\r",
      "[**********************48%                       ]  1115 of 2310 completed"
     ]
    },
    {
     "name": "stderr",
     "output_type": "stream",
     "text": [
      "sys:1: ResourceWarning: unclosed socket <zmq.Socket(zmq.PUSH) at 0x7f6d12f25960>\n",
      "ResourceWarning: Enable tracemalloc to get the object allocation traceback\n"
     ]
    },
    {
     "name": "stdout",
     "output_type": "stream",
     "text": [
      "\r",
      "[**********************48%                       ]  1116 of 2310 completed"
     ]
    },
    {
     "name": "stderr",
     "output_type": "stream",
     "text": [
      "sys:1: ResourceWarning: unclosed socket <zmq.Socket(zmq.PUSH) at 0x7f6d12f3ec20>\n",
      "ResourceWarning: Enable tracemalloc to get the object allocation traceback\n"
     ]
    },
    {
     "name": "stdout",
     "output_type": "stream",
     "text": [
      "\r",
      "[**********************48%                       ]  1117 of 2310 completed"
     ]
    },
    {
     "name": "stderr",
     "output_type": "stream",
     "text": [
      "sys:1: ResourceWarning: unclosed socket <zmq.Socket(zmq.PUSH) at 0x7f6d12f3eec0>\n",
      "ResourceWarning: Enable tracemalloc to get the object allocation traceback\n"
     ]
    },
    {
     "name": "stdout",
     "output_type": "stream",
     "text": [
      "[**********************48%                       ]  1119 of 2310 completed"
     ]
    },
    {
     "name": "stderr",
     "output_type": "stream",
     "text": [
      "sys:1: ResourceWarning: unclosed socket <zmq.Socket(zmq.PUSH) at 0x7f6d11d1bd60>\n",
      "ResourceWarning: Enable tracemalloc to get the object allocation traceback\n",
      "sys:1: ResourceWarning: unclosed socket <zmq.Socket(zmq.PUSH) at 0x7f6d11d1aaa0>\n",
      "ResourceWarning: Enable tracemalloc to get the object allocation traceback\n"
     ]
    },
    {
     "name": "stdout",
     "output_type": "stream",
     "text": [
      "[**********************49%                       ]  1123 of 2310 completed"
     ]
    },
    {
     "name": "stderr",
     "output_type": "stream",
     "text": [
      "sys:1: ResourceWarning: unclosed socket <zmq.Socket(zmq.PUSH) at 0x7f6d12f16fe0>\n",
      "ResourceWarning: Enable tracemalloc to get the object allocation traceback\n",
      "sys:1: ResourceWarning: unclosed socket <zmq.Socket(zmq.PUSH) at 0x7f6d12f14820>\n",
      "ResourceWarning: Enable tracemalloc to get the object allocation traceback\n",
      "sys:1: ResourceWarning: unclosed socket <zmq.Socket(zmq.PUSH) at 0x7f6d12f16fe0>\n",
      "ResourceWarning: Enable tracemalloc to get the object allocation traceback\n",
      "sys:1: ResourceWarning: unclosed socket <zmq.Socket(zmq.PUSH) at 0x7f6d11a779a0>\n",
      "ResourceWarning: Enable tracemalloc to get the object allocation traceback\n"
     ]
    },
    {
     "name": "stdout",
     "output_type": "stream",
     "text": [
      "[**********************49%                       ]  1125 of 2310 completed"
     ]
    },
    {
     "name": "stderr",
     "output_type": "stream",
     "text": [
      "sys:1: ResourceWarning: unclosed socket <zmq.Socket(zmq.PUSH) at 0x7f6d11d18580>\n",
      "ResourceWarning: Enable tracemalloc to get the object allocation traceback\n",
      "sys:1: ResourceWarning: unclosed socket <zmq.Socket(zmq.PUSH) at 0x7f6d12f25960>\n",
      "ResourceWarning: Enable tracemalloc to get the object allocation traceback\n"
     ]
    },
    {
     "name": "stdout",
     "output_type": "stream",
     "text": [
      "[**********************49%                       ]  1127 of 2310 completed"
     ]
    },
    {
     "name": "stderr",
     "output_type": "stream",
     "text": [
      "sys:1: ResourceWarning: unclosed socket <zmq.Socket(zmq.PUSH) at 0x7f6d12f25960>\n",
      "ResourceWarning: Enable tracemalloc to get the object allocation traceback\n",
      "sys:1: ResourceWarning: unclosed socket <zmq.Socket(zmq.PUSH) at 0x7f6d11b2ae60>\n",
      "ResourceWarning: Enable tracemalloc to get the object allocation traceback\n"
     ]
    },
    {
     "name": "stdout",
     "output_type": "stream",
     "text": [
      "[**********************49%                       ]  1129 of 2310 completed"
     ]
    },
    {
     "name": "stderr",
     "output_type": "stream",
     "text": [
      "sys:1: ResourceWarning: unclosed socket <zmq.Socket(zmq.PUSH) at 0x7f6d12f16f80>\n",
      "ResourceWarning: Enable tracemalloc to get the object allocation traceback\n",
      "sys:1: ResourceWarning: unclosed socket <zmq.Socket(zmq.PUSH) at 0x7f6d11aa23e0>\n",
      "ResourceWarning: Enable tracemalloc to get the object allocation traceback\n"
     ]
    },
    {
     "name": "stdout",
     "output_type": "stream",
     "text": [
      "[**********************49%                       ]  1132 of 2310 completed"
     ]
    },
    {
     "name": "stderr",
     "output_type": "stream",
     "text": [
      "sys:1: ResourceWarning: unclosed socket <zmq.Socket(zmq.PUSH) at 0x7f6d11b2aa40>\n",
      "ResourceWarning: Enable tracemalloc to get the object allocation traceback\n",
      "sys:1: ResourceWarning: unclosed socket <zmq.Socket(zmq.PUSH) at 0x7f6d12f16fe0>\n",
      "ResourceWarning: Enable tracemalloc to get the object allocation traceback\n",
      "sys:1: ResourceWarning: unclosed socket <zmq.Socket(zmq.PUSH) at 0x7f6d12f14820>\n",
      "ResourceWarning: Enable tracemalloc to get the object allocation traceback\n"
     ]
    },
    {
     "name": "stdout",
     "output_type": "stream",
     "text": [
      "\r",
      "[**********************49%                       ]  1133 of 2310 completed"
     ]
    },
    {
     "name": "stderr",
     "output_type": "stream",
     "text": [
      "sys:1: ResourceWarning: unclosed socket <zmq.Socket(zmq.PUSH) at 0x7f6d11c57fa0>\n",
      "ResourceWarning: Enable tracemalloc to get the object allocation traceback\n"
     ]
    },
    {
     "name": "stdout",
     "output_type": "stream",
     "text": [
      "[**********************49%                       ]  1136 of 2310 completed"
     ]
    },
    {
     "name": "stderr",
     "output_type": "stream",
     "text": [
      "sys:1: ResourceWarning: unclosed socket <zmq.Socket(zmq.PUSH) at 0x7f6d12f361a0>\n",
      "ResourceWarning: Enable tracemalloc to get the object allocation traceback\n",
      "sys:1: ResourceWarning: unclosed socket <zmq.Socket(zmq.PUSH) at 0x7f6d11c57fa0>\n",
      "ResourceWarning: Enable tracemalloc to get the object allocation traceback\n",
      "sys:1: ResourceWarning: unclosed socket <zmq.Socket(zmq.PUSH) at 0x7f6d11b2a800>\n",
      "ResourceWarning: Enable tracemalloc to get the object allocation traceback\n"
     ]
    },
    {
     "name": "stdout",
     "output_type": "stream",
     "text": [
      "[**********************49%                       ]  1139 of 2310 completed"
     ]
    },
    {
     "name": "stderr",
     "output_type": "stream",
     "text": [
      "sys:1: ResourceWarning: unclosed socket <zmq.Socket(zmq.PUSH) at 0x7f6d11d1b220>\n",
      "ResourceWarning: Enable tracemalloc to get the object allocation traceback\n",
      "sys:1: ResourceWarning: unclosed socket <zmq.Socket(zmq.PUSH) at 0x7f6d12f511e0>\n",
      "ResourceWarning: Enable tracemalloc to get the object allocation traceback\n",
      "sys:1: ResourceWarning: unclosed socket <zmq.Socket(zmq.PUSH) at 0x7f6d12f3ece0>\n",
      "ResourceWarning: Enable tracemalloc to get the object allocation traceback\n"
     ]
    },
    {
     "name": "stdout",
     "output_type": "stream",
     "text": [
      "\r",
      "[**********************49%                       ]  1140 of 2310 completed"
     ]
    },
    {
     "name": "stderr",
     "output_type": "stream",
     "text": [
      "sys:1: ResourceWarning: unclosed socket <zmq.Socket(zmq.PUSH) at 0x7f6d11d18460>\n",
      "ResourceWarning: Enable tracemalloc to get the object allocation traceback\n"
     ]
    },
    {
     "name": "stdout",
     "output_type": "stream",
     "text": [
      "\r",
      "[**********************49%                       ]  1141 of 2310 completed"
     ]
    },
    {
     "name": "stderr",
     "output_type": "stream",
     "text": [
      "sys:1: ResourceWarning: unclosed socket <zmq.Socket(zmq.PUSH) at 0x7f6d12f16f80>\n",
      "ResourceWarning: Enable tracemalloc to get the object allocation traceback\n"
     ]
    },
    {
     "name": "stdout",
     "output_type": "stream",
     "text": [
      "\r",
      "[**********************49%                       ]  1142 of 2310 completed"
     ]
    },
    {
     "name": "stderr",
     "output_type": "stream",
     "text": [
      "sys:1: ResourceWarning: unclosed socket <zmq.Socket(zmq.PUSH) at 0x7f6d12f26020>\n",
      "ResourceWarning: Enable tracemalloc to get the object allocation traceback\n"
     ]
    },
    {
     "name": "stdout",
     "output_type": "stream",
     "text": [
      "[**********************50%                       ]  1144 of 2310 completed"
     ]
    },
    {
     "name": "stderr",
     "output_type": "stream",
     "text": [
      "sys:1: ResourceWarning: unclosed socket <zmq.Socket(zmq.PUSH) at 0x7f6d12f37f40>\n",
      "ResourceWarning: Enable tracemalloc to get the object allocation traceback\n",
      "sys:1: ResourceWarning: unclosed socket <zmq.Socket(zmq.PUSH) at 0x7f6d12f37f40>\n",
      "ResourceWarning: Enable tracemalloc to get the object allocation traceback\n"
     ]
    },
    {
     "name": "stdout",
     "output_type": "stream",
     "text": [
      "[**********************50%                       ]  1147 of 2310 completed"
     ]
    },
    {
     "name": "stderr",
     "output_type": "stream",
     "text": [
      "sys:1: ResourceWarning: unclosed socket <zmq.Socket(zmq.PUSH) at 0x7f6d12f36da0>\n",
      "ResourceWarning: Enable tracemalloc to get the object allocation traceback\n",
      "sys:1: ResourceWarning: unclosed socket <zmq.Socket(zmq.PUSH) at 0x7f6d12f16fe0>\n",
      "ResourceWarning: Enable tracemalloc to get the object allocation traceback\n",
      "sys:1: ResourceWarning: unclosed socket <zmq.Socket(zmq.PUSH) at 0x7f6d11c57b80>\n",
      "ResourceWarning: Enable tracemalloc to get the object allocation traceback\n",
      "sys:1: ResourceWarning: unclosed socket <zmq.Socket(zmq.PUSH) at 0x7f6d12f529e0>\n",
      "ResourceWarning: Enable tracemalloc to get the object allocation traceback\n"
     ]
    },
    {
     "name": "stdout",
     "output_type": "stream",
     "text": [
      "[**********************50%                       ]  1150 of 2310 completed"
     ]
    },
    {
     "name": "stderr",
     "output_type": "stream",
     "text": [
      "sys:1: ResourceWarning: unclosed socket <zmq.Socket(zmq.PUSH) at 0x7f6d12f37d00>\n",
      "ResourceWarning: Enable tracemalloc to get the object allocation traceback\n",
      "sys:1: ResourceWarning: unclosed socket <zmq.Socket(zmq.PUSH) at 0x7f6d11c57a00>\n",
      "ResourceWarning: Enable tracemalloc to get the object allocation traceback\n"
     ]
    },
    {
     "name": "stdout",
     "output_type": "stream",
     "text": [
      "[**********************50%                       ]  1153 of 2310 completed"
     ]
    },
    {
     "name": "stderr",
     "output_type": "stream",
     "text": [
      "sys:1: ResourceWarning: unclosed socket <zmq.Socket(zmq.PUSH) at 0x7f6d12f3ec20>\n",
      "ResourceWarning: Enable tracemalloc to get the object allocation traceback\n",
      "sys:1: ResourceWarning: unclosed socket <zmq.Socket(zmq.PUSH) at 0x7f6d12f3ec20>\n",
      "ResourceWarning: Enable tracemalloc to get the object allocation traceback\n",
      "sys:1: ResourceWarning: unclosed socket <zmq.Socket(zmq.PUSH) at 0x7f6d11d1b220>\n",
      "ResourceWarning: Enable tracemalloc to get the object allocation traceback\n"
     ]
    },
    {
     "name": "stdout",
     "output_type": "stream",
     "text": [
      "[**********************50%                       ]  1157 of 2310 completed"
     ]
    },
    {
     "name": "stderr",
     "output_type": "stream",
     "text": [
      "sys:1: ResourceWarning: unclosed socket <zmq.Socket(zmq.PUSH) at 0x7f6d11b2a680>\n",
      "ResourceWarning: Enable tracemalloc to get the object allocation traceback\n",
      "sys:1: ResourceWarning: unclosed socket <zmq.Socket(zmq.PUSH) at 0x7f6d12f539a0>\n",
      "ResourceWarning: Enable tracemalloc to get the object allocation traceback\n",
      "sys:1: ResourceWarning: unclosed socket <zmq.Socket(zmq.PUSH) at 0x7f6d12f3ea40>\n",
      "ResourceWarning: Enable tracemalloc to get the object allocation traceback\n",
      "sys:1: ResourceWarning: unclosed socket <zmq.Socket(zmq.PUSH) at 0x7f6d12f52ce0>\n",
      "ResourceWarning: Enable tracemalloc to get the object allocation traceback\n"
     ]
    },
    {
     "name": "stdout",
     "output_type": "stream",
     "text": [
      "[**********************50%                       ]  1159 of 2310 completed"
     ]
    },
    {
     "name": "stderr",
     "output_type": "stream",
     "text": [
      "sys:1: ResourceWarning: unclosed socket <zmq.Socket(zmq.PUSH) at 0x7f6d12f53ee0>\n",
      "ResourceWarning: Enable tracemalloc to get the object allocation traceback\n",
      "sys:1: ResourceWarning: unclosed socket <zmq.Socket(zmq.PUSH) at 0x7f6d11c57a00>\n",
      "ResourceWarning: Enable tracemalloc to get the object allocation traceback\n"
     ]
    },
    {
     "name": "stdout",
     "output_type": "stream",
     "text": [
      "[**********************50%                       ]  1163 of 2310 completed"
     ]
    },
    {
     "name": "stderr",
     "output_type": "stream",
     "text": [
      "sys:1: ResourceWarning: unclosed socket <zmq.Socket(zmq.PUSH) at 0x7f6d11b2b2e0>\n",
      "ResourceWarning: Enable tracemalloc to get the object allocation traceback\n",
      "sys:1: ResourceWarning: unclosed socket <zmq.Socket(zmq.PUSH) at 0x7f6d11b2ae60>\n",
      "ResourceWarning: Enable tracemalloc to get the object allocation traceback\n",
      "sys:1: ResourceWarning: unclosed socket <zmq.Socket(zmq.PUSH) at 0x7f6d11b2b2e0>\n",
      "ResourceWarning: Enable tracemalloc to get the object allocation traceback\n",
      "sys:1: ResourceWarning: unclosed socket <zmq.Socket(zmq.PUSH) at 0x7f6d11d18460>\n",
      "ResourceWarning: Enable tracemalloc to get the object allocation traceback\n"
     ]
    },
    {
     "name": "stdout",
     "output_type": "stream",
     "text": [
      "[**********************50%                       ]  1165 of 2310 completed"
     ]
    },
    {
     "name": "stderr",
     "output_type": "stream",
     "text": [
      "sys:1: ResourceWarning: unclosed socket <zmq.Socket(zmq.PUSH) at 0x7f6d11a779a0>\n",
      "ResourceWarning: Enable tracemalloc to get the object allocation traceback\n",
      "sys:1: ResourceWarning: unclosed socket <zmq.Socket(zmq.PUSH) at 0x7f6d11a779a0>\n",
      "ResourceWarning: Enable tracemalloc to get the object allocation traceback\n"
     ]
    },
    {
     "name": "stdout",
     "output_type": "stream",
     "text": [
      "[**********************51%                       ]  1167 of 2310 completed"
     ]
    },
    {
     "name": "stderr",
     "output_type": "stream",
     "text": [
      "sys:1: ResourceWarning: unclosed socket <zmq.Socket(zmq.PUSH) at 0x7f6d12f37fa0>\n",
      "ResourceWarning: Enable tracemalloc to get the object allocation traceback\n",
      "sys:1: ResourceWarning: unclosed socket <zmq.Socket(zmq.PUSH) at 0x7f6d12f5a5c0>\n",
      "ResourceWarning: Enable tracemalloc to get the object allocation traceback\n"
     ]
    },
    {
     "name": "stdout",
     "output_type": "stream",
     "text": [
      "[**********************51%                       ]  1170 of 2310 completed"
     ]
    },
    {
     "name": "stderr",
     "output_type": "stream",
     "text": [
      "sys:1: ResourceWarning: unclosed socket <zmq.Socket(zmq.PUSH) at 0x7f6d11b2bc40>\n",
      "ResourceWarning: Enable tracemalloc to get the object allocation traceback\n",
      "sys:1: ResourceWarning: unclosed socket <zmq.Socket(zmq.PUSH) at 0x7f6d11b2ae60>\n",
      "ResourceWarning: Enable tracemalloc to get the object allocation traceback\n",
      "sys:1: ResourceWarning: unclosed socket <zmq.Socket(zmq.PUSH) at 0x7f6d11c57fa0>\n",
      "ResourceWarning: Enable tracemalloc to get the object allocation traceback\n"
     ]
    },
    {
     "name": "stdout",
     "output_type": "stream",
     "text": [
      "[**********************51%                       ]  1172 of 2310 completed"
     ]
    },
    {
     "name": "stderr",
     "output_type": "stream",
     "text": [
      "sys:1: ResourceWarning: unclosed socket <zmq.Socket(zmq.PUSH) at 0x7f6d12f35780>\n",
      "ResourceWarning: Enable tracemalloc to get the object allocation traceback\n",
      "sys:1: ResourceWarning: unclosed socket <zmq.Socket(zmq.PUSH) at 0x7f6d11b2af80>\n",
      "ResourceWarning: Enable tracemalloc to get the object allocation traceback\n"
     ]
    },
    {
     "name": "stdout",
     "output_type": "stream",
     "text": [
      "[**********************51%                       ]  1174 of 2310 completed"
     ]
    },
    {
     "name": "stderr",
     "output_type": "stream",
     "text": [
      "sys:1: ResourceWarning: unclosed socket <zmq.Socket(zmq.PUSH) at 0x7f6d12f3ece0>\n",
      "ResourceWarning: Enable tracemalloc to get the object allocation traceback\n",
      "sys:1: ResourceWarning: unclosed socket <zmq.Socket(zmq.PUSH) at 0x7f6d11a779a0>\n",
      "ResourceWarning: Enable tracemalloc to get the object allocation traceback\n"
     ]
    },
    {
     "name": "stdout",
     "output_type": "stream",
     "text": [
      "[**********************51%                       ]  1178 of 2310 completed"
     ]
    },
    {
     "name": "stderr",
     "output_type": "stream",
     "text": [
      "sys:1: ResourceWarning: unclosed socket <zmq.Socket(zmq.PUSH) at 0x7f6d12f51e40>\n",
      "ResourceWarning: Enable tracemalloc to get the object allocation traceback\n",
      "sys:1: ResourceWarning: unclosed socket <zmq.Socket(zmq.PUSH) at 0x7f6d12f67a00>\n",
      "ResourceWarning: Enable tracemalloc to get the object allocation traceback\n",
      "sys:1: ResourceWarning: unclosed socket <zmq.Socket(zmq.PUSH) at 0x7f6d12f5bd60>\n",
      "ResourceWarning: Enable tracemalloc to get the object allocation traceback\n",
      "sys:1: ResourceWarning: unclosed socket <zmq.Socket(zmq.PUSH) at 0x7f6d12f37880>\n",
      "ResourceWarning: Enable tracemalloc to get the object allocation traceback\n"
     ]
    },
    {
     "name": "stdout",
     "output_type": "stream",
     "text": [
      "[**********************51%                       ]  1180 of 2310 completed"
     ]
    },
    {
     "name": "stderr",
     "output_type": "stream",
     "text": [
      "sys:1: ResourceWarning: unclosed socket <zmq.Socket(zmq.PUSH) at 0x7f6d12f37f40>\n",
      "ResourceWarning: Enable tracemalloc to get the object allocation traceback\n",
      "sys:1: ResourceWarning: unclosed socket <zmq.Socket(zmq.PUSH) at 0x7f6d11b2af80>\n",
      "ResourceWarning: Enable tracemalloc to get the object allocation traceback\n"
     ]
    },
    {
     "name": "stdout",
     "output_type": "stream",
     "text": [
      "[**********************51%                       ]  1183 of 2310 completed"
     ]
    },
    {
     "name": "stderr",
     "output_type": "stream",
     "text": [
      "sys:1: ResourceWarning: unclosed socket <zmq.Socket(zmq.PUSH) at 0x7f6d12f67a00>\n",
      "ResourceWarning: Enable tracemalloc to get the object allocation traceback\n",
      "sys:1: ResourceWarning: unclosed socket <zmq.Socket(zmq.PUSH) at 0x7f6d12f35480>\n",
      "ResourceWarning: Enable tracemalloc to get the object allocation traceback\n",
      "sys:1: ResourceWarning: unclosed socket <zmq.Socket(zmq.PUSH) at 0x7f6d11d18460>\n",
      "ResourceWarning: Enable tracemalloc to get the object allocation traceback\n"
     ]
    },
    {
     "name": "stdout",
     "output_type": "stream",
     "text": [
      "[**********************51%                       ]  1185 of 2310 completed"
     ]
    },
    {
     "name": "stderr",
     "output_type": "stream",
     "text": [
      "sys:1: ResourceWarning: unclosed socket <zmq.Socket(zmq.PUSH) at 0x7f6d11c57fa0>\n",
      "ResourceWarning: Enable tracemalloc to get the object allocation traceback\n",
      "sys:1: ResourceWarning: unclosed socket <zmq.Socket(zmq.PUSH) at 0x7f6d11c1f8e0>\n",
      "ResourceWarning: Enable tracemalloc to get the object allocation traceback\n"
     ]
    },
    {
     "name": "stdout",
     "output_type": "stream",
     "text": [
      "[**********************51%                       ]  1187 of 2310 completed"
     ]
    },
    {
     "name": "stderr",
     "output_type": "stream",
     "text": [
      "sys:1: ResourceWarning: unclosed socket <zmq.Socket(zmq.PUSH) at 0x7f6d12f53e80>\n",
      "ResourceWarning: Enable tracemalloc to get the object allocation traceback\n",
      "sys:1: ResourceWarning: unclosed socket <zmq.Socket(zmq.PUSH) at 0x7f6d11d1aaa0>\n",
      "ResourceWarning: Enable tracemalloc to get the object allocation traceback\n"
     ]
    },
    {
     "name": "stdout",
     "output_type": "stream",
     "text": [
      "[**********************51%                       ]  1189 of 2310 completed"
     ]
    },
    {
     "name": "stderr",
     "output_type": "stream",
     "text": [
      "sys:1: ResourceWarning: unclosed socket <zmq.Socket(zmq.PUSH) at 0x7f6d11d1aaa0>\n",
      "ResourceWarning: Enable tracemalloc to get the object allocation traceback\n",
      "sys:1: ResourceWarning: unclosed socket <zmq.Socket(zmq.PUSH) at 0x7f6d11d1aaa0>\n",
      "ResourceWarning: Enable tracemalloc to get the object allocation traceback\n"
     ]
    },
    {
     "name": "stdout",
     "output_type": "stream",
     "text": [
      "\r",
      "[**********************52%                       ]  1190 of 2310 completed"
     ]
    },
    {
     "name": "stderr",
     "output_type": "stream",
     "text": [
      "sys:1: ResourceWarning: unclosed socket <zmq.Socket(zmq.PUSH) at 0x7f6d11b2a680>\n",
      "ResourceWarning: Enable tracemalloc to get the object allocation traceback\n"
     ]
    },
    {
     "name": "stdout",
     "output_type": "stream",
     "text": [
      "\r",
      "[**********************52%                       ]  1191 of 2310 completed"
     ]
    },
    {
     "name": "stderr",
     "output_type": "stream",
     "text": [
      "sys:1: ResourceWarning: unclosed socket <zmq.Socket(zmq.PUSH) at 0x7f6d11a779a0>\n",
      "ResourceWarning: Enable tracemalloc to get the object allocation traceback\n"
     ]
    },
    {
     "name": "stdout",
     "output_type": "stream",
     "text": [
      "\r",
      "[**********************52%                       ]  1192 of 2310 completed"
     ]
    },
    {
     "name": "stderr",
     "output_type": "stream",
     "text": [
      "sys:1: ResourceWarning: unclosed socket <zmq.Socket(zmq.PUSH) at 0x7f6d12f5be80>\n",
      "ResourceWarning: Enable tracemalloc to get the object allocation traceback\n"
     ]
    },
    {
     "name": "stdout",
     "output_type": "stream",
     "text": [
      "\r",
      "[**********************52%                       ]  1193 of 2310 completed"
     ]
    },
    {
     "name": "stderr",
     "output_type": "stream",
     "text": [
      "sys:1: ResourceWarning: unclosed socket <zmq.Socket(zmq.PUSH) at 0x7f6d12f66fe0>\n",
      "ResourceWarning: Enable tracemalloc to get the object allocation traceback\n"
     ]
    },
    {
     "name": "stdout",
     "output_type": "stream",
     "text": [
      "[**********************52%                       ]  1195 of 2310 completed"
     ]
    },
    {
     "name": "stderr",
     "output_type": "stream",
     "text": [
      "sys:1: ResourceWarning: unclosed socket <zmq.Socket(zmq.PUSH) at 0x7f6d12f5b7c0>\n",
      "ResourceWarning: Enable tracemalloc to get the object allocation traceback\n",
      "sys:1: ResourceWarning: unclosed socket <zmq.Socket(zmq.PUSH) at 0x7f6d12f66fe0>\n",
      "ResourceWarning: Enable tracemalloc to get the object allocation traceback\n"
     ]
    },
    {
     "name": "stdout",
     "output_type": "stream",
     "text": [
      "[**********************52%                       ]  1198 of 2310 completed"
     ]
    },
    {
     "name": "stderr",
     "output_type": "stream",
     "text": [
      "sys:1: ResourceWarning: unclosed socket <zmq.Socket(zmq.PUSH) at 0x7f6d12f3ea40>\n",
      "ResourceWarning: Enable tracemalloc to get the object allocation traceback\n",
      "sys:1: ResourceWarning: unclosed socket <zmq.Socket(zmq.PUSH) at 0x7f6d11b2af80>\n",
      "ResourceWarning: Enable tracemalloc to get the object allocation traceback\n",
      "sys:1: ResourceWarning: unclosed socket <zmq.Socket(zmq.PUSH) at 0x7f6d12f26020>\n",
      "ResourceWarning: Enable tracemalloc to get the object allocation traceback\n"
     ]
    },
    {
     "name": "stdout",
     "output_type": "stream",
     "text": [
      "[**********************52%                       ]  1201 of 2310 completed"
     ]
    },
    {
     "name": "stderr",
     "output_type": "stream",
     "text": [
      "sys:1: ResourceWarning: unclosed socket <zmq.Socket(zmq.PUSH) at 0x7f6d12f5b820>\n",
      "ResourceWarning: Enable tracemalloc to get the object allocation traceback\n",
      "sys:1: ResourceWarning: unclosed socket <zmq.Socket(zmq.PUSH) at 0x7f6d12f5b820>\n",
      "ResourceWarning: Enable tracemalloc to get the object allocation traceback\n",
      "sys:1: ResourceWarning: unclosed socket <zmq.Socket(zmq.PUSH) at 0x7f6d12f3c460>\n",
      "ResourceWarning: Enable tracemalloc to get the object allocation traceback\n"
     ]
    },
    {
     "name": "stdout",
     "output_type": "stream",
     "text": [
      "[**********************52%                       ]  1203 of 2310 completed"
     ]
    },
    {
     "name": "stderr",
     "output_type": "stream",
     "text": [
      "sys:1: ResourceWarning: unclosed socket <zmq.Socket(zmq.PUSH) at 0x7f6d11d1bd60>\n",
      "ResourceWarning: Enable tracemalloc to get the object allocation traceback\n",
      "sys:1: ResourceWarning: unclosed socket <zmq.Socket(zmq.PUSH) at 0x7f6d11c1f8e0>\n",
      "ResourceWarning: Enable tracemalloc to get the object allocation traceback\n"
     ]
    },
    {
     "name": "stdout",
     "output_type": "stream",
     "text": [
      "[**********************52%                       ]  1207 of 2310 completed"
     ]
    },
    {
     "name": "stderr",
     "output_type": "stream",
     "text": [
      "sys:1: ResourceWarning: unclosed socket <zmq.Socket(zmq.PUSH) at 0x7f6d12d8b820>\n",
      "ResourceWarning: Enable tracemalloc to get the object allocation traceback\n",
      "sys:1: ResourceWarning: unclosed socket <zmq.Socket(zmq.PUSH) at 0x7f6d12eeb700>\n",
      "ResourceWarning: Enable tracemalloc to get the object allocation traceback\n",
      "sys:1: ResourceWarning: unclosed socket <zmq.Socket(zmq.PUSH) at 0x7f6d12f5b700>\n",
      "ResourceWarning: Enable tracemalloc to get the object allocation traceback\n",
      "sys:1: ResourceWarning: unclosed socket <zmq.Socket(zmq.PUSH) at 0x7f6d12f5be80>\n",
      "ResourceWarning: Enable tracemalloc to get the object allocation traceback\n"
     ]
    },
    {
     "name": "stdout",
     "output_type": "stream",
     "text": [
      "[**********************52%                       ]  1210 of 2310 completed"
     ]
    },
    {
     "name": "stderr",
     "output_type": "stream",
     "text": [
      "sys:1: ResourceWarning: unclosed socket <zmq.Socket(zmq.PUSH) at 0x7f6d12f5e7a0>\n",
      "ResourceWarning: Enable tracemalloc to get the object allocation traceback\n",
      "sys:1: ResourceWarning: unclosed socket <zmq.Socket(zmq.PUSH) at 0x7f6d11d1b220>\n",
      "ResourceWarning: Enable tracemalloc to get the object allocation traceback\n",
      "sys:1: ResourceWarning: unclosed socket <zmq.Socket(zmq.PUSH) at 0x7f6d11b2b160>\n",
      "ResourceWarning: Enable tracemalloc to get the object allocation traceback\n"
     ]
    },
    {
     "name": "stdout",
     "output_type": "stream",
     "text": [
      "[**********************52%                       ]  1212 of 2310 completed"
     ]
    },
    {
     "name": "stderr",
     "output_type": "stream",
     "text": [
      "sys:1: ResourceWarning: unclosed socket <zmq.Socket(zmq.PUSH) at 0x7f6d12f66680>\n",
      "ResourceWarning: Enable tracemalloc to get the object allocation traceback\n",
      "sys:1: ResourceWarning: unclosed socket <zmq.Socket(zmq.PUSH) at 0x7f6d12f5fbe0>\n",
      "ResourceWarning: Enable tracemalloc to get the object allocation traceback\n"
     ]
    },
    {
     "name": "stdout",
     "output_type": "stream",
     "text": [
      "[**********************53%                       ]  1215 of 2310 completed"
     ]
    },
    {
     "name": "stderr",
     "output_type": "stream",
     "text": [
      "sys:1: ResourceWarning: unclosed socket <zmq.Socket(zmq.PUSH) at 0x7f6d11b2b2e0>\n",
      "ResourceWarning: Enable tracemalloc to get the object allocation traceback\n",
      "sys:1: ResourceWarning: unclosed socket <zmq.Socket(zmq.PUSH) at 0x7f6d11d1aaa0>\n",
      "ResourceWarning: Enable tracemalloc to get the object allocation traceback\n",
      "sys:1: ResourceWarning: unclosed socket <zmq.Socket(zmq.PUSH) at 0x7f6d11b2b2e0>\n",
      "ResourceWarning: Enable tracemalloc to get the object allocation traceback\n"
     ]
    },
    {
     "name": "stdout",
     "output_type": "stream",
     "text": [
      "\r",
      "[**********************53%                       ]  1216 of 2310 completed"
     ]
    },
    {
     "name": "stderr",
     "output_type": "stream",
     "text": [
      "sys:1: ResourceWarning: unclosed socket <zmq.Socket(zmq.PUSH) at 0x7f6d12f5eaa0>\n",
      "ResourceWarning: Enable tracemalloc to get the object allocation traceback\n"
     ]
    },
    {
     "name": "stdout",
     "output_type": "stream",
     "text": [
      "\r",
      "[**********************53%                       ]  1217 of 2310 completed"
     ]
    },
    {
     "name": "stderr",
     "output_type": "stream",
     "text": [
      "sys:1: ResourceWarning: unclosed socket <zmq.Socket(zmq.PUSH) at 0x7f6d12f5eaa0>\n",
      "ResourceWarning: Enable tracemalloc to get the object allocation traceback\n"
     ]
    },
    {
     "name": "stdout",
     "output_type": "stream",
     "text": [
      "[**********************53%                       ]  1220 of 2310 completed"
     ]
    },
    {
     "name": "stderr",
     "output_type": "stream",
     "text": [
      "sys:1: ResourceWarning: unclosed socket <zmq.Socket(zmq.PUSH) at 0x7f6d12f5eaa0>\n",
      "ResourceWarning: Enable tracemalloc to get the object allocation traceback\n",
      "sys:1: ResourceWarning: unclosed socket <zmq.Socket(zmq.PUSH) at 0x7f6d12d8b700>\n",
      "ResourceWarning: Enable tracemalloc to get the object allocation traceback\n",
      "sys:1: ResourceWarning: unclosed socket <zmq.Socket(zmq.PUSH) at 0x7f6d11b2b160>\n",
      "ResourceWarning: Enable tracemalloc to get the object allocation traceback\n"
     ]
    },
    {
     "name": "stdout",
     "output_type": "stream",
     "text": [
      "[**********************53%                       ]  1223 of 2310 completed"
     ]
    },
    {
     "name": "stderr",
     "output_type": "stream",
     "text": [
      "sys:1: ResourceWarning: unclosed socket <zmq.Socket(zmq.PUSH) at 0x7f6d11b2b160>\n",
      "ResourceWarning: Enable tracemalloc to get the object allocation traceback\n",
      "sys:1: ResourceWarning: unclosed socket <zmq.Socket(zmq.PUSH) at 0x7f6d12f35780>\n",
      "ResourceWarning: Enable tracemalloc to get the object allocation traceback\n",
      "sys:1: ResourceWarning: unclosed socket <zmq.Socket(zmq.PUSH) at 0x7f6d11b2b160>\n",
      "ResourceWarning: Enable tracemalloc to get the object allocation traceback\n"
     ]
    },
    {
     "name": "stdout",
     "output_type": "stream",
     "text": [
      "\r",
      "[**********************53%                       ]  1224 of 2310 completed"
     ]
    },
    {
     "name": "stderr",
     "output_type": "stream",
     "text": [
      "sys:1: ResourceWarning: unclosed socket <zmq.Socket(zmq.PUSH) at 0x7f6d11b2b160>\n",
      "ResourceWarning: Enable tracemalloc to get the object allocation traceback\n"
     ]
    },
    {
     "name": "stdout",
     "output_type": "stream",
     "text": [
      "[**********************53%                       ]  1226 of 2310 completed"
     ]
    },
    {
     "name": "stderr",
     "output_type": "stream",
     "text": [
      "sys:1: ResourceWarning: unclosed socket <zmq.Socket(zmq.PUSH) at 0x7f6d12d8b4c0>\n",
      "ResourceWarning: Enable tracemalloc to get the object allocation traceback\n",
      "sys:1: ResourceWarning: unclosed socket <zmq.Socket(zmq.PUSH) at 0x7f6d11b2b220>\n",
      "ResourceWarning: Enable tracemalloc to get the object allocation traceback\n"
     ]
    },
    {
     "name": "stdout",
     "output_type": "stream",
     "text": [
      "[**********************53%                       ]  1228 of 2310 completed"
     ]
    },
    {
     "name": "stderr",
     "output_type": "stream",
     "text": [
      "sys:1: ResourceWarning: unclosed socket <zmq.Socket(zmq.PUSH) at 0x7f6d12f5eb60>\n",
      "ResourceWarning: Enable tracemalloc to get the object allocation traceback\n",
      "sys:1: ResourceWarning: unclosed socket <zmq.Socket(zmq.PUSH) at 0x7f6d12f5fee0>\n",
      "ResourceWarning: Enable tracemalloc to get the object allocation traceback\n"
     ]
    },
    {
     "name": "stdout",
     "output_type": "stream",
     "text": [
      "[**********************53%                       ]  1231 of 2310 completed"
     ]
    },
    {
     "name": "stderr",
     "output_type": "stream",
     "text": [
      "sys:1: ResourceWarning: unclosed socket <zmq.Socket(zmq.PUSH) at 0x7f6d12d8be80>\n",
      "ResourceWarning: Enable tracemalloc to get the object allocation traceback\n",
      "sys:1: ResourceWarning: unclosed socket <zmq.Socket(zmq.PUSH) at 0x7f6d12d8b700>\n",
      "ResourceWarning: Enable tracemalloc to get the object allocation traceback\n",
      "sys:1: ResourceWarning: unclosed socket <zmq.Socket(zmq.PUSH) at 0x7f6d12f52140>\n",
      "ResourceWarning: Enable tracemalloc to get the object allocation traceback\n"
     ]
    },
    {
     "name": "stdout",
     "output_type": "stream",
     "text": [
      "\r",
      "[**********************53%                       ]  1232 of 2310 completed"
     ]
    },
    {
     "name": "stderr",
     "output_type": "stream",
     "text": [
      "sys:1: ResourceWarning: unclosed socket <zmq.Socket(zmq.PUSH) at 0x7f6d12f52140>\n",
      "ResourceWarning: Enable tracemalloc to get the object allocation traceback\n"
     ]
    },
    {
     "name": "stdout",
     "output_type": "stream",
     "text": [
      "[**********************53%                       ]  1235 of 2310 completed"
     ]
    },
    {
     "name": "stderr",
     "output_type": "stream",
     "text": [
      "sys:1: ResourceWarning: unclosed socket <zmq.Socket(zmq.PUSH) at 0x7f6d12f52140>\n",
      "ResourceWarning: Enable tracemalloc to get the object allocation traceback\n",
      "sys:1: ResourceWarning: unclosed socket <zmq.Socket(zmq.PUSH) at 0x7f6d12f52140>\n",
      "ResourceWarning: Enable tracemalloc to get the object allocation traceback\n",
      "sys:1: ResourceWarning: unclosed socket <zmq.Socket(zmq.PUSH) at 0x7f6d12d8fd60>\n",
      "ResourceWarning: Enable tracemalloc to get the object allocation traceback\n"
     ]
    },
    {
     "name": "stdout",
     "output_type": "stream",
     "text": [
      "[**********************54%*                      ]  1238 of 2310 completed"
     ]
    },
    {
     "name": "stderr",
     "output_type": "stream",
     "text": [
      "sys:1: ResourceWarning: unclosed socket <zmq.Socket(zmq.PUSH) at 0x7f6d12d8fd60>\n",
      "ResourceWarning: Enable tracemalloc to get the object allocation traceback\n",
      "sys:1: ResourceWarning: unclosed socket <zmq.Socket(zmq.PUSH) at 0x7f6d12d8a7a0>\n",
      "ResourceWarning: Enable tracemalloc to get the object allocation traceback\n",
      "sys:1: ResourceWarning: unclosed socket <zmq.Socket(zmq.PUSH) at 0x7f6d11b2b2e0>\n",
      "ResourceWarning: Enable tracemalloc to get the object allocation traceback\n"
     ]
    },
    {
     "name": "stdout",
     "output_type": "stream",
     "text": [
      "\r",
      "[**********************54%*                      ]  1239 of 2310 completed"
     ]
    },
    {
     "name": "stderr",
     "output_type": "stream",
     "text": [
      "sys:1: ResourceWarning: unclosed socket <zmq.Socket(zmq.PUSH) at 0x7f6d12f5ae00>\n",
      "ResourceWarning: Enable tracemalloc to get the object allocation traceback\n"
     ]
    },
    {
     "name": "stdout",
     "output_type": "stream",
     "text": [
      "\r",
      "[**********************54%*                      ]  1240 of 2310 completed"
     ]
    },
    {
     "name": "stderr",
     "output_type": "stream",
     "text": [
      "sys:1: ResourceWarning: unclosed socket <zmq.Socket(zmq.PUSH) at 0x7f6d12d8bdc0>\n",
      "ResourceWarning: Enable tracemalloc to get the object allocation traceback\n"
     ]
    },
    {
     "name": "stdout",
     "output_type": "stream",
     "text": [
      "[**********************54%*                      ]  1243 of 2310 completed"
     ]
    },
    {
     "name": "stderr",
     "output_type": "stream",
     "text": [
      "sys:1: ResourceWarning: unclosed socket <zmq.Socket(zmq.PUSH) at 0x7f6d11c4e6e0>\n",
      "ResourceWarning: Enable tracemalloc to get the object allocation traceback\n",
      "sys:1: ResourceWarning: unclosed socket <zmq.Socket(zmq.PUSH) at 0x7f6d11c4fe20>\n",
      "ResourceWarning: Enable tracemalloc to get the object allocation traceback\n",
      "sys:1: ResourceWarning: unclosed socket <zmq.Socket(zmq.PUSH) at 0x7f6d12d8afe0>\n",
      "ResourceWarning: Enable tracemalloc to get the object allocation traceback\n"
     ]
    },
    {
     "name": "stdout",
     "output_type": "stream",
     "text": [
      "[**********************54%*                      ]  1245 of 2310 completed"
     ]
    },
    {
     "name": "stderr",
     "output_type": "stream",
     "text": [
      "sys:1: ResourceWarning: unclosed socket <zmq.Socket(zmq.PUSH) at 0x7f6d11b2b160>\n",
      "ResourceWarning: Enable tracemalloc to get the object allocation traceback\n",
      "sys:1: ResourceWarning: unclosed socket <zmq.Socket(zmq.PUSH) at 0x7f6d12d8b760>\n",
      "ResourceWarning: Enable tracemalloc to get the object allocation traceback\n"
     ]
    },
    {
     "name": "stdout",
     "output_type": "stream",
     "text": [
      "[**********************54%*                      ]  1248 of 2310 completed"
     ]
    },
    {
     "name": "stderr",
     "output_type": "stream",
     "text": [
      "sys:1: ResourceWarning: unclosed socket <zmq.Socket(zmq.PUSH) at 0x7f6d12d8b760>\n",
      "ResourceWarning: Enable tracemalloc to get the object allocation traceback\n",
      "sys:1: ResourceWarning: unclosed socket <zmq.Socket(zmq.PUSH) at 0x7f6d11b2b220>\n",
      "ResourceWarning: Enable tracemalloc to get the object allocation traceback\n",
      "sys:1: ResourceWarning: unclosed socket <zmq.Socket(zmq.PUSH) at 0x7f6d11b2b220>\n",
      "ResourceWarning: Enable tracemalloc to get the object allocation traceback\n"
     ]
    },
    {
     "name": "stdout",
     "output_type": "stream",
     "text": [
      "[**********************54%*                      ]  1250 of 2310 completed"
     ]
    },
    {
     "name": "stderr",
     "output_type": "stream",
     "text": [
      "sys:1: ResourceWarning: unclosed socket <zmq.Socket(zmq.PUSH) at 0x7f6d12f35780>\n",
      "ResourceWarning: Enable tracemalloc to get the object allocation traceback\n",
      "sys:1: ResourceWarning: unclosed socket <zmq.Socket(zmq.PUSH) at 0x7f6d12d8a1a0>\n",
      "ResourceWarning: Enable tracemalloc to get the object allocation traceback\n"
     ]
    },
    {
     "name": "stdout",
     "output_type": "stream",
     "text": [
      "[**********************54%*                      ]  1253 of 2310 completed"
     ]
    },
    {
     "name": "stderr",
     "output_type": "stream",
     "text": [
      "sys:1: ResourceWarning: unclosed socket <zmq.Socket(zmq.PUSH) at 0x7f6d12f25960>\n",
      "ResourceWarning: Enable tracemalloc to get the object allocation traceback\n",
      "sys:1: ResourceWarning: unclosed socket <zmq.Socket(zmq.PUSH) at 0x7f6d12d8fd60>\n",
      "ResourceWarning: Enable tracemalloc to get the object allocation traceback\n",
      "sys:1: ResourceWarning: unclosed socket <zmq.Socket(zmq.PUSH) at 0x7f6d11c57fa0>\n",
      "ResourceWarning: Enable tracemalloc to get the object allocation traceback\n"
     ]
    },
    {
     "name": "stdout",
     "output_type": "stream",
     "text": [
      "\r",
      "[**********************54%*                      ]  1254 of 2310 completed"
     ]
    },
    {
     "name": "stderr",
     "output_type": "stream",
     "text": [
      "sys:1: ResourceWarning: unclosed socket <zmq.Socket(zmq.PUSH) at 0x7f6d12d8cac0>\n",
      "ResourceWarning: Enable tracemalloc to get the object allocation traceback\n"
     ]
    },
    {
     "name": "stdout",
     "output_type": "stream",
     "text": [
      "[**********************54%*                      ]  1256 of 2310 completed"
     ]
    },
    {
     "name": "stderr",
     "output_type": "stream",
     "text": [
      "sys:1: ResourceWarning: unclosed socket <zmq.Socket(zmq.PUSH) at 0x7f6d12d8cac0>\n",
      "ResourceWarning: Enable tracemalloc to get the object allocation traceback\n",
      "sys:1: ResourceWarning: unclosed socket <zmq.Socket(zmq.PUSH) at 0x7f6d11d1a4a0>\n",
      "ResourceWarning: Enable tracemalloc to get the object allocation traceback\n"
     ]
    },
    {
     "name": "stdout",
     "output_type": "stream",
     "text": [
      "[**********************55%*                      ]  1259 of 2310 completed"
     ]
    },
    {
     "name": "stderr",
     "output_type": "stream",
     "text": [
      "sys:1: ResourceWarning: unclosed socket <zmq.Socket(zmq.PUSH) at 0x7f6d11b2b220>\n",
      "ResourceWarning: Enable tracemalloc to get the object allocation traceback\n",
      "sys:1: ResourceWarning: unclosed socket <zmq.Socket(zmq.PUSH) at 0x7f6d12f25960>\n",
      "ResourceWarning: Enable tracemalloc to get the object allocation traceback\n",
      "sys:1: ResourceWarning: unclosed socket <zmq.Socket(zmq.PUSH) at 0x7f6d12f66680>\n",
      "ResourceWarning: Enable tracemalloc to get the object allocation traceback\n"
     ]
    },
    {
     "name": "stdout",
     "output_type": "stream",
     "text": [
      "\r",
      "[**********************55%*                      ]  1260 of 2310 completed"
     ]
    },
    {
     "name": "stderr",
     "output_type": "stream",
     "text": [
      "sys:1: ResourceWarning: unclosed socket <zmq.Socket(zmq.PUSH) at 0x7f6d12d8afe0>\n",
      "ResourceWarning: Enable tracemalloc to get the object allocation traceback\n"
     ]
    },
    {
     "name": "stdout",
     "output_type": "stream",
     "text": [
      "[**********************55%*                      ]  1263 of 2310 completed"
     ]
    },
    {
     "name": "stderr",
     "output_type": "stream",
     "text": [
      "sys:1: ResourceWarning: unclosed socket <zmq.Socket(zmq.PUSH) at 0x7f6d11c57fa0>\n",
      "ResourceWarning: Enable tracemalloc to get the object allocation traceback\n",
      "sys:1: ResourceWarning: unclosed socket <zmq.Socket(zmq.PUSH) at 0x7f6d12f5eb60>\n",
      "ResourceWarning: Enable tracemalloc to get the object allocation traceback\n",
      "sys:1: ResourceWarning: unclosed socket <zmq.Socket(zmq.PUSH) at 0x7f6d11c4d240>\n",
      "ResourceWarning: Enable tracemalloc to get the object allocation traceback\n"
     ]
    },
    {
     "name": "stdout",
     "output_type": "stream",
     "text": [
      "[**********************55%*                      ]  1265 of 2310 completed"
     ]
    },
    {
     "name": "stderr",
     "output_type": "stream",
     "text": [
      "sys:1: ResourceWarning: unclosed socket <zmq.Socket(zmq.PUSH) at 0x7f6d12d8fa60>\n",
      "ResourceWarning: Enable tracemalloc to get the object allocation traceback\n",
      "sys:1: ResourceWarning: unclosed socket <zmq.Socket(zmq.PUSH) at 0x7f6d11c4d240>\n",
      "ResourceWarning: Enable tracemalloc to get the object allocation traceback\n"
     ]
    },
    {
     "name": "stdout",
     "output_type": "stream",
     "text": [
      "[**********************55%*                      ]  1267 of 2310 completed"
     ]
    },
    {
     "name": "stderr",
     "output_type": "stream",
     "text": [
      "sys:1: ResourceWarning: unclosed socket <zmq.Socket(zmq.PUSH) at 0x7f6d12d8f1c0>\n",
      "ResourceWarning: Enable tracemalloc to get the object allocation traceback\n",
      "sys:1: ResourceWarning: unclosed socket <zmq.Socket(zmq.PUSH) at 0x7f6cf876f220>\n",
      "ResourceWarning: Enable tracemalloc to get the object allocation traceback\n"
     ]
    },
    {
     "name": "stdout",
     "output_type": "stream",
     "text": [
      "\r",
      "[**********************55%*                      ]  1268 of 2310 completed"
     ]
    },
    {
     "name": "stderr",
     "output_type": "stream",
     "text": [
      "sys:1: ResourceWarning: unclosed socket <zmq.Socket(zmq.PUSH) at 0x7f6d12d8e5c0>\n",
      "ResourceWarning: Enable tracemalloc to get the object allocation traceback\n"
     ]
    },
    {
     "name": "stdout",
     "output_type": "stream",
     "text": [
      "[**********************55%*                      ]  1270 of 2310 completed"
     ]
    },
    {
     "name": "stderr",
     "output_type": "stream",
     "text": [
      "sys:1: ResourceWarning: unclosed socket <zmq.Socket(zmq.PUSH) at 0x7f6d11c4f220>\n",
      "ResourceWarning: Enable tracemalloc to get the object allocation traceback\n",
      "sys:1: ResourceWarning: unclosed socket <zmq.Socket(zmq.PUSH) at 0x7f6d12f5bb80>\n",
      "ResourceWarning: Enable tracemalloc to get the object allocation traceback\n"
     ]
    },
    {
     "name": "stdout",
     "output_type": "stream",
     "text": [
      "[**********************55%*                      ]  1273 of 2310 completed"
     ]
    },
    {
     "name": "stderr",
     "output_type": "stream",
     "text": [
      "sys:1: ResourceWarning: unclosed socket <zmq.Socket(zmq.PUSH) at 0x7f6d12d8ed40>\n",
      "ResourceWarning: Enable tracemalloc to get the object allocation traceback\n",
      "sys:1: ResourceWarning: unclosed socket <zmq.Socket(zmq.PUSH) at 0x7f6d12d8fa60>\n",
      "ResourceWarning: Enable tracemalloc to get the object allocation traceback\n",
      "sys:1: ResourceWarning: unclosed socket <zmq.Socket(zmq.PUSH) at 0x7f6cf876d2a0>\n",
      "ResourceWarning: Enable tracemalloc to get the object allocation traceback\n"
     ]
    },
    {
     "name": "stdout",
     "output_type": "stream",
     "text": [
      "[**********************55%*                      ]  1276 of 2310 completed"
     ]
    },
    {
     "name": "stderr",
     "output_type": "stream",
     "text": [
      "sys:1: ResourceWarning: unclosed socket <zmq.Socket(zmq.PUSH) at 0x7f6d12d8b760>\n",
      "ResourceWarning: Enable tracemalloc to get the object allocation traceback\n",
      "sys:1: ResourceWarning: unclosed socket <zmq.Socket(zmq.PUSH) at 0x7f6d12f26020>\n",
      "ResourceWarning: Enable tracemalloc to get the object allocation traceback\n",
      "sys:1: ResourceWarning: unclosed socket <zmq.Socket(zmq.PUSH) at 0x7f6d12d8bdc0>\n",
      "ResourceWarning: Enable tracemalloc to get the object allocation traceback\n"
     ]
    },
    {
     "name": "stdout",
     "output_type": "stream",
     "text": [
      "[**********************55%*                      ]  1278 of 2310 completed"
     ]
    },
    {
     "name": "stderr",
     "output_type": "stream",
     "text": [
      "sys:1: ResourceWarning: unclosed socket <zmq.Socket(zmq.PUSH) at 0x7f6d12d8e800>\n",
      "ResourceWarning: Enable tracemalloc to get the object allocation traceback\n",
      "sys:1: ResourceWarning: unclosed socket <zmq.Socket(zmq.PUSH) at 0x7f6d11aa23e0>\n",
      "ResourceWarning: Enable tracemalloc to get the object allocation traceback\n"
     ]
    },
    {
     "name": "stdout",
     "output_type": "stream",
     "text": [
      "[**********************55%*                      ]  1281 of 2310 completed"
     ]
    },
    {
     "name": "stderr",
     "output_type": "stream",
     "text": [
      "sys:1: ResourceWarning: unclosed socket <zmq.Socket(zmq.PUSH) at 0x7f6cf876fa60>\n",
      "ResourceWarning: Enable tracemalloc to get the object allocation traceback\n",
      "sys:1: ResourceWarning: unclosed socket <zmq.Socket(zmq.PUSH) at 0x7f6d12f5fbe0>\n",
      "ResourceWarning: Enable tracemalloc to get the object allocation traceback\n",
      "sys:1: ResourceWarning: unclosed socket <zmq.Socket(zmq.PUSH) at 0x7f6d12d8b760>\n",
      "ResourceWarning: Enable tracemalloc to get the object allocation traceback\n"
     ]
    },
    {
     "name": "stdout",
     "output_type": "stream",
     "text": [
      "[**********************56%**                     ]  1283 of 2310 completed"
     ]
    },
    {
     "name": "stderr",
     "output_type": "stream",
     "text": [
      "sys:1: ResourceWarning: unclosed socket <zmq.Socket(zmq.PUSH) at 0x7f6d11c4f220>\n",
      "ResourceWarning: Enable tracemalloc to get the object allocation traceback\n",
      "sys:1: ResourceWarning: unclosed socket <zmq.Socket(zmq.PUSH) at 0x7f6d11d1a4a0>\n",
      "ResourceWarning: Enable tracemalloc to get the object allocation traceback\n"
     ]
    },
    {
     "name": "stdout",
     "output_type": "stream",
     "text": [
      "[**********************56%**                     ]  1285 of 2310 completed"
     ]
    },
    {
     "name": "stderr",
     "output_type": "stream",
     "text": [
      "sys:1: ResourceWarning: unclosed socket <zmq.Socket(zmq.PUSH) at 0x7f6d11d1a4a0>\n",
      "ResourceWarning: Enable tracemalloc to get the object allocation traceback\n",
      "sys:1: ResourceWarning: unclosed socket <zmq.Socket(zmq.PUSH) at 0x7f6d12f26020>\n",
      "ResourceWarning: Enable tracemalloc to get the object allocation traceback\n"
     ]
    },
    {
     "name": "stdout",
     "output_type": "stream",
     "text": [
      "[**********************56%**                     ]  1287 of 2310 completed"
     ]
    },
    {
     "name": "stderr",
     "output_type": "stream",
     "text": [
      "sys:1: ResourceWarning: unclosed socket <zmq.Socket(zmq.PUSH) at 0x7f6d11c4f0a0>\n",
      "ResourceWarning: Enable tracemalloc to get the object allocation traceback\n",
      "sys:1: ResourceWarning: unclosed socket <zmq.Socket(zmq.PUSH) at 0x7f6cf8797220>\n",
      "ResourceWarning: Enable tracemalloc to get the object allocation traceback\n"
     ]
    },
    {
     "name": "stdout",
     "output_type": "stream",
     "text": [
      "\r",
      "[**********************56%**                     ]  1288 of 2310 completed"
     ]
    },
    {
     "name": "stderr",
     "output_type": "stream",
     "text": [
      "sys:1: ResourceWarning: unclosed socket <zmq.Socket(zmq.PUSH) at 0x7f6d12f5bb80>\n",
      "ResourceWarning: Enable tracemalloc to get the object allocation traceback\n"
     ]
    },
    {
     "name": "stdout",
     "output_type": "stream",
     "text": [
      "[**********************56%**                     ]  1290 of 2310 completed"
     ]
    },
    {
     "name": "stderr",
     "output_type": "stream",
     "text": [
      "sys:1: ResourceWarning: unclosed socket <zmq.Socket(zmq.PUSH) at 0x7f6cf87976a0>\n",
      "ResourceWarning: Enable tracemalloc to get the object allocation traceback\n",
      "sys:1: ResourceWarning: unclosed socket <zmq.Socket(zmq.PUSH) at 0x7f6d12d8ed40>\n",
      "ResourceWarning: Enable tracemalloc to get the object allocation traceback\n"
     ]
    },
    {
     "name": "stdout",
     "output_type": "stream",
     "text": [
      "[**********************56%**                     ]  1292 of 2310 completed"
     ]
    },
    {
     "name": "stderr",
     "output_type": "stream",
     "text": [
      "sys:1: ResourceWarning: unclosed socket <zmq.Socket(zmq.PUSH) at 0x7f6d12f5eaa0>\n",
      "ResourceWarning: Enable tracemalloc to get the object allocation traceback\n",
      "sys:1: ResourceWarning: unclosed socket <zmq.Socket(zmq.PUSH) at 0x7f6d12f5fbe0>\n",
      "ResourceWarning: Enable tracemalloc to get the object allocation traceback\n"
     ]
    },
    {
     "name": "stdout",
     "output_type": "stream",
     "text": [
      "[**********************56%**                     ]  1295 of 2310 completed"
     ]
    },
    {
     "name": "stderr",
     "output_type": "stream",
     "text": [
      "sys:1: ResourceWarning: unclosed socket <zmq.Socket(zmq.PUSH) at 0x7f6d12f5fbe0>\n",
      "ResourceWarning: Enable tracemalloc to get the object allocation traceback\n",
      "sys:1: ResourceWarning: unclosed socket <zmq.Socket(zmq.PUSH) at 0x7f6cf876c820>\n",
      "ResourceWarning: Enable tracemalloc to get the object allocation traceback\n",
      "sys:1: ResourceWarning: unclosed socket <zmq.Socket(zmq.PUSH) at 0x7f6d12d8fe20>\n",
      "ResourceWarning: Enable tracemalloc to get the object allocation traceback\n"
     ]
    },
    {
     "name": "stdout",
     "output_type": "stream",
     "text": [
      "\r",
      "[**********************56%**                     ]  1296 of 2310 completed"
     ]
    },
    {
     "name": "stderr",
     "output_type": "stream",
     "text": [
      "sys:1: ResourceWarning: unclosed socket <zmq.Socket(zmq.PUSH) at 0x7f6cf8797220>\n",
      "ResourceWarning: Enable tracemalloc to get the object allocation traceback\n"
     ]
    },
    {
     "name": "stdout",
     "output_type": "stream",
     "text": [
      "\r",
      "[**********************56%**                     ]  1297 of 2310 completed"
     ]
    },
    {
     "name": "stderr",
     "output_type": "stream",
     "text": [
      "sys:1: ResourceWarning: unclosed socket <zmq.Socket(zmq.PUSH) at 0x7f6d11c57fa0>\n",
      "ResourceWarning: Enable tracemalloc to get the object allocation traceback\n"
     ]
    },
    {
     "name": "stdout",
     "output_type": "stream",
     "text": [
      "\r",
      "[**********************56%**                     ]  1298 of 2310 completed"
     ]
    },
    {
     "name": "stderr",
     "output_type": "stream",
     "text": [
      "sys:1: ResourceWarning: unclosed socket <zmq.Socket(zmq.PUSH) at 0x7f6d11b2b220>\n",
      "ResourceWarning: Enable tracemalloc to get the object allocation traceback\n"
     ]
    },
    {
     "name": "stdout",
     "output_type": "stream",
     "text": [
      "[**********************56%**                     ]  1300 of 2310 completed"
     ]
    },
    {
     "name": "stderr",
     "output_type": "stream",
     "text": [
      "sys:1: ResourceWarning: unclosed socket <zmq.Socket(zmq.PUSH) at 0x7f6d11b2b220>\n",
      "ResourceWarning: Enable tracemalloc to get the object allocation traceback\n",
      "sys:1: ResourceWarning: unclosed socket <zmq.Socket(zmq.PUSH) at 0x7f6d11c4f220>\n",
      "ResourceWarning: Enable tracemalloc to get the object allocation traceback\n"
     ]
    },
    {
     "name": "stdout",
     "output_type": "stream",
     "text": [
      "[**********************56%**                     ]  1304 of 2310 completed"
     ]
    },
    {
     "name": "stderr",
     "output_type": "stream",
     "text": [
      "sys:1: ResourceWarning: unclosed socket <zmq.Socket(zmq.PUSH) at 0x7f6d12d8f1c0>\n",
      "ResourceWarning: Enable tracemalloc to get the object allocation traceback\n",
      "sys:1: ResourceWarning: unclosed socket <zmq.Socket(zmq.PUSH) at 0x7f6d12d8a9e0>\n",
      "ResourceWarning: Enable tracemalloc to get the object allocation traceback\n",
      "sys:1: ResourceWarning: unclosed socket <zmq.Socket(zmq.PUSH) at 0x7f6d12d8eda0>\n",
      "ResourceWarning: Enable tracemalloc to get the object allocation traceback\n",
      "sys:1: ResourceWarning: unclosed socket <zmq.Socket(zmq.PUSH) at 0x7f6d11c4f0a0>\n",
      "ResourceWarning: Enable tracemalloc to get the object allocation traceback\n"
     ]
    },
    {
     "name": "stdout",
     "output_type": "stream",
     "text": [
      "\r",
      "[**********************56%**                     ]  1305 of 2310 completed"
     ]
    },
    {
     "name": "stderr",
     "output_type": "stream",
     "text": [
      "sys:1: ResourceWarning: unclosed socket <zmq.Socket(zmq.PUSH) at 0x7f6cf8797ee0>\n",
      "ResourceWarning: Enable tracemalloc to get the object allocation traceback\n"
     ]
    },
    {
     "name": "stdout",
     "output_type": "stream",
     "text": [
      "[**********************57%**                     ]  1307 of 2310 completed"
     ]
    },
    {
     "name": "stderr",
     "output_type": "stream",
     "text": [
      "sys:1: ResourceWarning: unclosed socket <zmq.Socket(zmq.PUSH) at 0x7f6cf8796920>\n",
      "ResourceWarning: Enable tracemalloc to get the object allocation traceback\n",
      "sys:1: ResourceWarning: unclosed socket <zmq.Socket(zmq.PUSH) at 0x7f6d12f5eb60>\n",
      "ResourceWarning: Enable tracemalloc to get the object allocation traceback\n"
     ]
    },
    {
     "name": "stdout",
     "output_type": "stream",
     "text": [
      "[**********************57%**                     ]  1309 of 2310 completed"
     ]
    },
    {
     "name": "stderr",
     "output_type": "stream",
     "text": [
      "sys:1: ResourceWarning: unclosed socket <zmq.Socket(zmq.PUSH) at 0x7f6cf8796140>\n",
      "ResourceWarning: Enable tracemalloc to get the object allocation traceback\n",
      "sys:1: ResourceWarning: unclosed socket <zmq.Socket(zmq.PUSH) at 0x7f6cf8796140>\n",
      "ResourceWarning: Enable tracemalloc to get the object allocation traceback\n"
     ]
    },
    {
     "name": "stdout",
     "output_type": "stream",
     "text": [
      "\r",
      "[**********************57%**                     ]  1310 of 2310 completed"
     ]
    },
    {
     "name": "stderr",
     "output_type": "stream",
     "text": [
      "sys:1: ResourceWarning: unclosed socket <zmq.Socket(zmq.PUSH) at 0x7f6d12f5b820>\n",
      "ResourceWarning: Enable tracemalloc to get the object allocation traceback\n"
     ]
    },
    {
     "name": "stdout",
     "output_type": "stream",
     "text": [
      "[**********************57%**                     ]  1312 of 2310 completed"
     ]
    },
    {
     "name": "stderr",
     "output_type": "stream",
     "text": [
      "sys:1: ResourceWarning: unclosed socket <zmq.Socket(zmq.PUSH) at 0x7f6d12db3d60>\n",
      "ResourceWarning: Enable tracemalloc to get the object allocation traceback\n",
      "sys:1: ResourceWarning: unclosed socket <zmq.Socket(zmq.PUSH) at 0x7f6cf8797760>\n",
      "ResourceWarning: Enable tracemalloc to get the object allocation traceback\n"
     ]
    },
    {
     "name": "stdout",
     "output_type": "stream",
     "text": [
      "[**********************57%**                     ]  1314 of 2310 completed"
     ]
    },
    {
     "name": "stderr",
     "output_type": "stream",
     "text": [
      "sys:1: ResourceWarning: unclosed socket <zmq.Socket(zmq.PUSH) at 0x7f6d12db1de0>\n",
      "ResourceWarning: Enable tracemalloc to get the object allocation traceback\n",
      "sys:1: ResourceWarning: unclosed socket <zmq.Socket(zmq.PUSH) at 0x7f6cf876c820>\n",
      "ResourceWarning: Enable tracemalloc to get the object allocation traceback\n"
     ]
    },
    {
     "name": "stdout",
     "output_type": "stream",
     "text": [
      "[**********************57%**                     ]  1316 of 2310 completed"
     ]
    },
    {
     "name": "stderr",
     "output_type": "stream",
     "text": [
      "sys:1: ResourceWarning: unclosed socket <zmq.Socket(zmq.PUSH) at 0x7f6d12f66680>\n",
      "ResourceWarning: Enable tracemalloc to get the object allocation traceback\n",
      "sys:1: ResourceWarning: unclosed socket <zmq.Socket(zmq.PUSH) at 0x7f6d12db3700>\n",
      "ResourceWarning: Enable tracemalloc to get the object allocation traceback\n"
     ]
    },
    {
     "name": "stdout",
     "output_type": "stream",
     "text": [
      "\r",
      "[**********************57%**                     ]  1317 of 2310 completed"
     ]
    },
    {
     "name": "stderr",
     "output_type": "stream",
     "text": [
      "sys:1: ResourceWarning: unclosed socket <zmq.Socket(zmq.PUSH) at 0x7f6d12d8e5c0>\n",
      "ResourceWarning: Enable tracemalloc to get the object allocation traceback\n"
     ]
    },
    {
     "name": "stdout",
     "output_type": "stream",
     "text": [
      "[**********************57%**                     ]  1319 of 2310 completed"
     ]
    },
    {
     "name": "stderr",
     "output_type": "stream",
     "text": [
      "sys:1: ResourceWarning: unclosed socket <zmq.Socket(zmq.PUSH) at 0x7f6d12db3a60>\n",
      "ResourceWarning: Enable tracemalloc to get the object allocation traceback\n",
      "sys:1: ResourceWarning: unclosed socket <zmq.Socket(zmq.PUSH) at 0x7f6d11c4fe80>\n",
      "ResourceWarning: Enable tracemalloc to get the object allocation traceback\n"
     ]
    },
    {
     "name": "stdout",
     "output_type": "stream",
     "text": [
      "\r",
      "[**********************57%**                     ]  1320 of 2310 completed"
     ]
    },
    {
     "name": "stderr",
     "output_type": "stream",
     "text": [
      "sys:1: ResourceWarning: unclosed socket <zmq.Socket(zmq.PUSH) at 0x7f6d11c4fe80>\n",
      "ResourceWarning: Enable tracemalloc to get the object allocation traceback\n"
     ]
    },
    {
     "name": "stdout",
     "output_type": "stream",
     "text": [
      "[**********************57%**                     ]  1324 of 2310 completed"
     ]
    },
    {
     "name": "stderr",
     "output_type": "stream",
     "text": [
      "sys:1: ResourceWarning: unclosed socket <zmq.Socket(zmq.PUSH) at 0x7f6d11c4fe80>\n",
      "ResourceWarning: Enable tracemalloc to get the object allocation traceback\n",
      "sys:1: ResourceWarning: unclosed socket <zmq.Socket(zmq.PUSH) at 0x7f6d11d1a4a0>\n",
      "ResourceWarning: Enable tracemalloc to get the object allocation traceback\n",
      "sys:1: ResourceWarning: unclosed socket <zmq.Socket(zmq.PUSH) at 0x7f6d12dabfa0>\n",
      "ResourceWarning: Enable tracemalloc to get the object allocation traceback\n",
      "sys:1: ResourceWarning: unclosed socket <zmq.Socket(zmq.PUSH) at 0x7f6d11d1a4a0>\n",
      "ResourceWarning: Enable tracemalloc to get the object allocation traceback\n"
     ]
    },
    {
     "name": "stdout",
     "output_type": "stream",
     "text": [
      "[**********************57%**                     ]  1326 of 2310 completed"
     ]
    },
    {
     "name": "stderr",
     "output_type": "stream",
     "text": [
      "sys:1: ResourceWarning: unclosed socket <zmq.Socket(zmq.PUSH) at 0x7f6d12d8e800>\n",
      "ResourceWarning: Enable tracemalloc to get the object allocation traceback\n",
      "sys:1: ResourceWarning: unclosed socket <zmq.Socket(zmq.PUSH) at 0x7f6d12db1660>\n",
      "ResourceWarning: Enable tracemalloc to get the object allocation traceback\n"
     ]
    },
    {
     "name": "stdout",
     "output_type": "stream",
     "text": [
      "\r",
      "[**********************57%**                     ]  1327 of 2310 completed"
     ]
    },
    {
     "name": "stderr",
     "output_type": "stream",
     "text": [
      "sys:1: ResourceWarning: unclosed socket <zmq.Socket(zmq.PUSH) at 0x7f6d12db3e80>\n",
      "ResourceWarning: Enable tracemalloc to get the object allocation traceback\n"
     ]
    },
    {
     "name": "stdout",
     "output_type": "stream",
     "text": [
      "[**********************58%***                    ]  1330 of 2310 completed"
     ]
    },
    {
     "name": "stderr",
     "output_type": "stream",
     "text": [
      "sys:1: ResourceWarning: unclosed socket <zmq.Socket(zmq.PUSH) at 0x7f6d12db1660>\n",
      "ResourceWarning: Enable tracemalloc to get the object allocation traceback\n",
      "sys:1: ResourceWarning: unclosed socket <zmq.Socket(zmq.PUSH) at 0x7f6cf8796140>\n",
      "ResourceWarning: Enable tracemalloc to get the object allocation traceback\n",
      "sys:1: ResourceWarning: unclosed socket <zmq.Socket(zmq.PUSH) at 0x7f6cf8797ee0>\n",
      "ResourceWarning: Enable tracemalloc to get the object allocation traceback\n"
     ]
    },
    {
     "name": "stdout",
     "output_type": "stream",
     "text": [
      "[**********************58%***                    ]  1333 of 2310 completed"
     ]
    },
    {
     "name": "stderr",
     "output_type": "stream",
     "text": [
      "sys:1: ResourceWarning: unclosed socket <zmq.Socket(zmq.PUSH) at 0x7f6d12db1660>\n",
      "ResourceWarning: Enable tracemalloc to get the object allocation traceback\n",
      "sys:1: ResourceWarning: unclosed socket <zmq.Socket(zmq.PUSH) at 0x7f6d11c4f0a0>\n",
      "ResourceWarning: Enable tracemalloc to get the object allocation traceback\n",
      "sys:1: ResourceWarning: unclosed socket <zmq.Socket(zmq.PUSH) at 0x7f6d11c4f0a0>\n",
      "ResourceWarning: Enable tracemalloc to get the object allocation traceback\n"
     ]
    },
    {
     "name": "stdout",
     "output_type": "stream",
     "text": [
      "\r",
      "[**********************58%***                    ]  1334 of 2310 completed"
     ]
    },
    {
     "name": "stderr",
     "output_type": "stream",
     "text": [
      "sys:1: ResourceWarning: unclosed socket <zmq.Socket(zmq.PUSH) at 0x7f6d12db3c40>\n",
      "ResourceWarning: Enable tracemalloc to get the object allocation traceback\n"
     ]
    },
    {
     "name": "stdout",
     "output_type": "stream",
     "text": [
      "\r",
      "[**********************58%***                    ]  1335 of 2310 completed"
     ]
    },
    {
     "name": "stderr",
     "output_type": "stream",
     "text": [
      "sys:1: ResourceWarning: unclosed socket <zmq.Socket(zmq.PUSH) at 0x7f6d12db3e80>\n",
      "ResourceWarning: Enable tracemalloc to get the object allocation traceback\n"
     ]
    },
    {
     "name": "stdout",
     "output_type": "stream",
     "text": [
      "[**********************58%***                    ]  1338 of 2310 completed"
     ]
    },
    {
     "name": "stderr",
     "output_type": "stream",
     "text": [
      "sys:1: ResourceWarning: unclosed socket <zmq.Socket(zmq.PUSH) at 0x7f6d12da9f00>\n",
      "ResourceWarning: Enable tracemalloc to get the object allocation traceback\n",
      "sys:1: ResourceWarning: unclosed socket <zmq.Socket(zmq.PUSH) at 0x7f6d12db1de0>\n",
      "ResourceWarning: Enable tracemalloc to get the object allocation traceback\n",
      "sys:1: ResourceWarning: unclosed socket <zmq.Socket(zmq.PUSH) at 0x7f6cf876eec0>\n",
      "ResourceWarning: Enable tracemalloc to get the object allocation traceback\n"
     ]
    },
    {
     "name": "stdout",
     "output_type": "stream",
     "text": [
      "[**********************58%***                    ]  1340 of 2310 completed"
     ]
    },
    {
     "name": "stderr",
     "output_type": "stream",
     "text": [
      "sys:1: ResourceWarning: unclosed socket <zmq.Socket(zmq.PUSH) at 0x7f6d12dadd20>\n",
      "ResourceWarning: Enable tracemalloc to get the object allocation traceback\n",
      "sys:1: ResourceWarning: unclosed socket <zmq.Socket(zmq.PUSH) at 0x7f6d12dafb20>\n",
      "ResourceWarning: Enable tracemalloc to get the object allocation traceback\n"
     ]
    },
    {
     "name": "stdout",
     "output_type": "stream",
     "text": [
      "[**********************58%***                    ]  1342 of 2310 completed"
     ]
    },
    {
     "name": "stderr",
     "output_type": "stream",
     "text": [
      "sys:1: ResourceWarning: unclosed socket <zmq.Socket(zmq.PUSH) at 0x7f6d12dabfa0>\n",
      "ResourceWarning: Enable tracemalloc to get the object allocation traceback\n",
      "sys:1: ResourceWarning: unclosed socket <zmq.Socket(zmq.PUSH) at 0x7f6d12daf4c0>\n",
      "ResourceWarning: Enable tracemalloc to get the object allocation traceback\n"
     ]
    },
    {
     "name": "stdout",
     "output_type": "stream",
     "text": [
      "[**********************58%***                    ]  1344 of 2310 completed"
     ]
    },
    {
     "name": "stderr",
     "output_type": "stream",
     "text": [
      "sys:1: ResourceWarning: unclosed socket <zmq.Socket(zmq.PUSH) at 0x7f6d12f5aa40>\n",
      "ResourceWarning: Enable tracemalloc to get the object allocation traceback\n",
      "sys:1: ResourceWarning: unclosed socket <zmq.Socket(zmq.PUSH) at 0x7f6d12daf340>\n",
      "ResourceWarning: Enable tracemalloc to get the object allocation traceback\n"
     ]
    },
    {
     "name": "stdout",
     "output_type": "stream",
     "text": [
      "[**********************58%***                    ]  1348 of 2310 completed"
     ]
    },
    {
     "name": "stderr",
     "output_type": "stream",
     "text": [
      "sys:1: ResourceWarning: unclosed socket <zmq.Socket(zmq.PUSH) at 0x7f6d12daae00>\n",
      "ResourceWarning: Enable tracemalloc to get the object allocation traceback\n",
      "sys:1: ResourceWarning: unclosed socket <zmq.Socket(zmq.PUSH) at 0x7f6d12db3a60>\n",
      "ResourceWarning: Enable tracemalloc to get the object allocation traceback\n",
      "sys:1: ResourceWarning: unclosed socket <zmq.Socket(zmq.PUSH) at 0x7f6d12d8e5c0>\n",
      "ResourceWarning: Enable tracemalloc to get the object allocation traceback\n",
      "sys:1: ResourceWarning: unclosed socket <zmq.Socket(zmq.PUSH) at 0x7f6d11d1a4a0>\n",
      "ResourceWarning: Enable tracemalloc to get the object allocation traceback\n"
     ]
    },
    {
     "name": "stdout",
     "output_type": "stream",
     "text": [
      "[**********************58%***                    ]  1351 of 2310 completed"
     ]
    },
    {
     "name": "stderr",
     "output_type": "stream",
     "text": [
      "sys:1: ResourceWarning: unclosed socket <zmq.Socket(zmq.PUSH) at 0x7f6d12daf160>\n",
      "ResourceWarning: Enable tracemalloc to get the object allocation traceback\n",
      "sys:1: ResourceWarning: unclosed socket <zmq.Socket(zmq.PUSH) at 0x7f6d12daab00>\n",
      "ResourceWarning: Enable tracemalloc to get the object allocation traceback\n",
      "sys:1: ResourceWarning: unclosed socket <zmq.Socket(zmq.PUSH) at 0x7f6d12d8a9e0>\n",
      "ResourceWarning: Enable tracemalloc to get the object allocation traceback\n"
     ]
    },
    {
     "name": "stdout",
     "output_type": "stream",
     "text": [
      "[**********************59%***                    ]  1353 of 2310 completed"
     ]
    },
    {
     "name": "stderr",
     "output_type": "stream",
     "text": [
      "sys:1: ResourceWarning: unclosed socket <zmq.Socket(zmq.PUSH) at 0x7f6d12daed40>\n",
      "ResourceWarning: Enable tracemalloc to get the object allocation traceback\n",
      "sys:1: ResourceWarning: unclosed socket <zmq.Socket(zmq.PUSH) at 0x7f6d12db3c40>\n",
      "ResourceWarning: Enable tracemalloc to get the object allocation traceback\n"
     ]
    },
    {
     "name": "stdout",
     "output_type": "stream",
     "text": [
      "[**********************59%***                    ]  1355 of 2310 completed"
     ]
    },
    {
     "name": "stderr",
     "output_type": "stream",
     "text": [
      "sys:1: ResourceWarning: unclosed socket <zmq.Socket(zmq.PUSH) at 0x7f6cf876f520>\n",
      "ResourceWarning: Enable tracemalloc to get the object allocation traceback\n",
      "sys:1: ResourceWarning: unclosed socket <zmq.Socket(zmq.PUSH) at 0x7f6d12dabbe0>\n",
      "ResourceWarning: Enable tracemalloc to get the object allocation traceback\n"
     ]
    },
    {
     "name": "stdout",
     "output_type": "stream",
     "text": [
      "[**********************59%***                    ]  1358 of 2310 completed"
     ]
    },
    {
     "name": "stderr",
     "output_type": "stream",
     "text": [
      "sys:1: ResourceWarning: unclosed socket <zmq.Socket(zmq.PUSH) at 0x7f6cf876f100>\n",
      "ResourceWarning: Enable tracemalloc to get the object allocation traceback\n",
      "sys:1: ResourceWarning: unclosed socket <zmq.Socket(zmq.PUSH) at 0x7f6d12daab00>\n",
      "ResourceWarning: Enable tracemalloc to get the object allocation traceback\n",
      "sys:1: ResourceWarning: unclosed socket <zmq.Socket(zmq.PUSH) at 0x7f6d12f5fbe0>\n",
      "ResourceWarning: Enable tracemalloc to get the object allocation traceback\n"
     ]
    },
    {
     "name": "stdout",
     "output_type": "stream",
     "text": [
      "[**********************59%***                    ]  1360 of 2310 completed"
     ]
    },
    {
     "name": "stderr",
     "output_type": "stream",
     "text": [
      "sys:1: ResourceWarning: unclosed socket <zmq.Socket(zmq.PUSH) at 0x7f6d12dafd60>\n",
      "ResourceWarning: Enable tracemalloc to get the object allocation traceback\n",
      "sys:1: ResourceWarning: unclosed socket <zmq.Socket(zmq.PUSH) at 0x7f6d12d8ed40>\n",
      "ResourceWarning: Enable tracemalloc to get the object allocation traceback\n"
     ]
    },
    {
     "name": "stdout",
     "output_type": "stream",
     "text": [
      "[**********************59%***                    ]  1362 of 2310 completed"
     ]
    },
    {
     "name": "stderr",
     "output_type": "stream",
     "text": [
      "sys:1: ResourceWarning: unclosed socket <zmq.Socket(zmq.PUSH) at 0x7f6cf876f520>\n",
      "ResourceWarning: Enable tracemalloc to get the object allocation traceback\n",
      "sys:1: ResourceWarning: unclosed socket <zmq.Socket(zmq.PUSH) at 0x7f6d12da9900>\n",
      "ResourceWarning: Enable tracemalloc to get the object allocation traceback\n"
     ]
    },
    {
     "name": "stdout",
     "output_type": "stream",
     "text": [
      "[**********************59%***                    ]  1364 of 2310 completed"
     ]
    },
    {
     "name": "stderr",
     "output_type": "stream",
     "text": [
      "sys:1: ResourceWarning: unclosed socket <zmq.Socket(zmq.PUSH) at 0x7f6d12dafb20>\n",
      "ResourceWarning: Enable tracemalloc to get the object allocation traceback\n",
      "sys:1: ResourceWarning: unclosed socket <zmq.Socket(zmq.PUSH) at 0x7f6cf87238e0>\n",
      "ResourceWarning: Enable tracemalloc to get the object allocation traceback\n"
     ]
    },
    {
     "name": "stdout",
     "output_type": "stream",
     "text": [
      "[**********************59%***                    ]  1366 of 2310 completed"
     ]
    },
    {
     "name": "stderr",
     "output_type": "stream",
     "text": [
      "sys:1: ResourceWarning: unclosed socket <zmq.Socket(zmq.PUSH) at 0x7f6d12dacfa0>\n",
      "ResourceWarning: Enable tracemalloc to get the object allocation traceback\n",
      "sys:1: ResourceWarning: unclosed socket <zmq.Socket(zmq.PUSH) at 0x7f6d12dca560>\n",
      "ResourceWarning: Enable tracemalloc to get the object allocation traceback\n"
     ]
    },
    {
     "name": "stdout",
     "output_type": "stream",
     "text": [
      "[**********************59%***                    ]  1368 of 2310 completed"
     ]
    },
    {
     "name": "stderr",
     "output_type": "stream",
     "text": [
      "sys:1: ResourceWarning: unclosed socket <zmq.Socket(zmq.PUSH) at 0x7f6d12daa320>\n",
      "ResourceWarning: Enable tracemalloc to get the object allocation traceback\n",
      "sys:1: ResourceWarning: unclosed socket <zmq.Socket(zmq.PUSH) at 0x7f6d12d8afe0>\n",
      "ResourceWarning: Enable tracemalloc to get the object allocation traceback\n"
     ]
    },
    {
     "name": "stdout",
     "output_type": "stream",
     "text": [
      "[**********************59%***                    ]  1370 of 2310 completed"
     ]
    },
    {
     "name": "stderr",
     "output_type": "stream",
     "text": [
      "sys:1: ResourceWarning: unclosed socket <zmq.Socket(zmq.PUSH) at 0x7f6cf876eec0>\n",
      "ResourceWarning: Enable tracemalloc to get the object allocation traceback\n",
      "sys:1: ResourceWarning: unclosed socket <zmq.Socket(zmq.PUSH) at 0x7f6d12f5b820>\n",
      "ResourceWarning: Enable tracemalloc to get the object allocation traceback\n"
     ]
    },
    {
     "name": "stdout",
     "output_type": "stream",
     "text": [
      "[**********************59%***                    ]  1372 of 2310 completed"
     ]
    },
    {
     "name": "stderr",
     "output_type": "stream",
     "text": [
      "sys:1: ResourceWarning: unclosed socket <zmq.Socket(zmq.PUSH) at 0x7f6d12d8b760>\n",
      "ResourceWarning: Enable tracemalloc to get the object allocation traceback\n",
      "sys:1: ResourceWarning: unclosed socket <zmq.Socket(zmq.PUSH) at 0x7f6cf876e0e0>\n",
      "ResourceWarning: Enable tracemalloc to get the object allocation traceback\n"
     ]
    },
    {
     "name": "stdout",
     "output_type": "stream",
     "text": [
      "[**********************60%****                   ]  1375 of 2310 completed"
     ]
    },
    {
     "name": "stderr",
     "output_type": "stream",
     "text": [
      "sys:1: ResourceWarning: unclosed socket <zmq.Socket(zmq.PUSH) at 0x7f6d12d8b760>\n",
      "ResourceWarning: Enable tracemalloc to get the object allocation traceback\n",
      "sys:1: ResourceWarning: unclosed socket <zmq.Socket(zmq.PUSH) at 0x7f6d12dcbac0>\n",
      "ResourceWarning: Enable tracemalloc to get the object allocation traceback\n",
      "sys:1: ResourceWarning: unclosed socket <zmq.Socket(zmq.PUSH) at 0x7f6d12db3c40>\n",
      "ResourceWarning: Enable tracemalloc to get the object allocation traceback\n"
     ]
    },
    {
     "name": "stdout",
     "output_type": "stream",
     "text": [
      "[**********************60%****                   ]  1377 of 2310 completed"
     ]
    },
    {
     "name": "stderr",
     "output_type": "stream",
     "text": [
      "sys:1: ResourceWarning: unclosed socket <zmq.Socket(zmq.PUSH) at 0x7f6d12dcbac0>\n",
      "ResourceWarning: Enable tracemalloc to get the object allocation traceback\n",
      "sys:1: ResourceWarning: unclosed socket <zmq.Socket(zmq.PUSH) at 0x7f6d12db3820>\n",
      "ResourceWarning: Enable tracemalloc to get the object allocation traceback\n"
     ]
    },
    {
     "name": "stdout",
     "output_type": "stream",
     "text": [
      "\r",
      "[**********************60%****                   ]  1378 of 2310 completed"
     ]
    },
    {
     "name": "stderr",
     "output_type": "stream",
     "text": [
      "sys:1: ResourceWarning: unclosed socket <zmq.Socket(zmq.PUSH) at 0x7f6d12dcbe80>\n",
      "ResourceWarning: Enable tracemalloc to get the object allocation traceback\n"
     ]
    },
    {
     "name": "stdout",
     "output_type": "stream",
     "text": [
      "[**********************60%****                   ]  1380 of 2310 completed"
     ]
    },
    {
     "name": "stderr",
     "output_type": "stream",
     "text": [
      "sys:1: ResourceWarning: unclosed socket <zmq.Socket(zmq.PUSH) at 0x7f6cf8723ca0>\n",
      "ResourceWarning: Enable tracemalloc to get the object allocation traceback\n",
      "sys:1: ResourceWarning: unclosed socket <zmq.Socket(zmq.PUSH) at 0x7f6d12dad780>\n",
      "ResourceWarning: Enable tracemalloc to get the object allocation traceback\n"
     ]
    },
    {
     "name": "stdout",
     "output_type": "stream",
     "text": [
      "[**********************60%****                   ]  1384 of 2310 completed"
     ]
    },
    {
     "name": "stderr",
     "output_type": "stream",
     "text": [
      "sys:1: ResourceWarning: unclosed socket <zmq.Socket(zmq.PUSH) at 0x7f6cf87233a0>\n",
      "ResourceWarning: Enable tracemalloc to get the object allocation traceback\n",
      "sys:1: ResourceWarning: unclosed socket <zmq.Socket(zmq.PUSH) at 0x7f6d12db3d60>\n",
      "ResourceWarning: Enable tracemalloc to get the object allocation traceback\n",
      "sys:1: ResourceWarning: unclosed socket <zmq.Socket(zmq.PUSH) at 0x7f6d12db3820>\n",
      "ResourceWarning: Enable tracemalloc to get the object allocation traceback\n",
      "sys:1: ResourceWarning: unclosed socket <zmq.Socket(zmq.PUSH) at 0x7f6d12d8ed40>\n",
      "ResourceWarning: Enable tracemalloc to get the object allocation traceback\n"
     ]
    },
    {
     "name": "stdout",
     "output_type": "stream",
     "text": [
      "\r",
      "[**********************60%****                   ]  1385 of 2310 completed"
     ]
    },
    {
     "name": "stderr",
     "output_type": "stream",
     "text": [
      "sys:1: ResourceWarning: unclosed socket <zmq.Socket(zmq.PUSH) at 0x7f6d12f5fbe0>\n",
      "ResourceWarning: Enable tracemalloc to get the object allocation traceback\n"
     ]
    },
    {
     "name": "stdout",
     "output_type": "stream",
     "text": [
      "\r",
      "[**********************60%****                   ]  1386 of 2310 completed"
     ]
    },
    {
     "name": "stderr",
     "output_type": "stream",
     "text": [
      "sys:1: ResourceWarning: unclosed socket <zmq.Socket(zmq.PUSH) at 0x7f6cf86069e0>\n",
      "ResourceWarning: Enable tracemalloc to get the object allocation traceback\n"
     ]
    },
    {
     "name": "stdout",
     "output_type": "stream",
     "text": [
      "\r",
      "[**********************60%****                   ]  1387 of 2310 completed"
     ]
    },
    {
     "name": "stderr",
     "output_type": "stream",
     "text": [
      "sys:1: ResourceWarning: unclosed socket <zmq.Socket(zmq.PUSH) at 0x7f6d12f5fbe0>\n",
      "ResourceWarning: Enable tracemalloc to get the object allocation traceback\n"
     ]
    },
    {
     "name": "stdout",
     "output_type": "stream",
     "text": [
      "[**********************60%****                   ]  1390 of 2310 completed"
     ]
    },
    {
     "name": "stderr",
     "output_type": "stream",
     "text": [
      "sys:1: ResourceWarning: unclosed socket <zmq.Socket(zmq.PUSH) at 0x7f6d12f5fbe0>\n",
      "ResourceWarning: Enable tracemalloc to get the object allocation traceback\n",
      "sys:1: ResourceWarning: unclosed socket <zmq.Socket(zmq.PUSH) at 0x7f6d12d8b760>\n",
      "ResourceWarning: Enable tracemalloc to get the object allocation traceback\n",
      "sys:1: ResourceWarning: unclosed socket <zmq.Socket(zmq.PUSH) at 0x7f6d12dcbdc0>\n",
      "ResourceWarning: Enable tracemalloc to get the object allocation traceback\n"
     ]
    },
    {
     "name": "stdout",
     "output_type": "stream",
     "text": [
      "\r",
      "[**********************60%****                   ]  1391 of 2310 completed"
     ]
    },
    {
     "name": "stderr",
     "output_type": "stream",
     "text": [
      "sys:1: ResourceWarning: unclosed socket <zmq.Socket(zmq.PUSH) at 0x7f6d12db3820>\n",
      "ResourceWarning: Enable tracemalloc to get the object allocation traceback\n"
     ]
    },
    {
     "name": "stdout",
     "output_type": "stream",
     "text": [
      "[**********************60%****                   ]  1393 of 2310 completed"
     ]
    },
    {
     "name": "stderr",
     "output_type": "stream",
     "text": [
      "sys:1: ResourceWarning: unclosed socket <zmq.Socket(zmq.PUSH) at 0x7f6d12db3820>\n",
      "ResourceWarning: Enable tracemalloc to get the object allocation traceback\n",
      "sys:1: ResourceWarning: unclosed socket <zmq.Socket(zmq.PUSH) at 0x7f6cf8607100>\n",
      "ResourceWarning: Enable tracemalloc to get the object allocation traceback\n"
     ]
    },
    {
     "name": "stdout",
     "output_type": "stream",
     "text": [
      "\r",
      "[**********************60%****                   ]  1394 of 2310 completed"
     ]
    },
    {
     "name": "stderr",
     "output_type": "stream",
     "text": [
      "sys:1: ResourceWarning: unclosed socket <zmq.Socket(zmq.PUSH) at 0x7f6d12db3a60>\n",
      "ResourceWarning: Enable tracemalloc to get the object allocation traceback\n"
     ]
    },
    {
     "name": "stdout",
     "output_type": "stream",
     "text": [
      "[**********************60%****                   ]  1396 of 2310 completed"
     ]
    },
    {
     "name": "stderr",
     "output_type": "stream",
     "text": [
      "sys:1: ResourceWarning: unclosed socket <zmq.Socket(zmq.PUSH) at 0x7f6d12daab60>\n",
      "ResourceWarning: Enable tracemalloc to get the object allocation traceback\n",
      "sys:1: ResourceWarning: unclosed socket <zmq.Socket(zmq.PUSH) at 0x7f6d11d1aaa0>\n",
      "ResourceWarning: Enable tracemalloc to get the object allocation traceback\n"
     ]
    },
    {
     "name": "stdout",
     "output_type": "stream",
     "text": [
      "[**********************61%****                   ]  1399 of 2310 completed"
     ]
    },
    {
     "name": "stderr",
     "output_type": "stream",
     "text": [
      "sys:1: ResourceWarning: unclosed socket <zmq.Socket(zmq.PUSH) at 0x7f6d12daab60>\n",
      "ResourceWarning: Enable tracemalloc to get the object allocation traceback\n",
      "sys:1: ResourceWarning: unclosed socket <zmq.Socket(zmq.PUSH) at 0x7f6d12dca500>\n",
      "ResourceWarning: Enable tracemalloc to get the object allocation traceback\n",
      "sys:1: ResourceWarning: unclosed socket <zmq.Socket(zmq.PUSH) at 0x7f6cf86078e0>\n",
      "ResourceWarning: Enable tracemalloc to get the object allocation traceback\n"
     ]
    },
    {
     "name": "stdout",
     "output_type": "stream",
     "text": [
      "[**********************61%****                   ]  1402 of 2310 completed"
     ]
    },
    {
     "name": "stderr",
     "output_type": "stream",
     "text": [
      "sys:1: ResourceWarning: unclosed socket <zmq.Socket(zmq.PUSH) at 0x7f6cf876d300>\n",
      "ResourceWarning: Enable tracemalloc to get the object allocation traceback\n",
      "sys:1: ResourceWarning: unclosed socket <zmq.Socket(zmq.PUSH) at 0x7f6cf8796140>\n",
      "ResourceWarning: Enable tracemalloc to get the object allocation traceback\n",
      "sys:1: ResourceWarning: unclosed socket <zmq.Socket(zmq.PUSH) at 0x7f6d12daed40>\n",
      "ResourceWarning: Enable tracemalloc to get the object allocation traceback\n"
     ]
    },
    {
     "name": "stdout",
     "output_type": "stream",
     "text": [
      "[**********************61%****                   ]  1404 of 2310 completed"
     ]
    },
    {
     "name": "stderr",
     "output_type": "stream",
     "text": [
      "sys:1: ResourceWarning: unclosed socket <zmq.Socket(zmq.PUSH) at 0x7f6cf8796c80>\n",
      "ResourceWarning: Enable tracemalloc to get the object allocation traceback\n",
      "sys:1: ResourceWarning: unclosed socket <zmq.Socket(zmq.PUSH) at 0x7f6cf8722f20>\n",
      "ResourceWarning: Enable tracemalloc to get the object allocation traceback\n"
     ]
    },
    {
     "name": "stdout",
     "output_type": "stream",
     "text": [
      "\r",
      "[**********************61%****                   ]  1405 of 2310 completed"
     ]
    },
    {
     "name": "stderr",
     "output_type": "stream",
     "text": [
      "sys:1: ResourceWarning: unclosed socket <zmq.Socket(zmq.PUSH) at 0x7f6d11aa23e0>\n",
      "ResourceWarning: Enable tracemalloc to get the object allocation traceback\n"
     ]
    },
    {
     "name": "stdout",
     "output_type": "stream",
     "text": [
      "[**********************61%****                   ]  1407 of 2310 completed"
     ]
    },
    {
     "name": "stderr",
     "output_type": "stream",
     "text": [
      "sys:1: ResourceWarning: unclosed socket <zmq.Socket(zmq.PUSH) at 0x7f6d12f5fbe0>\n",
      "ResourceWarning: Enable tracemalloc to get the object allocation traceback\n",
      "sys:1: ResourceWarning: unclosed socket <zmq.Socket(zmq.PUSH) at 0x7f6d12ddb880>\n",
      "ResourceWarning: Enable tracemalloc to get the object allocation traceback\n"
     ]
    },
    {
     "name": "stdout",
     "output_type": "stream",
     "text": [
      "[**********************61%****                   ]  1410 of 2310 completed"
     ]
    },
    {
     "name": "stderr",
     "output_type": "stream",
     "text": [
      "sys:1: ResourceWarning: unclosed socket <zmq.Socket(zmq.PUSH) at 0x7f6cf8605fc0>\n",
      "ResourceWarning: Enable tracemalloc to get the object allocation traceback\n",
      "sys:1: ResourceWarning: unclosed socket <zmq.Socket(zmq.PUSH) at 0x7f6cf86078e0>\n",
      "ResourceWarning: Enable tracemalloc to get the object allocation traceback\n",
      "sys:1: ResourceWarning: unclosed socket <zmq.Socket(zmq.PUSH) at 0x7f6d12daf640>\n",
      "ResourceWarning: Enable tracemalloc to get the object allocation traceback\n"
     ]
    },
    {
     "name": "stdout",
     "output_type": "stream",
     "text": [
      "[**********************61%****                   ]  1412 of 2310 completed"
     ]
    },
    {
     "name": "stderr",
     "output_type": "stream",
     "text": [
      "sys:1: ResourceWarning: unclosed socket <zmq.Socket(zmq.PUSH) at 0x7f6cf8607340>\n",
      "ResourceWarning: Enable tracemalloc to get the object allocation traceback\n",
      "sys:1: ResourceWarning: unclosed socket <zmq.Socket(zmq.PUSH) at 0x7f6d12daf640>\n",
      "ResourceWarning: Enable tracemalloc to get the object allocation traceback\n"
     ]
    },
    {
     "name": "stdout",
     "output_type": "stream",
     "text": [
      "[**********************61%****                   ]  1414 of 2310 completed"
     ]
    },
    {
     "name": "stderr",
     "output_type": "stream",
     "text": [
      "sys:1: ResourceWarning: unclosed socket <zmq.Socket(zmq.PUSH) at 0x7f6cf876e0e0>\n",
      "ResourceWarning: Enable tracemalloc to get the object allocation traceback\n",
      "sys:1: ResourceWarning: unclosed socket <zmq.Socket(zmq.PUSH) at 0x7f6cf876e0e0>\n",
      "ResourceWarning: Enable tracemalloc to get the object allocation traceback\n"
     ]
    },
    {
     "name": "stdout",
     "output_type": "stream",
     "text": [
      "[**********************61%****                   ]  1416 of 2310 completed"
     ]
    },
    {
     "name": "stderr",
     "output_type": "stream",
     "text": [
      "sys:1: ResourceWarning: unclosed socket <zmq.Socket(zmq.PUSH) at 0x7f6cf876ca00>\n",
      "ResourceWarning: Enable tracemalloc to get the object allocation traceback\n",
      "sys:1: ResourceWarning: unclosed socket <zmq.Socket(zmq.PUSH) at 0x7f6cf876ca00>\n",
      "ResourceWarning: Enable tracemalloc to get the object allocation traceback\n"
     ]
    },
    {
     "name": "stdout",
     "output_type": "stream",
     "text": [
      "\r",
      "[**********************61%****                   ]  1417 of 2310 completed"
     ]
    },
    {
     "name": "stderr",
     "output_type": "stream",
     "text": [
      "sys:1: ResourceWarning: unclosed socket <zmq.Socket(zmq.PUSH) at 0x7f6cf8722260>\n",
      "ResourceWarning: Enable tracemalloc to get the object allocation traceback\n"
     ]
    },
    {
     "name": "stdout",
     "output_type": "stream",
     "text": [
      "[**********************62%*****                  ]  1422 of 2310 completed"
     ]
    },
    {
     "name": "stderr",
     "output_type": "stream",
     "text": [
      "sys:1: ResourceWarning: unclosed socket <zmq.Socket(zmq.PUSH) at 0x7f6d12ddabc0>\n",
      "ResourceWarning: Enable tracemalloc to get the object allocation traceback\n",
      "sys:1: ResourceWarning: unclosed socket <zmq.Socket(zmq.PUSH) at 0x7f6cf8607f40>\n",
      "ResourceWarning: Enable tracemalloc to get the object allocation traceback\n",
      "sys:1: ResourceWarning: unclosed socket <zmq.Socket(zmq.PUSH) at 0x7f6cf87225c0>\n",
      "ResourceWarning: Enable tracemalloc to get the object allocation traceback\n",
      "sys:1: ResourceWarning: unclosed socket <zmq.Socket(zmq.PUSH) at 0x7f6cf86078e0>\n",
      "ResourceWarning: Enable tracemalloc to get the object allocation traceback\n",
      "sys:1: ResourceWarning: unclosed socket <zmq.Socket(zmq.PUSH) at 0x7f6d12dc9a80>\n",
      "ResourceWarning: Enable tracemalloc to get the object allocation traceback\n"
     ]
    },
    {
     "name": "stdout",
     "output_type": "stream",
     "text": [
      "\r",
      "[**********************62%*****                  ]  1423 of 2310 completed"
     ]
    },
    {
     "name": "stderr",
     "output_type": "stream",
     "text": [
      "sys:1: ResourceWarning: unclosed socket <zmq.Socket(zmq.PUSH) at 0x7f6cf876c160>\n",
      "ResourceWarning: Enable tracemalloc to get the object allocation traceback\n"
     ]
    },
    {
     "name": "stdout",
     "output_type": "stream",
     "text": [
      "[**********************62%*****                  ]  1425 of 2310 completed"
     ]
    },
    {
     "name": "stderr",
     "output_type": "stream",
     "text": [
      "sys:1: ResourceWarning: unclosed socket <zmq.Socket(zmq.PUSH) at 0x7f6d12ddb8e0>\n",
      "ResourceWarning: Enable tracemalloc to get the object allocation traceback\n",
      "sys:1: ResourceWarning: unclosed socket <zmq.Socket(zmq.PUSH) at 0x7f6d12ddb8e0>\n",
      "ResourceWarning: Enable tracemalloc to get the object allocation traceback\n"
     ]
    },
    {
     "name": "stdout",
     "output_type": "stream",
     "text": [
      "\r",
      "[**********************62%*****                  ]  1426 of 2310 completed"
     ]
    },
    {
     "name": "stderr",
     "output_type": "stream",
     "text": [
      "sys:1: ResourceWarning: unclosed socket <zmq.Socket(zmq.PUSH) at 0x7f6cf8722800>\n",
      "ResourceWarning: Enable tracemalloc to get the object allocation traceback\n"
     ]
    },
    {
     "name": "stdout",
     "output_type": "stream",
     "text": [
      "[**********************62%*****                  ]  1428 of 2310 completed"
     ]
    },
    {
     "name": "stderr",
     "output_type": "stream",
     "text": [
      "sys:1: ResourceWarning: unclosed socket <zmq.Socket(zmq.PUSH) at 0x7f6d12ddb3a0>\n",
      "ResourceWarning: Enable tracemalloc to get the object allocation traceback\n",
      "sys:1: ResourceWarning: unclosed socket <zmq.Socket(zmq.PUSH) at 0x7f6d12ddabc0>\n",
      "ResourceWarning: Enable tracemalloc to get the object allocation traceback\n"
     ]
    },
    {
     "name": "stdout",
     "output_type": "stream",
     "text": [
      "[**********************62%*****                  ]  1430 of 2310 completed"
     ]
    },
    {
     "name": "stderr",
     "output_type": "stream",
     "text": [
      "sys:1: ResourceWarning: unclosed socket <zmq.Socket(zmq.PUSH) at 0x7f6d12dabac0>\n",
      "ResourceWarning: Enable tracemalloc to get the object allocation traceback\n",
      "sys:1: ResourceWarning: unclosed socket <zmq.Socket(zmq.PUSH) at 0x7f6cf876ca00>\n",
      "ResourceWarning: Enable tracemalloc to get the object allocation traceback\n"
     ]
    },
    {
     "name": "stdout",
     "output_type": "stream",
     "text": [
      "[**********************62%*****                  ]  1432 of 2310 completed"
     ]
    },
    {
     "name": "stderr",
     "output_type": "stream",
     "text": [
      "sys:1: ResourceWarning: unclosed socket <zmq.Socket(zmq.PUSH) at 0x7f6d12de3100>\n",
      "ResourceWarning: Enable tracemalloc to get the object allocation traceback\n",
      "sys:1: ResourceWarning: unclosed socket <zmq.Socket(zmq.PUSH) at 0x7f6cf8796140>\n",
      "ResourceWarning: Enable tracemalloc to get the object allocation traceback\n"
     ]
    },
    {
     "name": "stdout",
     "output_type": "stream",
     "text": [
      "\r",
      "[**********************62%*****                  ]  1433 of 2310 completed"
     ]
    },
    {
     "name": "stderr",
     "output_type": "stream",
     "text": [
      "sys:1: ResourceWarning: unclosed socket <zmq.Socket(zmq.PUSH) at 0x7f6cf8796140>\n",
      "ResourceWarning: Enable tracemalloc to get the object allocation traceback\n"
     ]
    },
    {
     "name": "stdout",
     "output_type": "stream",
     "text": [
      "[**********************62%*****                  ]  1435 of 2310 completed"
     ]
    },
    {
     "name": "stderr",
     "output_type": "stream",
     "text": [
      "sys:1: ResourceWarning: unclosed socket <zmq.Socket(zmq.PUSH) at 0x7f6cf8721120>\n",
      "ResourceWarning: Enable tracemalloc to get the object allocation traceback\n"
     ]
    },
    {
     "name": "stdout",
     "output_type": "stream",
     "text": [
      "[**********************62%*****                  ]  1437 of 2310 completed"
     ]
    },
    {
     "name": "stderr",
     "output_type": "stream",
     "text": [
      "sys:1: ResourceWarning: unclosed socket <zmq.Socket(zmq.PUSH) at 0x7f6d12de3580>\n",
      "ResourceWarning: Enable tracemalloc to get the object allocation traceback\n",
      "sys:1: ResourceWarning: unclosed socket <zmq.Socket(zmq.PUSH) at 0x7f6d12ddb3a0>\n",
      "ResourceWarning: Enable tracemalloc to get the object allocation traceback\n",
      "sys:1: ResourceWarning: unclosed socket <zmq.Socket(zmq.PUSH) at 0x7f6d12ddb220>\n",
      "ResourceWarning: Enable tracemalloc to get the object allocation traceback\n"
     ]
    },
    {
     "name": "stdout",
     "output_type": "stream",
     "text": [
      "\r",
      "[**********************62%*****                  ]  1438 of 2310 completed"
     ]
    },
    {
     "name": "stderr",
     "output_type": "stream",
     "text": [
      "sys:1: ResourceWarning: unclosed socket <zmq.Socket(zmq.PUSH) at 0x7f6d12de3fa0>\n",
      "ResourceWarning: Enable tracemalloc to get the object allocation traceback\n"
     ]
    },
    {
     "name": "stdout",
     "output_type": "stream",
     "text": [
      "[**********************62%*****                  ]  1440 of 2310 completed"
     ]
    },
    {
     "name": "stderr",
     "output_type": "stream",
     "text": [
      "sys:1: ResourceWarning: unclosed socket <zmq.Socket(zmq.PUSH) at 0x7f6d12de3fa0>\n",
      "ResourceWarning: Enable tracemalloc to get the object allocation traceback\n",
      "sys:1: ResourceWarning: unclosed socket <zmq.Socket(zmq.PUSH) at 0x7f6d12ddad40>\n",
      "ResourceWarning: Enable tracemalloc to get the object allocation traceback\n"
     ]
    },
    {
     "name": "stdout",
     "output_type": "stream",
     "text": [
      "\r",
      "[**********************62%*****                  ]  1441 of 2310 completed"
     ]
    },
    {
     "name": "stderr",
     "output_type": "stream",
     "text": [
      "sys:1: ResourceWarning: unclosed socket <zmq.Socket(zmq.PUSH) at 0x7f6d12d8ed40>\n",
      "ResourceWarning: Enable tracemalloc to get the object allocation traceback\n"
     ]
    },
    {
     "name": "stdout",
     "output_type": "stream",
     "text": [
      "[**********************62%*****                  ]  1443 of 2310 completed"
     ]
    },
    {
     "name": "stderr",
     "output_type": "stream",
     "text": [
      "sys:1: ResourceWarning: unclosed socket <zmq.Socket(zmq.PUSH) at 0x7f6d12ddac20>\n",
      "ResourceWarning: Enable tracemalloc to get the object allocation traceback\n",
      "sys:1: ResourceWarning: unclosed socket <zmq.Socket(zmq.PUSH) at 0x7f6d12de3100>\n",
      "ResourceWarning: Enable tracemalloc to get the object allocation traceback\n"
     ]
    },
    {
     "name": "stdout",
     "output_type": "stream",
     "text": [
      "\r",
      "[**********************63%*****                  ]  1444 of 2310 completed"
     ]
    },
    {
     "name": "stderr",
     "output_type": "stream",
     "text": [
      "sys:1: ResourceWarning: unclosed socket <zmq.Socket(zmq.PUSH) at 0x7f6d12dabac0>\n",
      "ResourceWarning: Enable tracemalloc to get the object allocation traceback\n"
     ]
    },
    {
     "name": "stdout",
     "output_type": "stream",
     "text": [
      "[**********************63%*****                  ]  1446 of 2310 completed"
     ]
    },
    {
     "name": "stderr",
     "output_type": "stream",
     "text": [
      "sys:1: ResourceWarning: unclosed socket <zmq.Socket(zmq.PUSH) at 0x7f6d12de2e00>\n",
      "ResourceWarning: Enable tracemalloc to get the object allocation traceback\n",
      "sys:1: ResourceWarning: unclosed socket <zmq.Socket(zmq.PUSH) at 0x7f6cf86434c0>\n",
      "ResourceWarning: Enable tracemalloc to get the object allocation traceback\n"
     ]
    },
    {
     "name": "stdout",
     "output_type": "stream",
     "text": [
      "\r",
      "[**********************63%*****                  ]  1447 of 2310 completed"
     ]
    },
    {
     "name": "stderr",
     "output_type": "stream",
     "text": [
      "sys:1: ResourceWarning: unclosed socket <zmq.Socket(zmq.PUSH) at 0x7f6cf8721120>\n",
      "ResourceWarning: Enable tracemalloc to get the object allocation traceback\n"
     ]
    },
    {
     "name": "stdout",
     "output_type": "stream",
     "text": [
      "[**********************63%*****                  ]  1450 of 2310 completed"
     ]
    },
    {
     "name": "stderr",
     "output_type": "stream",
     "text": [
      "sys:1: ResourceWarning: unclosed socket <zmq.Socket(zmq.PUSH) at 0x7f6d12ddad40>\n",
      "ResourceWarning: Enable tracemalloc to get the object allocation traceback\n",
      "sys:1: ResourceWarning: unclosed socket <zmq.Socket(zmq.PUSH) at 0x7f6cf86078e0>\n",
      "ResourceWarning: Enable tracemalloc to get the object allocation traceback\n",
      "sys:1: ResourceWarning: unclosed socket <zmq.Socket(zmq.PUSH) at 0x7f6cf86078e0>\n",
      "ResourceWarning: Enable tracemalloc to get the object allocation traceback\n"
     ]
    },
    {
     "name": "stdout",
     "output_type": "stream",
     "text": [
      "\r",
      "[**********************63%*****                  ]  1451 of 2310 completed"
     ]
    },
    {
     "name": "stderr",
     "output_type": "stream",
     "text": [
      "sys:1: ResourceWarning: unclosed socket <zmq.Socket(zmq.PUSH) at 0x7f6d12dafd60>\n",
      "ResourceWarning: Enable tracemalloc to get the object allocation traceback\n"
     ]
    },
    {
     "name": "stdout",
     "output_type": "stream",
     "text": [
      "[**********************63%*****                  ]  1454 of 2310 completed"
     ]
    },
    {
     "name": "stderr",
     "output_type": "stream",
     "text": [
      "sys:1: ResourceWarning: unclosed socket <zmq.Socket(zmq.PUSH) at 0x7f6cf8607340>\n",
      "ResourceWarning: Enable tracemalloc to get the object allocation traceback\n",
      "sys:1: ResourceWarning: unclosed socket <zmq.Socket(zmq.PUSH) at 0x7f6cf8642200>\n",
      "ResourceWarning: Enable tracemalloc to get the object allocation traceback\n",
      "sys:1: ResourceWarning: unclosed socket <zmq.Socket(zmq.PUSH) at 0x7f6cf8642680>\n",
      "ResourceWarning: Enable tracemalloc to get the object allocation traceback\n"
     ]
    },
    {
     "name": "stdout",
     "output_type": "stream",
     "text": [
      "[**********************63%*****                  ]  1457 of 2310 completed"
     ]
    },
    {
     "name": "stderr",
     "output_type": "stream",
     "text": [
      "sys:1: ResourceWarning: unclosed socket <zmq.Socket(zmq.PUSH) at 0x7f6cf86078e0>\n",
      "ResourceWarning: Enable tracemalloc to get the object allocation traceback\n",
      "sys:1: ResourceWarning: unclosed socket <zmq.Socket(zmq.PUSH) at 0x7f6cf8796140>\n",
      "ResourceWarning: Enable tracemalloc to get the object allocation traceback\n",
      "sys:1: ResourceWarning: unclosed socket <zmq.Socket(zmq.PUSH) at 0x7f6cf86437c0>\n",
      "ResourceWarning: Enable tracemalloc to get the object allocation traceback\n"
     ]
    },
    {
     "name": "stdout",
     "output_type": "stream",
     "text": [
      "[**********************63%*****                  ]  1460 of 2310 completed"
     ]
    },
    {
     "name": "stderr",
     "output_type": "stream",
     "text": [
      "sys:1: ResourceWarning: unclosed socket <zmq.Socket(zmq.PUSH) at 0x7f6cf8607fa0>\n",
      "ResourceWarning: Enable tracemalloc to get the object allocation traceback\n",
      "sys:1: ResourceWarning: unclosed socket <zmq.Socket(zmq.PUSH) at 0x7f6cf876d300>\n",
      "ResourceWarning: Enable tracemalloc to get the object allocation traceback\n",
      "sys:1: ResourceWarning: unclosed socket <zmq.Socket(zmq.PUSH) at 0x7f6cf8722fe0>\n",
      "ResourceWarning: Enable tracemalloc to get the object allocation traceback\n"
     ]
    },
    {
     "name": "stdout",
     "output_type": "stream",
     "text": [
      "[**********************63%*****                  ]  1462 of 2310 completed"
     ]
    },
    {
     "name": "stderr",
     "output_type": "stream",
     "text": [
      "sys:1: ResourceWarning: unclosed socket <zmq.Socket(zmq.PUSH) at 0x7f6d1194ada0>\n",
      "ResourceWarning: Enable tracemalloc to get the object allocation traceback\n",
      "sys:1: ResourceWarning: unclosed socket <zmq.Socket(zmq.PUSH) at 0x7f6cf876f0a0>\n",
      "ResourceWarning: Enable tracemalloc to get the object allocation traceback\n"
     ]
    },
    {
     "name": "stdout",
     "output_type": "stream",
     "text": [
      "\r",
      "[**********************63%*****                  ]  1463 of 2310 completed"
     ]
    },
    {
     "name": "stderr",
     "output_type": "stream",
     "text": [
      "sys:1: ResourceWarning: unclosed socket <zmq.Socket(zmq.PUSH) at 0x7f6d1194a980>\n",
      "ResourceWarning: Enable tracemalloc to get the object allocation traceback\n"
     ]
    },
    {
     "name": "stdout",
     "output_type": "stream",
     "text": [
      "[**********************63%*****                  ]  1466 of 2310 completed"
     ]
    },
    {
     "name": "stderr",
     "output_type": "stream",
     "text": [
      "sys:1: ResourceWarning: unclosed socket <zmq.Socket(zmq.PUSH) at 0x7f6d12dc9a80>\n",
      "ResourceWarning: Enable tracemalloc to get the object allocation traceback\n",
      "sys:1: ResourceWarning: unclosed socket <zmq.Socket(zmq.PUSH) at 0x7f6cf8722260>\n",
      "ResourceWarning: Enable tracemalloc to get the object allocation traceback\n",
      "sys:1: ResourceWarning: unclosed socket <zmq.Socket(zmq.PUSH) at 0x7f6cf8796140>\n",
      "ResourceWarning: Enable tracemalloc to get the object allocation traceback\n"
     ]
    },
    {
     "name": "stdout",
     "output_type": "stream",
     "text": [
      "[**********************64%******                 ]  1469 of 2310 completed"
     ]
    },
    {
     "name": "stderr",
     "output_type": "stream",
     "text": [
      "sys:1: ResourceWarning: unclosed socket <zmq.Socket(zmq.PUSH) at 0x7f6cf8607fa0>\n",
      "ResourceWarning: Enable tracemalloc to get the object allocation traceback\n",
      "sys:1: ResourceWarning: unclosed socket <zmq.Socket(zmq.PUSH) at 0x7f6cf876ca00>\n",
      "ResourceWarning: Enable tracemalloc to get the object allocation traceback\n",
      "sys:1: ResourceWarning: unclosed socket <zmq.Socket(zmq.PUSH) at 0x7f6cf8643d00>\n",
      "ResourceWarning: Enable tracemalloc to get the object allocation traceback\n"
     ]
    },
    {
     "name": "stdout",
     "output_type": "stream",
     "text": [
      "[**********************64%******                 ]  1473 of 2310 completed"
     ]
    },
    {
     "name": "stderr",
     "output_type": "stream",
     "text": [
      "sys:1: ResourceWarning: unclosed socket <zmq.Socket(zmq.PUSH) at 0x7f6cf8643280>\n",
      "ResourceWarning: Enable tracemalloc to get the object allocation traceback\n",
      "sys:1: ResourceWarning: unclosed socket <zmq.Socket(zmq.PUSH) at 0x7f6d12ddb220>\n",
      "ResourceWarning: Enable tracemalloc to get the object allocation traceback\n",
      "sys:1: ResourceWarning: unclosed socket <zmq.Socket(zmq.PUSH) at 0x7f6d1194abc0>\n",
      "ResourceWarning: Enable tracemalloc to get the object allocation traceback\n",
      "sys:1: ResourceWarning: unclosed socket <zmq.Socket(zmq.PUSH) at 0x7f6d12d8ed40>\n",
      "ResourceWarning: Enable tracemalloc to get the object allocation traceback\n"
     ]
    },
    {
     "name": "stdout",
     "output_type": "stream",
     "text": [
      "\r",
      "[**********************64%******                 ]  1474 of 2310 completed"
     ]
    },
    {
     "name": "stderr",
     "output_type": "stream",
     "text": [
      "sys:1: ResourceWarning: unclosed socket <zmq.Socket(zmq.PUSH) at 0x7f6cf8796c80>\n",
      "ResourceWarning: Enable tracemalloc to get the object allocation traceback\n"
     ]
    },
    {
     "name": "stdout",
     "output_type": "stream",
     "text": [
      "\r",
      "[**********************64%******                 ]  1475 of 2310 completed"
     ]
    },
    {
     "name": "stderr",
     "output_type": "stream",
     "text": [
      "sys:1: ResourceWarning: unclosed socket <zmq.Socket(zmq.PUSH) at 0x7f6d12ddb100>\n",
      "ResourceWarning: Enable tracemalloc to get the object allocation traceback\n"
     ]
    },
    {
     "name": "stdout",
     "output_type": "stream",
     "text": [
      "[**********************64%******                 ]  1477 of 2310 completed"
     ]
    },
    {
     "name": "stderr",
     "output_type": "stream",
     "text": [
      "sys:1: ResourceWarning: unclosed socket <zmq.Socket(zmq.PUSH) at 0x7f6cf86aeaa0>\n",
      "ResourceWarning: Enable tracemalloc to get the object allocation traceback\n",
      "sys:1: ResourceWarning: unclosed socket <zmq.Socket(zmq.PUSH) at 0x7f6d12de2ec0>\n",
      "ResourceWarning: Enable tracemalloc to get the object allocation traceback\n"
     ]
    },
    {
     "name": "stdout",
     "output_type": "stream",
     "text": [
      "[**********************64%******                 ]  1481 of 2310 completed"
     ]
    },
    {
     "name": "stderr",
     "output_type": "stream",
     "text": [
      "sys:1: ResourceWarning: unclosed socket <zmq.Socket(zmq.PUSH) at 0x7f6cf876d300>\n",
      "ResourceWarning: Enable tracemalloc to get the object allocation traceback\n",
      "sys:1: ResourceWarning: unclosed socket <zmq.Socket(zmq.PUSH) at 0x7f6d12dabac0>\n",
      "ResourceWarning: Enable tracemalloc to get the object allocation traceback\n",
      "sys:1: ResourceWarning: unclosed socket <zmq.Socket(zmq.PUSH) at 0x7f6d12de3fa0>\n",
      "ResourceWarning: Enable tracemalloc to get the object allocation traceback\n",
      "sys:1: ResourceWarning: unclosed socket <zmq.Socket(zmq.PUSH) at 0x7f6d12ddb100>\n",
      "ResourceWarning: Enable tracemalloc to get the object allocation traceback\n"
     ]
    },
    {
     "name": "stdout",
     "output_type": "stream",
     "text": [
      "\r",
      "[**********************64%******                 ]  1482 of 2310 completed"
     ]
    },
    {
     "name": "stderr",
     "output_type": "stream",
     "text": [
      "sys:1: ResourceWarning: unclosed socket <zmq.Socket(zmq.PUSH) at 0x7f6d12de3be0>\n",
      "ResourceWarning: Enable tracemalloc to get the object allocation traceback\n"
     ]
    },
    {
     "name": "stdout",
     "output_type": "stream",
     "text": [
      "\r",
      "[**********************64%******                 ]  1483 of 2310 completed"
     ]
    },
    {
     "name": "stderr",
     "output_type": "stream",
     "text": [
      "sys:1: ResourceWarning: unclosed socket <zmq.Socket(zmq.PUSH) at 0x7f6d1194b400>\n",
      "ResourceWarning: Enable tracemalloc to get the object allocation traceback\n"
     ]
    },
    {
     "name": "stdout",
     "output_type": "stream",
     "text": [
      "\r",
      "[**********************64%******                 ]  1484 of 2310 completed"
     ]
    },
    {
     "name": "stderr",
     "output_type": "stream",
     "text": [
      "sys:1: ResourceWarning: unclosed socket <zmq.Socket(zmq.PUSH) at 0x7f6d1194b400>\n",
      "ResourceWarning: Enable tracemalloc to get the object allocation traceback\n"
     ]
    },
    {
     "name": "stdout",
     "output_type": "stream",
     "text": [
      "[**********************64%******                 ]  1487 of 2310 completed"
     ]
    },
    {
     "name": "stderr",
     "output_type": "stream",
     "text": [
      "sys:1: ResourceWarning: unclosed socket <zmq.Socket(zmq.PUSH) at 0x7f6d1194b9a0>\n",
      "ResourceWarning: Enable tracemalloc to get the object allocation traceback\n",
      "sys:1: ResourceWarning: unclosed socket <zmq.Socket(zmq.PUSH) at 0x7f6cf86afe80>\n",
      "ResourceWarning: Enable tracemalloc to get the object allocation traceback\n",
      "sys:1: ResourceWarning: unclosed socket <zmq.Socket(zmq.PUSH) at 0x7f6cf8643ee0>\n",
      "ResourceWarning: Enable tracemalloc to get the object allocation traceback\n"
     ]
    },
    {
     "name": "stdout",
     "output_type": "stream",
     "text": [
      "[**********************64%******                 ]  1489 of 2310 completed"
     ]
    },
    {
     "name": "stderr",
     "output_type": "stream",
     "text": [
      "sys:1: ResourceWarning: unclosed socket <zmq.Socket(zmq.PUSH) at 0x7f6cf86aed40>\n",
      "ResourceWarning: Enable tracemalloc to get the object allocation traceback\n",
      "sys:1: ResourceWarning: unclosed socket <zmq.Socket(zmq.PUSH) at 0x7f6d12ddac20>\n",
      "ResourceWarning: Enable tracemalloc to get the object allocation traceback\n"
     ]
    },
    {
     "name": "stdout",
     "output_type": "stream",
     "text": [
      "[**********************65%******                 ]  1491 of 2310 completed"
     ]
    },
    {
     "name": "stderr",
     "output_type": "stream",
     "text": [
      "sys:1: ResourceWarning: unclosed socket <zmq.Socket(zmq.PUSH) at 0x7f6d12ddac20>\n",
      "ResourceWarning: Enable tracemalloc to get the object allocation traceback\n",
      "sys:1: ResourceWarning: unclosed socket <zmq.Socket(zmq.PUSH) at 0x7f6d12daa320>\n",
      "ResourceWarning: Enable tracemalloc to get the object allocation traceback\n"
     ]
    },
    {
     "name": "stdout",
     "output_type": "stream",
     "text": [
      "[**********************65%******                 ]  1494 of 2310 completed"
     ]
    },
    {
     "name": "stderr",
     "output_type": "stream",
     "text": [
      "sys:1: ResourceWarning: unclosed socket <zmq.Socket(zmq.PUSH) at 0x7f6cf8722fe0>\n",
      "ResourceWarning: Enable tracemalloc to get the object allocation traceback\n",
      "sys:1: ResourceWarning: unclosed socket <zmq.Socket(zmq.PUSH) at 0x7f6cf86aed40>\n",
      "ResourceWarning: Enable tracemalloc to get the object allocation traceback\n",
      "sys:1: ResourceWarning: unclosed socket <zmq.Socket(zmq.PUSH) at 0x7f6d12de23e0>\n",
      "ResourceWarning: Enable tracemalloc to get the object allocation traceback\n"
     ]
    },
    {
     "name": "stdout",
     "output_type": "stream",
     "text": [
      "[**********************65%******                 ]  1497 of 2310 completed"
     ]
    },
    {
     "name": "stderr",
     "output_type": "stream",
     "text": [
      "sys:1: ResourceWarning: unclosed socket <zmq.Socket(zmq.PUSH) at 0x7f6cf8643ee0>\n",
      "ResourceWarning: Enable tracemalloc to get the object allocation traceback\n",
      "sys:1: ResourceWarning: unclosed socket <zmq.Socket(zmq.PUSH) at 0x7f6cf8605360>\n",
      "ResourceWarning: Enable tracemalloc to get the object allocation traceback\n",
      "sys:1: ResourceWarning: unclosed socket <zmq.Socket(zmq.PUSH) at 0x7f6cf8643ee0>\n",
      "ResourceWarning: Enable tracemalloc to get the object allocation traceback\n"
     ]
    },
    {
     "name": "stdout",
     "output_type": "stream",
     "text": [
      "[**********************65%******                 ]  1499 of 2310 completed"
     ]
    },
    {
     "name": "stderr",
     "output_type": "stream",
     "text": [
      "sys:1: ResourceWarning: unclosed socket <zmq.Socket(zmq.PUSH) at 0x7f6d12d8ed40>\n",
      "ResourceWarning: Enable tracemalloc to get the object allocation traceback\n",
      "sys:1: ResourceWarning: unclosed socket <zmq.Socket(zmq.PUSH) at 0x7f6d12dc9a80>\n",
      "ResourceWarning: Enable tracemalloc to get the object allocation traceback\n"
     ]
    },
    {
     "name": "stdout",
     "output_type": "stream",
     "text": [
      "[**********************65%******                 ]  1501 of 2310 completed"
     ]
    },
    {
     "name": "stderr",
     "output_type": "stream",
     "text": [
      "sys:1: ResourceWarning: unclosed socket <zmq.Socket(zmq.PUSH) at 0x7f6d1194b7c0>\n",
      "ResourceWarning: Enable tracemalloc to get the object allocation traceback\n",
      "sys:1: ResourceWarning: unclosed socket <zmq.Socket(zmq.PUSH) at 0x7f6d11aa23e0>\n",
      "ResourceWarning: Enable tracemalloc to get the object allocation traceback\n"
     ]
    },
    {
     "name": "stdout",
     "output_type": "stream",
     "text": [
      "\r",
      "[**********************65%******                 ]  1502 of 2310 completed"
     ]
    },
    {
     "name": "stderr",
     "output_type": "stream",
     "text": [
      "sys:1: ResourceWarning: unclosed socket <zmq.Socket(zmq.PUSH) at 0x7f6cf8686140>\n",
      "ResourceWarning: Enable tracemalloc to get the object allocation traceback\n"
     ]
    },
    {
     "name": "stdout",
     "output_type": "stream",
     "text": [
      "[**********************65%******                 ]  1505 of 2310 completed"
     ]
    },
    {
     "name": "stderr",
     "output_type": "stream",
     "text": [
      "sys:1: ResourceWarning: unclosed socket <zmq.Socket(zmq.PUSH) at 0x7f6cf86ae5c0>\n",
      "ResourceWarning: Enable tracemalloc to get the object allocation traceback\n",
      "sys:1: ResourceWarning: unclosed socket <zmq.Socket(zmq.PUSH) at 0x7f6cf8684fa0>\n",
      "ResourceWarning: Enable tracemalloc to get the object allocation traceback\n",
      "sys:1: ResourceWarning: unclosed socket <zmq.Socket(zmq.PUSH) at 0x7f6cf86af8e0>\n",
      "ResourceWarning: Enable tracemalloc to get the object allocation traceback\n"
     ]
    },
    {
     "name": "stdout",
     "output_type": "stream",
     "text": [
      "[**********************65%******                 ]  1508 of 2310 completed"
     ]
    },
    {
     "name": "stderr",
     "output_type": "stream",
     "text": [
      "sys:1: ResourceWarning: unclosed socket <zmq.Socket(zmq.PUSH) at 0x7f6d12d8ed40>\n",
      "ResourceWarning: Enable tracemalloc to get the object allocation traceback\n",
      "sys:1: ResourceWarning: unclosed socket <zmq.Socket(zmq.PUSH) at 0x7f6d1194aec0>\n",
      "ResourceWarning: Enable tracemalloc to get the object allocation traceback\n",
      "sys:1: ResourceWarning: unclosed socket <zmq.Socket(zmq.PUSH) at 0x7f6cf8643d60>\n",
      "ResourceWarning: Enable tracemalloc to get the object allocation traceback\n"
     ]
    },
    {
     "name": "stdout",
     "output_type": "stream",
     "text": [
      "[**********************65%******                 ]  1511 of 2310 completed"
     ]
    },
    {
     "name": "stderr",
     "output_type": "stream",
     "text": [
      "sys:1: ResourceWarning: unclosed socket <zmq.Socket(zmq.PUSH) at 0x7f6d12f5eb60>\n",
      "ResourceWarning: Enable tracemalloc to get the object allocation traceback\n",
      "sys:1: ResourceWarning: unclosed socket <zmq.Socket(zmq.PUSH) at 0x7f6cf8796c80>\n",
      "ResourceWarning: Enable tracemalloc to get the object allocation traceback\n",
      "sys:1: ResourceWarning: unclosed socket <zmq.Socket(zmq.PUSH) at 0x7f6cf8642200>\n",
      "ResourceWarning: Enable tracemalloc to get the object allocation traceback\n"
     ]
    },
    {
     "name": "stdout",
     "output_type": "stream",
     "text": [
      "[**********************65%******                 ]  1513 of 2310 completed"
     ]
    },
    {
     "name": "stderr",
     "output_type": "stream",
     "text": [
      "sys:1: ResourceWarning: unclosed socket <zmq.Socket(zmq.PUSH) at 0x7f6cf8684fa0>\n",
      "ResourceWarning: Enable tracemalloc to get the object allocation traceback\n",
      "sys:1: ResourceWarning: unclosed socket <zmq.Socket(zmq.PUSH) at 0x7f6cf8684fa0>\n",
      "ResourceWarning: Enable tracemalloc to get the object allocation traceback\n"
     ]
    },
    {
     "name": "stdout",
     "output_type": "stream",
     "text": [
      "[**********************66%*******                ]  1515 of 2310 completed"
     ]
    },
    {
     "name": "stderr",
     "output_type": "stream",
     "text": [
      "sys:1: ResourceWarning: unclosed socket <zmq.Socket(zmq.PUSH) at 0x7f6d1194b9a0>\n",
      "ResourceWarning: Enable tracemalloc to get the object allocation traceback\n",
      "sys:1: ResourceWarning: unclosed socket <zmq.Socket(zmq.PUSH) at 0x7f6d1194be20>\n",
      "ResourceWarning: Enable tracemalloc to get the object allocation traceback\n"
     ]
    },
    {
     "name": "stdout",
     "output_type": "stream",
     "text": [
      "[**********************66%*******                ]  1517 of 2310 completed"
     ]
    },
    {
     "name": "stderr",
     "output_type": "stream",
     "text": [
      "sys:1: ResourceWarning: unclosed socket <zmq.Socket(zmq.PUSH) at 0x7f6d1194a980>\n",
      "ResourceWarning: Enable tracemalloc to get the object allocation traceback\n",
      "sys:1: ResourceWarning: unclosed socket <zmq.Socket(zmq.PUSH) at 0x7f6cf8643460>\n",
      "ResourceWarning: Enable tracemalloc to get the object allocation traceback\n"
     ]
    },
    {
     "name": "stdout",
     "output_type": "stream",
     "text": [
      "\r",
      "[**********************66%*******                ]  1518 of 2310 completed"
     ]
    },
    {
     "name": "stderr",
     "output_type": "stream",
     "text": [
      "sys:1: ResourceWarning: unclosed socket <zmq.Socket(zmq.PUSH) at 0x7f6d12de23e0>\n",
      "ResourceWarning: Enable tracemalloc to get the object allocation traceback\n"
     ]
    },
    {
     "name": "stdout",
     "output_type": "stream",
     "text": [
      "[**********************66%*******                ]  1521 of 2310 completed"
     ]
    },
    {
     "name": "stderr",
     "output_type": "stream",
     "text": [
      "sys:1: ResourceWarning: unclosed socket <zmq.Socket(zmq.PUSH) at 0x7f6d1194aec0>\n",
      "ResourceWarning: Enable tracemalloc to get the object allocation traceback\n",
      "sys:1: ResourceWarning: unclosed socket <zmq.Socket(zmq.PUSH) at 0x7f6cf8686140>\n",
      "ResourceWarning: Enable tracemalloc to get the object allocation traceback\n",
      "sys:1: ResourceWarning: unclosed socket <zmq.Socket(zmq.PUSH) at 0x7f6cf86ae5c0>\n",
      "ResourceWarning: Enable tracemalloc to get the object allocation traceback\n"
     ]
    },
    {
     "name": "stdout",
     "output_type": "stream",
     "text": [
      "[**********************66%*******                ]  1523 of 2310 completed"
     ]
    },
    {
     "name": "stderr",
     "output_type": "stream",
     "text": [
      "sys:1: ResourceWarning: unclosed socket <zmq.Socket(zmq.PUSH) at 0x7f6d11aa23e0>\n",
      "ResourceWarning: Enable tracemalloc to get the object allocation traceback\n",
      "sys:1: ResourceWarning: unclosed socket <zmq.Socket(zmq.PUSH) at 0x7f6cf86af8e0>\n",
      "ResourceWarning: Enable tracemalloc to get the object allocation traceback\n"
     ]
    },
    {
     "name": "stdout",
     "output_type": "stream",
     "text": [
      "[**********************66%*******                ]  1525 of 2310 completed"
     ]
    },
    {
     "name": "stderr",
     "output_type": "stream",
     "text": [
      "sys:1: ResourceWarning: unclosed socket <zmq.Socket(zmq.PUSH) at 0x7f6d12de2ec0>\n",
      "ResourceWarning: Enable tracemalloc to get the object allocation traceback\n",
      "sys:1: ResourceWarning: unclosed socket <zmq.Socket(zmq.PUSH) at 0x7f6d12ddac20>\n",
      "ResourceWarning: Enable tracemalloc to get the object allocation traceback\n"
     ]
    },
    {
     "name": "stdout",
     "output_type": "stream",
     "text": [
      "\r",
      "[**********************66%*******                ]  1526 of 2310 completed"
     ]
    },
    {
     "name": "stderr",
     "output_type": "stream",
     "text": [
      "sys:1: ResourceWarning: unclosed socket <zmq.Socket(zmq.PUSH) at 0x7f6d12d8ed40>\n",
      "ResourceWarning: Enable tracemalloc to get the object allocation traceback\n"
     ]
    },
    {
     "name": "stdout",
     "output_type": "stream",
     "text": [
      "[**********************66%*******                ]  1528 of 2310 completed"
     ]
    },
    {
     "name": "stderr",
     "output_type": "stream",
     "text": [
      "sys:1: ResourceWarning: unclosed socket <zmq.Socket(zmq.PUSH) at 0x7f6cf8643280>\n",
      "ResourceWarning: Enable tracemalloc to get the object allocation traceback\n",
      "sys:1: ResourceWarning: unclosed socket <zmq.Socket(zmq.PUSH) at 0x7f6d12de2e00>\n",
      "ResourceWarning: Enable tracemalloc to get the object allocation traceback\n"
     ]
    },
    {
     "name": "stdout",
     "output_type": "stream",
     "text": [
      "[**********************66%*******                ]  1531 of 2310 completed"
     ]
    },
    {
     "name": "stderr",
     "output_type": "stream",
     "text": [
      "sys:1: ResourceWarning: unclosed socket <zmq.Socket(zmq.PUSH) at 0x7f6cf8642680>\n",
      "ResourceWarning: Enable tracemalloc to get the object allocation traceback\n",
      "sys:1: ResourceWarning: unclosed socket <zmq.Socket(zmq.PUSH) at 0x7f6d1194abc0>\n",
      "ResourceWarning: Enable tracemalloc to get the object allocation traceback\n",
      "sys:1: ResourceWarning: unclosed socket <zmq.Socket(zmq.PUSH) at 0x7f6cf8722f20>\n",
      "ResourceWarning: Enable tracemalloc to get the object allocation traceback\n"
     ]
    },
    {
     "name": "stdout",
     "output_type": "stream",
     "text": [
      "[**********************66%*******                ]  1536 of 2310 completed"
     ]
    },
    {
     "name": "stderr",
     "output_type": "stream",
     "text": [
      "sys:1: ResourceWarning: unclosed socket <zmq.Socket(zmq.PUSH) at 0x7f6d11aa23e0>\n",
      "ResourceWarning: Enable tracemalloc to get the object allocation traceback\n",
      "sys:1: ResourceWarning: unclosed socket <zmq.Socket(zmq.PUSH) at 0x7f6d1194aec0>\n",
      "ResourceWarning: Enable tracemalloc to get the object allocation traceback\n",
      "sys:1: ResourceWarning: unclosed socket <zmq.Socket(zmq.PUSH) at 0x7f6d12ddb100>\n",
      "ResourceWarning: Enable tracemalloc to get the object allocation traceback\n",
      "sys:1: ResourceWarning: unclosed socket <zmq.Socket(zmq.PUSH) at 0x7f6cf86d95a0>\n",
      "ResourceWarning: Enable tracemalloc to get the object allocation traceback\n",
      "sys:1: ResourceWarning: unclosed socket <zmq.Socket(zmq.PUSH) at 0x7f6cf86434c0>\n",
      "ResourceWarning: Enable tracemalloc to get the object allocation traceback\n"
     ]
    },
    {
     "name": "stdout",
     "output_type": "stream",
     "text": [
      "[**********************67%*******                ]  1538 of 2310 completed"
     ]
    },
    {
     "name": "stderr",
     "output_type": "stream",
     "text": [
      "sys:1: ResourceWarning: unclosed socket <zmq.Socket(zmq.PUSH) at 0x7f6d12de2ec0>\n",
      "ResourceWarning: Enable tracemalloc to get the object allocation traceback\n",
      "sys:1: ResourceWarning: unclosed socket <zmq.Socket(zmq.PUSH) at 0x7f6cf876f0a0>\n",
      "ResourceWarning: Enable tracemalloc to get the object allocation traceback\n"
     ]
    },
    {
     "name": "stdout",
     "output_type": "stream",
     "text": [
      "[**********************67%*******                ]  1541 of 2310 completed"
     ]
    },
    {
     "name": "stderr",
     "output_type": "stream",
     "text": [
      "sys:1: ResourceWarning: unclosed socket <zmq.Socket(zmq.PUSH) at 0x7f6cf876f0a0>\n",
      "ResourceWarning: Enable tracemalloc to get the object allocation traceback\n",
      "sys:1: ResourceWarning: unclosed socket <zmq.Socket(zmq.PUSH) at 0x7f6cf86da500>\n",
      "ResourceWarning: Enable tracemalloc to get the object allocation traceback\n",
      "sys:1: ResourceWarning: unclosed socket <zmq.Socket(zmq.PUSH) at 0x7f6d12de2e00>\n",
      "ResourceWarning: Enable tracemalloc to get the object allocation traceback\n"
     ]
    },
    {
     "name": "stdout",
     "output_type": "stream",
     "text": [
      "[**********************67%*******                ]  1544 of 2310 completed"
     ]
    },
    {
     "name": "stderr",
     "output_type": "stream",
     "text": [
      "sys:1: ResourceWarning: unclosed socket <zmq.Socket(zmq.PUSH) at 0x7f6d1194b7c0>\n",
      "ResourceWarning: Enable tracemalloc to get the object allocation traceback\n",
      "sys:1: ResourceWarning: unclosed socket <zmq.Socket(zmq.PUSH) at 0x7f6cf86d8640>\n",
      "ResourceWarning: Enable tracemalloc to get the object allocation traceback\n",
      "sys:1: ResourceWarning: unclosed socket <zmq.Socket(zmq.PUSH) at 0x7f6d1194b9a0>\n",
      "ResourceWarning: Enable tracemalloc to get the object allocation traceback\n"
     ]
    },
    {
     "name": "stdout",
     "output_type": "stream",
     "text": [
      "[**********************67%*******                ]  1547 of 2310 completed"
     ]
    },
    {
     "name": "stderr",
     "output_type": "stream",
     "text": [
      "sys:1: ResourceWarning: unclosed socket <zmq.Socket(zmq.PUSH) at 0x7f6cf8686140>\n",
      "ResourceWarning: Enable tracemalloc to get the object allocation traceback\n",
      "sys:1: ResourceWarning: unclosed socket <zmq.Socket(zmq.PUSH) at 0x7f6d12df7760>\n",
      "ResourceWarning: Enable tracemalloc to get the object allocation traceback\n",
      "sys:1: ResourceWarning: unclosed socket <zmq.Socket(zmq.PUSH) at 0x7f6d12df6a40>\n",
      "ResourceWarning: Enable tracemalloc to get the object allocation traceback\n"
     ]
    },
    {
     "name": "stdout",
     "output_type": "stream",
     "text": [
      "[**********************67%*******                ]  1550 of 2310 completed"
     ]
    },
    {
     "name": "stderr",
     "output_type": "stream",
     "text": [
      "sys:1: ResourceWarning: unclosed socket <zmq.Socket(zmq.PUSH) at 0x7f6d12de3220>\n",
      "ResourceWarning: Enable tracemalloc to get the object allocation traceback\n",
      "sys:1: ResourceWarning: unclosed socket <zmq.Socket(zmq.PUSH) at 0x7f6cf86af8e0>\n",
      "ResourceWarning: Enable tracemalloc to get the object allocation traceback\n",
      "sys:1: ResourceWarning: unclosed socket <zmq.Socket(zmq.PUSH) at 0x7f6d12df7ee0>\n",
      "ResourceWarning: Enable tracemalloc to get the object allocation traceback\n"
     ]
    },
    {
     "name": "stdout",
     "output_type": "stream",
     "text": [
      "[**********************67%*******                ]  1554 of 2310 completed"
     ]
    },
    {
     "name": "stderr",
     "output_type": "stream",
     "text": [
      "sys:1: ResourceWarning: unclosed socket <zmq.Socket(zmq.PUSH) at 0x7f6cf8642c80>\n",
      "ResourceWarning: Enable tracemalloc to get the object allocation traceback\n",
      "sys:1: ResourceWarning: unclosed socket <zmq.Socket(zmq.PUSH) at 0x7f6cf8642c80>\n",
      "ResourceWarning: Enable tracemalloc to get the object allocation traceback\n",
      "sys:1: ResourceWarning: unclosed socket <zmq.Socket(zmq.PUSH) at 0x7f6d1194b7c0>\n",
      "ResourceWarning: Enable tracemalloc to get the object allocation traceback\n",
      "sys:1: ResourceWarning: unclosed socket <zmq.Socket(zmq.PUSH) at 0x7f6cf86d9ba0>\n",
      "ResourceWarning: Enable tracemalloc to get the object allocation traceback\n"
     ]
    },
    {
     "name": "stdout",
     "output_type": "stream",
     "text": [
      "\r",
      "[**********************67%*******                ]  1555 of 2310 completed"
     ]
    },
    {
     "name": "stderr",
     "output_type": "stream",
     "text": [
      "sys:1: ResourceWarning: unclosed socket <zmq.Socket(zmq.PUSH) at 0x7f6d1194abc0>\n",
      "ResourceWarning: Enable tracemalloc to get the object allocation traceback\n"
     ]
    },
    {
     "name": "stdout",
     "output_type": "stream",
     "text": [
      "\r",
      "[**********************67%*******                ]  1556 of 2310 completed"
     ]
    },
    {
     "name": "stderr",
     "output_type": "stream",
     "text": [
      "sys:1: ResourceWarning: unclosed socket <zmq.Socket(zmq.PUSH) at 0x7f6cf8684fa0>\n",
      "ResourceWarning: Enable tracemalloc to get the object allocation traceback\n"
     ]
    },
    {
     "name": "stdout",
     "output_type": "stream",
     "text": [
      "[**********************67%*******                ]  1558 of 2310 completed"
     ]
    },
    {
     "name": "stderr",
     "output_type": "stream",
     "text": [
      "sys:1: ResourceWarning: unclosed socket <zmq.Socket(zmq.PUSH) at 0x7f6d12dfe860>\n",
      "ResourceWarning: Enable tracemalloc to get the object allocation traceback\n",
      "sys:1: ResourceWarning: unclosed socket <zmq.Socket(zmq.PUSH) at 0x7f6cf86dac20>\n",
      "ResourceWarning: Enable tracemalloc to get the object allocation traceback\n"
     ]
    },
    {
     "name": "stdout",
     "output_type": "stream",
     "text": [
      "[**********************68%********               ]  1560 of 2310 completed"
     ]
    },
    {
     "name": "stderr",
     "output_type": "stream",
     "text": [
      "sys:1: ResourceWarning: unclosed socket <zmq.Socket(zmq.PUSH) at 0x7f6cf86da500>\n",
      "ResourceWarning: Enable tracemalloc to get the object allocation traceback\n",
      "sys:1: ResourceWarning: unclosed socket <zmq.Socket(zmq.PUSH) at 0x7f6cf86da500>\n",
      "ResourceWarning: Enable tracemalloc to get the object allocation traceback\n"
     ]
    },
    {
     "name": "stdout",
     "output_type": "stream",
     "text": [
      "[**********************68%********               ]  1562 of 2310 completed"
     ]
    },
    {
     "name": "stderr",
     "output_type": "stream",
     "text": [
      "sys:1: ResourceWarning: unclosed socket <zmq.Socket(zmq.PUSH) at 0x7f6cf86434c0>\n",
      "ResourceWarning: Enable tracemalloc to get the object allocation traceback\n",
      "sys:1: ResourceWarning: unclosed socket <zmq.Socket(zmq.PUSH) at 0x7f6cf876f0a0>\n",
      "ResourceWarning: Enable tracemalloc to get the object allocation traceback\n"
     ]
    },
    {
     "name": "stdout",
     "output_type": "stream",
     "text": [
      "[**********************68%********               ]  1564 of 2310 completed"
     ]
    },
    {
     "name": "stderr",
     "output_type": "stream",
     "text": [
      "sys:1: ResourceWarning: unclosed socket <zmq.Socket(zmq.PUSH) at 0x7f6cf86878e0>\n",
      "ResourceWarning: Enable tracemalloc to get the object allocation traceback\n",
      "sys:1: ResourceWarning: unclosed socket <zmq.Socket(zmq.PUSH) at 0x7f6d1194abc0>\n",
      "ResourceWarning: Enable tracemalloc to get the object allocation traceback\n"
     ]
    },
    {
     "name": "stdout",
     "output_type": "stream",
     "text": [
      "[**********************68%********               ]  1566 of 2310 completed"
     ]
    },
    {
     "name": "stderr",
     "output_type": "stream",
     "text": [
      "sys:1: ResourceWarning: unclosed socket <zmq.Socket(zmq.PUSH) at 0x7f6d1194abc0>\n",
      "ResourceWarning: Enable tracemalloc to get the object allocation traceback\n",
      "sys:1: ResourceWarning: unclosed socket <zmq.Socket(zmq.PUSH) at 0x7f6cf86dbe80>\n",
      "ResourceWarning: Enable tracemalloc to get the object allocation traceback\n"
     ]
    },
    {
     "name": "stdout",
     "output_type": "stream",
     "text": [
      "[**********************68%********               ]  1569 of 2310 completed"
     ]
    },
    {
     "name": "stderr",
     "output_type": "stream",
     "text": [
      "sys:1: ResourceWarning: unclosed socket <zmq.Socket(zmq.PUSH) at 0x7f6d12dfea40>\n",
      "ResourceWarning: Enable tracemalloc to get the object allocation traceback\n",
      "sys:1: ResourceWarning: unclosed socket <zmq.Socket(zmq.PUSH) at 0x7f6cf86db7c0>\n",
      "ResourceWarning: Enable tracemalloc to get the object allocation traceback\n",
      "sys:1: ResourceWarning: unclosed socket <zmq.Socket(zmq.PUSH) at 0x7f6cf86af8e0>\n",
      "ResourceWarning: Enable tracemalloc to get the object allocation traceback\n"
     ]
    },
    {
     "name": "stdout",
     "output_type": "stream",
     "text": [
      "[**********************68%********               ]  1573 of 2310 completed"
     ]
    },
    {
     "name": "stderr",
     "output_type": "stream",
     "text": [
      "sys:1: ResourceWarning: unclosed socket <zmq.Socket(zmq.PUSH) at 0x7f6d12df63e0>\n",
      "ResourceWarning: Enable tracemalloc to get the object allocation traceback\n",
      "sys:1: ResourceWarning: unclosed socket <zmq.Socket(zmq.PUSH) at 0x7f6d12dfea40>\n",
      "ResourceWarning: Enable tracemalloc to get the object allocation traceback\n",
      "sys:1: ResourceWarning: unclosed socket <zmq.Socket(zmq.PUSH) at 0x7f6d12dfd0c0>\n",
      "ResourceWarning: Enable tracemalloc to get the object allocation traceback\n",
      "sys:1: ResourceWarning: unclosed socket <zmq.Socket(zmq.PUSH) at 0x7f6cf8529d20>\n",
      "ResourceWarning: Enable tracemalloc to get the object allocation traceback\n"
     ]
    },
    {
     "name": "stdout",
     "output_type": "stream",
     "text": [
      "[**********************68%********               ]  1575 of 2310 completed"
     ]
    },
    {
     "name": "stderr",
     "output_type": "stream",
     "text": [
      "sys:1: ResourceWarning: unclosed socket <zmq.Socket(zmq.PUSH) at 0x7f6d12df7ca0>\n",
      "ResourceWarning: Enable tracemalloc to get the object allocation traceback\n",
      "sys:1: ResourceWarning: unclosed socket <zmq.Socket(zmq.PUSH) at 0x7f6cf86d97e0>\n",
      "ResourceWarning: Enable tracemalloc to get the object allocation traceback\n"
     ]
    },
    {
     "name": "stdout",
     "output_type": "stream",
     "text": [
      "[**********************68%********               ]  1578 of 2310 completed"
     ]
    },
    {
     "name": "stderr",
     "output_type": "stream",
     "text": [
      "sys:1: ResourceWarning: unclosed socket <zmq.Socket(zmq.PUSH) at 0x7f6cf8722fe0>\n",
      "ResourceWarning: Enable tracemalloc to get the object allocation traceback\n",
      "sys:1: ResourceWarning: unclosed socket <zmq.Socket(zmq.PUSH) at 0x7f6d1194abc0>\n",
      "ResourceWarning: Enable tracemalloc to get the object allocation traceback\n",
      "sys:1: ResourceWarning: unclosed socket <zmq.Socket(zmq.PUSH) at 0x7f6cf852ba60>\n",
      "ResourceWarning: Enable tracemalloc to get the object allocation traceback\n"
     ]
    },
    {
     "name": "stdout",
     "output_type": "stream",
     "text": [
      "\r",
      "[**********************68%********               ]  1579 of 2310 completed"
     ]
    },
    {
     "name": "stderr",
     "output_type": "stream",
     "text": [
      "sys:1: ResourceWarning: unclosed socket <zmq.Socket(zmq.PUSH) at 0x7f6d12dfe200>\n",
      "ResourceWarning: Enable tracemalloc to get the object allocation traceback\n"
     ]
    },
    {
     "name": "stdout",
     "output_type": "stream",
     "text": [
      "[**********************68%********               ]  1581 of 2310 completed"
     ]
    },
    {
     "name": "stderr",
     "output_type": "stream",
     "text": [
      "sys:1: ResourceWarning: unclosed socket <zmq.Socket(zmq.PUSH) at 0x7f6d12dfe200>\n",
      "ResourceWarning: Enable tracemalloc to get the object allocation traceback\n",
      "sys:1: ResourceWarning: unclosed socket <zmq.Socket(zmq.PUSH) at 0x7f6cf852be80>\n",
      "ResourceWarning: Enable tracemalloc to get the object allocation traceback\n"
     ]
    },
    {
     "name": "stdout",
     "output_type": "stream",
     "text": [
      "[**********************69%********               ]  1583 of 2310 completed"
     ]
    },
    {
     "name": "stderr",
     "output_type": "stream",
     "text": [
      "sys:1: ResourceWarning: unclosed socket <zmq.Socket(zmq.PUSH) at 0x7f6cf86db7c0>\n",
      "ResourceWarning: Enable tracemalloc to get the object allocation traceback\n",
      "sys:1: ResourceWarning: unclosed socket <zmq.Socket(zmq.PUSH) at 0x7f6cf86ae5c0>\n",
      "ResourceWarning: Enable tracemalloc to get the object allocation traceback\n"
     ]
    },
    {
     "name": "stdout",
     "output_type": "stream",
     "text": [
      "[**********************69%********               ]  1585 of 2310 completed"
     ]
    },
    {
     "name": "stderr",
     "output_type": "stream",
     "text": [
      "sys:1: ResourceWarning: unclosed socket <zmq.Socket(zmq.PUSH) at 0x7f6cf86af8e0>\n",
      "ResourceWarning: Enable tracemalloc to get the object allocation traceback\n",
      "sys:1: ResourceWarning: unclosed socket <zmq.Socket(zmq.PUSH) at 0x7f6cf852bbe0>\n",
      "ResourceWarning: Enable tracemalloc to get the object allocation traceback\n"
     ]
    },
    {
     "name": "stdout",
     "output_type": "stream",
     "text": [
      "[**********************69%********               ]  1589 of 2310 completed"
     ]
    },
    {
     "name": "stderr",
     "output_type": "stream",
     "text": [
      "sys:1: ResourceWarning: unclosed socket <zmq.Socket(zmq.PUSH) at 0x7f6d12df7d60>\n",
      "ResourceWarning: Enable tracemalloc to get the object allocation traceback\n",
      "sys:1: ResourceWarning: unclosed socket <zmq.Socket(zmq.PUSH) at 0x7f6d12df7d60>\n",
      "ResourceWarning: Enable tracemalloc to get the object allocation traceback\n",
      "sys:1: ResourceWarning: unclosed socket <zmq.Socket(zmq.PUSH) at 0x7f6d12dffee0>\n",
      "ResourceWarning: Enable tracemalloc to get the object allocation traceback\n",
      "sys:1: ResourceWarning: unclosed socket <zmq.Socket(zmq.PUSH) at 0x7f6cf852afe0>\n",
      "ResourceWarning: Enable tracemalloc to get the object allocation traceback\n"
     ]
    },
    {
     "name": "stdout",
     "output_type": "stream",
     "text": [
      "[**********************69%********               ]  1591 of 2310 completed"
     ]
    },
    {
     "name": "stderr",
     "output_type": "stream",
     "text": [
      "sys:1: ResourceWarning: unclosed socket <zmq.Socket(zmq.PUSH) at 0x7f6d12dfe200>\n",
      "ResourceWarning: Enable tracemalloc to get the object allocation traceback\n",
      "sys:1: ResourceWarning: unclosed socket <zmq.Socket(zmq.PUSH) at 0x7f6d12de3220>\n",
      "ResourceWarning: Enable tracemalloc to get the object allocation traceback\n"
     ]
    },
    {
     "name": "stdout",
     "output_type": "stream",
     "text": [
      "[**********************69%********               ]  1593 of 2310 completed"
     ]
    },
    {
     "name": "stderr",
     "output_type": "stream",
     "text": [
      "sys:1: ResourceWarning: unclosed socket <zmq.Socket(zmq.PUSH) at 0x7f6d12df7ac0>\n",
      "ResourceWarning: Enable tracemalloc to get the object allocation traceback\n",
      "sys:1: ResourceWarning: unclosed socket <zmq.Socket(zmq.PUSH) at 0x7f6d12df7ac0>\n",
      "ResourceWarning: Enable tracemalloc to get the object allocation traceback\n"
     ]
    },
    {
     "name": "stdout",
     "output_type": "stream",
     "text": [
      "\r",
      "[**********************69%********               ]  1594 of 2310 completed"
     ]
    },
    {
     "name": "stderr",
     "output_type": "stream",
     "text": [
      "sys:1: ResourceWarning: unclosed socket <zmq.Socket(zmq.PUSH) at 0x7f6d12de3220>\n",
      "ResourceWarning: Enable tracemalloc to get the object allocation traceback\n"
     ]
    },
    {
     "name": "stdout",
     "output_type": "stream",
     "text": [
      "[**********************69%********               ]  1598 of 2310 completed"
     ]
    },
    {
     "name": "stderr",
     "output_type": "stream",
     "text": [
      "sys:1: ResourceWarning: unclosed socket <zmq.Socket(zmq.PUSH) at 0x7f6d12de3be0>\n",
      "ResourceWarning: Enable tracemalloc to get the object allocation traceback\n",
      "sys:1: ResourceWarning: unclosed socket <zmq.Socket(zmq.PUSH) at 0x7f6cf8684fa0>\n",
      "ResourceWarning: Enable tracemalloc to get the object allocation traceback\n",
      "sys:1: ResourceWarning: unclosed socket <zmq.Socket(zmq.PUSH) at 0x7f6cf852bd60>\n",
      "ResourceWarning: Enable tracemalloc to get the object allocation traceback\n",
      "sys:1: ResourceWarning: unclosed socket <zmq.Socket(zmq.PUSH) at 0x7f6cf86dbe80>\n",
      "ResourceWarning: Enable tracemalloc to get the object allocation traceback\n"
     ]
    },
    {
     "name": "stdout",
     "output_type": "stream",
     "text": [
      "[**********************69%********               ]  1600 of 2310 completed"
     ]
    },
    {
     "name": "stderr",
     "output_type": "stream",
     "text": [
      "sys:1: ResourceWarning: unclosed socket <zmq.Socket(zmq.PUSH) at 0x7f6cf852b580>\n",
      "ResourceWarning: Enable tracemalloc to get the object allocation traceback\n"
     ]
    },
    {
     "name": "stdout",
     "output_type": "stream",
     "text": [
      "\r",
      "[**********************69%********               ]  1601 of 2310 completed"
     ]
    },
    {
     "name": "stderr",
     "output_type": "stream",
     "text": [
      "sys:1: ResourceWarning: unclosed socket <zmq.Socket(zmq.PUSH) at 0x7f6cf852ba60>\n",
      "ResourceWarning: Enable tracemalloc to get the object allocation traceback\n",
      "sys:1: ResourceWarning: unclosed socket <zmq.Socket(zmq.PUSH) at 0x7f6d12dfee60>\n",
      "ResourceWarning: Enable tracemalloc to get the object allocation traceback\n"
     ]
    },
    {
     "name": "stdout",
     "output_type": "stream",
     "text": [
      "[**********************69%********               ]  1604 of 2310 completed"
     ]
    },
    {
     "name": "stderr",
     "output_type": "stream",
     "text": [
      "sys:1: ResourceWarning: unclosed socket <zmq.Socket(zmq.PUSH) at 0x7f6cf852b580>\n",
      "ResourceWarning: Enable tracemalloc to get the object allocation traceback\n",
      "sys:1: ResourceWarning: unclosed socket <zmq.Socket(zmq.PUSH) at 0x7f6cf852b580>\n",
      "ResourceWarning: Enable tracemalloc to get the object allocation traceback\n",
      "sys:1: ResourceWarning: unclosed socket <zmq.Socket(zmq.PUSH) at 0x7f6cf85226e0>\n",
      "ResourceWarning: Enable tracemalloc to get the object allocation traceback\n"
     ]
    },
    {
     "name": "stdout",
     "output_type": "stream",
     "text": [
      "[**********************70%*********              ]  1606 of 2310 completed"
     ]
    },
    {
     "name": "stderr",
     "output_type": "stream",
     "text": [
      "sys:1: ResourceWarning: unclosed socket <zmq.Socket(zmq.PUSH) at 0x7f6d12df7ac0>\n",
      "ResourceWarning: Enable tracemalloc to get the object allocation traceback\n",
      "sys:1: ResourceWarning: unclosed socket <zmq.Socket(zmq.PUSH) at 0x7f6d12dfd0c0>\n",
      "ResourceWarning: Enable tracemalloc to get the object allocation traceback\n"
     ]
    },
    {
     "name": "stdout",
     "output_type": "stream",
     "text": [
      "[**********************70%*********              ]  1608 of 2310 completed"
     ]
    },
    {
     "name": "stderr",
     "output_type": "stream",
     "text": [
      "sys:1: ResourceWarning: unclosed socket <zmq.Socket(zmq.PUSH) at 0x7f6d12de2f80>\n",
      "ResourceWarning: Enable tracemalloc to get the object allocation traceback\n",
      "sys:1: ResourceWarning: unclosed socket <zmq.Socket(zmq.PUSH) at 0x7f6cf852b760>\n",
      "ResourceWarning: Enable tracemalloc to get the object allocation traceback\n"
     ]
    },
    {
     "name": "stdout",
     "output_type": "stream",
     "text": [
      "[**********************70%*********              ]  1611 of 2310 completed"
     ]
    },
    {
     "name": "stderr",
     "output_type": "stream",
     "text": [
      "sys:1: ResourceWarning: unclosed socket <zmq.Socket(zmq.PUSH) at 0x7f6d12df6a40>\n",
      "ResourceWarning: Enable tracemalloc to get the object allocation traceback\n",
      "sys:1: ResourceWarning: unclosed socket <zmq.Socket(zmq.PUSH) at 0x7f6cf8521ba0>\n",
      "ResourceWarning: Enable tracemalloc to get the object allocation traceback\n",
      "sys:1: ResourceWarning: unclosed socket <zmq.Socket(zmq.PUSH) at 0x7f6cf8521ba0>\n",
      "ResourceWarning: Enable tracemalloc to get the object allocation traceback\n"
     ]
    },
    {
     "name": "stdout",
     "output_type": "stream",
     "text": [
      "[**********************70%*********              ]  1613 of 2310 completed"
     ]
    },
    {
     "name": "stderr",
     "output_type": "stream",
     "text": [
      "sys:1: ResourceWarning: unclosed socket <zmq.Socket(zmq.PUSH) at 0x7f6cf8521a80>\n",
      "ResourceWarning: Enable tracemalloc to get the object allocation traceback\n",
      "sys:1: ResourceWarning: unclosed socket <zmq.Socket(zmq.PUSH) at 0x7f6cf86af8e0>\n",
      "ResourceWarning: Enable tracemalloc to get the object allocation traceback\n"
     ]
    },
    {
     "name": "stdout",
     "output_type": "stream",
     "text": [
      "\r",
      "[**********************70%*********              ]  1614 of 2310 completed"
     ]
    },
    {
     "name": "stderr",
     "output_type": "stream",
     "text": [
      "sys:1: ResourceWarning: unclosed socket <zmq.Socket(zmq.PUSH) at 0x7f6cf875dde0>\n",
      "ResourceWarning: Enable tracemalloc to get the object allocation traceback\n"
     ]
    },
    {
     "name": "stdout",
     "output_type": "stream",
     "text": [
      "[**********************70%*********              ]  1616 of 2310 completed"
     ]
    },
    {
     "name": "stderr",
     "output_type": "stream",
     "text": [
      "sys:1: ResourceWarning: unclosed socket <zmq.Socket(zmq.PUSH) at 0x7f6cf852afe0>\n",
      "ResourceWarning: Enable tracemalloc to get the object allocation traceback\n",
      "sys:1: ResourceWarning: unclosed socket <zmq.Socket(zmq.PUSH) at 0x7f6d12dff6a0>\n",
      "ResourceWarning: Enable tracemalloc to get the object allocation traceback\n"
     ]
    },
    {
     "name": "stdout",
     "output_type": "stream",
     "text": [
      "[**********************70%*********              ]  1619 of 2310 completed"
     ]
    },
    {
     "name": "stderr",
     "output_type": "stream",
     "text": [
      "sys:1: ResourceWarning: unclosed socket <zmq.Socket(zmq.PUSH) at 0x7f6cf852bd60>\n",
      "ResourceWarning: Enable tracemalloc to get the object allocation traceback\n",
      "sys:1: ResourceWarning: unclosed socket <zmq.Socket(zmq.PUSH) at 0x7f6cf852bbe0>\n",
      "ResourceWarning: Enable tracemalloc to get the object allocation traceback\n",
      "sys:1: ResourceWarning: unclosed socket <zmq.Socket(zmq.PUSH) at 0x7f6d12dfee60>\n",
      "ResourceWarning: Enable tracemalloc to get the object allocation traceback\n"
     ]
    },
    {
     "name": "stdout",
     "output_type": "stream",
     "text": [
      "\r",
      "[**********************70%*********              ]  1620 of 2310 completed"
     ]
    },
    {
     "name": "stderr",
     "output_type": "stream",
     "text": [
      "sys:1: ResourceWarning: unclosed socket <zmq.Socket(zmq.PUSH) at 0x7f6d12dfd0c0>\n",
      "ResourceWarning: Enable tracemalloc to get the object allocation traceback\n"
     ]
    },
    {
     "name": "stdout",
     "output_type": "stream",
     "text": [
      "[**********************70%*********              ]  1622 of 2310 completed"
     ]
    },
    {
     "name": "stderr",
     "output_type": "stream",
     "text": [
      "sys:1: ResourceWarning: unclosed socket <zmq.Socket(zmq.PUSH) at 0x7f6cf8522740>\n",
      "ResourceWarning: Enable tracemalloc to get the object allocation traceback\n",
      "sys:1: ResourceWarning: unclosed socket <zmq.Socket(zmq.PUSH) at 0x7f6d12dfd0c0>\n",
      "ResourceWarning: Enable tracemalloc to get the object allocation traceback\n"
     ]
    },
    {
     "name": "stdout",
     "output_type": "stream",
     "text": [
      "[**********************70%*********              ]  1625 of 2310 completed"
     ]
    },
    {
     "name": "stderr",
     "output_type": "stream",
     "text": [
      "sys:1: ResourceWarning: unclosed socket <zmq.Socket(zmq.PUSH) at 0x7f6cf852b580>\n",
      "ResourceWarning: Enable tracemalloc to get the object allocation traceback\n",
      "sys:1: ResourceWarning: unclosed socket <zmq.Socket(zmq.PUSH) at 0x7f6cf856fa60>\n",
      "ResourceWarning: Enable tracemalloc to get the object allocation traceback\n",
      "sys:1: ResourceWarning: unclosed socket <zmq.Socket(zmq.PUSH) at 0x7f6cf852b580>\n",
      "ResourceWarning: Enable tracemalloc to get the object allocation traceback\n"
     ]
    },
    {
     "name": "stdout",
     "output_type": "stream",
     "text": [
      "[**********************71%*********              ]  1629 of 2310 completed"
     ]
    },
    {
     "name": "stderr",
     "output_type": "stream",
     "text": [
      "sys:1: ResourceWarning: unclosed socket <zmq.Socket(zmq.PUSH) at 0x7f6cf856f5e0>\n",
      "ResourceWarning: Enable tracemalloc to get the object allocation traceback\n",
      "sys:1: ResourceWarning: unclosed socket <zmq.Socket(zmq.PUSH) at 0x7f6cf856fe20>\n",
      "ResourceWarning: Enable tracemalloc to get the object allocation traceback\n",
      "sys:1: ResourceWarning: unclosed socket <zmq.Socket(zmq.PUSH) at 0x7f6cf875fd00>\n",
      "ResourceWarning: Enable tracemalloc to get the object allocation traceback\n",
      "sys:1: ResourceWarning: unclosed socket <zmq.Socket(zmq.PUSH) at 0x7f6d12df7ee0>\n",
      "ResourceWarning: Enable tracemalloc to get the object allocation traceback\n"
     ]
    },
    {
     "name": "stdout",
     "output_type": "stream",
     "text": [
      "[**********************71%*********              ]  1631 of 2310 completed"
     ]
    },
    {
     "name": "stderr",
     "output_type": "stream",
     "text": [
      "sys:1: ResourceWarning: unclosed socket <zmq.Socket(zmq.PUSH) at 0x7f6d12dfe140>\n",
      "ResourceWarning: Enable tracemalloc to get the object allocation traceback\n",
      "sys:1: ResourceWarning: unclosed socket <zmq.Socket(zmq.PUSH) at 0x7f6d12dff6a0>\n",
      "ResourceWarning: Enable tracemalloc to get the object allocation traceback\n"
     ]
    },
    {
     "name": "stdout",
     "output_type": "stream",
     "text": [
      "[**********************71%*********              ]  1633 of 2310 completed"
     ]
    },
    {
     "name": "stderr",
     "output_type": "stream",
     "text": [
      "sys:1: ResourceWarning: unclosed socket <zmq.Socket(zmq.PUSH) at 0x7f6cf86dac20>\n",
      "ResourceWarning: Enable tracemalloc to get the object allocation traceback\n",
      "sys:1: ResourceWarning: unclosed socket <zmq.Socket(zmq.PUSH) at 0x7f6d12df7ac0>\n",
      "ResourceWarning: Enable tracemalloc to get the object allocation traceback\n"
     ]
    },
    {
     "name": "stdout",
     "output_type": "stream",
     "text": [
      "[**********************71%*********              ]  1636 of 2310 completed"
     ]
    },
    {
     "name": "stderr",
     "output_type": "stream",
     "text": [
      "sys:1: ResourceWarning: unclosed socket <zmq.Socket(zmq.PUSH) at 0x7f6cf856fc40>\n",
      "ResourceWarning: Enable tracemalloc to get the object allocation traceback\n",
      "sys:1: ResourceWarning: unclosed socket <zmq.Socket(zmq.PUSH) at 0x7f6cf86d97e0>\n",
      "ResourceWarning: Enable tracemalloc to get the object allocation traceback\n",
      "sys:1: ResourceWarning: unclosed socket <zmq.Socket(zmq.PUSH) at 0x7f6cf875fb20>\n",
      "ResourceWarning: Enable tracemalloc to get the object allocation traceback\n"
     ]
    },
    {
     "name": "stdout",
     "output_type": "stream",
     "text": [
      "\r",
      "[**********************71%*********              ]  1637 of 2310 completed"
     ]
    },
    {
     "name": "stderr",
     "output_type": "stream",
     "text": [
      "sys:1: ResourceWarning: unclosed socket <zmq.Socket(zmq.PUSH) at 0x7f6cf875da20>\n",
      "ResourceWarning: Enable tracemalloc to get the object allocation traceback\n"
     ]
    },
    {
     "name": "stdout",
     "output_type": "stream",
     "text": [
      "[**********************71%*********              ]  1639 of 2310 completed"
     ]
    },
    {
     "name": "stderr",
     "output_type": "stream",
     "text": [
      "sys:1: ResourceWarning: unclosed socket <zmq.Socket(zmq.PUSH) at 0x7f6cf875fb20>\n",
      "ResourceWarning: Enable tracemalloc to get the object allocation traceback\n",
      "sys:1: ResourceWarning: unclosed socket <zmq.Socket(zmq.PUSH) at 0x7f6cf856f700>\n",
      "ResourceWarning: Enable tracemalloc to get the object allocation traceback\n"
     ]
    },
    {
     "name": "stdout",
     "output_type": "stream",
     "text": [
      "\r",
      "[**********************71%*********              ]  1640 of 2310 completed"
     ]
    },
    {
     "name": "stderr",
     "output_type": "stream",
     "text": [
      "sys:1: ResourceWarning: unclosed socket <zmq.Socket(zmq.PUSH) at 0x7f6d12df7ee0>\n",
      "ResourceWarning: Enable tracemalloc to get the object allocation traceback\n"
     ]
    },
    {
     "name": "stdout",
     "output_type": "stream",
     "text": [
      "\r",
      "[**********************71%*********              ]  1641 of 2310 completed"
     ]
    },
    {
     "name": "stderr",
     "output_type": "stream",
     "text": [
      "sys:1: ResourceWarning: unclosed socket <zmq.Socket(zmq.PUSH) at 0x7f6cf85227a0>\n",
      "ResourceWarning: Enable tracemalloc to get the object allocation traceback\n"
     ]
    },
    {
     "name": "stdout",
     "output_type": "stream",
     "text": [
      "[**********************71%*********              ]  1643 of 2310 completed"
     ]
    },
    {
     "name": "stderr",
     "output_type": "stream",
     "text": [
      "sys:1: ResourceWarning: unclosed socket <zmq.Socket(zmq.PUSH) at 0x7f6d12dfea40>\n",
      "ResourceWarning: Enable tracemalloc to get the object allocation traceback\n",
      "sys:1: ResourceWarning: unclosed socket <zmq.Socket(zmq.PUSH) at 0x7f6cf875d9c0>\n",
      "ResourceWarning: Enable tracemalloc to get the object allocation traceback\n"
     ]
    },
    {
     "name": "stdout",
     "output_type": "stream",
     "text": [
      "[**********************71%*********              ]  1645 of 2310 completed"
     ]
    },
    {
     "name": "stderr",
     "output_type": "stream",
     "text": [
      "sys:1: ResourceWarning: unclosed socket <zmq.Socket(zmq.PUSH) at 0x7f6cf86a5660>\n",
      "ResourceWarning: Enable tracemalloc to get the object allocation traceback\n",
      "sys:1: ResourceWarning: unclosed socket <zmq.Socket(zmq.PUSH) at 0x7f6cf875ff40>\n",
      "ResourceWarning: Enable tracemalloc to get the object allocation traceback\n"
     ]
    },
    {
     "name": "stdout",
     "output_type": "stream",
     "text": [
      "\r",
      "[**********************71%*********              ]  1646 of 2310 completed"
     ]
    },
    {
     "name": "stderr",
     "output_type": "stream",
     "text": [
      "sys:1: ResourceWarning: unclosed socket <zmq.Socket(zmq.PUSH) at 0x7f6cf852bc40>\n",
      "ResourceWarning: Enable tracemalloc to get the object allocation traceback\n"
     ]
    },
    {
     "name": "stdout",
     "output_type": "stream",
     "text": [
      "[**********************71%*********              ]  1648 of 2310 completed"
     ]
    },
    {
     "name": "stderr",
     "output_type": "stream",
     "text": [
      "sys:1: ResourceWarning: unclosed socket <zmq.Socket(zmq.PUSH) at 0x7f6cf875ff40>\n",
      "ResourceWarning: Enable tracemalloc to get the object allocation traceback\n",
      "sys:1: ResourceWarning: unclosed socket <zmq.Socket(zmq.PUSH) at 0x7f6cf86a7460>\n",
      "ResourceWarning: Enable tracemalloc to get the object allocation traceback\n"
     ]
    },
    {
     "name": "stdout",
     "output_type": "stream",
     "text": [
      "[**********************71%*********              ]  1650 of 2310 completed"
     ]
    },
    {
     "name": "stderr",
     "output_type": "stream",
     "text": [
      "sys:1: ResourceWarning: unclosed socket <zmq.Socket(zmq.PUSH) at 0x7f6cf875fac0>\n",
      "ResourceWarning: Enable tracemalloc to get the object allocation traceback\n",
      "sys:1: ResourceWarning: unclosed socket <zmq.Socket(zmq.PUSH) at 0x7f6cf85227a0>\n",
      "ResourceWarning: Enable tracemalloc to get the object allocation traceback\n"
     ]
    },
    {
     "name": "stdout",
     "output_type": "stream",
     "text": [
      "[**********************72%**********             ]  1652 of 2310 completed"
     ]
    },
    {
     "name": "stderr",
     "output_type": "stream",
     "text": [
      "sys:1: ResourceWarning: unclosed socket <zmq.Socket(zmq.PUSH) at 0x7f6cf856fd00>\n",
      "ResourceWarning: Enable tracemalloc to get the object allocation traceback\n",
      "sys:1: ResourceWarning: unclosed socket <zmq.Socket(zmq.PUSH) at 0x7f6cf875fb20>\n",
      "ResourceWarning: Enable tracemalloc to get the object allocation traceback\n"
     ]
    },
    {
     "name": "stdout",
     "output_type": "stream",
     "text": [
      "\r",
      "[**********************72%**********             ]  1653 of 2310 completed"
     ]
    },
    {
     "name": "stderr",
     "output_type": "stream",
     "text": [
      "sys:1: ResourceWarning: unclosed socket <zmq.Socket(zmq.PUSH) at 0x7f6cf86a76a0>\n",
      "ResourceWarning: Enable tracemalloc to get the object allocation traceback\n"
     ]
    },
    {
     "name": "stdout",
     "output_type": "stream",
     "text": [
      "[**********************72%**********             ]  1656 of 2310 completed"
     ]
    },
    {
     "name": "stderr",
     "output_type": "stream",
     "text": [
      "sys:1: ResourceWarning: unclosed socket <zmq.Socket(zmq.PUSH) at 0x7f6cf86434c0>\n",
      "ResourceWarning: Enable tracemalloc to get the object allocation traceback\n",
      "sys:1: ResourceWarning: unclosed socket <zmq.Socket(zmq.PUSH) at 0x7f6d12e0bee0>\n",
      "ResourceWarning: Enable tracemalloc to get the object allocation traceback\n",
      "sys:1: ResourceWarning: unclosed socket <zmq.Socket(zmq.PUSH) at 0x7f6d12dff6a0>\n",
      "ResourceWarning: Enable tracemalloc to get the object allocation traceback\n"
     ]
    },
    {
     "name": "stdout",
     "output_type": "stream",
     "text": [
      "[**********************72%**********             ]  1658 of 2310 completed"
     ]
    },
    {
     "name": "stderr",
     "output_type": "stream",
     "text": [
      "sys:1: ResourceWarning: unclosed socket <zmq.Socket(zmq.PUSH) at 0x7f6d12dff6a0>\n",
      "ResourceWarning: Enable tracemalloc to get the object allocation traceback\n",
      "sys:1: ResourceWarning: unclosed socket <zmq.Socket(zmq.PUSH) at 0x7f6cf875f460>\n",
      "ResourceWarning: Enable tracemalloc to get the object allocation traceback\n"
     ]
    },
    {
     "name": "stdout",
     "output_type": "stream",
     "text": [
      "[**********************72%**********             ]  1662 of 2310 completed"
     ]
    },
    {
     "name": "stderr",
     "output_type": "stream",
     "text": [
      "sys:1: ResourceWarning: unclosed socket <zmq.Socket(zmq.PUSH) at 0x7f6cf875dde0>\n",
      "ResourceWarning: Enable tracemalloc to get the object allocation traceback\n",
      "sys:1: ResourceWarning: unclosed socket <zmq.Socket(zmq.PUSH) at 0x7f6cf8523be0>\n",
      "ResourceWarning: Enable tracemalloc to get the object allocation traceback\n",
      "sys:1: ResourceWarning: unclosed socket <zmq.Socket(zmq.PUSH) at 0x7f6d12e0ab00>\n",
      "ResourceWarning: Enable tracemalloc to get the object allocation traceback\n",
      "sys:1: ResourceWarning: unclosed socket <zmq.Socket(zmq.PUSH) at 0x7f6cf852b760>\n",
      "ResourceWarning: Enable tracemalloc to get the object allocation traceback\n"
     ]
    },
    {
     "name": "stdout",
     "output_type": "stream",
     "text": [
      "[**********************72%**********             ]  1664 of 2310 completed"
     ]
    },
    {
     "name": "stderr",
     "output_type": "stream",
     "text": [
      "sys:1: ResourceWarning: unclosed socket <zmq.Socket(zmq.PUSH) at 0x7f6cf852b580>\n",
      "ResourceWarning: Enable tracemalloc to get the object allocation traceback\n",
      "sys:1: ResourceWarning: unclosed socket <zmq.Socket(zmq.PUSH) at 0x7f6cf875dde0>\n",
      "ResourceWarning: Enable tracemalloc to get the object allocation traceback\n"
     ]
    },
    {
     "name": "stdout",
     "output_type": "stream",
     "text": [
      "[**********************72%**********             ]  1666 of 2310 completed"
     ]
    },
    {
     "name": "stderr",
     "output_type": "stream",
     "text": [
      "sys:1: ResourceWarning: unclosed socket <zmq.Socket(zmq.PUSH) at 0x7f6d12dfe200>\n",
      "ResourceWarning: Enable tracemalloc to get the object allocation traceback\n",
      "sys:1: ResourceWarning: unclosed socket <zmq.Socket(zmq.PUSH) at 0x7f6d12e0b7c0>\n",
      "ResourceWarning: Enable tracemalloc to get the object allocation traceback\n"
     ]
    },
    {
     "name": "stdout",
     "output_type": "stream",
     "text": [
      "[**********************72%**********             ]  1669 of 2310 completed"
     ]
    },
    {
     "name": "stderr",
     "output_type": "stream",
     "text": [
      "sys:1: ResourceWarning: unclosed socket <zmq.Socket(zmq.PUSH) at 0x7f6cf8523be0>\n",
      "ResourceWarning: Enable tracemalloc to get the object allocation traceback\n",
      "sys:1: ResourceWarning: unclosed socket <zmq.Socket(zmq.PUSH) at 0x7f6d12df7760>\n",
      "ResourceWarning: Enable tracemalloc to get the object allocation traceback\n",
      "sys:1: ResourceWarning: unclosed socket <zmq.Socket(zmq.PUSH) at 0x7f6d12e0afe0>\n",
      "ResourceWarning: Enable tracemalloc to get the object allocation traceback\n"
     ]
    },
    {
     "name": "stdout",
     "output_type": "stream",
     "text": [
      "\r",
      "[**********************72%**********             ]  1670 of 2310 completed"
     ]
    },
    {
     "name": "stderr",
     "output_type": "stream",
     "text": [
      "sys:1: ResourceWarning: unclosed socket <zmq.Socket(zmq.PUSH) at 0x7f6d12dfea40>\n",
      "ResourceWarning: Enable tracemalloc to get the object allocation traceback\n"
     ]
    },
    {
     "name": "stdout",
     "output_type": "stream",
     "text": [
      "[**********************72%**********             ]  1672 of 2310 completed"
     ]
    },
    {
     "name": "stderr",
     "output_type": "stream",
     "text": [
      "sys:1: ResourceWarning: unclosed socket <zmq.Socket(zmq.PUSH) at 0x7f6d12df7760>\n",
      "ResourceWarning: Enable tracemalloc to get the object allocation traceback\n",
      "sys:1: ResourceWarning: unclosed socket <zmq.Socket(zmq.PUSH) at 0x7f6d12e0afe0>\n",
      "ResourceWarning: Enable tracemalloc to get the object allocation traceback\n"
     ]
    },
    {
     "name": "stdout",
     "output_type": "stream",
     "text": [
      "[**********************73%**********             ]  1675 of 2310 completed"
     ]
    },
    {
     "name": "stderr",
     "output_type": "stream",
     "text": [
      "sys:1: ResourceWarning: unclosed socket <zmq.Socket(zmq.PUSH) at 0x7f6cf86a7fa0>\n",
      "ResourceWarning: Enable tracemalloc to get the object allocation traceback\n",
      "sys:1: ResourceWarning: unclosed socket <zmq.Socket(zmq.PUSH) at 0x7f6cf856f700>\n",
      "ResourceWarning: Enable tracemalloc to get the object allocation traceback\n",
      "sys:1: ResourceWarning: unclosed socket <zmq.Socket(zmq.PUSH) at 0x7f6cf875da20>\n",
      "ResourceWarning: Enable tracemalloc to get the object allocation traceback\n"
     ]
    },
    {
     "name": "stdout",
     "output_type": "stream",
     "text": [
      "[**********************73%**********             ]  1677 of 2310 completed"
     ]
    },
    {
     "name": "stderr",
     "output_type": "stream",
     "text": [
      "sys:1: ResourceWarning: unclosed socket <zmq.Socket(zmq.PUSH) at 0x7f6cf8523be0>\n",
      "ResourceWarning: Enable tracemalloc to get the object allocation traceback\n",
      "sys:1: ResourceWarning: unclosed socket <zmq.Socket(zmq.PUSH) at 0x7f6cf875fb20>\n",
      "ResourceWarning: Enable tracemalloc to get the object allocation traceback\n"
     ]
    },
    {
     "name": "stdout",
     "output_type": "stream",
     "text": [
      "[**********************73%**********             ]  1679 of 2310 completed"
     ]
    },
    {
     "name": "stderr",
     "output_type": "stream",
     "text": [
      "sys:1: ResourceWarning: unclosed socket <zmq.Socket(zmq.PUSH) at 0x7f6cf852bc40>\n",
      "ResourceWarning: Enable tracemalloc to get the object allocation traceback\n",
      "sys:1: ResourceWarning: unclosed socket <zmq.Socket(zmq.PUSH) at 0x7f6cf852b760>\n",
      "ResourceWarning: Enable tracemalloc to get the object allocation traceback\n"
     ]
    },
    {
     "name": "stdout",
     "output_type": "stream",
     "text": [
      "\r",
      "[**********************73%**********             ]  1680 of 2310 completed"
     ]
    },
    {
     "name": "stderr",
     "output_type": "stream",
     "text": [
      "sys:1: ResourceWarning: unclosed socket <zmq.Socket(zmq.PUSH) at 0x7f6d12e0ae00>\n",
      "ResourceWarning: Enable tracemalloc to get the object allocation traceback\n"
     ]
    },
    {
     "name": "stdout",
     "output_type": "stream",
     "text": [
      "[**********************73%**********             ]  1685 of 2310 completed"
     ]
    },
    {
     "name": "stderr",
     "output_type": "stream",
     "text": [
      "sys:1: ResourceWarning: unclosed socket <zmq.Socket(zmq.PUSH) at 0x7f6d11b33580>\n",
      "ResourceWarning: Enable tracemalloc to get the object allocation traceback\n",
      "sys:1: ResourceWarning: unclosed socket <zmq.Socket(zmq.PUSH) at 0x7f6d12e0ae00>\n",
      "ResourceWarning: Enable tracemalloc to get the object allocation traceback\n",
      "sys:1: ResourceWarning: unclosed socket <zmq.Socket(zmq.PUSH) at 0x7f6cf8522aa0>\n",
      "ResourceWarning: Enable tracemalloc to get the object allocation traceback\n",
      "sys:1: ResourceWarning: unclosed socket <zmq.Socket(zmq.PUSH) at 0x7f6cf86a7f40>\n",
      "ResourceWarning: Enable tracemalloc to get the object allocation traceback\n",
      "sys:1: ResourceWarning: unclosed socket <zmq.Socket(zmq.PUSH) at 0x7f6cf856fe20>\n",
      "ResourceWarning: Enable tracemalloc to get the object allocation traceback\n"
     ]
    },
    {
     "name": "stdout",
     "output_type": "stream",
     "text": [
      "[**********************73%**********             ]  1687 of 2310 completed"
     ]
    },
    {
     "name": "stderr",
     "output_type": "stream",
     "text": [
      "sys:1: ResourceWarning: unclosed socket <zmq.Socket(zmq.PUSH) at 0x7f6cf856fee0>\n",
      "ResourceWarning: Enable tracemalloc to get the object allocation traceback\n",
      "sys:1: ResourceWarning: unclosed socket <zmq.Socket(zmq.PUSH) at 0x7f6cf875da20>\n",
      "ResourceWarning: Enable tracemalloc to get the object allocation traceback\n"
     ]
    },
    {
     "name": "stdout",
     "output_type": "stream",
     "text": [
      "\r",
      "[**********************73%**********             ]  1688 of 2310 completed"
     ]
    },
    {
     "name": "stderr",
     "output_type": "stream",
     "text": [
      "sys:1: ResourceWarning: unclosed socket <zmq.Socket(zmq.PUSH) at 0x7f6d11b323e0>\n",
      "ResourceWarning: Enable tracemalloc to get the object allocation traceback\n"
     ]
    },
    {
     "name": "stdout",
     "output_type": "stream",
     "text": [
      "\r",
      "[**********************73%**********             ]  1689 of 2310 completed"
     ]
    },
    {
     "name": "stderr",
     "output_type": "stream",
     "text": [
      "sys:1: ResourceWarning: unclosed socket <zmq.Socket(zmq.PUSH) at 0x7f6d12e0b7c0>\n",
      "ResourceWarning: Enable tracemalloc to get the object allocation traceback\n"
     ]
    },
    {
     "name": "stdout",
     "output_type": "stream",
     "text": [
      "[**********************73%**********             ]  1692 of 2310 completed"
     ]
    },
    {
     "name": "stderr",
     "output_type": "stream",
     "text": [
      "sys:1: ResourceWarning: unclosed socket <zmq.Socket(zmq.PUSH) at 0x7f6d12e0b7c0>\n",
      "ResourceWarning: Enable tracemalloc to get the object allocation traceback\n",
      "sys:1: ResourceWarning: unclosed socket <zmq.Socket(zmq.PUSH) at 0x7f6cf856fe20>\n",
      "ResourceWarning: Enable tracemalloc to get the object allocation traceback\n",
      "sys:1: ResourceWarning: unclosed socket <zmq.Socket(zmq.PUSH) at 0x7f6d11b33400>\n",
      "ResourceWarning: Enable tracemalloc to get the object allocation traceback\n"
     ]
    },
    {
     "name": "stdout",
     "output_type": "stream",
     "text": [
      "[**********************73%**********             ]  1697 of 2310 completed"
     ]
    },
    {
     "name": "stderr",
     "output_type": "stream",
     "text": [
      "sys:1: ResourceWarning: unclosed socket <zmq.Socket(zmq.PUSH) at 0x7f6d12e0bee0>\n",
      "ResourceWarning: Enable tracemalloc to get the object allocation traceback\n",
      "sys:1: ResourceWarning: unclosed socket <zmq.Socket(zmq.PUSH) at 0x7f6cf856fe20>\n",
      "ResourceWarning: Enable tracemalloc to get the object allocation traceback\n",
      "sys:1: ResourceWarning: unclosed socket <zmq.Socket(zmq.PUSH) at 0x7f6d12de2f80>\n",
      "ResourceWarning: Enable tracemalloc to get the object allocation traceback\n",
      "sys:1: ResourceWarning: unclosed socket <zmq.Socket(zmq.PUSH) at 0x7f6d12df7ee0>\n",
      "ResourceWarning: Enable tracemalloc to get the object allocation traceback\n",
      "sys:1: ResourceWarning: unclosed socket <zmq.Socket(zmq.PUSH) at 0x7f6cf86d97e0>\n",
      "ResourceWarning: Enable tracemalloc to get the object allocation traceback\n"
     ]
    },
    {
     "name": "stdout",
     "output_type": "stream",
     "text": [
      "\r",
      "[**********************74%***********            ]  1698 of 2310 completed"
     ]
    },
    {
     "name": "stderr",
     "output_type": "stream",
     "text": [
      "sys:1: ResourceWarning: unclosed socket <zmq.Socket(zmq.PUSH) at 0x7f6cf86d97e0>\n",
      "ResourceWarning: Enable tracemalloc to get the object allocation traceback\n"
     ]
    },
    {
     "name": "stdout",
     "output_type": "stream",
     "text": [
      "[**********************74%***********            ]  1702 of 2310 completed"
     ]
    },
    {
     "name": "stderr",
     "output_type": "stream",
     "text": [
      "sys:1: ResourceWarning: unclosed socket <zmq.Socket(zmq.PUSH) at 0x7f6cf86d97e0>\n",
      "ResourceWarning: Enable tracemalloc to get the object allocation traceback\n",
      "sys:1: ResourceWarning: unclosed socket <zmq.Socket(zmq.PUSH) at 0x7f6cf875f460>\n",
      "ResourceWarning: Enable tracemalloc to get the object allocation traceback\n",
      "sys:1: ResourceWarning: unclosed socket <zmq.Socket(zmq.PUSH) at 0x7f6cf856fa60>\n",
      "ResourceWarning: Enable tracemalloc to get the object allocation traceback\n",
      "sys:1: ResourceWarning: unclosed socket <zmq.Socket(zmq.PUSH) at 0x7f6d12e0bee0>\n",
      "ResourceWarning: Enable tracemalloc to get the object allocation traceback\n"
     ]
    },
    {
     "name": "stdout",
     "output_type": "stream",
     "text": [
      "[**********************74%***********            ]  1704 of 2310 completed"
     ]
    },
    {
     "name": "stderr",
     "output_type": "stream",
     "text": [
      "sys:1: ResourceWarning: unclosed socket <zmq.Socket(zmq.PUSH) at 0x7f6d11b327a0>\n",
      "ResourceWarning: Enable tracemalloc to get the object allocation traceback\n",
      "sys:1: ResourceWarning: unclosed socket <zmq.Socket(zmq.PUSH) at 0x7f6d12e0bee0>\n",
      "ResourceWarning: Enable tracemalloc to get the object allocation traceback\n"
     ]
    },
    {
     "name": "stdout",
     "output_type": "stream",
     "text": [
      "\r",
      "[**********************74%***********            ]  1705 of 2310 completed"
     ]
    },
    {
     "name": "stderr",
     "output_type": "stream",
     "text": [
      "sys:1: ResourceWarning: unclosed socket <zmq.Socket(zmq.PUSH) at 0x7f6d11b327a0>\n",
      "ResourceWarning: Enable tracemalloc to get the object allocation traceback\n"
     ]
    },
    {
     "name": "stdout",
     "output_type": "stream",
     "text": [
      "[**********************74%***********            ]  1707 of 2310 completed"
     ]
    },
    {
     "name": "stderr",
     "output_type": "stream",
     "text": [
      "sys:1: ResourceWarning: unclosed socket <zmq.Socket(zmq.PUSH) at 0x7f6d11b33400>\n",
      "ResourceWarning: Enable tracemalloc to get the object allocation traceback\n",
      "sys:1: ResourceWarning: unclosed socket <zmq.Socket(zmq.PUSH) at 0x7f6cf875ff40>\n",
      "ResourceWarning: Enable tracemalloc to get the object allocation traceback\n"
     ]
    },
    {
     "name": "stdout",
     "output_type": "stream",
     "text": [
      "\r",
      "[**********************74%***********            ]  1708 of 2310 completed"
     ]
    },
    {
     "name": "stderr",
     "output_type": "stream",
     "text": [
      "sys:1: ResourceWarning: unclosed socket <zmq.Socket(zmq.PUSH) at 0x7f6cf86a76a0>\n",
      "ResourceWarning: Enable tracemalloc to get the object allocation traceback\n"
     ]
    },
    {
     "name": "stdout",
     "output_type": "stream",
     "text": [
      "\r",
      "[**********************74%***********            ]  1709 of 2310 completed"
     ]
    },
    {
     "name": "stderr",
     "output_type": "stream",
     "text": [
      "sys:1: ResourceWarning: unclosed socket <zmq.Socket(zmq.PUSH) at 0x7f6d11b33400>\n",
      "ResourceWarning: Enable tracemalloc to get the object allocation traceback\n"
     ]
    },
    {
     "name": "stdout",
     "output_type": "stream",
     "text": [
      "[**********************74%***********            ]  1713 of 2310 completed"
     ]
    },
    {
     "name": "stderr",
     "output_type": "stream",
     "text": [
      "sys:1: ResourceWarning: unclosed socket <zmq.Socket(zmq.PUSH) at 0x7f6d11b32c80>\n",
      "ResourceWarning: Enable tracemalloc to get the object allocation traceback\n",
      "sys:1: ResourceWarning: unclosed socket <zmq.Socket(zmq.PUSH) at 0x7f6d12e27ac0>\n",
      "ResourceWarning: Enable tracemalloc to get the object allocation traceback\n",
      "sys:1: ResourceWarning: unclosed socket <zmq.Socket(zmq.PUSH) at 0x7f6d12e13e20>\n",
      "ResourceWarning: Enable tracemalloc to get the object allocation traceback\n",
      "sys:1: ResourceWarning: unclosed socket <zmq.Socket(zmq.PUSH) at 0x7f6d12e25e40>\n",
      "ResourceWarning: Enable tracemalloc to get the object allocation traceback\n"
     ]
    },
    {
     "name": "stdout",
     "output_type": "stream",
     "text": [
      "[**********************74%***********            ]  1715 of 2310 completed"
     ]
    },
    {
     "name": "stderr",
     "output_type": "stream",
     "text": [
      "sys:1: ResourceWarning: unclosed socket <zmq.Socket(zmq.PUSH) at 0x7f6d12df7ee0>\n",
      "ResourceWarning: Enable tracemalloc to get the object allocation traceback\n",
      "sys:1: ResourceWarning: unclosed socket <zmq.Socket(zmq.PUSH) at 0x7f6d12e251e0>\n",
      "ResourceWarning: Enable tracemalloc to get the object allocation traceback\n"
     ]
    },
    {
     "name": "stdout",
     "output_type": "stream",
     "text": [
      "\r",
      "[**********************74%***********            ]  1716 of 2310 completed"
     ]
    },
    {
     "name": "stderr",
     "output_type": "stream",
     "text": [
      "sys:1: ResourceWarning: unclosed socket <zmq.Socket(zmq.PUSH) at 0x7f6d12e276a0>\n",
      "ResourceWarning: Enable tracemalloc to get the object allocation traceback\n"
     ]
    },
    {
     "name": "stdout",
     "output_type": "stream",
     "text": [
      "[**********************74%***********            ]  1718 of 2310 completed"
     ]
    },
    {
     "name": "stderr",
     "output_type": "stream",
     "text": [
      "sys:1: ResourceWarning: unclosed socket <zmq.Socket(zmq.PUSH) at 0x7f6cf8522fe0>\n",
      "ResourceWarning: Enable tracemalloc to get the object allocation traceback\n",
      "sys:1: ResourceWarning: unclosed socket <zmq.Socket(zmq.PUSH) at 0x7f6cf86a7ca0>\n",
      "ResourceWarning: Enable tracemalloc to get the object allocation traceback\n"
     ]
    },
    {
     "name": "stdout",
     "output_type": "stream",
     "text": [
      "\r",
      "[**********************74%***********            ]  1719 of 2310 completed"
     ]
    },
    {
     "name": "stderr",
     "output_type": "stream",
     "text": [
      "sys:1: ResourceWarning: unclosed socket <zmq.Socket(zmq.PUSH) at 0x7f6cf8522aa0>\n",
      "ResourceWarning: Enable tracemalloc to get the object allocation traceback\n"
     ]
    },
    {
     "name": "stdout",
     "output_type": "stream",
     "text": [
      "[**********************75%***********            ]  1723 of 2310 completed"
     ]
    },
    {
     "name": "stderr",
     "output_type": "stream",
     "text": [
      "sys:1: ResourceWarning: unclosed socket <zmq.Socket(zmq.PUSH) at 0x7f6d12e134c0>\n",
      "ResourceWarning: Enable tracemalloc to get the object allocation traceback\n",
      "sys:1: ResourceWarning: unclosed socket <zmq.Socket(zmq.PUSH) at 0x7f6cf86a73a0>\n",
      "ResourceWarning: Enable tracemalloc to get the object allocation traceback\n",
      "sys:1: ResourceWarning: unclosed socket <zmq.Socket(zmq.PUSH) at 0x7f6cf8403880>\n",
      "ResourceWarning: Enable tracemalloc to get the object allocation traceback\n",
      "sys:1: ResourceWarning: unclosed socket <zmq.Socket(zmq.PUSH) at 0x7f6cf856fa60>\n",
      "ResourceWarning: Enable tracemalloc to get the object allocation traceback\n"
     ]
    },
    {
     "name": "stdout",
     "output_type": "stream",
     "text": [
      "[**********************75%***********            ]  1725 of 2310 completed"
     ]
    },
    {
     "name": "stderr",
     "output_type": "stream",
     "text": [
      "sys:1: ResourceWarning: unclosed socket <zmq.Socket(zmq.PUSH) at 0x7f6cf86d97e0>\n",
      "ResourceWarning: Enable tracemalloc to get the object allocation traceback\n"
     ]
    },
    {
     "name": "stdout",
     "output_type": "stream",
     "text": [
      "\r",
      "[**********************75%***********            ]  1726 of 2310 completed"
     ]
    },
    {
     "name": "stderr",
     "output_type": "stream",
     "text": [
      "sys:1: ResourceWarning: unclosed socket <zmq.Socket(zmq.PUSH) at 0x7f6d11b32c80>\n",
      "ResourceWarning: Enable tracemalloc to get the object allocation traceback\n",
      "sys:1: ResourceWarning: unclosed socket <zmq.Socket(zmq.PUSH) at 0x7f6d12df7ee0>\n",
      "ResourceWarning: Enable tracemalloc to get the object allocation traceback\n"
     ]
    },
    {
     "name": "stdout",
     "output_type": "stream",
     "text": [
      "[**********************75%***********            ]  1728 of 2310 completed"
     ]
    },
    {
     "name": "stderr",
     "output_type": "stream",
     "text": [
      "sys:1: ResourceWarning: unclosed socket <zmq.Socket(zmq.PUSH) at 0x7f6d12dfd0c0>\n",
      "ResourceWarning: Enable tracemalloc to get the object allocation traceback\n",
      "sys:1: ResourceWarning: unclosed socket <zmq.Socket(zmq.PUSH) at 0x7f6d12e138e0>\n",
      "ResourceWarning: Enable tracemalloc to get the object allocation traceback\n"
     ]
    },
    {
     "name": "stdout",
     "output_type": "stream",
     "text": [
      "[**********************75%***********            ]  1731 of 2310 completed"
     ]
    },
    {
     "name": "stderr",
     "output_type": "stream",
     "text": [
      "sys:1: ResourceWarning: unclosed socket <zmq.Socket(zmq.PUSH) at 0x7f6d12e13520>\n",
      "ResourceWarning: Enable tracemalloc to get the object allocation traceback\n",
      "sys:1: ResourceWarning: unclosed socket <zmq.Socket(zmq.PUSH) at 0x7f6cf8403a60>\n",
      "ResourceWarning: Enable tracemalloc to get the object allocation traceback\n",
      "sys:1: ResourceWarning: unclosed socket <zmq.Socket(zmq.PUSH) at 0x7f6cf86a76a0>\n",
      "ResourceWarning: Enable tracemalloc to get the object allocation traceback\n"
     ]
    },
    {
     "name": "stdout",
     "output_type": "stream",
     "text": [
      "[**********************75%***********            ]  1733 of 2310 completed"
     ]
    },
    {
     "name": "stderr",
     "output_type": "stream",
     "text": [
      "sys:1: ResourceWarning: unclosed socket <zmq.Socket(zmq.PUSH) at 0x7f6cf856fa60>\n",
      "ResourceWarning: Enable tracemalloc to get the object allocation traceback\n",
      "sys:1: ResourceWarning: unclosed socket <zmq.Socket(zmq.PUSH) at 0x7f6cf86a76a0>\n",
      "ResourceWarning: Enable tracemalloc to get the object allocation traceback\n"
     ]
    },
    {
     "name": "stdout",
     "output_type": "stream",
     "text": [
      "\r",
      "[**********************75%***********            ]  1734 of 2310 completed"
     ]
    },
    {
     "name": "stderr",
     "output_type": "stream",
     "text": [
      "sys:1: ResourceWarning: unclosed socket <zmq.Socket(zmq.PUSH) at 0x7f6cf8403e20>\n",
      "ResourceWarning: Enable tracemalloc to get the object allocation traceback\n"
     ]
    },
    {
     "name": "stdout",
     "output_type": "stream",
     "text": [
      "[**********************75%***********            ]  1736 of 2310 completed"
     ]
    },
    {
     "name": "stderr",
     "output_type": "stream",
     "text": [
      "sys:1: ResourceWarning: unclosed socket <zmq.Socket(zmq.PUSH) at 0x7f6d12e27640>\n",
      "ResourceWarning: Enable tracemalloc to get the object allocation traceback\n",
      "sys:1: ResourceWarning: unclosed socket <zmq.Socket(zmq.PUSH) at 0x7f6cf8403e20>\n",
      "ResourceWarning: Enable tracemalloc to get the object allocation traceback\n"
     ]
    },
    {
     "name": "stdout",
     "output_type": "stream",
     "text": [
      "[**********************75%***********            ]  1740 of 2310 completed"
     ]
    },
    {
     "name": "stderr",
     "output_type": "stream",
     "text": [
      "sys:1: ResourceWarning: unclosed socket <zmq.Socket(zmq.PUSH) at 0x7f6d12e13520>\n",
      "ResourceWarning: Enable tracemalloc to get the object allocation traceback\n",
      "sys:1: ResourceWarning: unclosed socket <zmq.Socket(zmq.PUSH) at 0x7f6cf84002e0>\n",
      "ResourceWarning: Enable tracemalloc to get the object allocation traceback\n",
      "sys:1: ResourceWarning: unclosed socket <zmq.Socket(zmq.PUSH) at 0x7f6d12e0ae00>\n",
      "ResourceWarning: Enable tracemalloc to get the object allocation traceback\n",
      "sys:1: ResourceWarning: unclosed socket <zmq.Socket(zmq.PUSH) at 0x7f6d12de3be0>\n",
      "ResourceWarning: Enable tracemalloc to get the object allocation traceback\n"
     ]
    },
    {
     "name": "stdout",
     "output_type": "stream",
     "text": [
      "\r",
      "[**********************75%***********            ]  1741 of 2310 completed"
     ]
    },
    {
     "name": "stderr",
     "output_type": "stream",
     "text": [
      "sys:1: ResourceWarning: unclosed socket <zmq.Socket(zmq.PUSH) at 0x7f6d12e258a0>\n",
      "ResourceWarning: Enable tracemalloc to get the object allocation traceback\n"
     ]
    },
    {
     "name": "stdout",
     "output_type": "stream",
     "text": [
      "[**********************75%***********            ]  1743 of 2310 completed"
     ]
    },
    {
     "name": "stderr",
     "output_type": "stream",
     "text": [
      "sys:1: ResourceWarning: unclosed socket <zmq.Socket(zmq.PUSH) at 0x7f6d12e258a0>\n",
      "ResourceWarning: Enable tracemalloc to get the object allocation traceback\n",
      "sys:1: ResourceWarning: unclosed socket <zmq.Socket(zmq.PUSH) at 0x7f6d12e138e0>\n",
      "ResourceWarning: Enable tracemalloc to get the object allocation traceback\n"
     ]
    },
    {
     "name": "stdout",
     "output_type": "stream",
     "text": [
      "[**********************76%***********            ]  1745 of 2310 completed"
     ]
    },
    {
     "name": "stderr",
     "output_type": "stream",
     "text": [
      "sys:1: ResourceWarning: unclosed socket <zmq.Socket(zmq.PUSH) at 0x7f6d12e138e0>\n",
      "ResourceWarning: Enable tracemalloc to get the object allocation traceback\n",
      "sys:1: ResourceWarning: unclosed socket <zmq.Socket(zmq.PUSH) at 0x7f6d12e11f60>\n",
      "ResourceWarning: Enable tracemalloc to get the object allocation traceback\n"
     ]
    },
    {
     "name": "stdout",
     "output_type": "stream",
     "text": [
      "[**********************76%***********            ]  1749 of 2310 completed"
     ]
    },
    {
     "name": "stderr",
     "output_type": "stream",
     "text": [
      "sys:1: ResourceWarning: unclosed socket <zmq.Socket(zmq.PUSH) at 0x7f6d12e11f60>\n",
      "ResourceWarning: Enable tracemalloc to get the object allocation traceback\n",
      "sys:1: ResourceWarning: unclosed socket <zmq.Socket(zmq.PUSH) at 0x7f6d12e13e20>\n",
      "ResourceWarning: Enable tracemalloc to get the object allocation traceback\n",
      "sys:1: ResourceWarning: unclosed socket <zmq.Socket(zmq.PUSH) at 0x7f6cf86a7ca0>\n",
      "ResourceWarning: Enable tracemalloc to get the object allocation traceback\n",
      "sys:1: ResourceWarning: unclosed socket <zmq.Socket(zmq.PUSH) at 0x7f6d12e27c40>\n",
      "ResourceWarning: Enable tracemalloc to get the object allocation traceback\n"
     ]
    },
    {
     "name": "stdout",
     "output_type": "stream",
     "text": [
      "[**********************76%***********            ]  1752 of 2310 completed"
     ]
    },
    {
     "name": "stderr",
     "output_type": "stream",
     "text": [
      "sys:1: ResourceWarning: unclosed socket <zmq.Socket(zmq.PUSH) at 0x7f6d12de3be0>\n",
      "ResourceWarning: Enable tracemalloc to get the object allocation traceback\n",
      "sys:1: ResourceWarning: unclosed socket <zmq.Socket(zmq.PUSH) at 0x7f6cf85aa3e0>\n",
      "ResourceWarning: Enable tracemalloc to get the object allocation traceback\n",
      "sys:1: ResourceWarning: unclosed socket <zmq.Socket(zmq.PUSH) at 0x7f6cf85a9fc0>\n",
      "ResourceWarning: Enable tracemalloc to get the object allocation traceback\n"
     ]
    },
    {
     "name": "stdout",
     "output_type": "stream",
     "text": [
      "[**********************76%***********            ]  1754 of 2310 completed"
     ]
    },
    {
     "name": "stderr",
     "output_type": "stream",
     "text": [
      "sys:1: ResourceWarning: unclosed socket <zmq.Socket(zmq.PUSH) at 0x7f6d12dfd0c0>\n",
      "ResourceWarning: Enable tracemalloc to get the object allocation traceback\n",
      "sys:1: ResourceWarning: unclosed socket <zmq.Socket(zmq.PUSH) at 0x7f6d12e26f80>\n",
      "ResourceWarning: Enable tracemalloc to get the object allocation traceback\n"
     ]
    },
    {
     "name": "stdout",
     "output_type": "stream",
     "text": [
      "[**********************76%***********            ]  1757 of 2310 completed"
     ]
    },
    {
     "name": "stderr",
     "output_type": "stream",
     "text": [
      "sys:1: ResourceWarning: unclosed socket <zmq.Socket(zmq.PUSH) at 0x7f6d12e26f80>\n",
      "ResourceWarning: Enable tracemalloc to get the object allocation traceback\n",
      "sys:1: ResourceWarning: unclosed socket <zmq.Socket(zmq.PUSH) at 0x7f6cf85ab940>\n",
      "ResourceWarning: Enable tracemalloc to get the object allocation traceback\n",
      "sys:1: ResourceWarning: unclosed socket <zmq.Socket(zmq.PUSH) at 0x7f6cf85abac0>\n",
      "ResourceWarning: Enable tracemalloc to get the object allocation traceback\n"
     ]
    },
    {
     "name": "stdout",
     "output_type": "stream",
     "text": [
      "[**********************76%***********            ]  1759 of 2310 completed"
     ]
    },
    {
     "name": "stderr",
     "output_type": "stream",
     "text": [
      "sys:1: ResourceWarning: unclosed socket <zmq.Socket(zmq.PUSH) at 0x7f6d12e0ae00>\n",
      "ResourceWarning: Enable tracemalloc to get the object allocation traceback\n",
      "sys:1: ResourceWarning: unclosed socket <zmq.Socket(zmq.PUSH) at 0x7f6d12e260e0>\n",
      "ResourceWarning: Enable tracemalloc to get the object allocation traceback\n"
     ]
    },
    {
     "name": "stdout",
     "output_type": "stream",
     "text": [
      "[**********************76%***********            ]  1761 of 2310 completed"
     ]
    },
    {
     "name": "stderr",
     "output_type": "stream",
     "text": [
      "sys:1: ResourceWarning: unclosed socket <zmq.Socket(zmq.PUSH) at 0x7f6cf85ab760>\n",
      "ResourceWarning: Enable tracemalloc to get the object allocation traceback\n",
      "sys:1: ResourceWarning: unclosed socket <zmq.Socket(zmq.PUSH) at 0x7f6cf85ab760>\n",
      "ResourceWarning: Enable tracemalloc to get the object allocation traceback\n"
     ]
    },
    {
     "name": "stdout",
     "output_type": "stream",
     "text": [
      "[**********************76%***********            ]  1764 of 2310 completed"
     ]
    },
    {
     "name": "stderr",
     "output_type": "stream",
     "text": [
      "sys:1: ResourceWarning: unclosed socket <zmq.Socket(zmq.PUSH) at 0x7f6d12e13dc0>\n",
      "ResourceWarning: Enable tracemalloc to get the object allocation traceback\n",
      "sys:1: ResourceWarning: unclosed socket <zmq.Socket(zmq.PUSH) at 0x7f6cf86a7ca0>\n",
      "ResourceWarning: Enable tracemalloc to get the object allocation traceback\n",
      "sys:1: ResourceWarning: unclosed socket <zmq.Socket(zmq.PUSH) at 0x7f6d12dfd0c0>\n",
      "ResourceWarning: Enable tracemalloc to get the object allocation traceback\n"
     ]
    },
    {
     "name": "stdout",
     "output_type": "stream",
     "text": [
      "[**********************76%***********            ]  1766 of 2310 completed"
     ]
    },
    {
     "name": "stderr",
     "output_type": "stream",
     "text": [
      "sys:1: ResourceWarning: unclosed socket <zmq.Socket(zmq.PUSH) at 0x7f6d12e11f60>\n",
      "ResourceWarning: Enable tracemalloc to get the object allocation traceback\n",
      "sys:1: ResourceWarning: unclosed socket <zmq.Socket(zmq.PUSH) at 0x7f6d12e258a0>\n",
      "ResourceWarning: Enable tracemalloc to get the object allocation traceback\n"
     ]
    },
    {
     "name": "stdout",
     "output_type": "stream",
     "text": [
      "[**********************77%************           ]  1769 of 2310 completed"
     ]
    },
    {
     "name": "stderr",
     "output_type": "stream",
     "text": [
      "sys:1: ResourceWarning: unclosed socket <zmq.Socket(zmq.PUSH) at 0x7f6d12e11f60>\n",
      "ResourceWarning: Enable tracemalloc to get the object allocation traceback\n",
      "sys:1: ResourceWarning: unclosed socket <zmq.Socket(zmq.PUSH) at 0x7f6cf85abe20>\n",
      "ResourceWarning: Enable tracemalloc to get the object allocation traceback\n",
      "sys:1: ResourceWarning: unclosed socket <zmq.Socket(zmq.PUSH) at 0x7f6d12e11f60>\n",
      "ResourceWarning: Enable tracemalloc to get the object allocation traceback\n"
     ]
    },
    {
     "name": "stdout",
     "output_type": "stream",
     "text": [
      "[**********************77%************           ]  1772 of 2310 completed"
     ]
    },
    {
     "name": "stderr",
     "output_type": "stream",
     "text": [
      "sys:1: ResourceWarning: unclosed socket <zmq.Socket(zmq.PUSH) at 0x7f6cf8403640>\n",
      "ResourceWarning: Enable tracemalloc to get the object allocation traceback\n",
      "sys:1: ResourceWarning: unclosed socket <zmq.Socket(zmq.PUSH) at 0x7f6cf85df6a0>\n",
      "ResourceWarning: Enable tracemalloc to get the object allocation traceback\n",
      "sys:1: ResourceWarning: unclosed socket <zmq.Socket(zmq.PUSH) at 0x7f6cf8403640>\n",
      "ResourceWarning: Enable tracemalloc to get the object allocation traceback\n"
     ]
    },
    {
     "name": "stdout",
     "output_type": "stream",
     "text": [
      "[**********************77%************           ]  1774 of 2310 completed"
     ]
    },
    {
     "name": "stderr",
     "output_type": "stream",
     "text": [
      "sys:1: ResourceWarning: unclosed socket <zmq.Socket(zmq.PUSH) at 0x7f6cf85d6140>\n",
      "ResourceWarning: Enable tracemalloc to get the object allocation traceback\n",
      "sys:1: ResourceWarning: unclosed socket <zmq.Socket(zmq.PUSH) at 0x7f6cf85abe80>\n",
      "ResourceWarning: Enable tracemalloc to get the object allocation traceback\n"
     ]
    },
    {
     "name": "stdout",
     "output_type": "stream",
     "text": [
      "[**********************77%************           ]  1776 of 2310 completed"
     ]
    },
    {
     "name": "stderr",
     "output_type": "stream",
     "text": [
      "sys:1: ResourceWarning: unclosed socket <zmq.Socket(zmq.PUSH) at 0x7f6d12e13820>\n",
      "ResourceWarning: Enable tracemalloc to get the object allocation traceback\n",
      "sys:1: ResourceWarning: unclosed socket <zmq.Socket(zmq.PUSH) at 0x7f6d12e0bee0>\n",
      "ResourceWarning: Enable tracemalloc to get the object allocation traceback\n"
     ]
    },
    {
     "name": "stdout",
     "output_type": "stream",
     "text": [
      "[**********************77%************           ]  1779 of 2310 completed"
     ]
    },
    {
     "name": "stderr",
     "output_type": "stream",
     "text": [
      "sys:1: ResourceWarning: unclosed socket <zmq.Socket(zmq.PUSH) at 0x7f6cf85abe80>\n",
      "ResourceWarning: Enable tracemalloc to get the object allocation traceback\n",
      "sys:1: ResourceWarning: unclosed socket <zmq.Socket(zmq.PUSH) at 0x7f6cf8403a00>\n",
      "ResourceWarning: Enable tracemalloc to get the object allocation traceback\n",
      "sys:1: ResourceWarning: unclosed socket <zmq.Socket(zmq.PUSH) at 0x7f6cf85abe20>\n",
      "ResourceWarning: Enable tracemalloc to get the object allocation traceback\n"
     ]
    },
    {
     "name": "stdout",
     "output_type": "stream",
     "text": [
      "[**********************77%************           ]  1783 of 2310 completed"
     ]
    },
    {
     "name": "stderr",
     "output_type": "stream",
     "text": [
      "sys:1: ResourceWarning: unclosed socket <zmq.Socket(zmq.PUSH) at 0x7f6d12e0ae00>\n",
      "ResourceWarning: Enable tracemalloc to get the object allocation traceback\n",
      "sys:1: ResourceWarning: unclosed socket <zmq.Socket(zmq.PUSH) at 0x7f6cf856f5e0>\n",
      "ResourceWarning: Enable tracemalloc to get the object allocation traceback\n",
      "sys:1: ResourceWarning: unclosed socket <zmq.Socket(zmq.PUSH) at 0x7f6cf85d6da0>\n",
      "ResourceWarning: Enable tracemalloc to get the object allocation traceback\n",
      "sys:1: ResourceWarning: unclosed socket <zmq.Socket(zmq.PUSH) at 0x7f6cf85ab8e0>\n",
      "ResourceWarning: Enable tracemalloc to get the object allocation traceback\n",
      "sys:1: ResourceWarning: unclosed socket <zmq.Socket(zmq.PUSH) at 0x7f6d12e13dc0>\n",
      "ResourceWarning: Enable tracemalloc to get the object allocation traceback\n"
     ]
    },
    {
     "name": "stdout",
     "output_type": "stream",
     "text": [
      "[**********************77%************           ]  1786 of 2310 completed"
     ]
    },
    {
     "name": "stderr",
     "output_type": "stream",
     "text": [
      "sys:1: ResourceWarning: unclosed socket <zmq.Socket(zmq.PUSH) at 0x7f6cf86a7460>\n",
      "ResourceWarning: Enable tracemalloc to get the object allocation traceback\n",
      "sys:1: ResourceWarning: unclosed socket <zmq.Socket(zmq.PUSH) at 0x7f6cf85ddde0>\n",
      "ResourceWarning: Enable tracemalloc to get the object allocation traceback\n"
     ]
    },
    {
     "name": "stdout",
     "output_type": "stream",
     "text": [
      "[**********************77%************           ]  1790 of 2310 completed"
     ]
    },
    {
     "name": "stderr",
     "output_type": "stream",
     "text": [
      "sys:1: ResourceWarning: unclosed socket <zmq.Socket(zmq.PUSH) at 0x7f6d12e0b880>\n",
      "ResourceWarning: Enable tracemalloc to get the object allocation traceback\n",
      "sys:1: ResourceWarning: unclosed socket <zmq.Socket(zmq.PUSH) at 0x7f6cf85d6ec0>\n",
      "ResourceWarning: Enable tracemalloc to get the object allocation traceback\n",
      "sys:1: ResourceWarning: unclosed socket <zmq.Socket(zmq.PUSH) at 0x7f6d12e26f80>\n",
      "ResourceWarning: Enable tracemalloc to get the object allocation traceback\n",
      "sys:1: ResourceWarning: unclosed socket <zmq.Socket(zmq.PUSH) at 0x7f6d12e0b880>\n",
      "ResourceWarning: Enable tracemalloc to get the object allocation traceback\n"
     ]
    },
    {
     "name": "stdout",
     "output_type": "stream",
     "text": [
      "[**********************78%************           ]  1794 of 2310 completed"
     ]
    },
    {
     "name": "stderr",
     "output_type": "stream",
     "text": [
      "sys:1: ResourceWarning: unclosed socket <zmq.Socket(zmq.PUSH) at 0x7f6cf8402a40>\n",
      "ResourceWarning: Enable tracemalloc to get the object allocation traceback\n",
      "sys:1: ResourceWarning: unclosed socket <zmq.Socket(zmq.PUSH) at 0x7f6cf85d7940>\n",
      "ResourceWarning: Enable tracemalloc to get the object allocation traceback\n",
      "sys:1: ResourceWarning: unclosed socket <zmq.Socket(zmq.PUSH) at 0x7f6cf8403940>\n",
      "ResourceWarning: Enable tracemalloc to get the object allocation traceback\n",
      "sys:1: ResourceWarning: unclosed socket <zmq.Socket(zmq.PUSH) at 0x7f6d12e0b880>\n",
      "ResourceWarning: Enable tracemalloc to get the object allocation traceback\n"
     ]
    },
    {
     "name": "stdout",
     "output_type": "stream",
     "text": [
      "[**********************78%************           ]  1796 of 2310 completed"
     ]
    },
    {
     "name": "stderr",
     "output_type": "stream",
     "text": [
      "sys:1: ResourceWarning: unclosed socket <zmq.Socket(zmq.PUSH) at 0x7f6d12e0b880>\n",
      "ResourceWarning: Enable tracemalloc to get the object allocation traceback\n",
      "sys:1: ResourceWarning: unclosed socket <zmq.Socket(zmq.PUSH) at 0x7f6cf85d5540>\n",
      "ResourceWarning: Enable tracemalloc to get the object allocation traceback\n"
     ]
    },
    {
     "name": "stdout",
     "output_type": "stream",
     "text": [
      "[**********************78%************           ]  1798 of 2310 completed"
     ]
    },
    {
     "name": "stderr",
     "output_type": "stream",
     "text": [
      "sys:1: ResourceWarning: unclosed socket <zmq.Socket(zmq.PUSH) at 0x7f6cf85d5540>\n",
      "ResourceWarning: Enable tracemalloc to get the object allocation traceback\n",
      "sys:1: ResourceWarning: unclosed socket <zmq.Socket(zmq.PUSH) at 0x7f6cf85d72e0>\n",
      "ResourceWarning: Enable tracemalloc to get the object allocation traceback\n"
     ]
    },
    {
     "name": "stdout",
     "output_type": "stream",
     "text": [
      "[**********************78%************           ]  1801 of 2310 completed"
     ]
    },
    {
     "name": "stderr",
     "output_type": "stream",
     "text": [
      "sys:1: ResourceWarning: unclosed socket <zmq.Socket(zmq.PUSH) at 0x7f6cf85def20>\n",
      "ResourceWarning: Enable tracemalloc to get the object allocation traceback\n",
      "sys:1: ResourceWarning: unclosed socket <zmq.Socket(zmq.PUSH) at 0x7f6d12e27c40>\n",
      "ResourceWarning: Enable tracemalloc to get the object allocation traceback\n",
      "sys:1: ResourceWarning: unclosed socket <zmq.Socket(zmq.PUSH) at 0x7f6cf85de980>\n",
      "ResourceWarning: Enable tracemalloc to get the object allocation traceback\n"
     ]
    },
    {
     "name": "stdout",
     "output_type": "stream",
     "text": [
      "\r",
      "[**********************78%************           ]  1802 of 2310 completed"
     ]
    },
    {
     "name": "stderr",
     "output_type": "stream",
     "text": [
      "sys:1: ResourceWarning: unclosed socket <zmq.Socket(zmq.PUSH) at 0x7f6cf8722f20>\n",
      "ResourceWarning: Enable tracemalloc to get the object allocation traceback\n"
     ]
    },
    {
     "name": "stdout",
     "output_type": "stream",
     "text": [
      "[**********************78%************           ]  1808 of 2310 completed"
     ]
    },
    {
     "name": "stderr",
     "output_type": "stream",
     "text": [
      "sys:1: ResourceWarning: unclosed socket <zmq.Socket(zmq.PUSH) at 0x7f6cf85d72e0>\n",
      "ResourceWarning: Enable tracemalloc to get the object allocation traceback\n",
      "sys:1: ResourceWarning: unclosed socket <zmq.Socket(zmq.PUSH) at 0x7f6cf8402a40>\n",
      "ResourceWarning: Enable tracemalloc to get the object allocation traceback\n",
      "sys:1: ResourceWarning: unclosed socket <zmq.Socket(zmq.PUSH) at 0x7f6cf8722f20>\n",
      "ResourceWarning: Enable tracemalloc to get the object allocation traceback\n",
      "sys:1: ResourceWarning: unclosed socket <zmq.Socket(zmq.PUSH) at 0x7f6d12de3be0>\n",
      "ResourceWarning: Enable tracemalloc to get the object allocation traceback\n",
      "sys:1: ResourceWarning: unclosed socket <zmq.Socket(zmq.PUSH) at 0x7f6cf8722f20>\n",
      "ResourceWarning: Enable tracemalloc to get the object allocation traceback\n",
      "sys:1: ResourceWarning: unclosed socket <zmq.Socket(zmq.PUSH) at 0x7f6cf85de980>\n",
      "ResourceWarning: Enable tracemalloc to get the object allocation traceback\n"
     ]
    },
    {
     "name": "stdout",
     "output_type": "stream",
     "text": [
      "[**********************78%************           ]  1810 of 2310 completed"
     ]
    },
    {
     "name": "stderr",
     "output_type": "stream",
     "text": [
      "sys:1: ResourceWarning: unclosed socket <zmq.Socket(zmq.PUSH) at 0x7f6cf85d5540>\n",
      "ResourceWarning: Enable tracemalloc to get the object allocation traceback\n",
      "sys:1: ResourceWarning: unclosed socket <zmq.Socket(zmq.PUSH) at 0x7f6d12e27c40>\n",
      "ResourceWarning: Enable tracemalloc to get the object allocation traceback\n"
     ]
    },
    {
     "name": "stdout",
     "output_type": "stream",
     "text": [
      "\r",
      "[**********************78%************           ]  1811 of 2310 completed"
     ]
    },
    {
     "name": "stderr",
     "output_type": "stream",
     "text": [
      "sys:1: ResourceWarning: unclosed socket <zmq.Socket(zmq.PUSH) at 0x7f6cf8402c80>\n",
      "ResourceWarning: Enable tracemalloc to get the object allocation traceback\n"
     ]
    },
    {
     "name": "stdout",
     "output_type": "stream",
     "text": [
      "[**********************79%*************          ]  1815 of 2310 completed"
     ]
    },
    {
     "name": "stderr",
     "output_type": "stream",
     "text": [
      "sys:1: ResourceWarning: unclosed socket <zmq.Socket(zmq.PUSH) at 0x7f6cf8429600>\n",
      "ResourceWarning: Enable tracemalloc to get the object allocation traceback\n",
      "sys:1: ResourceWarning: unclosed socket <zmq.Socket(zmq.PUSH) at 0x7f6cf85d6da0>\n",
      "ResourceWarning: Enable tracemalloc to get the object allocation traceback\n",
      "sys:1: ResourceWarning: unclosed socket <zmq.Socket(zmq.PUSH) at 0x7f6cf85d6da0>\n",
      "ResourceWarning: Enable tracemalloc to get the object allocation traceback\n",
      "sys:1: ResourceWarning: unclosed socket <zmq.Socket(zmq.PUSH) at 0x7f6d12e13820>\n",
      "ResourceWarning: Enable tracemalloc to get the object allocation traceback\n"
     ]
    },
    {
     "name": "stdout",
     "output_type": "stream",
     "text": [
      "\r",
      "[**********************79%*************          ]  1816 of 2310 completed"
     ]
    },
    {
     "name": "stderr",
     "output_type": "stream",
     "text": [
      "sys:1: ResourceWarning: unclosed socket <zmq.Socket(zmq.PUSH) at 0x7f6cf842bc40>\n",
      "ResourceWarning: Enable tracemalloc to get the object allocation traceback\n"
     ]
    },
    {
     "name": "stdout",
     "output_type": "stream",
     "text": [
      "[**********************79%*************          ]  1818 of 2310 completed"
     ]
    },
    {
     "name": "stderr",
     "output_type": "stream",
     "text": [
      "sys:1: ResourceWarning: unclosed socket <zmq.Socket(zmq.PUSH) at 0x7f6d12e13820>\n",
      "ResourceWarning: Enable tracemalloc to get the object allocation traceback\n",
      "sys:1: ResourceWarning: unclosed socket <zmq.Socket(zmq.PUSH) at 0x7f6cf842a800>\n",
      "ResourceWarning: Enable tracemalloc to get the object allocation traceback\n"
     ]
    },
    {
     "name": "stdout",
     "output_type": "stream",
     "text": [
      "\r",
      "[**********************79%*************          ]  1819 of 2310 completed"
     ]
    },
    {
     "name": "stderr",
     "output_type": "stream",
     "text": [
      "sys:1: ResourceWarning: unclosed socket <zmq.Socket(zmq.PUSH) at 0x7f6cf85d5540>\n",
      "ResourceWarning: Enable tracemalloc to get the object allocation traceback\n"
     ]
    },
    {
     "name": "stdout",
     "output_type": "stream",
     "text": [
      "\r",
      "[**********************79%*************          ]  1820 of 2310 completed"
     ]
    },
    {
     "name": "stderr",
     "output_type": "stream",
     "text": [
      "sys:1: ResourceWarning: unclosed socket <zmq.Socket(zmq.PUSH) at 0x7f6d12e27640>\n",
      "ResourceWarning: Enable tracemalloc to get the object allocation traceback\n"
     ]
    },
    {
     "name": "stdout",
     "output_type": "stream",
     "text": [
      "[**********************79%*************          ]  1824 of 2310 completed"
     ]
    },
    {
     "name": "stderr",
     "output_type": "stream",
     "text": [
      "sys:1: ResourceWarning: unclosed socket <zmq.Socket(zmq.PUSH) at 0x7f6cf8402c80>\n",
      "ResourceWarning: Enable tracemalloc to get the object allocation traceback\n",
      "sys:1: ResourceWarning: unclosed socket <zmq.Socket(zmq.PUSH) at 0x7f6cf8402c80>\n",
      "ResourceWarning: Enable tracemalloc to get the object allocation traceback\n",
      "sys:1: ResourceWarning: unclosed socket <zmq.Socket(zmq.PUSH) at 0x7f6cf842a800>\n",
      "ResourceWarning: Enable tracemalloc to get the object allocation traceback\n",
      "sys:1: ResourceWarning: unclosed socket <zmq.Socket(zmq.PUSH) at 0x7f6cf85dee60>\n",
      "ResourceWarning: Enable tracemalloc to get the object allocation traceback\n"
     ]
    },
    {
     "name": "stdout",
     "output_type": "stream",
     "text": [
      "[**********************79%*************          ]  1826 of 2310 completed"
     ]
    },
    {
     "name": "stderr",
     "output_type": "stream",
     "text": [
      "sys:1: ResourceWarning: unclosed socket <zmq.Socket(zmq.PUSH) at 0x7f6cf8429a80>\n",
      "ResourceWarning: Enable tracemalloc to get the object allocation traceback\n",
      "sys:1: ResourceWarning: unclosed socket <zmq.Socket(zmq.PUSH) at 0x7f6cf842b2e0>\n",
      "ResourceWarning: Enable tracemalloc to get the object allocation traceback\n"
     ]
    },
    {
     "name": "stdout",
     "output_type": "stream",
     "text": [
      "[**********************79%*************          ]  1828 of 2310 completed"
     ]
    },
    {
     "name": "stderr",
     "output_type": "stream",
     "text": [
      "sys:1: ResourceWarning: unclosed socket <zmq.Socket(zmq.PUSH) at 0x7f6cf8428100>\n",
      "ResourceWarning: Enable tracemalloc to get the object allocation traceback\n",
      "sys:1: ResourceWarning: unclosed socket <zmq.Socket(zmq.PUSH) at 0x7f6cf85d5540>\n",
      "ResourceWarning: Enable tracemalloc to get the object allocation traceback\n"
     ]
    },
    {
     "name": "stdout",
     "output_type": "stream",
     "text": [
      "[**********************79%*************          ]  1832 of 2310 completed"
     ]
    },
    {
     "name": "stderr",
     "output_type": "stream",
     "text": [
      "sys:1: ResourceWarning: unclosed socket <zmq.Socket(zmq.PUSH) at 0x7f6cf85d5540>\n",
      "ResourceWarning: Enable tracemalloc to get the object allocation traceback\n",
      "sys:1: ResourceWarning: unclosed socket <zmq.Socket(zmq.PUSH) at 0x7f6cf8565e40>\n",
      "ResourceWarning: Enable tracemalloc to get the object allocation traceback\n",
      "sys:1: ResourceWarning: unclosed socket <zmq.Socket(zmq.PUSH) at 0x7f6cf85679a0>\n",
      "ResourceWarning: Enable tracemalloc to get the object allocation traceback\n",
      "sys:1: ResourceWarning: unclosed socket <zmq.Socket(zmq.PUSH) at 0x7f6cf8429300>\n",
      "ResourceWarning: Enable tracemalloc to get the object allocation traceback\n"
     ]
    },
    {
     "name": "stdout",
     "output_type": "stream",
     "text": [
      "\r",
      "[**********************79%*************          ]  1833 of 2310 completed"
     ]
    },
    {
     "name": "stderr",
     "output_type": "stream",
     "text": [
      "sys:1: ResourceWarning: unclosed socket <zmq.Socket(zmq.PUSH) at 0x7f6cf8429300>\n",
      "ResourceWarning: Enable tracemalloc to get the object allocation traceback\n"
     ]
    },
    {
     "name": "stdout",
     "output_type": "stream",
     "text": [
      "[**********************79%*************          ]  1835 of 2310 completed"
     ]
    },
    {
     "name": "stderr",
     "output_type": "stream",
     "text": [
      "sys:1: ResourceWarning: unclosed socket <zmq.Socket(zmq.PUSH) at 0x7f6cf85aa980>\n",
      "ResourceWarning: Enable tracemalloc to get the object allocation traceback\n",
      "sys:1: ResourceWarning: unclosed socket <zmq.Socket(zmq.PUSH) at 0x7f6cf842b2e0>\n",
      "ResourceWarning: Enable tracemalloc to get the object allocation traceback\n"
     ]
    },
    {
     "name": "stdout",
     "output_type": "stream",
     "text": [
      "[**********************80%*************          ]  1839 of 2310 completed"
     ]
    },
    {
     "name": "stderr",
     "output_type": "stream",
     "text": [
      "sys:1: ResourceWarning: unclosed socket <zmq.Socket(zmq.PUSH) at 0x7f6d12e5ada0>\n",
      "ResourceWarning: Enable tracemalloc to get the object allocation traceback\n",
      "sys:1: ResourceWarning: unclosed socket <zmq.Socket(zmq.PUSH) at 0x7f6d12e0b880>\n",
      "ResourceWarning: Enable tracemalloc to get the object allocation traceback\n",
      "sys:1: ResourceWarning: unclosed socket <zmq.Socket(zmq.PUSH) at 0x7f6d12e5b3a0>\n",
      "ResourceWarning: Enable tracemalloc to get the object allocation traceback\n",
      "sys:1: ResourceWarning: unclosed socket <zmq.Socket(zmq.PUSH) at 0x7f6d12e5b3a0>\n",
      "ResourceWarning: Enable tracemalloc to get the object allocation traceback\n"
     ]
    },
    {
     "name": "stdout",
     "output_type": "stream",
     "text": [
      "[**********************80%*************          ]  1842 of 2310 completed"
     ]
    },
    {
     "name": "stderr",
     "output_type": "stream",
     "text": [
      "sys:1: ResourceWarning: unclosed socket <zmq.Socket(zmq.PUSH) at 0x7f6d12e5ab60>\n",
      "ResourceWarning: Enable tracemalloc to get the object allocation traceback\n",
      "sys:1: ResourceWarning: unclosed socket <zmq.Socket(zmq.PUSH) at 0x7f6d12e27c40>\n",
      "ResourceWarning: Enable tracemalloc to get the object allocation traceback\n",
      "sys:1: ResourceWarning: unclosed socket <zmq.Socket(zmq.PUSH) at 0x7f6cf85aa980>\n",
      "ResourceWarning: Enable tracemalloc to get the object allocation traceback\n"
     ]
    },
    {
     "name": "stdout",
     "output_type": "stream",
     "text": [
      "\r",
      "[**********************80%*************          ]  1843 of 2310 completed"
     ]
    },
    {
     "name": "stderr",
     "output_type": "stream",
     "text": [
      "sys:1: ResourceWarning: unclosed socket <zmq.Socket(zmq.PUSH) at 0x7f6d12e59900>\n",
      "ResourceWarning: Enable tracemalloc to get the object allocation traceback\n"
     ]
    },
    {
     "name": "stdout",
     "output_type": "stream",
     "text": [
      "[**********************80%*************          ]  1846 of 2310 completed"
     ]
    },
    {
     "name": "stderr",
     "output_type": "stream",
     "text": [
      "sys:1: ResourceWarning: unclosed socket <zmq.Socket(zmq.PUSH) at 0x7f6d12e59b40>\n",
      "ResourceWarning: Enable tracemalloc to get the object allocation traceback\n",
      "sys:1: ResourceWarning: unclosed socket <zmq.Socket(zmq.PUSH) at 0x7f6d12e59b40>\n",
      "ResourceWarning: Enable tracemalloc to get the object allocation traceback\n",
      "sys:1: ResourceWarning: unclosed socket <zmq.Socket(zmq.PUSH) at 0x7f6cf85d5540>\n",
      "ResourceWarning: Enable tracemalloc to get the object allocation traceback\n"
     ]
    },
    {
     "name": "stdout",
     "output_type": "stream",
     "text": [
      "[**********************80%*************          ]  1849 of 2310 completed"
     ]
    },
    {
     "name": "stderr",
     "output_type": "stream",
     "text": [
      "sys:1: ResourceWarning: unclosed socket <zmq.Socket(zmq.PUSH) at 0x7f6cf85d5540>\n",
      "ResourceWarning: Enable tracemalloc to get the object allocation traceback\n",
      "sys:1: ResourceWarning: unclosed socket <zmq.Socket(zmq.PUSH) at 0x7f6cf8429840>\n",
      "ResourceWarning: Enable tracemalloc to get the object allocation traceback\n",
      "sys:1: ResourceWarning: unclosed socket <zmq.Socket(zmq.PUSH) at 0x7f6cf85d7dc0>\n",
      "ResourceWarning: Enable tracemalloc to get the object allocation traceback\n"
     ]
    },
    {
     "name": "stdout",
     "output_type": "stream",
     "text": [
      "\r",
      "[**********************80%*************          ]  1850 of 2310 completed"
     ]
    },
    {
     "name": "stderr",
     "output_type": "stream",
     "text": [
      "sys:1: ResourceWarning: unclosed socket <zmq.Socket(zmq.PUSH) at 0x7f6cf8428100>\n",
      "ResourceWarning: Enable tracemalloc to get the object allocation traceback\n"
     ]
    },
    {
     "name": "stdout",
     "output_type": "stream",
     "text": [
      "[**********************80%*************          ]  1852 of 2310 completed"
     ]
    },
    {
     "name": "stderr",
     "output_type": "stream",
     "text": [
      "sys:1: ResourceWarning: unclosed socket <zmq.Socket(zmq.PUSH) at 0x7f6d12de3be0>\n",
      "ResourceWarning: Enable tracemalloc to get the object allocation traceback\n",
      "sys:1: ResourceWarning: unclosed socket <zmq.Socket(zmq.PUSH) at 0x7f6d12e27c40>\n",
      "ResourceWarning: Enable tracemalloc to get the object allocation traceback\n"
     ]
    },
    {
     "name": "stdout",
     "output_type": "stream",
     "text": [
      "[**********************80%*************          ]  1854 of 2310 completed"
     ]
    },
    {
     "name": "stderr",
     "output_type": "stream",
     "text": [
      "sys:1: ResourceWarning: unclosed socket <zmq.Socket(zmq.PUSH) at 0x7f6d12e27640>\n",
      "ResourceWarning: Enable tracemalloc to get the object allocation traceback\n",
      "sys:1: ResourceWarning: unclosed socket <zmq.Socket(zmq.PUSH) at 0x7f6cf8566f80>\n",
      "ResourceWarning: Enable tracemalloc to get the object allocation traceback\n"
     ]
    },
    {
     "name": "stdout",
     "output_type": "stream",
     "text": [
      "[**********************80%*************          ]  1856 of 2310 completed"
     ]
    },
    {
     "name": "stderr",
     "output_type": "stream",
     "text": [
      "sys:1: ResourceWarning: unclosed socket <zmq.Socket(zmq.PUSH) at 0x7f6cf85665c0>\n",
      "ResourceWarning: Enable tracemalloc to get the object allocation traceback\n",
      "sys:1: ResourceWarning: unclosed socket <zmq.Socket(zmq.PUSH) at 0x7f6cf85671c0>\n",
      "ResourceWarning: Enable tracemalloc to get the object allocation traceback\n"
     ]
    },
    {
     "name": "stdout",
     "output_type": "stream",
     "text": [
      "[**********************80%*************          ]  1859 of 2310 completed"
     ]
    },
    {
     "name": "stderr",
     "output_type": "stream",
     "text": [
      "sys:1: ResourceWarning: unclosed socket <zmq.Socket(zmq.PUSH) at 0x7f6cf85dee60>\n",
      "ResourceWarning: Enable tracemalloc to get the object allocation traceback\n",
      "sys:1: ResourceWarning: unclosed socket <zmq.Socket(zmq.PUSH) at 0x7f6cf85df040>\n",
      "ResourceWarning: Enable tracemalloc to get the object allocation traceback\n",
      "sys:1: ResourceWarning: unclosed socket <zmq.Socket(zmq.PUSH) at 0x7f6cf8567100>\n",
      "ResourceWarning: Enable tracemalloc to get the object allocation traceback\n"
     ]
    },
    {
     "name": "stdout",
     "output_type": "stream",
     "text": [
      "\r",
      "[**********************81%**************         ]  1860 of 2310 completed"
     ]
    },
    {
     "name": "stderr",
     "output_type": "stream",
     "text": [
      "sys:1: ResourceWarning: unclosed socket <zmq.Socket(zmq.PUSH) at 0x7f6cf846fdc0>\n",
      "ResourceWarning: Enable tracemalloc to get the object allocation traceback\n"
     ]
    },
    {
     "name": "stdout",
     "output_type": "stream",
     "text": [
      "[**********************81%**************         ]  1862 of 2310 completed"
     ]
    },
    {
     "name": "stderr",
     "output_type": "stream",
     "text": [
      "sys:1: ResourceWarning: unclosed socket <zmq.Socket(zmq.PUSH) at 0x7f6d12e5ada0>\n",
      "ResourceWarning: Enable tracemalloc to get the object allocation traceback\n",
      "sys:1: ResourceWarning: unclosed socket <zmq.Socket(zmq.PUSH) at 0x7f6cf846e440>\n",
      "ResourceWarning: Enable tracemalloc to get the object allocation traceback\n"
     ]
    },
    {
     "name": "stdout",
     "output_type": "stream",
     "text": [
      "[**********************81%**************         ]  1865 of 2310 completed"
     ]
    },
    {
     "name": "stderr",
     "output_type": "stream",
     "text": [
      "sys:1: ResourceWarning: unclosed socket <zmq.Socket(zmq.PUSH) at 0x7f6d12e5aec0>\n",
      "ResourceWarning: Enable tracemalloc to get the object allocation traceback\n",
      "sys:1: ResourceWarning: unclosed socket <zmq.Socket(zmq.PUSH) at 0x7f6cf8565ea0>\n",
      "ResourceWarning: Enable tracemalloc to get the object allocation traceback\n",
      "sys:1: ResourceWarning: unclosed socket <zmq.Socket(zmq.PUSH) at 0x7f6cf8565420>\n",
      "ResourceWarning: Enable tracemalloc to get the object allocation traceback\n"
     ]
    },
    {
     "name": "stdout",
     "output_type": "stream",
     "text": [
      "\r",
      "[**********************81%**************         ]  1866 of 2310 completed"
     ]
    },
    {
     "name": "stderr",
     "output_type": "stream",
     "text": [
      "sys:1: ResourceWarning: unclosed socket <zmq.Socket(zmq.PUSH) at 0x7f6cf8566020>\n",
      "ResourceWarning: Enable tracemalloc to get the object allocation traceback\n"
     ]
    },
    {
     "name": "stdout",
     "output_type": "stream",
     "text": [
      "[**********************81%**************         ]  1868 of 2310 completed"
     ]
    },
    {
     "name": "stderr",
     "output_type": "stream",
     "text": [
      "sys:1: ResourceWarning: unclosed socket <zmq.Socket(zmq.PUSH) at 0x7f6cf8428100>\n",
      "ResourceWarning: Enable tracemalloc to get the object allocation traceback\n",
      "sys:1: ResourceWarning: unclosed socket <zmq.Socket(zmq.PUSH) at 0x7f6cf85def20>\n",
      "ResourceWarning: Enable tracemalloc to get the object allocation traceback\n"
     ]
    },
    {
     "name": "stdout",
     "output_type": "stream",
     "text": [
      "[**********************81%**************         ]  1870 of 2310 completed"
     ]
    },
    {
     "name": "stderr",
     "output_type": "stream",
     "text": [
      "sys:1: ResourceWarning: unclosed socket <zmq.Socket(zmq.PUSH) at 0x7f6cf8565420>\n",
      "ResourceWarning: Enable tracemalloc to get the object allocation traceback\n",
      "sys:1: ResourceWarning: unclosed socket <zmq.Socket(zmq.PUSH) at 0x7f6cf85de380>\n",
      "ResourceWarning: Enable tracemalloc to get the object allocation traceback\n"
     ]
    },
    {
     "name": "stdout",
     "output_type": "stream",
     "text": [
      "[**********************81%**************         ]  1873 of 2310 completed"
     ]
    },
    {
     "name": "stderr",
     "output_type": "stream",
     "text": [
      "sys:1: ResourceWarning: unclosed socket <zmq.Socket(zmq.PUSH) at 0x7f6d12e5a260>\n",
      "ResourceWarning: Enable tracemalloc to get the object allocation traceback\n",
      "sys:1: ResourceWarning: unclosed socket <zmq.Socket(zmq.PUSH) at 0x7f6cf8567640>\n",
      "ResourceWarning: Enable tracemalloc to get the object allocation traceback\n",
      "sys:1: ResourceWarning: unclosed socket <zmq.Socket(zmq.PUSH) at 0x7f6cf85aa980>\n",
      "ResourceWarning: Enable tracemalloc to get the object allocation traceback\n"
     ]
    },
    {
     "name": "stdout",
     "output_type": "stream",
     "text": [
      "[**********************81%**************         ]  1876 of 2310 completed"
     ]
    },
    {
     "name": "stderr",
     "output_type": "stream",
     "text": [
      "sys:1: ResourceWarning: unclosed socket <zmq.Socket(zmq.PUSH) at 0x7f6cf85df040>\n",
      "ResourceWarning: Enable tracemalloc to get the object allocation traceback\n",
      "sys:1: ResourceWarning: unclosed socket <zmq.Socket(zmq.PUSH) at 0x7f6cf85679a0>\n",
      "ResourceWarning: Enable tracemalloc to get the object allocation traceback\n",
      "sys:1: ResourceWarning: unclosed socket <zmq.Socket(zmq.PUSH) at 0x7f6cf8567100>\n",
      "ResourceWarning: Enable tracemalloc to get the object allocation traceback\n"
     ]
    },
    {
     "name": "stdout",
     "output_type": "stream",
     "text": [
      "[**********************81%**************         ]  1880 of 2310 completed"
     ]
    },
    {
     "name": "stderr",
     "output_type": "stream",
     "text": [
      "sys:1: ResourceWarning: unclosed socket <zmq.Socket(zmq.PUSH) at 0x7f6cf85dd360>\n",
      "ResourceWarning: Enable tracemalloc to get the object allocation traceback\n",
      "sys:1: ResourceWarning: unclosed socket <zmq.Socket(zmq.PUSH) at 0x7f6cf848f6a0>\n",
      "ResourceWarning: Enable tracemalloc to get the object allocation traceback\n",
      "sys:1: ResourceWarning: unclosed socket <zmq.Socket(zmq.PUSH) at 0x7f6cf85de380>\n",
      "ResourceWarning: Enable tracemalloc to get the object allocation traceback\n",
      "sys:1: ResourceWarning: unclosed socket <zmq.Socket(zmq.PUSH) at 0x7f6cf846fe20>\n",
      "ResourceWarning: Enable tracemalloc to get the object allocation traceback\n"
     ]
    },
    {
     "name": "stdout",
     "output_type": "stream",
     "text": [
      "\r",
      "[**********************81%**************         ]  1881 of 2310 completed"
     ]
    },
    {
     "name": "stderr",
     "output_type": "stream",
     "text": [
      "sys:1: ResourceWarning: unclosed socket <zmq.Socket(zmq.PUSH) at 0x7f6cf846e2c0>\n",
      "ResourceWarning: Enable tracemalloc to get the object allocation traceback\n"
     ]
    },
    {
     "name": "stdout",
     "output_type": "stream",
     "text": [
      "[**********************82%**************         ]  1883 of 2310 completed"
     ]
    },
    {
     "name": "stderr",
     "output_type": "stream",
     "text": [
      "sys:1: ResourceWarning: unclosed socket <zmq.Socket(zmq.PUSH) at 0x7f6d12de3be0>\n",
      "ResourceWarning: Enable tracemalloc to get the object allocation traceback\n",
      "sys:1: ResourceWarning: unclosed socket <zmq.Socket(zmq.PUSH) at 0x7f6d12e58f40>\n",
      "ResourceWarning: Enable tracemalloc to get the object allocation traceback\n"
     ]
    },
    {
     "name": "stdout",
     "output_type": "stream",
     "text": [
      "[**********************82%**************         ]  1887 of 2310 completed"
     ]
    },
    {
     "name": "stderr",
     "output_type": "stream",
     "text": [
      "sys:1: ResourceWarning: unclosed socket <zmq.Socket(zmq.PUSH) at 0x7f6cf848f6a0>\n",
      "ResourceWarning: Enable tracemalloc to get the object allocation traceback\n",
      "sys:1: ResourceWarning: unclosed socket <zmq.Socket(zmq.PUSH) at 0x7f6d12e27640>\n",
      "ResourceWarning: Enable tracemalloc to get the object allocation traceback\n",
      "sys:1: ResourceWarning: unclosed socket <zmq.Socket(zmq.PUSH) at 0x7f6cf846fb20>\n",
      "ResourceWarning: Enable tracemalloc to get the object allocation traceback\n",
      "sys:1: ResourceWarning: unclosed socket <zmq.Socket(zmq.PUSH) at 0x7f6cf8565420>\n",
      "ResourceWarning: Enable tracemalloc to get the object allocation traceback\n"
     ]
    },
    {
     "name": "stdout",
     "output_type": "stream",
     "text": [
      "\r",
      "[**********************82%**************         ]  1888 of 2310 completed"
     ]
    },
    {
     "name": "stderr",
     "output_type": "stream",
     "text": [
      "sys:1: ResourceWarning: unclosed socket <zmq.Socket(zmq.PUSH) at 0x7f6cf846fe20>\n",
      "ResourceWarning: Enable tracemalloc to get the object allocation traceback\n"
     ]
    },
    {
     "name": "stdout",
     "output_type": "stream",
     "text": [
      "\r",
      "[**********************82%**************         ]  1889 of 2310 completed"
     ]
    },
    {
     "name": "stderr",
     "output_type": "stream",
     "text": [
      "sys:1: ResourceWarning: unclosed socket <zmq.Socket(zmq.PUSH) at 0x7f6cf846e440>\n",
      "ResourceWarning: Enable tracemalloc to get the object allocation traceback\n"
     ]
    },
    {
     "name": "stdout",
     "output_type": "stream",
     "text": [
      "\r",
      "[**********************82%**************         ]  1890 of 2310 completed"
     ]
    },
    {
     "name": "stderr",
     "output_type": "stream",
     "text": [
      "sys:1: ResourceWarning: unclosed socket <zmq.Socket(zmq.PUSH) at 0x7f6cf85aa980>\n",
      "ResourceWarning: Enable tracemalloc to get the object allocation traceback\n"
     ]
    },
    {
     "name": "stdout",
     "output_type": "stream",
     "text": [
      "[**********************82%**************         ]  1894 of 2310 completed"
     ]
    },
    {
     "name": "stderr",
     "output_type": "stream",
     "text": [
      "sys:1: ResourceWarning: unclosed socket <zmq.Socket(zmq.PUSH) at 0x7f6cf846e440>\n",
      "ResourceWarning: Enable tracemalloc to get the object allocation traceback\n",
      "sys:1: ResourceWarning: unclosed socket <zmq.Socket(zmq.PUSH) at 0x7f6cf848eaa0>\n",
      "ResourceWarning: Enable tracemalloc to get the object allocation traceback\n",
      "sys:1: ResourceWarning: unclosed socket <zmq.Socket(zmq.PUSH) at 0x7f6d12e5ada0>\n",
      "ResourceWarning: Enable tracemalloc to get the object allocation traceback\n",
      "sys:1: ResourceWarning: unclosed socket <zmq.Socket(zmq.PUSH) at 0x7f6cf8564fa0>\n",
      "ResourceWarning: Enable tracemalloc to get the object allocation traceback\n"
     ]
    },
    {
     "name": "stdout",
     "output_type": "stream",
     "text": [
      "[**********************82%**************         ]  1895 of 2310 completed"
     ]
    },
    {
     "name": "stderr",
     "output_type": "stream",
     "text": [
      "sys:1: ResourceWarning: unclosed socket <zmq.Socket(zmq.PUSH) at 0x7f6d12e5f220>\n",
      "ResourceWarning: Enable tracemalloc to get the object allocation traceback\n",
      "sys:1: ResourceWarning: unclosed socket <zmq.Socket(zmq.PUSH) at 0x7f6cf846fb20>\n",
      "ResourceWarning: Enable tracemalloc to get the object allocation traceback\n"
     ]
    },
    {
     "name": "stdout",
     "output_type": "stream",
     "text": [
      "[**********************82%**************         ]  1898 of 2310 completed"
     ]
    },
    {
     "name": "stderr",
     "output_type": "stream",
     "text": [
      "sys:1: ResourceWarning: unclosed socket <zmq.Socket(zmq.PUSH) at 0x7f6cf8566260>\n",
      "ResourceWarning: Enable tracemalloc to get the object allocation traceback\n",
      "sys:1: ResourceWarning: unclosed socket <zmq.Socket(zmq.PUSH) at 0x7f6d12e59b40>\n",
      "ResourceWarning: Enable tracemalloc to get the object allocation traceback\n"
     ]
    },
    {
     "name": "stdout",
     "output_type": "stream",
     "text": [
      "\r",
      "[**********************82%**************         ]  1899 of 2310 completed"
     ]
    },
    {
     "name": "stderr",
     "output_type": "stream",
     "text": [
      "sys:1: ResourceWarning: unclosed socket <zmq.Socket(zmq.PUSH) at 0x7f6cf848ebc0>\n",
      "ResourceWarning: Enable tracemalloc to get the object allocation traceback\n"
     ]
    },
    {
     "name": "stdout",
     "output_type": "stream",
     "text": [
      "[**********************82%**************         ]  1902 of 2310 completed"
     ]
    },
    {
     "name": "stderr",
     "output_type": "stream",
     "text": [
      "sys:1: ResourceWarning: unclosed socket <zmq.Socket(zmq.PUSH) at 0x7f6cf8429840>\n",
      "ResourceWarning: Enable tracemalloc to get the object allocation traceback\n",
      "sys:1: ResourceWarning: unclosed socket <zmq.Socket(zmq.PUSH) at 0x7f6d12e5f940>\n",
      "ResourceWarning: Enable tracemalloc to get the object allocation traceback\n",
      "sys:1: ResourceWarning: unclosed socket <zmq.Socket(zmq.PUSH) at 0x7f6cf8429300>\n",
      "ResourceWarning: Enable tracemalloc to get the object allocation traceback\n"
     ]
    },
    {
     "name": "stdout",
     "output_type": "stream",
     "text": [
      "[**********************82%**************         ]  1905 of 2310 completed"
     ]
    },
    {
     "name": "stderr",
     "output_type": "stream",
     "text": [
      "sys:1: ResourceWarning: unclosed socket <zmq.Socket(zmq.PUSH) at 0x7f6cf8429300>\n",
      "ResourceWarning: Enable tracemalloc to get the object allocation traceback\n",
      "sys:1: ResourceWarning: unclosed socket <zmq.Socket(zmq.PUSH) at 0x7f6d12e58f40>\n",
      "ResourceWarning: Enable tracemalloc to get the object allocation traceback\n",
      "sys:1: ResourceWarning: unclosed socket <zmq.Socket(zmq.PUSH) at 0x7f6cf8566aa0>\n",
      "ResourceWarning: Enable tracemalloc to get the object allocation traceback\n"
     ]
    },
    {
     "name": "stdout",
     "output_type": "stream",
     "text": [
      "\r",
      "[**********************83%***************        ]  1906 of 2310 completed"
     ]
    },
    {
     "name": "stderr",
     "output_type": "stream",
     "text": [
      "sys:1: ResourceWarning: unclosed socket <zmq.Socket(zmq.PUSH) at 0x7f6cf8565ea0>\n",
      "ResourceWarning: Enable tracemalloc to get the object allocation traceback\n"
     ]
    },
    {
     "name": "stdout",
     "output_type": "stream",
     "text": [
      "[**********************83%***************        ]  1908 of 2310 completed"
     ]
    },
    {
     "name": "stderr",
     "output_type": "stream",
     "text": [
      "sys:1: ResourceWarning: unclosed socket <zmq.Socket(zmq.PUSH) at 0x7f6d12e5bd60>\n",
      "ResourceWarning: Enable tracemalloc to get the object allocation traceback\n",
      "sys:1: ResourceWarning: unclosed socket <zmq.Socket(zmq.PUSH) at 0x7f6cf846f9a0>\n",
      "ResourceWarning: Enable tracemalloc to get the object allocation traceback\n"
     ]
    },
    {
     "name": "stdout",
     "output_type": "stream",
     "text": [
      "[**********************83%***************        ]  1911 of 2310 completed"
     ]
    },
    {
     "name": "stderr",
     "output_type": "stream",
     "text": [
      "sys:1: ResourceWarning: unclosed socket <zmq.Socket(zmq.PUSH) at 0x7f6d12e5bd60>\n",
      "ResourceWarning: Enable tracemalloc to get the object allocation traceback\n",
      "sys:1: ResourceWarning: unclosed socket <zmq.Socket(zmq.PUSH) at 0x7f6cf8567100>\n",
      "ResourceWarning: Enable tracemalloc to get the object allocation traceback\n",
      "sys:1: ResourceWarning: unclosed socket <zmq.Socket(zmq.PUSH) at 0x7f6cf8566020>\n",
      "ResourceWarning: Enable tracemalloc to get the object allocation traceback\n",
      "sys:1: ResourceWarning: unclosed socket <zmq.Socket(zmq.PUSH) at 0x7f6cf8567100>\n",
      "ResourceWarning: Enable tracemalloc to get the object allocation traceback\n"
     ]
    },
    {
     "name": "stdout",
     "output_type": "stream",
     "text": [
      "\r",
      "[**********************83%***************        ]  1913 of 2310 completed"
     ]
    },
    {
     "name": "stderr",
     "output_type": "stream",
     "text": [
      "sys:1: ResourceWarning: unclosed socket <zmq.Socket(zmq.PUSH) at 0x7f6d12e5c160>\n",
      "ResourceWarning: Enable tracemalloc to get the object allocation traceback\n"
     ]
    },
    {
     "name": "stdout",
     "output_type": "stream",
     "text": [
      "[**********************83%***************        ]  1915 of 2310 completed"
     ]
    },
    {
     "name": "stderr",
     "output_type": "stream",
     "text": [
      "sys:1: ResourceWarning: unclosed socket <zmq.Socket(zmq.PUSH) at 0x7f6cf85ab8e0>\n",
      "ResourceWarning: Enable tracemalloc to get the object allocation traceback\n",
      "sys:1: ResourceWarning: unclosed socket <zmq.Socket(zmq.PUSH) at 0x7f6cf8565ea0>\n",
      "ResourceWarning: Enable tracemalloc to get the object allocation traceback\n"
     ]
    },
    {
     "name": "stdout",
     "output_type": "stream",
     "text": [
      "[**********************83%***************        ]  1917 of 2310 completed"
     ]
    },
    {
     "name": "stderr",
     "output_type": "stream",
     "text": [
      "sys:1: ResourceWarning: unclosed socket <zmq.Socket(zmq.PUSH) at 0x7f6cf848f7c0>\n",
      "ResourceWarning: Enable tracemalloc to get the object allocation traceback\n",
      "sys:1: ResourceWarning: unclosed socket <zmq.Socket(zmq.PUSH) at 0x7f6cf85d5540>\n",
      "ResourceWarning: Enable tracemalloc to get the object allocation traceback\n"
     ]
    },
    {
     "name": "stdout",
     "output_type": "stream",
     "text": [
      "[**********************83%***************        ]  1919 of 2310 completed"
     ]
    },
    {
     "name": "stderr",
     "output_type": "stream",
     "text": [
      "sys:1: ResourceWarning: unclosed socket <zmq.Socket(zmq.PUSH) at 0x7f6cf8565ea0>\n",
      "ResourceWarning: Enable tracemalloc to get the object allocation traceback\n",
      "sys:1: ResourceWarning: unclosed socket <zmq.Socket(zmq.PUSH) at 0x7f6d12e59b40>\n",
      "ResourceWarning: Enable tracemalloc to get the object allocation traceback\n"
     ]
    },
    {
     "name": "stdout",
     "output_type": "stream",
     "text": [
      "[**********************83%***************        ]  1921 of 2310 completed"
     ]
    },
    {
     "name": "stderr",
     "output_type": "stream",
     "text": [
      "sys:1: ResourceWarning: unclosed socket <zmq.Socket(zmq.PUSH) at 0x7f6d12e5bd60>\n",
      "ResourceWarning: Enable tracemalloc to get the object allocation traceback\n",
      "sys:1: ResourceWarning: unclosed socket <zmq.Socket(zmq.PUSH) at 0x7f6d12e27640>\n",
      "ResourceWarning: Enable tracemalloc to get the object allocation traceback\n"
     ]
    },
    {
     "name": "stdout",
     "output_type": "stream",
     "text": [
      "[**********************83%***************        ]  1923 of 2310 completed"
     ]
    },
    {
     "name": "stderr",
     "output_type": "stream",
     "text": [
      "sys:1: ResourceWarning: unclosed socket <zmq.Socket(zmq.PUSH) at 0x7f6cf8565420>\n",
      "ResourceWarning: Enable tracemalloc to get the object allocation traceback\n",
      "sys:1: ResourceWarning: unclosed socket <zmq.Socket(zmq.PUSH) at 0x7f6cf85de380>\n",
      "ResourceWarning: Enable tracemalloc to get the object allocation traceback\n"
     ]
    },
    {
     "name": "stdout",
     "output_type": "stream",
     "text": [
      "[**********************83%***************        ]  1925 of 2310 completed"
     ]
    },
    {
     "name": "stderr",
     "output_type": "stream",
     "text": [
      "sys:1: ResourceWarning: unclosed socket <zmq.Socket(zmq.PUSH) at 0x7f6d12e5dc00>\n",
      "ResourceWarning: Enable tracemalloc to get the object allocation traceback\n",
      "sys:1: ResourceWarning: unclosed socket <zmq.Socket(zmq.PUSH) at 0x7f6d12e5dc00>\n",
      "ResourceWarning: Enable tracemalloc to get the object allocation traceback\n"
     ]
    },
    {
     "name": "stdout",
     "output_type": "stream",
     "text": [
      "\r",
      "[**********************83%***************        ]  1926 of 2310 completed"
     ]
    },
    {
     "name": "stderr",
     "output_type": "stream",
     "text": [
      "sys:1: ResourceWarning: unclosed socket <zmq.Socket(zmq.PUSH) at 0x7f6cf849bb20>\n",
      "ResourceWarning: Enable tracemalloc to get the object allocation traceback\n"
     ]
    },
    {
     "name": "stdout",
     "output_type": "stream",
     "text": [
      "[**********************83%***************        ]  1928 of 2310 completed"
     ]
    },
    {
     "name": "stderr",
     "output_type": "stream",
     "text": [
      "sys:1: ResourceWarning: unclosed socket <zmq.Socket(zmq.PUSH) at 0x7f6cf8565420>\n",
      "ResourceWarning: Enable tracemalloc to get the object allocation traceback\n"
     ]
    },
    {
     "name": "stdout",
     "output_type": "stream",
     "text": [
      "[**********************84%***************        ]  1930 of 2310 completed"
     ]
    },
    {
     "name": "stderr",
     "output_type": "stream",
     "text": [
      "sys:1: ResourceWarning: unclosed socket <zmq.Socket(zmq.PUSH) at 0x7f6cf85679a0>\n",
      "ResourceWarning: Enable tracemalloc to get the object allocation traceback\n",
      "sys:1: ResourceWarning: unclosed socket <zmq.Socket(zmq.PUSH) at 0x7f6cf8565e40>\n",
      "ResourceWarning: Enable tracemalloc to get the object allocation traceback\n",
      "sys:1: ResourceWarning: unclosed socket <zmq.Socket(zmq.PUSH) at 0x7f6d12e3bb80>\n",
      "ResourceWarning: Enable tracemalloc to get the object allocation traceback\n"
     ]
    },
    {
     "name": "stdout",
     "output_type": "stream",
     "text": [
      "[**********************84%***************        ]  1932 of 2310 completed"
     ]
    },
    {
     "name": "stderr",
     "output_type": "stream",
     "text": [
      "sys:1: ResourceWarning: unclosed socket <zmq.Socket(zmq.PUSH) at 0x7f6cf848ebc0>\n",
      "ResourceWarning: Enable tracemalloc to get the object allocation traceback\n",
      "sys:1: ResourceWarning: unclosed socket <zmq.Socket(zmq.PUSH) at 0x7f6cf846e2c0>\n",
      "ResourceWarning: Enable tracemalloc to get the object allocation traceback\n"
     ]
    },
    {
     "name": "stdout",
     "output_type": "stream",
     "text": [
      "\r",
      "[**********************84%***************        ]  1933 of 2310 completed"
     ]
    },
    {
     "name": "stderr",
     "output_type": "stream",
     "text": [
      "sys:1: ResourceWarning: unclosed socket <zmq.Socket(zmq.PUSH) at 0x7f6cf849a560>\n",
      "ResourceWarning: Enable tracemalloc to get the object allocation traceback\n"
     ]
    },
    {
     "name": "stdout",
     "output_type": "stream",
     "text": [
      "[**********************84%***************        ]  1938 of 2310 completed"
     ]
    },
    {
     "name": "stderr",
     "output_type": "stream",
     "text": [
      "sys:1: ResourceWarning: unclosed socket <zmq.Socket(zmq.PUSH) at 0x7f6cf849be80>\n",
      "ResourceWarning: Enable tracemalloc to get the object allocation traceback\n",
      "sys:1: ResourceWarning: unclosed socket <zmq.Socket(zmq.PUSH) at 0x7f6cf849be80>\n",
      "ResourceWarning: Enable tracemalloc to get the object allocation traceback\n",
      "sys:1: ResourceWarning: unclosed socket <zmq.Socket(zmq.PUSH) at 0x7f6d12e5ece0>\n",
      "ResourceWarning: Enable tracemalloc to get the object allocation traceback\n",
      "sys:1: ResourceWarning: unclosed socket <zmq.Socket(zmq.PUSH) at 0x7f6cf849bb20>\n",
      "ResourceWarning: Enable tracemalloc to get the object allocation traceback\n",
      "sys:1: ResourceWarning: unclosed socket <zmq.Socket(zmq.PUSH) at 0x7f6cf846fe20>\n",
      "ResourceWarning: Enable tracemalloc to get the object allocation traceback\n"
     ]
    },
    {
     "name": "stdout",
     "output_type": "stream",
     "text": [
      "\r",
      "[**********************84%***************        ]  1939 of 2310 completed"
     ]
    },
    {
     "name": "stderr",
     "output_type": "stream",
     "text": [
      "sys:1: ResourceWarning: unclosed socket <zmq.Socket(zmq.PUSH) at 0x7f6cf848ebc0>\n",
      "ResourceWarning: Enable tracemalloc to get the object allocation traceback\n"
     ]
    },
    {
     "name": "stdout",
     "output_type": "stream",
     "text": [
      "\r",
      "[**********************84%***************        ]  1940 of 2310 completed"
     ]
    },
    {
     "name": "stderr",
     "output_type": "stream",
     "text": [
      "sys:1: ResourceWarning: unclosed socket <zmq.Socket(zmq.PUSH) at 0x7f6d12e5ca60>\n",
      "ResourceWarning: Enable tracemalloc to get the object allocation traceback\n"
     ]
    },
    {
     "name": "stdout",
     "output_type": "stream",
     "text": [
      "\r",
      "[**********************84%***************        ]  1941 of 2310 completed"
     ]
    },
    {
     "name": "stderr",
     "output_type": "stream",
     "text": [
      "sys:1: ResourceWarning: unclosed socket <zmq.Socket(zmq.PUSH) at 0x7f6cf8564fa0>\n",
      "ResourceWarning: Enable tracemalloc to get the object allocation traceback\n"
     ]
    },
    {
     "name": "stdout",
     "output_type": "stream",
     "text": [
      "[**********************84%***************        ]  1945 of 2310 completed"
     ]
    },
    {
     "name": "stderr",
     "output_type": "stream",
     "text": [
      "sys:1: ResourceWarning: unclosed socket <zmq.Socket(zmq.PUSH) at 0x7f6cf849aa40>\n",
      "ResourceWarning: Enable tracemalloc to get the object allocation traceback\n",
      "sys:1: ResourceWarning: unclosed socket <zmq.Socket(zmq.PUSH) at 0x7f6cf85df040>\n",
      "ResourceWarning: Enable tracemalloc to get the object allocation traceback\n",
      "sys:1: ResourceWarning: unclosed socket <zmq.Socket(zmq.PUSH) at 0x7f6cf8565ea0>\n",
      "ResourceWarning: Enable tracemalloc to get the object allocation traceback\n",
      "sys:1: ResourceWarning: unclosed socket <zmq.Socket(zmq.PUSH) at 0x7f6cf846fe20>\n",
      "ResourceWarning: Enable tracemalloc to get the object allocation traceback\n"
     ]
    },
    {
     "name": "stdout",
     "output_type": "stream",
     "text": [
      "[**********************84%***************        ]  1947 of 2310 completed"
     ]
    },
    {
     "name": "stderr",
     "output_type": "stream",
     "text": [
      "sys:1: ResourceWarning: unclosed socket <zmq.Socket(zmq.PUSH) at 0x7f6cf848e800>\n",
      "ResourceWarning: Enable tracemalloc to get the object allocation traceback\n",
      "sys:1: ResourceWarning: unclosed socket <zmq.Socket(zmq.PUSH) at 0x7f6d12e5f6a0>\n",
      "ResourceWarning: Enable tracemalloc to get the object allocation traceback\n"
     ]
    },
    {
     "name": "stdout",
     "output_type": "stream",
     "text": [
      "\r",
      "[**********************84%***************        ]  1948 of 2310 completed"
     ]
    },
    {
     "name": "stderr",
     "output_type": "stream",
     "text": [
      "sys:1: ResourceWarning: unclosed socket <zmq.Socket(zmq.PUSH) at 0x7f6cf85def20>\n",
      "ResourceWarning: Enable tracemalloc to get the object allocation traceback\n"
     ]
    },
    {
     "name": "stdout",
     "output_type": "stream",
     "text": [
      "[**********************84%***************        ]  1951 of 2310 completed"
     ]
    },
    {
     "name": "stderr",
     "output_type": "stream",
     "text": [
      "sys:1: ResourceWarning: unclosed socket <zmq.Socket(zmq.PUSH) at 0x7f6cf846fe20>\n",
      "ResourceWarning: Enable tracemalloc to get the object allocation traceback\n",
      "sys:1: ResourceWarning: unclosed socket <zmq.Socket(zmq.PUSH) at 0x7f6cf8564fa0>\n",
      "ResourceWarning: Enable tracemalloc to get the object allocation traceback\n",
      "sys:1: ResourceWarning: unclosed socket <zmq.Socket(zmq.PUSH) at 0x7f6cf846fe20>\n",
      "ResourceWarning: Enable tracemalloc to get the object allocation traceback\n"
     ]
    },
    {
     "name": "stdout",
     "output_type": "stream",
     "text": [
      "[**********************85%****************       ]  1954 of 2310 completed"
     ]
    },
    {
     "name": "stderr",
     "output_type": "stream",
     "text": [
      "sys:1: ResourceWarning: unclosed socket <zmq.Socket(zmq.PUSH) at 0x7f6d12e3bca0>\n",
      "ResourceWarning: Enable tracemalloc to get the object allocation traceback\n",
      "sys:1: ResourceWarning: unclosed socket <zmq.Socket(zmq.PUSH) at 0x7f6d12e58f40>\n",
      "ResourceWarning: Enable tracemalloc to get the object allocation traceback\n",
      "sys:1: ResourceWarning: unclosed socket <zmq.Socket(zmq.PUSH) at 0x7f6cf846f9a0>\n",
      "ResourceWarning: Enable tracemalloc to get the object allocation traceback\n"
     ]
    },
    {
     "name": "stdout",
     "output_type": "stream",
     "text": [
      "\r",
      "[**********************85%****************       ]  1955 of 2310 completed"
     ]
    },
    {
     "name": "stderr",
     "output_type": "stream",
     "text": [
      "sys:1: ResourceWarning: unclosed socket <zmq.Socket(zmq.PUSH) at 0x7f6cf8566aa0>\n",
      "ResourceWarning: Enable tracemalloc to get the object allocation traceback\n"
     ]
    },
    {
     "name": "stdout",
     "output_type": "stream",
     "text": [
      "[**********************85%****************       ]  1957 of 2310 completed"
     ]
    },
    {
     "name": "stderr",
     "output_type": "stream",
     "text": [
      "sys:1: ResourceWarning: unclosed socket <zmq.Socket(zmq.PUSH) at 0x7f6d12e5ada0>\n",
      "ResourceWarning: Enable tracemalloc to get the object allocation traceback\n",
      "sys:1: ResourceWarning: unclosed socket <zmq.Socket(zmq.PUSH) at 0x7f6cf84de860>\n",
      "ResourceWarning: Enable tracemalloc to get the object allocation traceback\n"
     ]
    },
    {
     "name": "stdout",
     "output_type": "stream",
     "text": [
      "\r",
      "[**********************85%****************       ]  1958 of 2310 completed"
     ]
    },
    {
     "name": "stderr",
     "output_type": "stream",
     "text": [
      "sys:1: ResourceWarning: unclosed socket <zmq.Socket(zmq.PUSH) at 0x7f6cf846fe20>\n",
      "ResourceWarning: Enable tracemalloc to get the object allocation traceback\n"
     ]
    },
    {
     "name": "stdout",
     "output_type": "stream",
     "text": [
      "[**********************85%****************       ]  1961 of 2310 completed"
     ]
    },
    {
     "name": "stderr",
     "output_type": "stream",
     "text": [
      "sys:1: ResourceWarning: unclosed socket <zmq.Socket(zmq.PUSH) at 0x7f6cf849ab60>\n",
      "ResourceWarning: Enable tracemalloc to get the object allocation traceback\n",
      "sys:1: ResourceWarning: unclosed socket <zmq.Socket(zmq.PUSH) at 0x7f6cf8428100>\n",
      "ResourceWarning: Enable tracemalloc to get the object allocation traceback\n",
      "sys:1: ResourceWarning: unclosed socket <zmq.Socket(zmq.PUSH) at 0x7f6cf849ab60>\n",
      "ResourceWarning: Enable tracemalloc to get the object allocation traceback\n"
     ]
    },
    {
     "name": "stdout",
     "output_type": "stream",
     "text": [
      "\r",
      "[**********************85%****************       ]  1962 of 2310 completed"
     ]
    },
    {
     "name": "stderr",
     "output_type": "stream",
     "text": [
      "sys:1: ResourceWarning: unclosed socket <zmq.Socket(zmq.PUSH) at 0x7f6d12e5f6a0>\n",
      "ResourceWarning: Enable tracemalloc to get the object allocation traceback\n"
     ]
    },
    {
     "name": "stdout",
     "output_type": "stream",
     "text": [
      "[**********************85%****************       ]  1965 of 2310 completed"
     ]
    },
    {
     "name": "stderr",
     "output_type": "stream",
     "text": [
      "sys:1: ResourceWarning: unclosed socket <zmq.Socket(zmq.PUSH) at 0x7f6d12e5f6a0>\n",
      "ResourceWarning: Enable tracemalloc to get the object allocation traceback\n",
      "sys:1: ResourceWarning: unclosed socket <zmq.Socket(zmq.PUSH) at 0x7f6d12e5f6a0>\n",
      "ResourceWarning: Enable tracemalloc to get the object allocation traceback\n",
      "sys:1: ResourceWarning: unclosed socket <zmq.Socket(zmq.PUSH) at 0x7f6d12e39d80>\n",
      "ResourceWarning: Enable tracemalloc to get the object allocation traceback\n"
     ]
    },
    {
     "name": "stdout",
     "output_type": "stream",
     "text": [
      "\r",
      "[**********************85%****************       ]  1966 of 2310 completed"
     ]
    },
    {
     "name": "stderr",
     "output_type": "stream",
     "text": [
      "sys:1: ResourceWarning: unclosed socket <zmq.Socket(zmq.PUSH) at 0x7f6d12e3b6a0>\n",
      "ResourceWarning: Enable tracemalloc to get the object allocation traceback\n"
     ]
    },
    {
     "name": "stdout",
     "output_type": "stream",
     "text": [
      "\r",
      "[**********************85%****************       ]  1967 of 2310 completed"
     ]
    },
    {
     "name": "stderr",
     "output_type": "stream",
     "text": [
      "sys:1: ResourceWarning: unclosed socket <zmq.Socket(zmq.PUSH) at 0x7f6cf846f9a0>\n",
      "ResourceWarning: Enable tracemalloc to get the object allocation traceback\n"
     ]
    },
    {
     "name": "stdout",
     "output_type": "stream",
     "text": [
      "[**********************85%****************       ]  1969 of 2310 completed"
     ]
    },
    {
     "name": "stderr",
     "output_type": "stream",
     "text": [
      "sys:1: ResourceWarning: unclosed socket <zmq.Socket(zmq.PUSH) at 0x7f6d12e38e20>\n",
      "ResourceWarning: Enable tracemalloc to get the object allocation traceback\n",
      "sys:1: ResourceWarning: unclosed socket <zmq.Socket(zmq.PUSH) at 0x7f6d12e38e20>\n",
      "ResourceWarning: Enable tracemalloc to get the object allocation traceback\n"
     ]
    },
    {
     "name": "stdout",
     "output_type": "stream",
     "text": [
      "[**********************85%****************       ]  1972 of 2310 completed"
     ]
    },
    {
     "name": "stderr",
     "output_type": "stream",
     "text": [
      "sys:1: ResourceWarning: unclosed socket <zmq.Socket(zmq.PUSH) at 0x7f6d12e5ca60>\n",
      "ResourceWarning: Enable tracemalloc to get the object allocation traceback\n",
      "sys:1: ResourceWarning: unclosed socket <zmq.Socket(zmq.PUSH) at 0x7f6cf84de6e0>\n",
      "ResourceWarning: Enable tracemalloc to get the object allocation traceback\n",
      "sys:1: ResourceWarning: unclosed socket <zmq.Socket(zmq.PUSH) at 0x7f6cf84df760>\n",
      "ResourceWarning: Enable tracemalloc to get the object allocation traceback\n"
     ]
    },
    {
     "name": "stdout",
     "output_type": "stream",
     "text": [
      "[**********************85%****************       ]  1974 of 2310 completed"
     ]
    },
    {
     "name": "stderr",
     "output_type": "stream",
     "text": [
      "sys:1: ResourceWarning: unclosed socket <zmq.Socket(zmq.PUSH) at 0x7f6d12e5f6a0>\n",
      "ResourceWarning: Enable tracemalloc to get the object allocation traceback\n",
      "sys:1: ResourceWarning: unclosed socket <zmq.Socket(zmq.PUSH) at 0x7f6d12e2bdc0>\n",
      "ResourceWarning: Enable tracemalloc to get the object allocation traceback\n"
     ]
    },
    {
     "name": "stdout",
     "output_type": "stream",
     "text": [
      "[**********************86%****************       ]  1977 of 2310 completed"
     ]
    },
    {
     "name": "stderr",
     "output_type": "stream",
     "text": [
      "sys:1: ResourceWarning: unclosed socket <zmq.Socket(zmq.PUSH) at 0x7f6cf85df040>\n",
      "ResourceWarning: Enable tracemalloc to get the object allocation traceback\n",
      "sys:1: ResourceWarning: unclosed socket <zmq.Socket(zmq.PUSH) at 0x7f6cf85def20>\n",
      "ResourceWarning: Enable tracemalloc to get the object allocation traceback\n",
      "sys:1: ResourceWarning: unclosed socket <zmq.Socket(zmq.PUSH) at 0x7f6cf848f7c0>\n",
      "ResourceWarning: Enable tracemalloc to get the object allocation traceback\n"
     ]
    },
    {
     "name": "stdout",
     "output_type": "stream",
     "text": [
      "[**********************86%****************       ]  1981 of 2310 completed"
     ]
    },
    {
     "name": "stderr",
     "output_type": "stream",
     "text": [
      "sys:1: ResourceWarning: unclosed socket <zmq.Socket(zmq.PUSH) at 0x7f6cf85dffa0>\n",
      "ResourceWarning: Enable tracemalloc to get the object allocation traceback\n",
      "sys:1: ResourceWarning: unclosed socket <zmq.Socket(zmq.PUSH) at 0x7f6cf85d5540>\n",
      "ResourceWarning: Enable tracemalloc to get the object allocation traceback\n",
      "sys:1: ResourceWarning: unclosed socket <zmq.Socket(zmq.PUSH) at 0x7f6d12e2bd60>\n",
      "ResourceWarning: Enable tracemalloc to get the object allocation traceback\n",
      "sys:1: ResourceWarning: unclosed socket <zmq.Socket(zmq.PUSH) at 0x7f6cf8429300>\n",
      "ResourceWarning: Enable tracemalloc to get the object allocation traceback\n"
     ]
    },
    {
     "name": "stdout",
     "output_type": "stream",
     "text": [
      "\r",
      "[**********************86%****************       ]  1982 of 2310 completed"
     ]
    },
    {
     "name": "stderr",
     "output_type": "stream",
     "text": [
      "sys:1: ResourceWarning: unclosed socket <zmq.Socket(zmq.PUSH) at 0x7f6cf8339cc0>\n",
      "ResourceWarning: Enable tracemalloc to get the object allocation traceback\n"
     ]
    },
    {
     "name": "stdout",
     "output_type": "stream",
     "text": [
      "\r",
      "[**********************86%****************       ]  1983 of 2310 completed"
     ]
    },
    {
     "name": "stderr",
     "output_type": "stream",
     "text": [
      "sys:1: ResourceWarning: unclosed socket <zmq.Socket(zmq.PUSH) at 0x7f6cf85dffa0>\n",
      "ResourceWarning: Enable tracemalloc to get the object allocation traceback\n"
     ]
    },
    {
     "name": "stdout",
     "output_type": "stream",
     "text": [
      "[**********************86%****************       ]  1985 of 2310 completed"
     ]
    },
    {
     "name": "stderr",
     "output_type": "stream",
     "text": [
      "sys:1: ResourceWarning: unclosed socket <zmq.Socket(zmq.PUSH) at 0x7f6cf833bfa0>\n",
      "ResourceWarning: Enable tracemalloc to get the object allocation traceback\n",
      "sys:1: ResourceWarning: unclosed socket <zmq.Socket(zmq.PUSH) at 0x7f6cf849bb20>\n",
      "ResourceWarning: Enable tracemalloc to get the object allocation traceback\n"
     ]
    },
    {
     "name": "stdout",
     "output_type": "stream",
     "text": [
      "[**********************86%****************       ]  1988 of 2310 completed"
     ]
    },
    {
     "name": "stderr",
     "output_type": "stream",
     "text": [
      "sys:1: ResourceWarning: unclosed socket <zmq.Socket(zmq.PUSH) at 0x7f6d12e2bd60>\n",
      "ResourceWarning: Enable tracemalloc to get the object allocation traceback\n",
      "sys:1: ResourceWarning: unclosed socket <zmq.Socket(zmq.PUSH) at 0x7f6cf8429300>\n",
      "ResourceWarning: Enable tracemalloc to get the object allocation traceback\n",
      "sys:1: ResourceWarning: unclosed socket <zmq.Socket(zmq.PUSH) at 0x7f6d12e3bca0>\n",
      "ResourceWarning: Enable tracemalloc to get the object allocation traceback\n"
     ]
    },
    {
     "name": "stdout",
     "output_type": "stream",
     "text": [
      "[**********************86%****************       ]  1990 of 2310 completed"
     ]
    },
    {
     "name": "stderr",
     "output_type": "stream",
     "text": [
      "sys:1: ResourceWarning: unclosed socket <zmq.Socket(zmq.PUSH) at 0x7f6d12e5ca60>\n",
      "ResourceWarning: Enable tracemalloc to get the object allocation traceback\n",
      "sys:1: ResourceWarning: unclosed socket <zmq.Socket(zmq.PUSH) at 0x7f6cf85d7dc0>\n",
      "ResourceWarning: Enable tracemalloc to get the object allocation traceback\n"
     ]
    },
    {
     "name": "stdout",
     "output_type": "stream",
     "text": [
      "\r",
      "[**********************86%****************       ]  1991 of 2310 completed"
     ]
    },
    {
     "name": "stderr",
     "output_type": "stream",
     "text": [
      "sys:1: ResourceWarning: unclosed socket <zmq.Socket(zmq.PUSH) at 0x7f6d12e5ece0>\n",
      "ResourceWarning: Enable tracemalloc to get the object allocation traceback\n"
     ]
    },
    {
     "name": "stdout",
     "output_type": "stream",
     "text": [
      "\r",
      "[**********************86%****************       ]  1992 of 2310 completed"
     ]
    },
    {
     "name": "stderr",
     "output_type": "stream",
     "text": [
      "sys:1: ResourceWarning: unclosed socket <zmq.Socket(zmq.PUSH) at 0x7f6d12e3ba00>\n",
      "ResourceWarning: Enable tracemalloc to get the object allocation traceback\n"
     ]
    },
    {
     "name": "stdout",
     "output_type": "stream",
     "text": [
      "[**********************86%****************       ]  1994 of 2310 completed"
     ]
    },
    {
     "name": "stderr",
     "output_type": "stream",
     "text": [
      "sys:1: ResourceWarning: unclosed socket <zmq.Socket(zmq.PUSH) at 0x7f6cf84df3a0>\n",
      "ResourceWarning: Enable tracemalloc to get the object allocation traceback\n",
      "sys:1: ResourceWarning: unclosed socket <zmq.Socket(zmq.PUSH) at 0x7f6d12e29720>\n",
      "ResourceWarning: Enable tracemalloc to get the object allocation traceback\n"
     ]
    },
    {
     "name": "stdout",
     "output_type": "stream",
     "text": [
      "[**********************86%****************       ]  1997 of 2310 completed"
     ]
    },
    {
     "name": "stderr",
     "output_type": "stream",
     "text": [
      "sys:1: ResourceWarning: unclosed socket <zmq.Socket(zmq.PUSH) at 0x7f6d12e29f00>\n",
      "ResourceWarning: Enable tracemalloc to get the object allocation traceback\n",
      "sys:1: ResourceWarning: unclosed socket <zmq.Socket(zmq.PUSH) at 0x7f6d12e2a740>\n",
      "ResourceWarning: Enable tracemalloc to get the object allocation traceback\n",
      "sys:1: ResourceWarning: unclosed socket <zmq.Socket(zmq.PUSH) at 0x7f6cf8339900>\n",
      "ResourceWarning: Enable tracemalloc to get the object allocation traceback\n"
     ]
    },
    {
     "name": "stdout",
     "output_type": "stream",
     "text": [
      "\r",
      "[**********************86%****************       ]  1998 of 2310 completed"
     ]
    },
    {
     "name": "stderr",
     "output_type": "stream",
     "text": [
      "sys:1: ResourceWarning: unclosed socket <zmq.Socket(zmq.PUSH) at 0x7f6cf833b520>\n",
      "ResourceWarning: Enable tracemalloc to get the object allocation traceback\n"
     ]
    },
    {
     "name": "stdout",
     "output_type": "stream",
     "text": [
      "[**********************87%*****************      ]  2002 of 2310 completed"
     ]
    },
    {
     "name": "stderr",
     "output_type": "stream",
     "text": [
      "sys:1: ResourceWarning: unclosed socket <zmq.Socket(zmq.PUSH) at 0x7f6cf849a440>\n",
      "ResourceWarning: Enable tracemalloc to get the object allocation traceback\n",
      "sys:1: ResourceWarning: unclosed socket <zmq.Socket(zmq.PUSH) at 0x7f6d12e7abc0>\n",
      "ResourceWarning: Enable tracemalloc to get the object allocation traceback\n",
      "sys:1: ResourceWarning: unclosed socket <zmq.Socket(zmq.PUSH) at 0x7f6cf85dffa0>\n",
      "ResourceWarning: Enable tracemalloc to get the object allocation traceback\n",
      "sys:1: ResourceWarning: unclosed socket <zmq.Socket(zmq.PUSH) at 0x7f6d12e2ada0>\n",
      "ResourceWarning: Enable tracemalloc to get the object allocation traceback\n"
     ]
    },
    {
     "name": "stdout",
     "output_type": "stream",
     "text": [
      "\r",
      "[**********************87%*****************      ]  2003 of 2310 completed"
     ]
    },
    {
     "name": "stderr",
     "output_type": "stream",
     "text": [
      "sys:1: ResourceWarning: unclosed socket <zmq.Socket(zmq.PUSH) at 0x7f6d12e2ada0>\n",
      "ResourceWarning: Enable tracemalloc to get the object allocation traceback\n"
     ]
    },
    {
     "name": "stdout",
     "output_type": "stream",
     "text": [
      "[**********************87%*****************      ]  2006 of 2310 completed"
     ]
    },
    {
     "name": "stderr",
     "output_type": "stream",
     "text": [
      "sys:1: ResourceWarning: unclosed socket <zmq.Socket(zmq.PUSH) at 0x7f6d12e3b160>\n",
      "ResourceWarning: Enable tracemalloc to get the object allocation traceback\n",
      "sys:1: ResourceWarning: unclosed socket <zmq.Socket(zmq.PUSH) at 0x7f6d12e2bd60>\n",
      "ResourceWarning: Enable tracemalloc to get the object allocation traceback\n",
      "sys:1: ResourceWarning: unclosed socket <zmq.Socket(zmq.PUSH) at 0x7f6d12e7b640>\n",
      "ResourceWarning: Enable tracemalloc to get the object allocation traceback\n"
     ]
    },
    {
     "name": "stdout",
     "output_type": "stream",
     "text": [
      "[**********************87%*****************      ]  2008 of 2310 completed"
     ]
    },
    {
     "name": "stderr",
     "output_type": "stream",
     "text": [
      "sys:1: ResourceWarning: unclosed socket <zmq.Socket(zmq.PUSH) at 0x7f6cf84de6e0>\n",
      "ResourceWarning: Enable tracemalloc to get the object allocation traceback\n",
      "sys:1: ResourceWarning: unclosed socket <zmq.Socket(zmq.PUSH) at 0x7f6d12e7b640>\n",
      "ResourceWarning: Enable tracemalloc to get the object allocation traceback\n"
     ]
    },
    {
     "name": "stdout",
     "output_type": "stream",
     "text": [
      "\r",
      "[**********************87%*****************      ]  2009 of 2310 completed"
     ]
    },
    {
     "name": "stderr",
     "output_type": "stream",
     "text": [
      "sys:1: ResourceWarning: unclosed socket <zmq.Socket(zmq.PUSH) at 0x7f6d12e7b640>\n",
      "ResourceWarning: Enable tracemalloc to get the object allocation traceback\n"
     ]
    },
    {
     "name": "stdout",
     "output_type": "stream",
     "text": [
      "[**********************87%*****************      ]  2013 of 2310 completed"
     ]
    },
    {
     "name": "stderr",
     "output_type": "stream",
     "text": [
      "sys:1: ResourceWarning: unclosed socket <zmq.Socket(zmq.PUSH) at 0x7f6d12e7afe0>\n",
      "ResourceWarning: Enable tracemalloc to get the object allocation traceback\n",
      "sys:1: ResourceWarning: unclosed socket <zmq.Socket(zmq.PUSH) at 0x7f6d12e7b640>\n",
      "ResourceWarning: Enable tracemalloc to get the object allocation traceback\n",
      "sys:1: ResourceWarning: unclosed socket <zmq.Socket(zmq.PUSH) at 0x7f6cf833b160>\n",
      "ResourceWarning: Enable tracemalloc to get the object allocation traceback\n",
      "sys:1: ResourceWarning: unclosed socket <zmq.Socket(zmq.PUSH) at 0x7f6cf833a380>\n",
      "ResourceWarning: Enable tracemalloc to get the object allocation traceback\n"
     ]
    },
    {
     "name": "stdout",
     "output_type": "stream",
     "text": [
      "\r",
      "[**********************87%*****************      ]  2014 of 2310 completed"
     ]
    },
    {
     "name": "stderr",
     "output_type": "stream",
     "text": [
      "sys:1: ResourceWarning: unclosed socket <zmq.Socket(zmq.PUSH) at 0x7f6cf833a380>\n",
      "ResourceWarning: Enable tracemalloc to get the object allocation traceback\n"
     ]
    },
    {
     "name": "stdout",
     "output_type": "stream",
     "text": [
      "[**********************87%*****************      ]  2016 of 2310 completed"
     ]
    },
    {
     "name": "stderr",
     "output_type": "stream",
     "text": [
      "sys:1: ResourceWarning: unclosed socket <zmq.Socket(zmq.PUSH) at 0x7f6d12e3b820>\n",
      "ResourceWarning: Enable tracemalloc to get the object allocation traceback\n",
      "sys:1: ResourceWarning: unclosed socket <zmq.Socket(zmq.PUSH) at 0x7f6cf833a380>\n",
      "ResourceWarning: Enable tracemalloc to get the object allocation traceback\n"
     ]
    },
    {
     "name": "stdout",
     "output_type": "stream",
     "text": [
      "\r",
      "[**********************87%*****************      ]  2017 of 2310 completed"
     ]
    },
    {
     "name": "stderr",
     "output_type": "stream",
     "text": [
      "sys:1: ResourceWarning: unclosed socket <zmq.Socket(zmq.PUSH) at 0x7f6d12e29cc0>\n",
      "ResourceWarning: Enable tracemalloc to get the object allocation traceback\n"
     ]
    },
    {
     "name": "stdout",
     "output_type": "stream",
     "text": [
      "\r",
      "[**********************87%*****************      ]  2018 of 2310 completed"
     ]
    },
    {
     "name": "stderr",
     "output_type": "stream",
     "text": [
      "sys:1: ResourceWarning: unclosed socket <zmq.Socket(zmq.PUSH) at 0x7f6cf8565e40>\n",
      "ResourceWarning: Enable tracemalloc to get the object allocation traceback\n"
     ]
    },
    {
     "name": "stdout",
     "output_type": "stream",
     "text": [
      "\r",
      "[**********************87%*****************      ]  2019 of 2310 completed"
     ]
    },
    {
     "name": "stderr",
     "output_type": "stream",
     "text": [
      "sys:1: ResourceWarning: unclosed socket <zmq.Socket(zmq.PUSH) at 0x7f6d12e5ece0>\n",
      "ResourceWarning: Enable tracemalloc to get the object allocation traceback\n"
     ]
    },
    {
     "name": "stdout",
     "output_type": "stream",
     "text": [
      "[**********************88%*****************      ]  2023 of 2310 completed"
     ]
    },
    {
     "name": "stderr",
     "output_type": "stream",
     "text": [
      "sys:1: ResourceWarning: unclosed socket <zmq.Socket(zmq.PUSH) at 0x7f6d12e2bd60>\n",
      "ResourceWarning: Enable tracemalloc to get the object allocation traceback\n",
      "sys:1: ResourceWarning: unclosed socket <zmq.Socket(zmq.PUSH) at 0x7f6d12e78b80>\n",
      "ResourceWarning: Enable tracemalloc to get the object allocation traceback\n",
      "sys:1: ResourceWarning: unclosed socket <zmq.Socket(zmq.PUSH) at 0x7f6cf84de6e0>\n",
      "ResourceWarning: Enable tracemalloc to get the object allocation traceback\n",
      "sys:1: ResourceWarning: unclosed socket <zmq.Socket(zmq.PUSH) at 0x7f6cf84df3a0>\n",
      "ResourceWarning: Enable tracemalloc to get the object allocation traceback\n"
     ]
    },
    {
     "name": "stdout",
     "output_type": "stream",
     "text": [
      "\r",
      "[**********************88%*****************      ]  2024 of 2310 completed"
     ]
    },
    {
     "name": "stderr",
     "output_type": "stream",
     "text": [
      "sys:1: ResourceWarning: unclosed socket <zmq.Socket(zmq.PUSH) at 0x7f6cf8339900>\n",
      "ResourceWarning: Enable tracemalloc to get the object allocation traceback\n"
     ]
    },
    {
     "name": "stdout",
     "output_type": "stream",
     "text": [
      "\r",
      "[**********************88%*****************      ]  2025 of 2310 completed"
     ]
    },
    {
     "name": "stderr",
     "output_type": "stream",
     "text": [
      "sys:1: ResourceWarning: unclosed socket <zmq.Socket(zmq.PUSH) at 0x7f6d12e397e0>\n",
      "ResourceWarning: Enable tracemalloc to get the object allocation traceback\n"
     ]
    },
    {
     "name": "stdout",
     "output_type": "stream",
     "text": [
      "[**********************88%*****************      ]  2028 of 2310 completed"
     ]
    },
    {
     "name": "stderr",
     "output_type": "stream",
     "text": [
      "sys:1: ResourceWarning: unclosed socket <zmq.Socket(zmq.PUSH) at 0x7f6d12e29cc0>\n",
      "ResourceWarning: Enable tracemalloc to get the object allocation traceback\n",
      "sys:1: ResourceWarning: unclosed socket <zmq.Socket(zmq.PUSH) at 0x7f6cf833bfa0>\n",
      "ResourceWarning: Enable tracemalloc to get the object allocation traceback\n",
      "sys:1: ResourceWarning: unclosed socket <zmq.Socket(zmq.PUSH) at 0x7f6d12e29cc0>\n",
      "ResourceWarning: Enable tracemalloc to get the object allocation traceback\n"
     ]
    },
    {
     "name": "stdout",
     "output_type": "stream",
     "text": [
      "[**********************88%*****************      ]  2031 of 2310 completed"
     ]
    },
    {
     "name": "stderr",
     "output_type": "stream",
     "text": [
      "sys:1: ResourceWarning: unclosed socket <zmq.Socket(zmq.PUSH) at 0x7f6d12e3a500>\n",
      "ResourceWarning: Enable tracemalloc to get the object allocation traceback\n",
      "sys:1: ResourceWarning: unclosed socket <zmq.Socket(zmq.PUSH) at 0x7f6cf833b520>\n",
      "ResourceWarning: Enable tracemalloc to get the object allocation traceback\n",
      "sys:1: ResourceWarning: unclosed socket <zmq.Socket(zmq.PUSH) at 0x7f6cf833b520>\n",
      "ResourceWarning: Enable tracemalloc to get the object allocation traceback\n"
     ]
    },
    {
     "name": "stdout",
     "output_type": "stream",
     "text": [
      "\r",
      "[**********************88%*****************      ]  2032 of 2310 completed"
     ]
    },
    {
     "name": "stderr",
     "output_type": "stream",
     "text": [
      "sys:1: ResourceWarning: unclosed socket <zmq.Socket(zmq.PUSH) at 0x7f6d12e3ba60>\n",
      "ResourceWarning: Enable tracemalloc to get the object allocation traceback\n"
     ]
    },
    {
     "name": "stdout",
     "output_type": "stream",
     "text": [
      "[**********************88%*****************      ]  2034 of 2310 completed"
     ]
    },
    {
     "name": "stderr",
     "output_type": "stream",
     "text": [
      "sys:1: ResourceWarning: unclosed socket <zmq.Socket(zmq.PUSH) at 0x7f6d12e39d80>\n",
      "ResourceWarning: Enable tracemalloc to get the object allocation traceback\n",
      "sys:1: ResourceWarning: unclosed socket <zmq.Socket(zmq.PUSH) at 0x7f6cf84ebdc0>\n",
      "ResourceWarning: Enable tracemalloc to get the object allocation traceback\n"
     ]
    },
    {
     "name": "stdout",
     "output_type": "stream",
     "text": [
      "[**********************88%*****************      ]  2036 of 2310 completed"
     ]
    },
    {
     "name": "stderr",
     "output_type": "stream",
     "text": [
      "sys:1: ResourceWarning: unclosed socket <zmq.Socket(zmq.PUSH) at 0x7f6d12e5f6a0>\n",
      "ResourceWarning: Enable tracemalloc to get the object allocation traceback\n",
      "sys:1: ResourceWarning: unclosed socket <zmq.Socket(zmq.PUSH) at 0x7f6cf84eba60>\n",
      "ResourceWarning: Enable tracemalloc to get the object allocation traceback\n"
     ]
    },
    {
     "name": "stdout",
     "output_type": "stream",
     "text": [
      "[**********************88%*****************      ]  2039 of 2310 completed"
     ]
    },
    {
     "name": "stderr",
     "output_type": "stream",
     "text": [
      "sys:1: ResourceWarning: unclosed socket <zmq.Socket(zmq.PUSH) at 0x7f6cf84e9ae0>\n",
      "ResourceWarning: Enable tracemalloc to get the object allocation traceback\n",
      "sys:1: ResourceWarning: unclosed socket <zmq.Socket(zmq.PUSH) at 0x7f6cf833bac0>\n",
      "ResourceWarning: Enable tracemalloc to get the object allocation traceback\n",
      "sys:1: ResourceWarning: unclosed socket <zmq.Socket(zmq.PUSH) at 0x7f6d12e3b160>\n",
      "ResourceWarning: Enable tracemalloc to get the object allocation traceback\n"
     ]
    },
    {
     "name": "stdout",
     "output_type": "stream",
     "text": [
      "[**********************88%*****************      ]  2043 of 2310 completed"
     ]
    },
    {
     "name": "stderr",
     "output_type": "stream",
     "text": [
      "sys:1: ResourceWarning: unclosed socket <zmq.Socket(zmq.PUSH) at 0x7f6d12e7bdc0>\n",
      "ResourceWarning: Enable tracemalloc to get the object allocation traceback\n",
      "sys:1: ResourceWarning: unclosed socket <zmq.Socket(zmq.PUSH) at 0x7f6cf84eb160>\n",
      "ResourceWarning: Enable tracemalloc to get the object allocation traceback\n",
      "sys:1: ResourceWarning: unclosed socket <zmq.Socket(zmq.PUSH) at 0x7f6d12e7b100>\n",
      "ResourceWarning: Enable tracemalloc to get the object allocation traceback\n",
      "sys:1: ResourceWarning: unclosed socket <zmq.Socket(zmq.PUSH) at 0x7f6d12e3ba60>\n",
      "ResourceWarning: Enable tracemalloc to get the object allocation traceback\n"
     ]
    },
    {
     "name": "stdout",
     "output_type": "stream",
     "text": [
      "[**********************89%******************     ]  2045 of 2310 completed"
     ]
    },
    {
     "name": "stderr",
     "output_type": "stream",
     "text": [
      "sys:1: ResourceWarning: unclosed socket <zmq.Socket(zmq.PUSH) at 0x7f6cf84eb520>\n",
      "ResourceWarning: Enable tracemalloc to get the object allocation traceback\n",
      "sys:1: ResourceWarning: unclosed socket <zmq.Socket(zmq.PUSH) at 0x7f6d12e39d80>\n",
      "ResourceWarning: Enable tracemalloc to get the object allocation traceback\n"
     ]
    },
    {
     "name": "stdout",
     "output_type": "stream",
     "text": [
      "\r",
      "[**********************89%******************     ]  2046 of 2310 completed"
     ]
    },
    {
     "name": "stderr",
     "output_type": "stream",
     "text": [
      "sys:1: ResourceWarning: unclosed socket <zmq.Socket(zmq.PUSH) at 0x7f6d12e7bdc0>\n",
      "ResourceWarning: Enable tracemalloc to get the object allocation traceback\n"
     ]
    },
    {
     "name": "stdout",
     "output_type": "stream",
     "text": [
      "[**********************89%******************     ]  2048 of 2310 completed"
     ]
    },
    {
     "name": "stderr",
     "output_type": "stream",
     "text": [
      "sys:1: ResourceWarning: unclosed socket <zmq.Socket(zmq.PUSH) at 0x7f6d12e29720>\n",
      "ResourceWarning: Enable tracemalloc to get the object allocation traceback\n",
      "sys:1: ResourceWarning: unclosed socket <zmq.Socket(zmq.PUSH) at 0x7f6d12e29720>\n",
      "ResourceWarning: Enable tracemalloc to get the object allocation traceback\n"
     ]
    },
    {
     "name": "stdout",
     "output_type": "stream",
     "text": [
      "[**********************89%******************     ]  2052 of 2310 completed"
     ]
    },
    {
     "name": "stderr",
     "output_type": "stream",
     "text": [
      "sys:1: ResourceWarning: unclosed socket <zmq.Socket(zmq.PUSH) at 0x7f6cf85def20>\n",
      "ResourceWarning: Enable tracemalloc to get the object allocation traceback\n",
      "sys:1: ResourceWarning: unclosed socket <zmq.Socket(zmq.PUSH) at 0x7f6cf848bb20>\n",
      "ResourceWarning: Enable tracemalloc to get the object allocation traceback\n",
      "sys:1: ResourceWarning: unclosed socket <zmq.Socket(zmq.PUSH) at 0x7f6d12e5ca60>\n",
      "ResourceWarning: Enable tracemalloc to get the object allocation traceback\n",
      "sys:1: ResourceWarning: unclosed socket <zmq.Socket(zmq.PUSH) at 0x7f6cf848ef80>\n",
      "ResourceWarning: Enable tracemalloc to get the object allocation traceback\n"
     ]
    },
    {
     "name": "stdout",
     "output_type": "stream",
     "text": [
      "\r",
      "[**********************89%******************     ]  2053 of 2310 completed"
     ]
    },
    {
     "name": "stderr",
     "output_type": "stream",
     "text": [
      "sys:1: ResourceWarning: unclosed socket <zmq.Socket(zmq.PUSH) at 0x7f6cf848bfa0>\n",
      "ResourceWarning: Enable tracemalloc to get the object allocation traceback\n"
     ]
    },
    {
     "name": "stdout",
     "output_type": "stream",
     "text": [
      "[**********************89%******************     ]  2055 of 2310 completed"
     ]
    },
    {
     "name": "stderr",
     "output_type": "stream",
     "text": [
      "sys:1: ResourceWarning: unclosed socket <zmq.Socket(zmq.PUSH) at 0x7f6cf84eb820>\n",
      "ResourceWarning: Enable tracemalloc to get the object allocation traceback\n",
      "sys:1: ResourceWarning: unclosed socket <zmq.Socket(zmq.PUSH) at 0x7f6cf833b160>\n",
      "ResourceWarning: Enable tracemalloc to get the object allocation traceback\n"
     ]
    },
    {
     "name": "stdout",
     "output_type": "stream",
     "text": [
      "[**********************89%******************     ]  2059 of 2310 completed"
     ]
    },
    {
     "name": "stderr",
     "output_type": "stream",
     "text": [
      "sys:1: ResourceWarning: unclosed socket <zmq.Socket(zmq.PUSH) at 0x7f6cf84e8e20>\n",
      "ResourceWarning: Enable tracemalloc to get the object allocation traceback\n",
      "sys:1: ResourceWarning: unclosed socket <zmq.Socket(zmq.PUSH) at 0x7f6cf848b9a0>\n",
      "ResourceWarning: Enable tracemalloc to get the object allocation traceback\n",
      "sys:1: ResourceWarning: unclosed socket <zmq.Socket(zmq.PUSH) at 0x7f6d12e7bdc0>\n",
      "ResourceWarning: Enable tracemalloc to get the object allocation traceback\n",
      "sys:1: ResourceWarning: unclosed socket <zmq.Socket(zmq.PUSH) at 0x7f6cf833bac0>\n",
      "ResourceWarning: Enable tracemalloc to get the object allocation traceback\n"
     ]
    },
    {
     "name": "stdout",
     "output_type": "stream",
     "text": [
      "[**********************89%******************     ]  2061 of 2310 completed"
     ]
    },
    {
     "name": "stderr",
     "output_type": "stream",
     "text": [
      "sys:1: ResourceWarning: unclosed socket <zmq.Socket(zmq.PUSH) at 0x7f6d12e5ece0>\n",
      "ResourceWarning: Enable tracemalloc to get the object allocation traceback\n",
      "sys:1: ResourceWarning: unclosed socket <zmq.Socket(zmq.PUSH) at 0x7f6cf83768c0>\n",
      "ResourceWarning: Enable tracemalloc to get the object allocation traceback\n"
     ]
    },
    {
     "name": "stdout",
     "output_type": "stream",
     "text": [
      "\r",
      "[**********************89%******************     ]  2062 of 2310 completed"
     ]
    },
    {
     "name": "stderr",
     "output_type": "stream",
     "text": [
      "sys:1: ResourceWarning: unclosed socket <zmq.Socket(zmq.PUSH) at 0x7f6d12e5ece0>\n",
      "ResourceWarning: Enable tracemalloc to get the object allocation traceback\n"
     ]
    },
    {
     "name": "stdout",
     "output_type": "stream",
     "text": [
      "\r",
      "[**********************89%******************     ]  2063 of 2310 completed"
     ]
    },
    {
     "name": "stderr",
     "output_type": "stream",
     "text": [
      "sys:1: ResourceWarning: unclosed socket <zmq.Socket(zmq.PUSH) at 0x7f6cf83760e0>\n",
      "ResourceWarning: Enable tracemalloc to get the object allocation traceback\n"
     ]
    },
    {
     "name": "stdout",
     "output_type": "stream",
     "text": [
      "\r",
      "[**********************89%******************     ]  2064 of 2310 completed"
     ]
    },
    {
     "name": "stderr",
     "output_type": "stream",
     "text": [
      "sys:1: ResourceWarning: unclosed socket <zmq.Socket(zmq.PUSH) at 0x7f6cf833bfa0>\n",
      "ResourceWarning: Enable tracemalloc to get the object allocation traceback\n"
     ]
    },
    {
     "name": "stdout",
     "output_type": "stream",
     "text": [
      "[**********************89%******************     ]  2066 of 2310 completed"
     ]
    },
    {
     "name": "stderr",
     "output_type": "stream",
     "text": [
      "sys:1: ResourceWarning: unclosed socket <zmq.Socket(zmq.PUSH) at 0x7f6d12e29cc0>\n",
      "ResourceWarning: Enable tracemalloc to get the object allocation traceback\n",
      "sys:1: ResourceWarning: unclosed socket <zmq.Socket(zmq.PUSH) at 0x7f6cf8499ae0>\n",
      "ResourceWarning: Enable tracemalloc to get the object allocation traceback\n"
     ]
    },
    {
     "name": "stdout",
     "output_type": "stream",
     "text": [
      "[**********************90%******************     ]  2070 of 2310 completed"
     ]
    },
    {
     "name": "stderr",
     "output_type": "stream",
     "text": [
      "sys:1: ResourceWarning: unclosed socket <zmq.Socket(zmq.PUSH) at 0x7f6cf8376da0>\n",
      "ResourceWarning: Enable tracemalloc to get the object allocation traceback\n",
      "sys:1: ResourceWarning: unclosed socket <zmq.Socket(zmq.PUSH) at 0x7f6d12e29cc0>\n",
      "ResourceWarning: Enable tracemalloc to get the object allocation traceback\n",
      "sys:1: ResourceWarning: unclosed socket <zmq.Socket(zmq.PUSH) at 0x7f6cf84eb160>\n",
      "ResourceWarning: Enable tracemalloc to get the object allocation traceback\n",
      "sys:1: ResourceWarning: unclosed socket <zmq.Socket(zmq.PUSH) at 0x7f6d12e3b820>\n",
      "ResourceWarning: Enable tracemalloc to get the object allocation traceback\n"
     ]
    },
    {
     "name": "stdout",
     "output_type": "stream",
     "text": [
      "\r",
      "[**********************90%******************     ]  2071 of 2310 completed"
     ]
    },
    {
     "name": "stderr",
     "output_type": "stream",
     "text": [
      "sys:1: ResourceWarning: unclosed socket <zmq.Socket(zmq.PUSH) at 0x7f6cf8375de0>\n",
      "ResourceWarning: Enable tracemalloc to get the object allocation traceback\n"
     ]
    },
    {
     "name": "stdout",
     "output_type": "stream",
     "text": [
      "[**********************90%******************     ]  2074 of 2310 completed"
     ]
    },
    {
     "name": "stderr",
     "output_type": "stream",
     "text": [
      "sys:1: ResourceWarning: unclosed socket <zmq.Socket(zmq.PUSH) at 0x7f6d12e3bdc0>\n",
      "ResourceWarning: Enable tracemalloc to get the object allocation traceback\n",
      "sys:1: ResourceWarning: unclosed socket <zmq.Socket(zmq.PUSH) at 0x7f6d12e7bbe0>\n",
      "ResourceWarning: Enable tracemalloc to get the object allocation traceback\n",
      "sys:1: ResourceWarning: unclosed socket <zmq.Socket(zmq.PUSH) at 0x7f6d12e2ada0>\n",
      "ResourceWarning: Enable tracemalloc to get the object allocation traceback\n"
     ]
    },
    {
     "name": "stdout",
     "output_type": "stream",
     "text": [
      "[**********************90%******************     ]  2077 of 2310 completed"
     ]
    },
    {
     "name": "stderr",
     "output_type": "stream",
     "text": [
      "sys:1: ResourceWarning: unclosed socket <zmq.Socket(zmq.PUSH) at 0x7f6cf8377d00>\n",
      "ResourceWarning: Enable tracemalloc to get the object allocation traceback\n",
      "sys:1: ResourceWarning: unclosed socket <zmq.Socket(zmq.PUSH) at 0x7f6d12e3bdc0>\n",
      "ResourceWarning: Enable tracemalloc to get the object allocation traceback\n",
      "sys:1: ResourceWarning: unclosed socket <zmq.Socket(zmq.PUSH) at 0x7f6cf848bc40>\n",
      "ResourceWarning: Enable tracemalloc to get the object allocation traceback\n"
     ]
    },
    {
     "name": "stdout",
     "output_type": "stream",
     "text": [
      "[**********************90%******************     ]  2079 of 2310 completed"
     ]
    },
    {
     "name": "stderr",
     "output_type": "stream",
     "text": [
      "sys:1: ResourceWarning: unclosed socket <zmq.Socket(zmq.PUSH) at 0x7f6cf848bc40>\n",
      "ResourceWarning: Enable tracemalloc to get the object allocation traceback\n",
      "sys:1: ResourceWarning: unclosed socket <zmq.Socket(zmq.PUSH) at 0x7f6cf84e8e20>\n",
      "ResourceWarning: Enable tracemalloc to get the object allocation traceback\n"
     ]
    },
    {
     "name": "stdout",
     "output_type": "stream",
     "text": [
      "\r",
      "[**********************90%******************     ]  2080 of 2310 completed"
     ]
    },
    {
     "name": "stderr",
     "output_type": "stream",
     "text": [
      "sys:1: ResourceWarning: unclosed socket <zmq.Socket(zmq.PUSH) at 0x7f6cf8566aa0>\n",
      "ResourceWarning: Enable tracemalloc to get the object allocation traceback\n"
     ]
    },
    {
     "name": "stdout",
     "output_type": "stream",
     "text": [
      "[**********************90%******************     ]  2082 of 2310 completed"
     ]
    },
    {
     "name": "stderr",
     "output_type": "stream",
     "text": [
      "sys:1: ResourceWarning: unclosed socket <zmq.Socket(zmq.PUSH) at 0x7f6cf848bee0>\n",
      "ResourceWarning: Enable tracemalloc to get the object allocation traceback\n",
      "sys:1: ResourceWarning: unclosed socket <zmq.Socket(zmq.PUSH) at 0x7f6cf8377220>\n",
      "ResourceWarning: Enable tracemalloc to get the object allocation traceback\n"
     ]
    },
    {
     "name": "stdout",
     "output_type": "stream",
     "text": [
      "\r",
      "[**********************90%******************     ]  2083 of 2310 completed"
     ]
    },
    {
     "name": "stderr",
     "output_type": "stream",
     "text": [
      "sys:1: ResourceWarning: unclosed socket <zmq.Socket(zmq.PUSH) at 0x7f6cf8377220>\n",
      "ResourceWarning: Enable tracemalloc to get the object allocation traceback\n"
     ]
    },
    {
     "name": "stdout",
     "output_type": "stream",
     "text": [
      "[**********************90%******************     ]  2087 of 2310 completed"
     ]
    },
    {
     "name": "stderr",
     "output_type": "stream",
     "text": [
      "sys:1: ResourceWarning: unclosed socket <zmq.Socket(zmq.PUSH) at 0x7f6d12e3ba60>\n",
      "ResourceWarning: Enable tracemalloc to get the object allocation traceback\n",
      "sys:1: ResourceWarning: unclosed socket <zmq.Socket(zmq.PUSH) at 0x7f6d12ca99c0>\n",
      "ResourceWarning: Enable tracemalloc to get the object allocation traceback\n",
      "sys:1: ResourceWarning: unclosed socket <zmq.Socket(zmq.PUSH) at 0x7f6cf848ef80>\n",
      "ResourceWarning: Enable tracemalloc to get the object allocation traceback\n",
      "sys:1: ResourceWarning: unclosed socket <zmq.Socket(zmq.PUSH) at 0x7f6d12e3ba60>\n",
      "ResourceWarning: Enable tracemalloc to get the object allocation traceback\n"
     ]
    },
    {
     "name": "stdout",
     "output_type": "stream",
     "text": [
      "\r",
      "[**********************90%******************     ]  2088 of 2310 completed"
     ]
    },
    {
     "name": "stderr",
     "output_type": "stream",
     "text": [
      "sys:1: ResourceWarning: unclosed socket <zmq.Socket(zmq.PUSH) at 0x7f6cf8489f00>\n",
      "ResourceWarning: Enable tracemalloc to get the object allocation traceback\n"
     ]
    },
    {
     "name": "stdout",
     "output_type": "stream",
     "text": [
      "\r",
      "[**********************90%******************     ]  2089 of 2310 completed"
     ]
    },
    {
     "name": "stderr",
     "output_type": "stream",
     "text": [
      "sys:1: ResourceWarning: unclosed socket <zmq.Socket(zmq.PUSH) at 0x7f6cf83768c0>\n",
      "ResourceWarning: Enable tracemalloc to get the object allocation traceback\n"
     ]
    },
    {
     "name": "stdout",
     "output_type": "stream",
     "text": [
      "[**********************91%*******************    ]  2092 of 2310 completed"
     ]
    },
    {
     "name": "stderr",
     "output_type": "stream",
     "text": [
      "sys:1: ResourceWarning: unclosed socket <zmq.Socket(zmq.PUSH) at 0x7f6d12ca8160>\n",
      "ResourceWarning: Enable tracemalloc to get the object allocation traceback\n",
      "sys:1: ResourceWarning: unclosed socket <zmq.Socket(zmq.PUSH) at 0x7f6d12caa800>\n",
      "ResourceWarning: Enable tracemalloc to get the object allocation traceback\n",
      "sys:1: ResourceWarning: unclosed socket <zmq.Socket(zmq.PUSH) at 0x7f6d12caa4a0>\n",
      "ResourceWarning: Enable tracemalloc to get the object allocation traceback\n"
     ]
    },
    {
     "name": "stdout",
     "output_type": "stream",
     "text": [
      "[**********************91%*******************    ]  2096 of 2310 completed"
     ]
    },
    {
     "name": "stderr",
     "output_type": "stream",
     "text": [
      "sys:1: ResourceWarning: unclosed socket <zmq.Socket(zmq.PUSH) at 0x7f6d12cab5e0>\n",
      "ResourceWarning: Enable tracemalloc to get the object allocation traceback\n",
      "sys:1: ResourceWarning: unclosed socket <zmq.Socket(zmq.PUSH) at 0x7f6d12e5ece0>\n",
      "ResourceWarning: Enable tracemalloc to get the object allocation traceback\n",
      "sys:1: ResourceWarning: unclosed socket <zmq.Socket(zmq.PUSH) at 0x7f6cf833bfa0>\n",
      "ResourceWarning: Enable tracemalloc to get the object allocation traceback\n",
      "sys:1: ResourceWarning: unclosed socket <zmq.Socket(zmq.PUSH) at 0x7f6d12e7b9a0>\n",
      "ResourceWarning: Enable tracemalloc to get the object allocation traceback\n"
     ]
    },
    {
     "name": "stdout",
     "output_type": "stream",
     "text": [
      "\r",
      "[**********************91%*******************    ]  2097 of 2310 completed"
     ]
    },
    {
     "name": "stderr",
     "output_type": "stream",
     "text": [
      "sys:1: ResourceWarning: unclosed socket <zmq.Socket(zmq.PUSH) at 0x7f6d12ca8fa0>\n",
      "ResourceWarning: Enable tracemalloc to get the object allocation traceback\n"
     ]
    },
    {
     "name": "stdout",
     "output_type": "stream",
     "text": [
      "\r",
      "[**********************91%*******************    ]  2098 of 2310 completed"
     ]
    },
    {
     "name": "stderr",
     "output_type": "stream",
     "text": [
      "sys:1: ResourceWarning: unclosed socket <zmq.Socket(zmq.PUSH) at 0x7f6cf83742e0>\n",
      "ResourceWarning: Enable tracemalloc to get the object allocation traceback\n"
     ]
    },
    {
     "name": "stdout",
     "output_type": "stream",
     "text": [
      "\r",
      "[**********************91%*******************    ]  2099 of 2310 completed"
     ]
    },
    {
     "name": "stderr",
     "output_type": "stream",
     "text": [
      "sys:1: ResourceWarning: unclosed socket <zmq.Socket(zmq.PUSH) at 0x7f6d12ca9d80>\n",
      "ResourceWarning: Enable tracemalloc to get the object allocation traceback\n"
     ]
    },
    {
     "name": "stdout",
     "output_type": "stream",
     "text": [
      "[**********************91%*******************    ]  2104 of 2310 completed"
     ]
    },
    {
     "name": "stderr",
     "output_type": "stream",
     "text": [
      "sys:1: ResourceWarning: unclosed socket <zmq.Socket(zmq.PUSH) at 0x7f6d12e3a500>\n",
      "ResourceWarning: Enable tracemalloc to get the object allocation traceback\n",
      "sys:1: ResourceWarning: unclosed socket <zmq.Socket(zmq.PUSH) at 0x7f6d12cab5e0>\n",
      "ResourceWarning: Enable tracemalloc to get the object allocation traceback\n",
      "sys:1: ResourceWarning: unclosed socket <zmq.Socket(zmq.PUSH) at 0x7f6d12caada0>\n",
      "ResourceWarning: Enable tracemalloc to get the object allocation traceback\n",
      "sys:1: ResourceWarning: unclosed socket <zmq.Socket(zmq.PUSH) at 0x7f6d12ca8160>\n",
      "ResourceWarning: Enable tracemalloc to get the object allocation traceback\n",
      "sys:1: ResourceWarning: unclosed socket <zmq.Socket(zmq.PUSH) at 0x7f6cf8566aa0>\n",
      "ResourceWarning: Enable tracemalloc to get the object allocation traceback\n"
     ]
    },
    {
     "name": "stdout",
     "output_type": "stream",
     "text": [
      "\r",
      "[**********************91%*******************    ]  2105 of 2310 completed"
     ]
    },
    {
     "name": "stderr",
     "output_type": "stream",
     "text": [
      "sys:1: ResourceWarning: unclosed socket <zmq.Socket(zmq.PUSH) at 0x7f6d12e5ece0>\n",
      "ResourceWarning: Enable tracemalloc to get the object allocation traceback\n"
     ]
    },
    {
     "name": "stdout",
     "output_type": "stream",
     "text": [
      "[**********************91%*******************    ]  2108 of 2310 completed"
     ]
    },
    {
     "name": "stderr",
     "output_type": "stream",
     "text": [
      "sys:1: ResourceWarning: unclosed socket <zmq.Socket(zmq.PUSH) at 0x7f6cf848bf40>\n",
      "ResourceWarning: Enable tracemalloc to get the object allocation traceback\n",
      "sys:1: ResourceWarning: unclosed socket <zmq.Socket(zmq.PUSH) at 0x7f6d12e7bbe0>\n",
      "ResourceWarning: Enable tracemalloc to get the object allocation traceback\n",
      "sys:1: ResourceWarning: unclosed socket <zmq.Socket(zmq.PUSH) at 0x7f6d12ca8fa0>\n",
      "ResourceWarning: Enable tracemalloc to get the object allocation traceback\n"
     ]
    },
    {
     "name": "stdout",
     "output_type": "stream",
     "text": [
      "[**********************91%*******************    ]  2111 of 2310 completed"
     ]
    },
    {
     "name": "stderr",
     "output_type": "stream",
     "text": [
      "sys:1: ResourceWarning: unclosed socket <zmq.Socket(zmq.PUSH) at 0x7f6d12e7b9a0>\n",
      "ResourceWarning: Enable tracemalloc to get the object allocation traceback\n",
      "sys:1: ResourceWarning: unclosed socket <zmq.Socket(zmq.PUSH) at 0x7f6d12cabe20>\n",
      "ResourceWarning: Enable tracemalloc to get the object allocation traceback\n",
      "sys:1: ResourceWarning: unclosed socket <zmq.Socket(zmq.PUSH) at 0x7f6d12cabe20>\n",
      "ResourceWarning: Enable tracemalloc to get the object allocation traceback\n"
     ]
    },
    {
     "name": "stdout",
     "output_type": "stream",
     "text": [
      "[**********************91%*******************    ]  2113 of 2310 completed"
     ]
    },
    {
     "name": "stderr",
     "output_type": "stream",
     "text": [
      "sys:1: ResourceWarning: unclosed socket <zmq.Socket(zmq.PUSH) at 0x7f6d12caada0>\n",
      "ResourceWarning: Enable tracemalloc to get the object allocation traceback\n",
      "sys:1: ResourceWarning: unclosed socket <zmq.Socket(zmq.PUSH) at 0x7f6cf83742e0>\n",
      "ResourceWarning: Enable tracemalloc to get the object allocation traceback\n"
     ]
    },
    {
     "name": "stdout",
     "output_type": "stream",
     "text": [
      "\r",
      "[**********************92%*******************    ]  2114 of 2310 completed"
     ]
    },
    {
     "name": "stderr",
     "output_type": "stream",
     "text": [
      "sys:1: ResourceWarning: unclosed socket <zmq.Socket(zmq.PUSH) at 0x7f6cf837f160>\n",
      "ResourceWarning: Enable tracemalloc to get the object allocation traceback\n"
     ]
    },
    {
     "name": "stdout",
     "output_type": "stream",
     "text": [
      "[**********************92%*******************    ]  2118 of 2310 completed"
     ]
    },
    {
     "name": "stderr",
     "output_type": "stream",
     "text": [
      "sys:1: ResourceWarning: unclosed socket <zmq.Socket(zmq.PUSH) at 0x7f6cf833bfa0>\n",
      "ResourceWarning: Enable tracemalloc to get the object allocation traceback\n",
      "sys:1: ResourceWarning: unclosed socket <zmq.Socket(zmq.PUSH) at 0x7f6d12cabd60>\n",
      "ResourceWarning: Enable tracemalloc to get the object allocation traceback\n",
      "sys:1: ResourceWarning: unclosed socket <zmq.Socket(zmq.PUSH) at 0x7f6cf8582380>\n",
      "ResourceWarning: Enable tracemalloc to get the object allocation traceback\n",
      "sys:1: ResourceWarning: unclosed socket <zmq.Socket(zmq.PUSH) at 0x7f6cf85813c0>\n",
      "ResourceWarning: Enable tracemalloc to get the object allocation traceback\n"
     ]
    },
    {
     "name": "stdout",
     "output_type": "stream",
     "text": [
      "[**********************92%*******************    ]  2120 of 2310 completed"
     ]
    },
    {
     "name": "stderr",
     "output_type": "stream",
     "text": [
      "sys:1: ResourceWarning: unclosed socket <zmq.Socket(zmq.PUSH) at 0x7f6cf848a560>\n",
      "ResourceWarning: Enable tracemalloc to get the object allocation traceback\n",
      "sys:1: ResourceWarning: unclosed socket <zmq.Socket(zmq.PUSH) at 0x7f6cf848a560>\n",
      "ResourceWarning: Enable tracemalloc to get the object allocation traceback\n"
     ]
    },
    {
     "name": "stdout",
     "output_type": "stream",
     "text": [
      "\r",
      "[**********************92%*******************    ]  2121 of 2310 completed"
     ]
    },
    {
     "name": "stderr",
     "output_type": "stream",
     "text": [
      "sys:1: ResourceWarning: unclosed socket <zmq.Socket(zmq.PUSH) at 0x7f6cf848a560>\n",
      "ResourceWarning: Enable tracemalloc to get the object allocation traceback\n"
     ]
    },
    {
     "name": "stdout",
     "output_type": "stream",
     "text": [
      "\r",
      "[**********************92%*******************    ]  2122 of 2310 completed"
     ]
    },
    {
     "name": "stderr",
     "output_type": "stream",
     "text": [
      "sys:1: ResourceWarning: unclosed socket <zmq.Socket(zmq.PUSH) at 0x7f6d12cab5e0>\n",
      "ResourceWarning: Enable tracemalloc to get the object allocation traceback\n"
     ]
    },
    {
     "name": "stdout",
     "output_type": "stream",
     "text": [
      "\r",
      "[**********************92%*******************    ]  2123 of 2310 completed"
     ]
    },
    {
     "name": "stderr",
     "output_type": "stream",
     "text": [
      "sys:1: ResourceWarning: unclosed socket <zmq.Socket(zmq.PUSH) at 0x7f6cf837dae0>\n",
      "ResourceWarning: Enable tracemalloc to get the object allocation traceback\n"
     ]
    },
    {
     "name": "stdout",
     "output_type": "stream",
     "text": [
      "[**********************92%*******************    ]  2127 of 2310 completed"
     ]
    },
    {
     "name": "stderr",
     "output_type": "stream",
     "text": [
      "sys:1: ResourceWarning: unclosed socket <zmq.Socket(zmq.PUSH) at 0x7f6cf837dae0>\n",
      "ResourceWarning: Enable tracemalloc to get the object allocation traceback\n",
      "sys:1: ResourceWarning: unclosed socket <zmq.Socket(zmq.PUSH) at 0x7f6d12caba00>\n",
      "ResourceWarning: Enable tracemalloc to get the object allocation traceback\n",
      "sys:1: ResourceWarning: unclosed socket <zmq.Socket(zmq.PUSH) at 0x7f6cf848bb20>\n",
      "ResourceWarning: Enable tracemalloc to get the object allocation traceback\n",
      "sys:1: ResourceWarning: unclosed socket <zmq.Socket(zmq.PUSH) at 0x7f6d12e7bbe0>\n",
      "ResourceWarning: Enable tracemalloc to get the object allocation traceback\n"
     ]
    },
    {
     "name": "stdout",
     "output_type": "stream",
     "text": [
      "[**********************92%*******************    ]  2130 of 2310 completed"
     ]
    },
    {
     "name": "stderr",
     "output_type": "stream",
     "text": [
      "sys:1: ResourceWarning: unclosed socket <zmq.Socket(zmq.PUSH) at 0x7f6d12ca8fa0>\n",
      "ResourceWarning: Enable tracemalloc to get the object allocation traceback\n",
      "sys:1: ResourceWarning: unclosed socket <zmq.Socket(zmq.PUSH) at 0x7f6cf848bb20>\n",
      "ResourceWarning: Enable tracemalloc to get the object allocation traceback\n",
      "sys:1: ResourceWarning: unclosed socket <zmq.Socket(zmq.PUSH) at 0x7f6cf848bd00>\n",
      "ResourceWarning: Enable tracemalloc to get the object allocation traceback\n"
     ]
    },
    {
     "name": "stdout",
     "output_type": "stream",
     "text": [
      "\r",
      "[**********************92%*******************    ]  2131 of 2310 completed"
     ]
    },
    {
     "name": "stderr",
     "output_type": "stream",
     "text": [
      "sys:1: ResourceWarning: unclosed socket <zmq.Socket(zmq.PUSH) at 0x7f6cf837e500>\n",
      "ResourceWarning: Enable tracemalloc to get the object allocation traceback\n"
     ]
    },
    {
     "name": "stdout",
     "output_type": "stream",
     "text": [
      "\r",
      "[**********************92%*******************    ]  2132 of 2310 completed"
     ]
    },
    {
     "name": "stderr",
     "output_type": "stream",
     "text": [
      "sys:1: ResourceWarning: unclosed socket <zmq.Socket(zmq.PUSH) at 0x7f6cf8583d60>\n",
      "ResourceWarning: Enable tracemalloc to get the object allocation traceback\n"
     ]
    },
    {
     "name": "stdout",
     "output_type": "stream",
     "text": [
      "[**********************92%*******************    ]  2136 of 2310 completed"
     ]
    },
    {
     "name": "stderr",
     "output_type": "stream",
     "text": [
      "sys:1: ResourceWarning: unclosed socket <zmq.Socket(zmq.PUSH) at 0x7f6cf837f700>\n",
      "ResourceWarning: Enable tracemalloc to get the object allocation traceback\n",
      "sys:1: ResourceWarning: unclosed socket <zmq.Socket(zmq.PUSH) at 0x7f6cf83742e0>\n",
      "ResourceWarning: Enable tracemalloc to get the object allocation traceback\n",
      "sys:1: ResourceWarning: unclosed socket <zmq.Socket(zmq.PUSH) at 0x7f6cf84ee080>\n",
      "ResourceWarning: Enable tracemalloc to get the object allocation traceback\n",
      "sys:1: ResourceWarning: unclosed socket <zmq.Socket(zmq.PUSH) at 0x7f6cf837ec80>\n",
      "ResourceWarning: Enable tracemalloc to get the object allocation traceback\n"
     ]
    },
    {
     "name": "stdout",
     "output_type": "stream",
     "text": [
      "\r",
      "[**********************93%********************   ]  2137 of 2310 completed"
     ]
    },
    {
     "name": "stderr",
     "output_type": "stream",
     "text": [
      "sys:1: ResourceWarning: unclosed socket <zmq.Socket(zmq.PUSH) at 0x7f6cf848a560>\n",
      "ResourceWarning: Enable tracemalloc to get the object allocation traceback\n"
     ]
    },
    {
     "name": "stdout",
     "output_type": "stream",
     "text": [
      "[**********************93%********************   ]  2139 of 2310 completed"
     ]
    },
    {
     "name": "stderr",
     "output_type": "stream",
     "text": [
      "sys:1: ResourceWarning: unclosed socket <zmq.Socket(zmq.PUSH) at 0x7f6cf8583e20>\n",
      "ResourceWarning: Enable tracemalloc to get the object allocation traceback\n",
      "sys:1: ResourceWarning: unclosed socket <zmq.Socket(zmq.PUSH) at 0x7f6cf8582380>\n",
      "ResourceWarning: Enable tracemalloc to get the object allocation traceback\n"
     ]
    },
    {
     "name": "stdout",
     "output_type": "stream",
     "text": [
      "\r",
      "[**********************93%********************   ]  2140 of 2310 completed"
     ]
    },
    {
     "name": "stderr",
     "output_type": "stream",
     "text": [
      "sys:1: ResourceWarning: unclosed socket <zmq.Socket(zmq.PUSH) at 0x7f6cf837e920>\n",
      "ResourceWarning: Enable tracemalloc to get the object allocation traceback\n"
     ]
    },
    {
     "name": "stdout",
     "output_type": "stream",
     "text": [
      "[**********************93%********************   ]  2143 of 2310 completed"
     ]
    },
    {
     "name": "stderr",
     "output_type": "stream",
     "text": [
      "sys:1: ResourceWarning: unclosed socket <zmq.Socket(zmq.PUSH) at 0x7f6cf84effa0>\n",
      "ResourceWarning: Enable tracemalloc to get the object allocation traceback\n",
      "sys:1: ResourceWarning: unclosed socket <zmq.Socket(zmq.PUSH) at 0x7f6d12ca8fa0>\n",
      "ResourceWarning: Enable tracemalloc to get the object allocation traceback\n",
      "sys:1: ResourceWarning: unclosed socket <zmq.Socket(zmq.PUSH) at 0x7f6cf84ef700>\n",
      "ResourceWarning: Enable tracemalloc to get the object allocation traceback\n"
     ]
    },
    {
     "name": "stdout",
     "output_type": "stream",
     "text": [
      "[**********************93%********************   ]  2145 of 2310 completed"
     ]
    },
    {
     "name": "stderr",
     "output_type": "stream",
     "text": [
      "sys:1: ResourceWarning: unclosed socket <zmq.Socket(zmq.PUSH) at 0x7f6d12e786a0>\n",
      "ResourceWarning: Enable tracemalloc to get the object allocation traceback\n",
      "sys:1: ResourceWarning: unclosed socket <zmq.Socket(zmq.PUSH) at 0x7f6cf848a560>\n",
      "ResourceWarning: Enable tracemalloc to get the object allocation traceback\n"
     ]
    },
    {
     "name": "stdout",
     "output_type": "stream",
     "text": [
      "[**********************93%********************   ]  2148 of 2310 completed"
     ]
    },
    {
     "name": "stderr",
     "output_type": "stream",
     "text": [
      "sys:1: ResourceWarning: unclosed socket <zmq.Socket(zmq.PUSH) at 0x7f6cf8583d60>\n",
      "ResourceWarning: Enable tracemalloc to get the object allocation traceback\n",
      "sys:1: ResourceWarning: unclosed socket <zmq.Socket(zmq.PUSH) at 0x7f6cf8583b80>\n",
      "ResourceWarning: Enable tracemalloc to get the object allocation traceback\n",
      "sys:1: ResourceWarning: unclosed socket <zmq.Socket(zmq.PUSH) at 0x7f6cf837dcc0>\n",
      "ResourceWarning: Enable tracemalloc to get the object allocation traceback\n"
     ]
    },
    {
     "name": "stdout",
     "output_type": "stream",
     "text": [
      "\r",
      "[**********************93%********************   ]  2149 of 2310 completed"
     ]
    },
    {
     "name": "stderr",
     "output_type": "stream",
     "text": [
      "sys:1: ResourceWarning: unclosed socket <zmq.Socket(zmq.PUSH) at 0x7f6cf84efe80>\n",
      "ResourceWarning: Enable tracemalloc to get the object allocation traceback\n"
     ]
    },
    {
     "name": "stdout",
     "output_type": "stream",
     "text": [
      "[**********************93%********************   ]  2154 of 2310 completed"
     ]
    },
    {
     "name": "stderr",
     "output_type": "stream",
     "text": [
      "sys:1: ResourceWarning: unclosed socket <zmq.Socket(zmq.PUSH) at 0x7f6cf84ee560>\n",
      "ResourceWarning: Enable tracemalloc to get the object allocation traceback\n",
      "sys:1: ResourceWarning: unclosed socket <zmq.Socket(zmq.PUSH) at 0x7f6cf8623040>\n",
      "ResourceWarning: Enable tracemalloc to get the object allocation traceback\n",
      "sys:1: ResourceWarning: unclosed socket <zmq.Socket(zmq.PUSH) at 0x7f6cf8621420>\n",
      "ResourceWarning: Enable tracemalloc to get the object allocation traceback\n",
      "sys:1: ResourceWarning: unclosed socket <zmq.Socket(zmq.PUSH) at 0x7f6cf837f0a0>\n",
      "ResourceWarning: Enable tracemalloc to get the object allocation traceback\n",
      "sys:1: ResourceWarning: unclosed socket <zmq.Socket(zmq.PUSH) at 0x7f6cf848a560>\n",
      "ResourceWarning: Enable tracemalloc to get the object allocation traceback\n"
     ]
    },
    {
     "name": "stdout",
     "output_type": "stream",
     "text": [
      "[**********************93%********************   ]  2156 of 2310 completed"
     ]
    },
    {
     "name": "stderr",
     "output_type": "stream",
     "text": [
      "sys:1: ResourceWarning: unclosed socket <zmq.Socket(zmq.PUSH) at 0x7f6cf84eec80>\n",
      "ResourceWarning: Enable tracemalloc to get the object allocation traceback\n",
      "sys:1: ResourceWarning: unclosed socket <zmq.Socket(zmq.PUSH) at 0x7f6cf8622800>\n",
      "ResourceWarning: Enable tracemalloc to get the object allocation traceback\n"
     ]
    },
    {
     "name": "stdout",
     "output_type": "stream",
     "text": [
      "\r",
      "[**********************93%********************   ]  2157 of 2310 completed"
     ]
    },
    {
     "name": "stderr",
     "output_type": "stream",
     "text": [
      "sys:1: ResourceWarning: unclosed socket <zmq.Socket(zmq.PUSH) at 0x7f6d12caada0>\n",
      "ResourceWarning: Enable tracemalloc to get the object allocation traceback\n"
     ]
    },
    {
     "name": "stdout",
     "output_type": "stream",
     "text": [
      "[**********************94%********************   ]  2161 of 2310 completed"
     ]
    },
    {
     "name": "stderr",
     "output_type": "stream",
     "text": [
      "sys:1: ResourceWarning: unclosed socket <zmq.Socket(zmq.PUSH) at 0x7f6cf86227a0>\n",
      "ResourceWarning: Enable tracemalloc to get the object allocation traceback\n",
      "sys:1: ResourceWarning: unclosed socket <zmq.Socket(zmq.PUSH) at 0x7f6cf8583b80>\n",
      "ResourceWarning: Enable tracemalloc to get the object allocation traceback\n",
      "sys:1: ResourceWarning: unclosed socket <zmq.Socket(zmq.PUSH) at 0x7f6cf83abe80>\n",
      "ResourceWarning: Enable tracemalloc to get the object allocation traceback\n",
      "sys:1: ResourceWarning: unclosed socket <zmq.Socket(zmq.PUSH) at 0x7f6d12e786a0>\n",
      "ResourceWarning: Enable tracemalloc to get the object allocation traceback\n"
     ]
    },
    {
     "name": "stdout",
     "output_type": "stream",
     "text": [
      "[**********************94%********************   ]  2163 of 2310 completed"
     ]
    },
    {
     "name": "stderr",
     "output_type": "stream",
     "text": [
      "sys:1: ResourceWarning: unclosed socket <zmq.Socket(zmq.PUSH) at 0x7f6cf8622a40>\n",
      "ResourceWarning: Enable tracemalloc to get the object allocation traceback\n",
      "sys:1: ResourceWarning: unclosed socket <zmq.Socket(zmq.PUSH) at 0x7f6cf837e080>\n",
      "ResourceWarning: Enable tracemalloc to get the object allocation traceback\n"
     ]
    },
    {
     "name": "stdout",
     "output_type": "stream",
     "text": [
      "[**********************94%********************   ]  2165 of 2310 completed"
     ]
    },
    {
     "name": "stderr",
     "output_type": "stream",
     "text": [
      "sys:1: ResourceWarning: unclosed socket <zmq.Socket(zmq.PUSH) at 0x7f6cf86234c0>\n",
      "ResourceWarning: Enable tracemalloc to get the object allocation traceback\n",
      "sys:1: ResourceWarning: unclosed socket <zmq.Socket(zmq.PUSH) at 0x7f6cf83abbe0>\n",
      "ResourceWarning: Enable tracemalloc to get the object allocation traceback\n"
     ]
    },
    {
     "name": "stdout",
     "output_type": "stream",
     "text": [
      "\r",
      "[**********************94%********************   ]  2166 of 2310 completed"
     ]
    },
    {
     "name": "stderr",
     "output_type": "stream",
     "text": [
      "sys:1: ResourceWarning: unclosed socket <zmq.Socket(zmq.PUSH) at 0x7f6cf8623100>\n",
      "ResourceWarning: Enable tracemalloc to get the object allocation traceback\n"
     ]
    },
    {
     "name": "stdout",
     "output_type": "stream",
     "text": [
      "[**********************94%********************   ]  2171 of 2310 completed"
     ]
    },
    {
     "name": "stderr",
     "output_type": "stream",
     "text": [
      "sys:1: ResourceWarning: unclosed socket <zmq.Socket(zmq.PUSH) at 0x7f6cf84eec80>\n",
      "ResourceWarning: Enable tracemalloc to get the object allocation traceback\n",
      "sys:1: ResourceWarning: unclosed socket <zmq.Socket(zmq.PUSH) at 0x7f6cf837e500>\n",
      "ResourceWarning: Enable tracemalloc to get the object allocation traceback\n",
      "sys:1: ResourceWarning: unclosed socket <zmq.Socket(zmq.PUSH) at 0x7f6cf83aa020>\n",
      "ResourceWarning: Enable tracemalloc to get the object allocation traceback\n",
      "sys:1: ResourceWarning: unclosed socket <zmq.Socket(zmq.PUSH) at 0x7f6cf84efe80>\n",
      "ResourceWarning: Enable tracemalloc to get the object allocation traceback\n",
      "sys:1: ResourceWarning: unclosed socket <zmq.Socket(zmq.PUSH) at 0x7f6cf848a560>\n",
      "ResourceWarning: Enable tracemalloc to get the object allocation traceback\n"
     ]
    },
    {
     "name": "stdout",
     "output_type": "stream",
     "text": [
      "\r",
      "[**********************94%********************   ]  2172 of 2310 completed"
     ]
    },
    {
     "name": "stderr",
     "output_type": "stream",
     "text": [
      "sys:1: ResourceWarning: unclosed socket <zmq.Socket(zmq.PUSH) at 0x7f6cf837dae0>\n",
      "ResourceWarning: Enable tracemalloc to get the object allocation traceback\n"
     ]
    },
    {
     "name": "stdout",
     "output_type": "stream",
     "text": [
      "[**********************94%********************   ]  2174 of 2310 completed"
     ]
    },
    {
     "name": "stderr",
     "output_type": "stream",
     "text": [
      "sys:1: ResourceWarning: unclosed socket <zmq.Socket(zmq.PUSH) at 0x7f6cf83aa4a0>\n",
      "ResourceWarning: Enable tracemalloc to get the object allocation traceback\n",
      "sys:1: ResourceWarning: unclosed socket <zmq.Socket(zmq.PUSH) at 0x7f6cf837f0a0>\n",
      "ResourceWarning: Enable tracemalloc to get the object allocation traceback\n"
     ]
    },
    {
     "name": "stdout",
     "output_type": "stream",
     "text": [
      "[**********************94%********************   ]  2176 of 2310 completed"
     ]
    },
    {
     "name": "stderr",
     "output_type": "stream",
     "text": [
      "sys:1: ResourceWarning: unclosed socket <zmq.Socket(zmq.PUSH) at 0x7f6cf837f0a0>\n",
      "ResourceWarning: Enable tracemalloc to get the object allocation traceback\n",
      "sys:1: ResourceWarning: unclosed socket <zmq.Socket(zmq.PUSH) at 0x7f6d12cab640>\n",
      "ResourceWarning: Enable tracemalloc to get the object allocation traceback\n"
     ]
    },
    {
     "name": "stdout",
     "output_type": "stream",
     "text": [
      "\r",
      "[**********************94%********************   ]  2177 of 2310 completed"
     ]
    },
    {
     "name": "stderr",
     "output_type": "stream",
     "text": [
      "sys:1: ResourceWarning: unclosed socket <zmq.Socket(zmq.PUSH) at 0x7f6cf8623040>\n",
      "ResourceWarning: Enable tracemalloc to get the object allocation traceback\n"
     ]
    },
    {
     "name": "stdout",
     "output_type": "stream",
     "text": [
      "[**********************94%********************   ]  2180 of 2310 completed"
     ]
    },
    {
     "name": "stderr",
     "output_type": "stream",
     "text": [
      "sys:1: ResourceWarning: unclosed socket <zmq.Socket(zmq.PUSH) at 0x7f6d12cab5e0>\n",
      "ResourceWarning: Enable tracemalloc to get the object allocation traceback\n",
      "sys:1: ResourceWarning: unclosed socket <zmq.Socket(zmq.PUSH) at 0x7f6cf83ab2e0>\n",
      "ResourceWarning: Enable tracemalloc to get the object allocation traceback\n",
      "sys:1: ResourceWarning: unclosed socket <zmq.Socket(zmq.PUSH) at 0x7f6cf837dcc0>\n",
      "ResourceWarning: Enable tracemalloc to get the object allocation traceback\n"
     ]
    },
    {
     "name": "stdout",
     "output_type": "stream",
     "text": [
      "[**********************95%*********************  ]  2183 of 2310 completed"
     ]
    },
    {
     "name": "stderr",
     "output_type": "stream",
     "text": [
      "sys:1: ResourceWarning: unclosed socket <zmq.Socket(zmq.PUSH) at 0x7f6cf83aa4a0>\n",
      "ResourceWarning: Enable tracemalloc to get the object allocation traceback\n",
      "sys:1: ResourceWarning: unclosed socket <zmq.Socket(zmq.PUSH) at 0x7f6cf8622800>\n",
      "ResourceWarning: Enable tracemalloc to get the object allocation traceback\n",
      "sys:1: ResourceWarning: unclosed socket <zmq.Socket(zmq.PUSH) at 0x7f6cf8622800>\n",
      "ResourceWarning: Enable tracemalloc to get the object allocation traceback\n"
     ]
    },
    {
     "name": "stdout",
     "output_type": "stream",
     "text": [
      "[**********************95%*********************  ]  2185 of 2310 completed"
     ]
    },
    {
     "name": "stderr",
     "output_type": "stream",
     "text": [
      "sys:1: ResourceWarning: unclosed socket <zmq.Socket(zmq.PUSH) at 0x7f6d11ee33a0>\n",
      "ResourceWarning: Enable tracemalloc to get the object allocation traceback\n",
      "sys:1: ResourceWarning: unclosed socket <zmq.Socket(zmq.PUSH) at 0x7f6d12cab640>\n",
      "ResourceWarning: Enable tracemalloc to get the object allocation traceback\n"
     ]
    },
    {
     "name": "stdout",
     "output_type": "stream",
     "text": [
      "\r",
      "[**********************95%*********************  ]  2186 of 2310 completed"
     ]
    },
    {
     "name": "stderr",
     "output_type": "stream",
     "text": [
      "sys:1: ResourceWarning: unclosed socket <zmq.Socket(zmq.PUSH) at 0x7f6d12cab5e0>\n",
      "ResourceWarning: Enable tracemalloc to get the object allocation traceback\n"
     ]
    },
    {
     "name": "stdout",
     "output_type": "stream",
     "text": [
      "[**********************95%*********************  ]  2192 of 2310 completed"
     ]
    },
    {
     "name": "stderr",
     "output_type": "stream",
     "text": [
      "sys:1: ResourceWarning: unclosed socket <zmq.Socket(zmq.PUSH) at 0x7f6cf837e080>\n",
      "ResourceWarning: Enable tracemalloc to get the object allocation traceback\n",
      "sys:1: ResourceWarning: unclosed socket <zmq.Socket(zmq.PUSH) at 0x7f6cf837e500>\n",
      "ResourceWarning: Enable tracemalloc to get the object allocation traceback\n",
      "sys:1: ResourceWarning: unclosed socket <zmq.Socket(zmq.PUSH) at 0x7f6d11ee23e0>\n",
      "ResourceWarning: Enable tracemalloc to get the object allocation traceback\n",
      "sys:1: ResourceWarning: unclosed socket <zmq.Socket(zmq.PUSH) at 0x7f6cf837dcc0>\n",
      "ResourceWarning: Enable tracemalloc to get the object allocation traceback\n",
      "sys:1: ResourceWarning: unclosed socket <zmq.Socket(zmq.PUSH) at 0x7f6cf8622800>\n",
      "ResourceWarning: Enable tracemalloc to get the object allocation traceback\n",
      "sys:1: ResourceWarning: unclosed socket <zmq.Socket(zmq.PUSH) at 0x7f6cf837f8e0>\n",
      "ResourceWarning: Enable tracemalloc to get the object allocation traceback\n"
     ]
    },
    {
     "name": "stdout",
     "output_type": "stream",
     "text": [
      "[**********************95%*********************  ]  2194 of 2310 completed"
     ]
    },
    {
     "name": "stderr",
     "output_type": "stream",
     "text": [
      "sys:1: ResourceWarning: unclosed socket <zmq.Socket(zmq.PUSH) at 0x7f6cf84ee860>\n",
      "ResourceWarning: Enable tracemalloc to get the object allocation traceback\n",
      "sys:1: ResourceWarning: unclosed socket <zmq.Socket(zmq.PUSH) at 0x7f6d12caada0>\n",
      "ResourceWarning: Enable tracemalloc to get the object allocation traceback\n"
     ]
    },
    {
     "name": "stdout",
     "output_type": "stream",
     "text": [
      "[**********************95%*********************  ]  2198 of 2310 completed"
     ]
    },
    {
     "name": "stderr",
     "output_type": "stream",
     "text": [
      "sys:1: ResourceWarning: unclosed socket <zmq.Socket(zmq.PUSH) at 0x7f6cf83abe80>\n",
      "ResourceWarning: Enable tracemalloc to get the object allocation traceback\n",
      "sys:1: ResourceWarning: unclosed socket <zmq.Socket(zmq.PUSH) at 0x7f6cf84ee5c0>\n",
      "ResourceWarning: Enable tracemalloc to get the object allocation traceback\n",
      "sys:1: ResourceWarning: unclosed socket <zmq.Socket(zmq.PUSH) at 0x7f6d12e7bbe0>\n",
      "ResourceWarning: Enable tracemalloc to get the object allocation traceback\n",
      "sys:1: ResourceWarning: unclosed socket <zmq.Socket(zmq.PUSH) at 0x7f6cf837ec80>\n",
      "ResourceWarning: Enable tracemalloc to get the object allocation traceback\n"
     ]
    },
    {
     "name": "stdout",
     "output_type": "stream",
     "text": [
      "[**********************95%*********************  ]  2201 of 2310 completed"
     ]
    },
    {
     "name": "stderr",
     "output_type": "stream",
     "text": [
      "sys:1: ResourceWarning: unclosed socket <zmq.Socket(zmq.PUSH) at 0x7f6cf837f0a0>\n",
      "ResourceWarning: Enable tracemalloc to get the object allocation traceback\n",
      "sys:1: ResourceWarning: unclosed socket <zmq.Socket(zmq.PUSH) at 0x7f6cf8583e20>\n",
      "ResourceWarning: Enable tracemalloc to get the object allocation traceback\n",
      "sys:1: ResourceWarning: unclosed socket <zmq.Socket(zmq.PUSH) at 0x7f6cf833bfa0>\n",
      "ResourceWarning: Enable tracemalloc to get the object allocation traceback\n"
     ]
    },
    {
     "name": "stdout",
     "output_type": "stream",
     "text": [
      "[**********************95%*********************  ]  2203 of 2310 completed"
     ]
    },
    {
     "name": "stderr",
     "output_type": "stream",
     "text": [
      "sys:1: ResourceWarning: unclosed socket <zmq.Socket(zmq.PUSH) at 0x7f6cf84ef6a0>\n",
      "ResourceWarning: Enable tracemalloc to get the object allocation traceback\n",
      "sys:1: ResourceWarning: unclosed socket <zmq.Socket(zmq.PUSH) at 0x7f6d11ee23e0>\n",
      "ResourceWarning: Enable tracemalloc to get the object allocation traceback\n"
     ]
    },
    {
     "name": "stdout",
     "output_type": "stream",
     "text": [
      "[**********************96%*********************  ]  2207 of 2310 completed"
     ]
    },
    {
     "name": "stderr",
     "output_type": "stream",
     "text": [
      "sys:1: ResourceWarning: unclosed socket <zmq.Socket(zmq.PUSH) at 0x7f6cf837e500>\n",
      "ResourceWarning: Enable tracemalloc to get the object allocation traceback\n",
      "sys:1: ResourceWarning: unclosed socket <zmq.Socket(zmq.PUSH) at 0x7f6cf837ece0>\n",
      "ResourceWarning: Enable tracemalloc to get the object allocation traceback\n",
      "sys:1: ResourceWarning: unclosed socket <zmq.Socket(zmq.PUSH) at 0x7f6d11ee3640>\n",
      "ResourceWarning: Enable tracemalloc to get the object allocation traceback\n",
      "sys:1: ResourceWarning: unclosed socket <zmq.Socket(zmq.PUSH) at 0x7f6cf837f8e0>\n",
      "ResourceWarning: Enable tracemalloc to get the object allocation traceback\n"
     ]
    },
    {
     "name": "stdout",
     "output_type": "stream",
     "text": [
      "\r",
      "[**********************96%*********************  ]  2208 of 2310 completed"
     ]
    },
    {
     "name": "stderr",
     "output_type": "stream",
     "text": [
      "sys:1: ResourceWarning: unclosed socket <zmq.Socket(zmq.PUSH) at 0x7f6d12caada0>\n",
      "ResourceWarning: Enable tracemalloc to get the object allocation traceback\n"
     ]
    },
    {
     "name": "stdout",
     "output_type": "stream",
     "text": [
      "[**********************96%*********************  ]  2212 of 2310 completed"
     ]
    },
    {
     "name": "stderr",
     "output_type": "stream",
     "text": [
      "sys:1: ResourceWarning: unclosed socket <zmq.Socket(zmq.PUSH) at 0x7f6cf837f8e0>\n",
      "ResourceWarning: Enable tracemalloc to get the object allocation traceback\n",
      "sys:1: ResourceWarning: unclosed socket <zmq.Socket(zmq.PUSH) at 0x7f6cf86232e0>\n",
      "ResourceWarning: Enable tracemalloc to get the object allocation traceback\n",
      "sys:1: ResourceWarning: unclosed socket <zmq.Socket(zmq.PUSH) at 0x7f6cf86232e0>\n",
      "ResourceWarning: Enable tracemalloc to get the object allocation traceback\n",
      "sys:1: ResourceWarning: unclosed socket <zmq.Socket(zmq.PUSH) at 0x7f6cf84ef6a0>\n",
      "ResourceWarning: Enable tracemalloc to get the object allocation traceback\n"
     ]
    },
    {
     "name": "stdout",
     "output_type": "stream",
     "text": [
      "[**********************96%*********************  ]  2214 of 2310 completed"
     ]
    },
    {
     "name": "stderr",
     "output_type": "stream",
     "text": [
      "sys:1: ResourceWarning: unclosed socket <zmq.Socket(zmq.PUSH) at 0x7f6cf8273760>\n",
      "ResourceWarning: Enable tracemalloc to get the object allocation traceback\n",
      "sys:1: ResourceWarning: unclosed socket <zmq.Socket(zmq.PUSH) at 0x7f6d12cb72e0>\n",
      "ResourceWarning: Enable tracemalloc to get the object allocation traceback\n"
     ]
    },
    {
     "name": "stdout",
     "output_type": "stream",
     "text": [
      "[**********************96%*********************  ]  2216 of 2310 completed"
     ]
    },
    {
     "name": "stderr",
     "output_type": "stream",
     "text": [
      "sys:1: ResourceWarning: unclosed socket <zmq.Socket(zmq.PUSH) at 0x7f6cf8273760>\n",
      "ResourceWarning: Enable tracemalloc to get the object allocation traceback\n",
      "sys:1: ResourceWarning: unclosed socket <zmq.Socket(zmq.PUSH) at 0x7f6cf84ef6a0>\n",
      "ResourceWarning: Enable tracemalloc to get the object allocation traceback\n"
     ]
    },
    {
     "name": "stdout",
     "output_type": "stream",
     "text": [
      "[**********************96%*********************  ]  2218 of 2310 completed"
     ]
    },
    {
     "name": "stderr",
     "output_type": "stream",
     "text": [
      "sys:1: ResourceWarning: unclosed socket <zmq.Socket(zmq.PUSH) at 0x7f6cf86232e0>\n",
      "ResourceWarning: Enable tracemalloc to get the object allocation traceback\n",
      "sys:1: ResourceWarning: unclosed socket <zmq.Socket(zmq.PUSH) at 0x7f6d11ee3880>\n",
      "ResourceWarning: Enable tracemalloc to get the object allocation traceback\n"
     ]
    },
    {
     "name": "stdout",
     "output_type": "stream",
     "text": [
      "[**********************96%*********************  ]  2220 of 2310 completed"
     ]
    },
    {
     "name": "stderr",
     "output_type": "stream",
     "text": [
      "sys:1: ResourceWarning: unclosed socket <zmq.Socket(zmq.PUSH) at 0x7f6d11ee3e20>\n",
      "ResourceWarning: Enable tracemalloc to get the object allocation traceback\n",
      "sys:1: ResourceWarning: unclosed socket <zmq.Socket(zmq.PUSH) at 0x7f6cf83742e0>\n",
      "ResourceWarning: Enable tracemalloc to get the object allocation traceback\n"
     ]
    },
    {
     "name": "stdout",
     "output_type": "stream",
     "text": [
      "[**********************96%*********************  ]  2224 of 2310 completed"
     ]
    },
    {
     "name": "stderr",
     "output_type": "stream",
     "text": [
      "sys:1: ResourceWarning: unclosed socket <zmq.Socket(zmq.PUSH) at 0x7f6cf8273400>\n",
      "ResourceWarning: Enable tracemalloc to get the object allocation traceback\n",
      "sys:1: ResourceWarning: unclosed socket <zmq.Socket(zmq.PUSH) at 0x7f6d12cabd60>\n",
      "ResourceWarning: Enable tracemalloc to get the object allocation traceback\n",
      "sys:1: ResourceWarning: unclosed socket <zmq.Socket(zmq.PUSH) at 0x7f6cf8273400>\n",
      "ResourceWarning: Enable tracemalloc to get the object allocation traceback\n",
      "sys:1: ResourceWarning: unclosed socket <zmq.Socket(zmq.PUSH) at 0x7f6d12cb6ce0>\n",
      "ResourceWarning: Enable tracemalloc to get the object allocation traceback\n"
     ]
    },
    {
     "name": "stdout",
     "output_type": "stream",
     "text": [
      "[**********************96%*********************  ]  2226 of 2310 completed"
     ]
    },
    {
     "name": "stderr",
     "output_type": "stream",
     "text": [
      "sys:1: ResourceWarning: unclosed socket <zmq.Socket(zmq.PUSH) at 0x7f6cf8272a40>\n",
      "ResourceWarning: Enable tracemalloc to get the object allocation traceback\n",
      "sys:1: ResourceWarning: unclosed socket <zmq.Socket(zmq.PUSH) at 0x7f6d11ee3e20>\n",
      "ResourceWarning: Enable tracemalloc to get the object allocation traceback\n"
     ]
    },
    {
     "name": "stdout",
     "output_type": "stream",
     "text": [
      "[**********************96%*********************  ]  2228 of 2310 completed"
     ]
    },
    {
     "name": "stderr",
     "output_type": "stream",
     "text": [
      "sys:1: ResourceWarning: unclosed socket <zmq.Socket(zmq.PUSH) at 0x7f6d12cab5e0>\n",
      "ResourceWarning: Enable tracemalloc to get the object allocation traceback\n",
      "sys:1: ResourceWarning: unclosed socket <zmq.Socket(zmq.PUSH) at 0x7f6cf837ec80>\n",
      "ResourceWarning: Enable tracemalloc to get the object allocation traceback\n"
     ]
    },
    {
     "name": "stdout",
     "output_type": "stream",
     "text": [
      "\r",
      "[**********************96%*********************  ]  2229 of 2310 completed"
     ]
    },
    {
     "name": "stderr",
     "output_type": "stream",
     "text": [
      "sys:1: ResourceWarning: unclosed socket <zmq.Socket(zmq.PUSH) at 0x7f6cf83aa9e0>\n",
      "ResourceWarning: Enable tracemalloc to get the object allocation traceback\n"
     ]
    },
    {
     "name": "stdout",
     "output_type": "stream",
     "text": [
      "[**********************97%********************** ]  2233 of 2310 completed"
     ]
    },
    {
     "name": "stderr",
     "output_type": "stream",
     "text": [
      "sys:1: ResourceWarning: unclosed socket <zmq.Socket(zmq.PUSH) at 0x7f6cf829fd60>\n",
      "ResourceWarning: Enable tracemalloc to get the object allocation traceback\n",
      "sys:1: ResourceWarning: unclosed socket <zmq.Socket(zmq.PUSH) at 0x7f6cf8273760>\n",
      "ResourceWarning: Enable tracemalloc to get the object allocation traceback\n",
      "sys:1: ResourceWarning: unclosed socket <zmq.Socket(zmq.PUSH) at 0x7f6d12cb6da0>\n",
      "ResourceWarning: Enable tracemalloc to get the object allocation traceback\n",
      "sys:1: ResourceWarning: unclosed socket <zmq.Socket(zmq.PUSH) at 0x7f6cf83abe80>\n",
      "ResourceWarning: Enable tracemalloc to get the object allocation traceback\n"
     ]
    },
    {
     "name": "stdout",
     "output_type": "stream",
     "text": [
      "[**********************97%********************** ]  2235 of 2310 completed"
     ]
    },
    {
     "name": "stderr",
     "output_type": "stream",
     "text": [
      "sys:1: ResourceWarning: unclosed socket <zmq.Socket(zmq.PUSH) at 0x7f6d11ee3880>\n",
      "ResourceWarning: Enable tracemalloc to get the object allocation traceback\n",
      "sys:1: ResourceWarning: unclosed socket <zmq.Socket(zmq.PUSH) at 0x7f6d12ca99c0>\n",
      "ResourceWarning: Enable tracemalloc to get the object allocation traceback\n"
     ]
    },
    {
     "name": "stdout",
     "output_type": "stream",
     "text": [
      "\r",
      "[**********************97%********************** ]  2236 of 2310 completed"
     ]
    },
    {
     "name": "stderr",
     "output_type": "stream",
     "text": [
      "sys:1: ResourceWarning: unclosed socket <zmq.Socket(zmq.PUSH) at 0x7f6d12ca99c0>\n",
      "ResourceWarning: Enable tracemalloc to get the object allocation traceback\n"
     ]
    },
    {
     "name": "stdout",
     "output_type": "stream",
     "text": [
      "[**********************97%********************** ]  2238 of 2310 completed"
     ]
    },
    {
     "name": "stderr",
     "output_type": "stream",
     "text": [
      "sys:1: ResourceWarning: unclosed socket <zmq.Socket(zmq.PUSH) at 0x7f6cf837dcc0>\n",
      "ResourceWarning: Enable tracemalloc to get the object allocation traceback\n",
      "sys:1: ResourceWarning: unclosed socket <zmq.Socket(zmq.PUSH) at 0x7f6cf829ee60>\n",
      "ResourceWarning: Enable tracemalloc to get the object allocation traceback\n"
     ]
    },
    {
     "name": "stdout",
     "output_type": "stream",
     "text": [
      "\r",
      "[**********************97%********************** ]  2239 of 2310 completed"
     ]
    },
    {
     "name": "stderr",
     "output_type": "stream",
     "text": [
      "sys:1: ResourceWarning: unclosed socket <zmq.Socket(zmq.PUSH) at 0x7f6cf86232e0>\n",
      "ResourceWarning: Enable tracemalloc to get the object allocation traceback\n"
     ]
    },
    {
     "name": "stdout",
     "output_type": "stream",
     "text": [
      "[**********************97%********************** ]  2241 of 2310 completed"
     ]
    },
    {
     "name": "stderr",
     "output_type": "stream",
     "text": [
      "sys:1: ResourceWarning: unclosed socket <zmq.Socket(zmq.PUSH) at 0x7f6d12cb7ee0>\n",
      "ResourceWarning: Enable tracemalloc to get the object allocation traceback\n",
      "sys:1: ResourceWarning: unclosed socket <zmq.Socket(zmq.PUSH) at 0x7f6cf829f0a0>\n",
      "ResourceWarning: Enable tracemalloc to get the object allocation traceback\n"
     ]
    },
    {
     "name": "stdout",
     "output_type": "stream",
     "text": [
      "[**********************97%********************** ]  2243 of 2310 completed"
     ]
    },
    {
     "name": "stderr",
     "output_type": "stream",
     "text": [
      "sys:1: ResourceWarning: unclosed socket <zmq.Socket(zmq.PUSH) at 0x7f6d12ccaf80>\n",
      "ResourceWarning: Enable tracemalloc to get the object allocation traceback\n",
      "sys:1: ResourceWarning: unclosed socket <zmq.Socket(zmq.PUSH) at 0x7f6d11ee3e20>\n",
      "ResourceWarning: Enable tracemalloc to get the object allocation traceback\n"
     ]
    },
    {
     "name": "stdout",
     "output_type": "stream",
     "text": [
      "[**********************97%********************** ]  2245 of 2310 completed"
     ]
    },
    {
     "name": "stderr",
     "output_type": "stream",
     "text": [
      "sys:1: ResourceWarning: unclosed socket <zmq.Socket(zmq.PUSH) at 0x7f6d12ca99c0>\n",
      "ResourceWarning: Enable tracemalloc to get the object allocation traceback\n",
      "sys:1: ResourceWarning: unclosed socket <zmq.Socket(zmq.PUSH) at 0x7f6d12cb6ce0>\n",
      "ResourceWarning: Enable tracemalloc to get the object allocation traceback\n"
     ]
    },
    {
     "name": "stdout",
     "output_type": "stream",
     "text": [
      "[**********************97%********************** ]  2249 of 2310 completed"
     ]
    },
    {
     "name": "stderr",
     "output_type": "stream",
     "text": [
      "sys:1: ResourceWarning: unclosed socket <zmq.Socket(zmq.PUSH) at 0x7f6cf829ebc0>\n",
      "ResourceWarning: Enable tracemalloc to get the object allocation traceback\n",
      "sys:1: ResourceWarning: unclosed socket <zmq.Socket(zmq.PUSH) at 0x7f6cf8271b40>\n",
      "ResourceWarning: Enable tracemalloc to get the object allocation traceback\n",
      "sys:1: ResourceWarning: unclosed socket <zmq.Socket(zmq.PUSH) at 0x7f6cf837dcc0>\n",
      "ResourceWarning: Enable tracemalloc to get the object allocation traceback\n",
      "sys:1: ResourceWarning: unclosed socket <zmq.Socket(zmq.PUSH) at 0x7f6cf837dcc0>\n",
      "ResourceWarning: Enable tracemalloc to get the object allocation traceback\n"
     ]
    },
    {
     "name": "stdout",
     "output_type": "stream",
     "text": [
      "[**********************97%********************** ]  2251 of 2310 completed"
     ]
    },
    {
     "name": "stderr",
     "output_type": "stream",
     "text": [
      "sys:1: ResourceWarning: unclosed socket <zmq.Socket(zmq.PUSH) at 0x7f6cf833bfa0>\n",
      "ResourceWarning: Enable tracemalloc to get the object allocation traceback\n",
      "sys:1: ResourceWarning: unclosed socket <zmq.Socket(zmq.PUSH) at 0x7f6cf829f0a0>\n",
      "ResourceWarning: Enable tracemalloc to get the object allocation traceback\n"
     ]
    },
    {
     "name": "stdout",
     "output_type": "stream",
     "text": [
      "\r",
      "[**********************97%********************** ]  2252 of 2310 completed"
     ]
    },
    {
     "name": "stderr",
     "output_type": "stream",
     "text": [
      "sys:1: ResourceWarning: unclosed socket <zmq.Socket(zmq.PUSH) at 0x7f6cf829efe0>\n",
      "ResourceWarning: Enable tracemalloc to get the object allocation traceback\n"
     ]
    },
    {
     "name": "stdout",
     "output_type": "stream",
     "text": [
      "[**********************98%********************** ]  2254 of 2310 completed"
     ]
    },
    {
     "name": "stderr",
     "output_type": "stream",
     "text": [
      "sys:1: ResourceWarning: unclosed socket <zmq.Socket(zmq.PUSH) at 0x7f6d12cab5e0>\n",
      "ResourceWarning: Enable tracemalloc to get the object allocation traceback\n",
      "sys:1: ResourceWarning: unclosed socket <zmq.Socket(zmq.PUSH) at 0x7f6cf829efe0>\n",
      "ResourceWarning: Enable tracemalloc to get the object allocation traceback\n"
     ]
    },
    {
     "name": "stdout",
     "output_type": "stream",
     "text": [
      "[**********************98%********************** ]  2256 of 2310 completed"
     ]
    },
    {
     "name": "stderr",
     "output_type": "stream",
     "text": [
      "sys:1: ResourceWarning: unclosed socket <zmq.Socket(zmq.PUSH) at 0x7f6d11ee3ca0>\n",
      "ResourceWarning: Enable tracemalloc to get the object allocation traceback\n",
      "sys:1: ResourceWarning: unclosed socket <zmq.Socket(zmq.PUSH) at 0x7f6cf84efdc0>\n",
      "ResourceWarning: Enable tracemalloc to get the object allocation traceback\n"
     ]
    },
    {
     "name": "stdout",
     "output_type": "stream",
     "text": [
      "[**********************98%********************** ]  2259 of 2310 completed"
     ]
    },
    {
     "name": "stderr",
     "output_type": "stream",
     "text": [
      "sys:1: ResourceWarning: unclosed socket <zmq.Socket(zmq.PUSH) at 0x7f6d12cb62c0>\n",
      "ResourceWarning: Enable tracemalloc to get the object allocation traceback\n",
      "sys:1: ResourceWarning: unclosed socket <zmq.Socket(zmq.PUSH) at 0x7f6cf829ebc0>\n",
      "ResourceWarning: Enable tracemalloc to get the object allocation traceback\n",
      "sys:1: ResourceWarning: unclosed socket <zmq.Socket(zmq.PUSH) at 0x7f6d12cb62c0>\n",
      "ResourceWarning: Enable tracemalloc to get the object allocation traceback\n"
     ]
    },
    {
     "name": "stdout",
     "output_type": "stream",
     "text": [
      "[**********************98%********************** ]  2261 of 2310 completed"
     ]
    },
    {
     "name": "stderr",
     "output_type": "stream",
     "text": [
      "sys:1: ResourceWarning: unclosed socket <zmq.Socket(zmq.PUSH) at 0x7f6cf829f760>\n",
      "ResourceWarning: Enable tracemalloc to get the object allocation traceback\n",
      "sys:1: ResourceWarning: unclosed socket <zmq.Socket(zmq.PUSH) at 0x7f6cf8623100>\n",
      "ResourceWarning: Enable tracemalloc to get the object allocation traceback\n"
     ]
    },
    {
     "name": "stdout",
     "output_type": "stream",
     "text": [
      "[**********************98%********************** ]  2264 of 2310 completed"
     ]
    },
    {
     "name": "stderr",
     "output_type": "stream",
     "text": [
      "sys:1: ResourceWarning: unclosed socket <zmq.Socket(zmq.PUSH) at 0x7f6cf8272d40>\n",
      "ResourceWarning: Enable tracemalloc to get the object allocation traceback\n",
      "sys:1: ResourceWarning: unclosed socket <zmq.Socket(zmq.PUSH) at 0x7f6cf8272d40>\n",
      "ResourceWarning: Enable tracemalloc to get the object allocation traceback\n",
      "sys:1: ResourceWarning: unclosed socket <zmq.Socket(zmq.PUSH) at 0x7f6d12cb7d60>\n",
      "ResourceWarning: Enable tracemalloc to get the object allocation traceback\n"
     ]
    },
    {
     "name": "stdout",
     "output_type": "stream",
     "text": [
      "[**********************98%********************** ]  2267 of 2310 completed"
     ]
    },
    {
     "name": "stderr",
     "output_type": "stream",
     "text": [
      "sys:1: ResourceWarning: unclosed socket <zmq.Socket(zmq.PUSH) at 0x7f6d11ee3460>\n",
      "ResourceWarning: Enable tracemalloc to get the object allocation traceback\n",
      "sys:1: ResourceWarning: unclosed socket <zmq.Socket(zmq.PUSH) at 0x7f6cf8272e60>\n",
      "ResourceWarning: Enable tracemalloc to get the object allocation traceback\n",
      "sys:1: ResourceWarning: unclosed socket <zmq.Socket(zmq.PUSH) at 0x7f6d11ee3ca0>\n",
      "ResourceWarning: Enable tracemalloc to get the object allocation traceback\n"
     ]
    },
    {
     "name": "stdout",
     "output_type": "stream",
     "text": [
      "\r",
      "[**********************98%********************** ]  2268 of 2310 completed"
     ]
    },
    {
     "name": "stderr",
     "output_type": "stream",
     "text": [
      "sys:1: ResourceWarning: unclosed socket <zmq.Socket(zmq.PUSH) at 0x7f6d12ccbac0>\n",
      "ResourceWarning: Enable tracemalloc to get the object allocation traceback\n"
     ]
    },
    {
     "name": "stdout",
     "output_type": "stream",
     "text": [
      "[**********************98%********************** ]  2271 of 2310 completed"
     ]
    },
    {
     "name": "stderr",
     "output_type": "stream",
     "text": [
      "sys:1: ResourceWarning: unclosed socket <zmq.Socket(zmq.PUSH) at 0x7f6cf848a560>\n",
      "ResourceWarning: Enable tracemalloc to get the object allocation traceback\n",
      "sys:1: ResourceWarning: unclosed socket <zmq.Socket(zmq.PUSH) at 0x7f6cf8583b80>\n",
      "ResourceWarning: Enable tracemalloc to get the object allocation traceback\n",
      "sys:1: ResourceWarning: unclosed socket <zmq.Socket(zmq.PUSH) at 0x7f6d12ca99c0>\n",
      "ResourceWarning: Enable tracemalloc to get the object allocation traceback\n"
     ]
    },
    {
     "name": "stdout",
     "output_type": "stream",
     "text": [
      "[**********************98%********************** ]  2273 of 2310 completed"
     ]
    },
    {
     "name": "stderr",
     "output_type": "stream",
     "text": [
      "sys:1: ResourceWarning: unclosed socket <zmq.Socket(zmq.PUSH) at 0x7f6d12cb7d60>\n",
      "ResourceWarning: Enable tracemalloc to get the object allocation traceback\n",
      "sys:1: ResourceWarning: unclosed socket <zmq.Socket(zmq.PUSH) at 0x7f6cf83aa9e0>\n",
      "ResourceWarning: Enable tracemalloc to get the object allocation traceback\n"
     ]
    },
    {
     "name": "stdout",
     "output_type": "stream",
     "text": [
      "[**********************99%***********************]  2276 of 2310 completed"
     ]
    },
    {
     "name": "stderr",
     "output_type": "stream",
     "text": [
      "sys:1: ResourceWarning: unclosed socket <zmq.Socket(zmq.PUSH) at 0x7f6d11ee3460>\n",
      "ResourceWarning: Enable tracemalloc to get the object allocation traceback\n",
      "sys:1: ResourceWarning: unclosed socket <zmq.Socket(zmq.PUSH) at 0x7f6cf829ee60>\n",
      "ResourceWarning: Enable tracemalloc to get the object allocation traceback\n",
      "sys:1: ResourceWarning: unclosed socket <zmq.Socket(zmq.PUSH) at 0x7f6cf829f400>\n",
      "ResourceWarning: Enable tracemalloc to get the object allocation traceback\n"
     ]
    },
    {
     "name": "stdout",
     "output_type": "stream",
     "text": [
      "\r",
      "[**********************99%***********************]  2277 of 2310 completed"
     ]
    },
    {
     "name": "stderr",
     "output_type": "stream",
     "text": [
      "sys:1: ResourceWarning: unclosed socket <zmq.Socket(zmq.PUSH) at 0x7f6cf848a560>\n",
      "ResourceWarning: Enable tracemalloc to get the object allocation traceback\n"
     ]
    },
    {
     "name": "stdout",
     "output_type": "stream",
     "text": [
      "[**********************99%***********************]  2281 of 2310 completed"
     ]
    },
    {
     "name": "stderr",
     "output_type": "stream",
     "text": [
      "sys:1: ResourceWarning: unclosed socket <zmq.Socket(zmq.PUSH) at 0x7f6cf82cbe20>\n",
      "ResourceWarning: Enable tracemalloc to get the object allocation traceback\n",
      "sys:1: ResourceWarning: unclosed socket <zmq.Socket(zmq.PUSH) at 0x7f6cf8583e20>\n",
      "ResourceWarning: Enable tracemalloc to get the object allocation traceback\n",
      "sys:1: ResourceWarning: unclosed socket <zmq.Socket(zmq.PUSH) at 0x7f6d12cb7340>\n",
      "ResourceWarning: Enable tracemalloc to get the object allocation traceback\n",
      "sys:1: ResourceWarning: unclosed socket <zmq.Socket(zmq.PUSH) at 0x7f6cf833bfa0>\n",
      "ResourceWarning: Enable tracemalloc to get the object allocation traceback\n"
     ]
    },
    {
     "name": "stdout",
     "output_type": "stream",
     "text": [
      "\r",
      "[**********************99%***********************]  2282 of 2310 completed"
     ]
    },
    {
     "name": "stderr",
     "output_type": "stream",
     "text": [
      "sys:1: ResourceWarning: unclosed socket <zmq.Socket(zmq.PUSH) at 0x7f6cf848b280>\n",
      "ResourceWarning: Enable tracemalloc to get the object allocation traceback\n"
     ]
    },
    {
     "name": "stdout",
     "output_type": "stream",
     "text": [
      "[**********************99%***********************]  2285 of 2310 completed"
     ]
    },
    {
     "name": "stderr",
     "output_type": "stream",
     "text": [
      "sys:1: ResourceWarning: unclosed socket <zmq.Socket(zmq.PUSH) at 0x7f6d11ee23e0>\n",
      "ResourceWarning: Enable tracemalloc to get the object allocation traceback\n",
      "sys:1: ResourceWarning: unclosed socket <zmq.Socket(zmq.PUSH) at 0x7f6d11ee23e0>\n",
      "ResourceWarning: Enable tracemalloc to get the object allocation traceback\n",
      "sys:1: ResourceWarning: unclosed socket <zmq.Socket(zmq.PUSH) at 0x7f6d11ee23e0>\n",
      "ResourceWarning: Enable tracemalloc to get the object allocation traceback\n"
     ]
    },
    {
     "name": "stdout",
     "output_type": "stream",
     "text": [
      "[**********************99%***********************]  2287 of 2310 completed"
     ]
    },
    {
     "name": "stderr",
     "output_type": "stream",
     "text": [
      "sys:1: ResourceWarning: unclosed socket <zmq.Socket(zmq.PUSH) at 0x7f6d12cc9480>\n",
      "ResourceWarning: Enable tracemalloc to get the object allocation traceback\n",
      "sys:1: ResourceWarning: unclosed socket <zmq.Socket(zmq.PUSH) at 0x7f6d11ee3ac0>\n",
      "ResourceWarning: Enable tracemalloc to get the object allocation traceback\n"
     ]
    },
    {
     "name": "stdout",
     "output_type": "stream",
     "text": [
      "[**********************99%***********************]  2290 of 2310 completed"
     ]
    },
    {
     "name": "stderr",
     "output_type": "stream",
     "text": [
      "sys:1: ResourceWarning: unclosed socket <zmq.Socket(zmq.PUSH) at 0x7f6cf82c90c0>\n",
      "ResourceWarning: Enable tracemalloc to get the object allocation traceback\n",
      "sys:1: ResourceWarning: unclosed socket <zmq.Socket(zmq.PUSH) at 0x7f6cf8622a40>\n",
      "ResourceWarning: Enable tracemalloc to get the object allocation traceback\n",
      "sys:1: ResourceWarning: unclosed socket <zmq.Socket(zmq.PUSH) at 0x7f6d12ccb8e0>\n",
      "ResourceWarning: Enable tracemalloc to get the object allocation traceback\n"
     ]
    },
    {
     "name": "stdout",
     "output_type": "stream",
     "text": [
      "[**********************99%***********************]  2293 of 2310 completed"
     ]
    },
    {
     "name": "stderr",
     "output_type": "stream",
     "text": [
      "sys:1: ResourceWarning: unclosed socket <zmq.Socket(zmq.PUSH) at 0x7f6cf82cab00>\n",
      "ResourceWarning: Enable tracemalloc to get the object allocation traceback\n",
      "sys:1: ResourceWarning: unclosed socket <zmq.Socket(zmq.PUSH) at 0x7f6d12cb7340>\n",
      "ResourceWarning: Enable tracemalloc to get the object allocation traceback\n",
      "sys:1: ResourceWarning: unclosed socket <zmq.Socket(zmq.PUSH) at 0x7f6d12cdfc40>\n",
      "ResourceWarning: Enable tracemalloc to get the object allocation traceback\n"
     ]
    },
    {
     "name": "stdout",
     "output_type": "stream",
     "text": [
      "[**********************99%***********************]  2298 of 2310 completed"
     ]
    },
    {
     "name": "stderr",
     "output_type": "stream",
     "text": [
      "sys:1: ResourceWarning: unclosed socket <zmq.Socket(zmq.PUSH) at 0x7f6cf8327be0>\n",
      "ResourceWarning: Enable tracemalloc to get the object allocation traceback\n",
      "sys:1: ResourceWarning: unclosed socket <zmq.Socket(zmq.PUSH) at 0x7f6d12cb7ee0>\n",
      "ResourceWarning: Enable tracemalloc to get the object allocation traceback\n",
      "sys:1: ResourceWarning: unclosed socket <zmq.Socket(zmq.PUSH) at 0x7f6cf848a560>\n",
      "ResourceWarning: Enable tracemalloc to get the object allocation traceback\n",
      "sys:1: ResourceWarning: unclosed socket <zmq.Socket(zmq.PUSH) at 0x7f6cf848b280>\n",
      "ResourceWarning: Enable tracemalloc to get the object allocation traceback\n",
      "sys:1: ResourceWarning: unclosed socket <zmq.Socket(zmq.PUSH) at 0x7f6cf86232e0>\n",
      "ResourceWarning: Enable tracemalloc to get the object allocation traceback\n"
     ]
    },
    {
     "name": "stdout",
     "output_type": "stream",
     "text": [
      "[*********************100%***********************]  2301 of 2310 completed"
     ]
    },
    {
     "name": "stderr",
     "output_type": "stream",
     "text": [
      "sys:1: ResourceWarning: unclosed socket <zmq.Socket(zmq.PUSH) at 0x7f6cf833bfa0>\n",
      "ResourceWarning: Enable tracemalloc to get the object allocation traceback\n",
      "sys:1: ResourceWarning: unclosed socket <zmq.Socket(zmq.PUSH) at 0x7f6d12cdd3c0>\n",
      "ResourceWarning: Enable tracemalloc to get the object allocation traceback\n",
      "sys:1: ResourceWarning: unclosed socket <zmq.Socket(zmq.PUSH) at 0x7f6cf837fe20>\n",
      "ResourceWarning: Enable tracemalloc to get the object allocation traceback\n"
     ]
    },
    {
     "name": "stdout",
     "output_type": "stream",
     "text": [
      "[*********************100%***********************]  2303 of 2310 completed"
     ]
    },
    {
     "name": "stderr",
     "output_type": "stream",
     "text": [
      "sys:1: ResourceWarning: unclosed socket <zmq.Socket(zmq.PUSH) at 0x7f6cf833bfa0>\n",
      "ResourceWarning: Enable tracemalloc to get the object allocation traceback\n",
      "sys:1: ResourceWarning: unclosed socket <zmq.Socket(zmq.PUSH) at 0x7f6d12cb7d60>\n",
      "ResourceWarning: Enable tracemalloc to get the object allocation traceback\n"
     ]
    },
    {
     "name": "stdout",
     "output_type": "stream",
     "text": [
      "[*********************100%***********************]  2307 of 2310 completed"
     ]
    },
    {
     "name": "stderr",
     "output_type": "stream",
     "text": [
      "sys:1: ResourceWarning: unclosed socket <zmq.Socket(zmq.PUSH) at 0x7f6d12cc9c00>\n",
      "ResourceWarning: Enable tracemalloc to get the object allocation traceback\n",
      "sys:1: ResourceWarning: unclosed socket <zmq.Socket(zmq.PUSH) at 0x7f6d12cb7ee0>\n",
      "ResourceWarning: Enable tracemalloc to get the object allocation traceback\n",
      "sys:1: ResourceWarning: unclosed socket <zmq.Socket(zmq.PUSH) at 0x7f6d12cb7d60>\n",
      "ResourceWarning: Enable tracemalloc to get the object allocation traceback\n",
      "sys:1: ResourceWarning: unclosed socket <zmq.Socket(zmq.PUSH) at 0x7f6cf829f400>\n",
      "ResourceWarning: Enable tracemalloc to get the object allocation traceback\n"
     ]
    },
    {
     "name": "stdout",
     "output_type": "stream",
     "text": [
      "[*********************100%***********************]  2310 of 2310 completed\n",
      "\n",
      "2 Failed downloads:\n",
      "- MJJ: No data found, symbol may be delisted\n",
      "- REML: No data found, symbol may be delisted\n"
     ]
    },
    {
     "name": "stderr",
     "output_type": "stream",
     "text": [
      "sys:1: ResourceWarning: unclosed socket <zmq.Socket(zmq.PUSH) at 0x7f6d12cde5c0>\n",
      "ResourceWarning: Enable tracemalloc to get the object allocation traceback\n",
      "sys:1: ResourceWarning: unclosed socket <zmq.Socket(zmq.PUSH) at 0x7f6d12cb6c80>\n",
      "ResourceWarning: Enable tracemalloc to get the object allocation traceback\n"
     ]
    }
   ],
   "source": [
    "funds_historical_data = yf.download(list(fund_names), period=\"5y\")"
   ]
  },
  {
   "cell_type": "code",
   "execution_count": 5,
   "id": "56497443",
   "metadata": {},
   "outputs": [],
   "source": [
    "funds_historical_data[\"Adj Close\"].to_csv(\"etf_funds/historical_data_new_5y.csv\")\n",
    "funds_historical_data[\"Volume\"].to_csv(\"etf_funds/volume_new_5y.csv\")"
   ]
  },
  {
   "cell_type": "code",
   "execution_count": 6,
   "id": "5356eb3d",
   "metadata": {},
   "outputs": [],
   "source": [
    "file_df = pd.read_csv(\"etf_funds/historical_data_new_5y.csv\")\n",
    "volume_df = pd.read_csv(\"etf_funds/volume_new_5y.csv\")"
   ]
  },
  {
   "cell_type": "code",
   "execution_count": 7,
   "id": "02627023",
   "metadata": {},
   "outputs": [],
   "source": [
    "fund_names = list(file_df.columns[1:].values)\n",
    "fund_returns = []\n",
    "fund_vol  = []\n",
    "fund_sharpe = []\n",
    "fund_volume = []\n",
    "\n",
    "\n",
    "for fund in fund_names:\n",
    "    fund_list = file_df[fund].values\n",
    "    fund_return = (fund_list[-1] - fund_list[0]) / fund_list[0]\n",
    "    fund_volatility = file_df[fund].pct_change().std() * np.sqrt(252)\n",
    "    fund_mean_daily_volume = volume_df[fund].mean()\n",
    "    \n",
    "    fund_returns.append(fund_return)\n",
    "    fund_vol.append(fund_volatility)\n",
    "    fund_sharpe.append(fund_return / fund_volatility)\n",
    "    fund_volume.append(fund_mean_daily_volume)\n",
    " "
   ]
  },
  {
   "cell_type": "code",
   "execution_count": 8,
   "id": "142facb3",
   "metadata": {},
   "outputs": [],
   "source": [
    "df_final = pd.DataFrame(data={ \n",
    "    \"Symbol\": fund_names, \n",
    "    \"Return\": fund_returns, \n",
    "    \"Volatility\": fund_vol, \n",
    "    \"Sharpe\": fund_sharpe,\n",
    "    \"Volume\": fund_volume\n",
    "})"
   ]
  },
  {
   "cell_type": "code",
   "execution_count": 9,
   "id": "f1231c28",
   "metadata": {},
   "outputs": [],
   "source": [
    "# Removendo fundos que já encerraram as operações\n",
    "df_final = df_final.dropna()"
   ]
  },
  {
   "cell_type": "code",
   "execution_count": 10,
   "id": "54024a76",
   "metadata": {},
   "outputs": [
    {
     "data": {
      "text/html": [
       "<div>\n",
       "<style scoped>\n",
       "    .dataframe tbody tr th:only-of-type {\n",
       "        vertical-align: middle;\n",
       "    }\n",
       "\n",
       "    .dataframe tbody tr th {\n",
       "        vertical-align: top;\n",
       "    }\n",
       "\n",
       "    .dataframe thead th {\n",
       "        text-align: right;\n",
       "    }\n",
       "</style>\n",
       "<table border=\"1\" class=\"dataframe\">\n",
       "  <thead>\n",
       "    <tr style=\"text-align: right;\">\n",
       "      <th></th>\n",
       "      <th>Symbol</th>\n",
       "      <th>Return</th>\n",
       "      <th>Volatility</th>\n",
       "      <th>Sharpe</th>\n",
       "      <th>Volume</th>\n",
       "    </tr>\n",
       "  </thead>\n",
       "  <tbody>\n",
       "    <tr>\n",
       "      <th>2</th>\n",
       "      <td>AADR</td>\n",
       "      <td>-0.138521</td>\n",
       "      <td>0.244183</td>\n",
       "      <td>-0.567284</td>\n",
       "      <td>1.431660e+04</td>\n",
       "    </tr>\n",
       "    <tr>\n",
       "      <th>3</th>\n",
       "      <td>AAXJ</td>\n",
       "      <td>-0.113130</td>\n",
       "      <td>0.227159</td>\n",
       "      <td>-0.498020</td>\n",
       "      <td>1.246921e+06</td>\n",
       "    </tr>\n",
       "    <tr>\n",
       "      <th>7</th>\n",
       "      <td>ACSI</td>\n",
       "      <td>0.556156</td>\n",
       "      <td>0.206869</td>\n",
       "      <td>2.688447</td>\n",
       "      <td>1.581096e+03</td>\n",
       "    </tr>\n",
       "    <tr>\n",
       "      <th>10</th>\n",
       "      <td>ACWF</td>\n",
       "      <td>0.181302</td>\n",
       "      <td>0.202850</td>\n",
       "      <td>0.893772</td>\n",
       "      <td>2.369555e+04</td>\n",
       "    </tr>\n",
       "    <tr>\n",
       "      <th>11</th>\n",
       "      <td>ACWI</td>\n",
       "      <td>0.359218</td>\n",
       "      <td>0.202702</td>\n",
       "      <td>1.772148</td>\n",
       "      <td>3.582106e+06</td>\n",
       "    </tr>\n",
       "    <tr>\n",
       "      <th>...</th>\n",
       "      <td>...</td>\n",
       "      <td>...</td>\n",
       "      <td>...</td>\n",
       "      <td>...</td>\n",
       "      <td>...</td>\n",
       "    </tr>\n",
       "    <tr>\n",
       "      <th>2303</th>\n",
       "      <td>YXI</td>\n",
       "      <td>0.017341</td>\n",
       "      <td>0.293103</td>\n",
       "      <td>0.059164</td>\n",
       "      <td>1.373058e+04</td>\n",
       "    </tr>\n",
       "    <tr>\n",
       "      <th>2304</th>\n",
       "      <td>YYY</td>\n",
       "      <td>-0.119523</td>\n",
       "      <td>0.170868</td>\n",
       "      <td>-0.699505</td>\n",
       "      <td>1.168822e+05</td>\n",
       "    </tr>\n",
       "    <tr>\n",
       "      <th>2307</th>\n",
       "      <td>ZIVZF</td>\n",
       "      <td>-0.687064</td>\n",
       "      <td>0.437079</td>\n",
       "      <td>-1.571945</td>\n",
       "      <td>4.897133e+04</td>\n",
       "    </tr>\n",
       "    <tr>\n",
       "      <th>2308</th>\n",
       "      <td>ZROZ</td>\n",
       "      <td>-0.203576</td>\n",
       "      <td>0.225650</td>\n",
       "      <td>-0.902173</td>\n",
       "      <td>7.098832e+04</td>\n",
       "    </tr>\n",
       "    <tr>\n",
       "      <th>2309</th>\n",
       "      <td>ZSL</td>\n",
       "      <td>-0.793106</td>\n",
       "      <td>1.504778</td>\n",
       "      <td>-0.527059</td>\n",
       "      <td>1.610987e+05</td>\n",
       "    </tr>\n",
       "  </tbody>\n",
       "</table>\n",
       "<p>1303 rows × 5 columns</p>\n",
       "</div>"
      ],
      "text/plain": [
       "     Symbol    Return  Volatility    Sharpe        Volume\n",
       "2      AADR -0.138521    0.244183 -0.567284  1.431660e+04\n",
       "3      AAXJ -0.113130    0.227159 -0.498020  1.246921e+06\n",
       "7      ACSI  0.556156    0.206869  2.688447  1.581096e+03\n",
       "10     ACWF  0.181302    0.202850  0.893772  2.369555e+04\n",
       "11     ACWI  0.359218    0.202702  1.772148  3.582106e+06\n",
       "...     ...       ...         ...       ...           ...\n",
       "2303    YXI  0.017341    0.293103  0.059164  1.373058e+04\n",
       "2304    YYY -0.119523    0.170868 -0.699505  1.168822e+05\n",
       "2307  ZIVZF -0.687064    0.437079 -1.571945  4.897133e+04\n",
       "2308   ZROZ -0.203576    0.225650 -0.902173  7.098832e+04\n",
       "2309    ZSL -0.793106    1.504778 -0.527059  1.610987e+05\n",
       "\n",
       "[1303 rows x 5 columns]"
      ]
     },
     "execution_count": 10,
     "metadata": {},
     "output_type": "execute_result"
    }
   ],
   "source": [
    "df_final"
   ]
  },
  {
   "cell_type": "code",
   "execution_count": 24,
   "id": "27cc134a",
   "metadata": {},
   "outputs": [],
   "source": [
    "# Recorte Volume\n",
    "corte_volume = df_final[\"Volume\"].quantile(0.2)\n",
    "\n",
    "df_recorte_volume = df_final[df_final[\"Volume\"] > corte_volume]"
   ]
  },
  {
   "cell_type": "code",
   "execution_count": 25,
   "id": "643ad4e1",
   "metadata": {},
   "outputs": [],
   "source": [
    "# Recorte Sharpe\n",
    "corte_sharpe_acima = df_final[\"Sharpe\"].quantile(0.15)\n",
    "corte_sharpe_abaixo = df_final[\"Sharpe\"].quantile(0.85)\n",
    "\n",
    "df_recorte_sharpe = df_final[\n",
    "    (df_final[\"Sharpe\"] > corte_sharpe_acima) & \\\n",
    "    (df_final[\"Sharpe\"] < corte_sharpe_abaixo)\n",
    "]"
   ]
  },
  {
   "cell_type": "code",
   "execution_count": 26,
   "id": "b0c2d2ee",
   "metadata": {},
   "outputs": [],
   "source": [
    "# Recorte Sharpe-Volume\n",
    "df_recorte_sharpe_volume = df_final[\n",
    "    (df_final[\"Volume\"] > corte_volume) & \\\n",
    "    (df_final[\"Sharpe\"] > corte_sharpe_acima) & \\\n",
    "    (df_final[\"Sharpe\"] < corte_sharpe_abaixo)\n",
    "]"
   ]
  },
  {
   "cell_type": "code",
   "execution_count": null,
   "id": "09b75f6f",
   "metadata": {},
   "outputs": [],
   "source": [
    "# fund_holdings = {}\n",
    "# unique_assets = []\n",
    "# error_list = []\n",
    "\n",
    "# for index, fund in enumerate(list(df_final[\"Symbol\"].values)):\n",
    "#     try:\n",
    "#         asset = yf.Ticker(fund)\n",
    "#         holdings_info = asset.get_info()['holdings']\n",
    "#         holdings = {}\n",
    "        \n",
    "#         for holding in holdings_info:\n",
    "#             holdings[holding[\"holdingName\"]] = holding[\"holdingPercent\"]\n",
    "#             unique_assets.append(holding[\"holdingName\"])\n",
    "        \n",
    "#         fund_holdings[fund] = holdings\n",
    "#         if (index % 100 == 0):\n",
    "#             print(index)\n",
    "#     except:\n",
    "#         error_list.append(fund)"
   ]
  },
  {
   "cell_type": "code",
   "execution_count": null,
   "id": "06d81008",
   "metadata": {},
   "outputs": [],
   "source": [
    "# f = open('fund_holdings.pckl', 'wb')\n",
    "# pickle.dump(fund_holdings, f)\n",
    "# f.close()\n",
    "\n",
    "# f = open('unique_assets.pckl', 'wb')\n",
    "# pickle.dump(list(set(unique_assets)), f)\n",
    "# f.close()\n",
    "\n",
    "# f = open('error_list.pckl', 'wb')\n",
    "# pickle.dump(error_list, f)\n",
    "# f.close()"
   ]
  },
  {
   "cell_type": "code",
   "execution_count": 14,
   "id": "588da6f4",
   "metadata": {},
   "outputs": [],
   "source": [
    "f = open('error_list.pckl', 'rb')\n",
    "error_list = pickle.load(f)\n",
    "f.close()\n",
    "\n",
    "f = open('unique_assets.pckl', 'rb')\n",
    "unique_assets = pickle.load(f)\n",
    "f.close()\n",
    "\n",
    "f = open('fund_holdings.pckl', 'rb')\n",
    "fund_holdings = pickle.load(f)\n",
    "f.close()"
   ]
  },
  {
   "cell_type": "code",
   "execution_count": 15,
   "id": "da788ea6",
   "metadata": {},
   "outputs": [],
   "source": [
    "def gera_csv(error_list, unique_assets, fund_holdings, df, nome_arquivo):\n",
    "    matrix = pd.DataFrame(columns=list(set(unique_assets)), index=fund_holdings.keys())\n",
    "    matrix.fillna(0, inplace=True)\n",
    "\n",
    "    invalid_funds = []\n",
    "\n",
    "    for fund in fund_holdings:\n",
    "        for asset in fund_holdings[fund]:\n",
    "            if fund_holdings[fund][asset] > 1:\n",
    "                invalid_funds.append(fund)\n",
    "            matrix.loc[fund, asset] = fund_holdings[fund][asset]\n",
    "    \n",
    "    matrix = matrix.drop(list(set(invalid_funds)))\n",
    "    \n",
    "    distances = pd.DataFrame(squareform(pdist(matrix, 'euclidean')), columns=matrix.index, index=matrix.index)\n",
    "    \n",
    "    media_jrg = distances.mean().mean() - 0.8 * distances.std().mean()\n",
    "    \n",
    "    g = Graph(directed=False) # não-dirigido\n",
    "    \n",
    "    for fund in fund_holdings.keys():\n",
    "        try:\n",
    "            g.add_vertex(fund)\n",
    "        except:\n",
    "            print(fund)\n",
    "    \n",
    "    for row, col in distances.iterrows():\n",
    "        for index, value in col.items():\n",
    "            if row == index: \n",
    "                continue\n",
    "\n",
    "            if value > media_jrg:\n",
    "                continue\n",
    "\n",
    "            try:\n",
    "                g.add_edge(row, index)\n",
    "            except:\n",
    "                pass\n",
    "    \n",
    "    g = gt_clean(g)\n",
    "    \n",
    "    bc, _ = centrality.betweenness(g)\n",
    "    g.add_vp('betweenness', bc)\n",
    "    gt_data(g).loc[:, :].sort_values('betweenness', ascending=False)\n",
    "    \n",
    "    matrix = spectral.adjacency(g)\n",
    "\n",
    "    algorithm = cpnet.Rossa()\n",
    "    algorithm.detect(matrix)\n",
    "    c = algorithm.get_coreness()\n",
    "\n",
    "    g.add_vp('coreness')\n",
    "    for i, coreness in c.items():\n",
    "        v = g.get_vertex_by_index(i)\n",
    "        v['coreness'] = float(coreness)\n",
    "    \n",
    "    lc = clustering.local_clustering(g)\n",
    "    g.add_vp('clustering', lc)\n",
    "    \n",
    "    ntw_metrics = gt_data(g)\n",
    "    \n",
    "    metrics = pd.merge(df[['Symbol','Return', 'Volatility', 'Sharpe', 'Volume']], ntw_metrics, left_on='Symbol', right_on='id', how='inner')\n",
    "    \n",
    "    metrics.to_csv(f\"{nome_arquivo}.csv\")"
   ]
  },
  {
   "cell_type": "code",
   "execution_count": 16,
   "id": "6f56968f",
   "metadata": {},
   "outputs": [],
   "source": [
    "gera_csv(error_list, unique_assets, fund_holdings, df_final, \"metrics_new\")"
   ]
  },
  {
   "cell_type": "code",
   "execution_count": 28,
   "id": "5e8a5be8",
   "metadata": {},
   "outputs": [],
   "source": [
    "gera_csv(error_list, unique_assets, fund_holdings, df_recorte_sharpe, \"metrics_sharpe\")"
   ]
  },
  {
   "cell_type": "code",
   "execution_count": 29,
   "id": "bde67057",
   "metadata": {},
   "outputs": [],
   "source": [
    "gera_csv(error_list, unique_assets, fund_holdings, df_recorte_volume, \"metrics_volume\")"
   ]
  },
  {
   "cell_type": "code",
   "execution_count": 27,
   "id": "606f1f1e",
   "metadata": {},
   "outputs": [],
   "source": [
    "gera_csv(error_list, unique_assets, fund_holdings, df_recorte_sharpe_volume, \"metrics_sharpe_volume\")"
   ]
  },
  {
   "cell_type": "code",
   "execution_count": 18,
   "id": "4deccd22",
   "metadata": {},
   "outputs": [],
   "source": [
    "matrix = pd.DataFrame(columns=list(set(unique_assets)), index=fund_holdings.keys())\n",
    "matrix.fillna(0, inplace=True)\n",
    "\n",
    "invalid_funds = []\n",
    "\n",
    "for fund in fund_holdings:\n",
    "    for asset in fund_holdings[fund]:\n",
    "        if fund_holdings[fund][asset] > 1:\n",
    "            invalid_funds.append(fund)\n",
    "        matrix.loc[fund, asset] = fund_holdings[fund][asset]"
   ]
  },
  {
   "cell_type": "code",
   "execution_count": 19,
   "id": "a351b2c3",
   "metadata": {},
   "outputs": [],
   "source": [
    "matrix = matrix.drop(list(set(invalid_funds)))"
   ]
  },
  {
   "cell_type": "code",
   "execution_count": 20,
   "id": "0fbf4e1f",
   "metadata": {},
   "outputs": [
    {
     "data": {
      "text/html": [
       "<div>\n",
       "<style scoped>\n",
       "    .dataframe tbody tr th:only-of-type {\n",
       "        vertical-align: middle;\n",
       "    }\n",
       "\n",
       "    .dataframe tbody tr th {\n",
       "        vertical-align: top;\n",
       "    }\n",
       "\n",
       "    .dataframe thead th {\n",
       "        text-align: right;\n",
       "    }\n",
       "</style>\n",
       "<table border=\"1\" class=\"dataframe\">\n",
       "  <thead>\n",
       "    <tr style=\"text-align: right;\">\n",
       "      <th></th>\n",
       "      <th>AAA</th>\n",
       "      <th>AAAU</th>\n",
       "      <th>AADR</th>\n",
       "      <th>AAXJ</th>\n",
       "      <th>ABEQ</th>\n",
       "      <th>ACES</th>\n",
       "      <th>ACIO</th>\n",
       "      <th>ACSI</th>\n",
       "      <th>ACTV</th>\n",
       "      <th>ACVF</th>\n",
       "      <th>...</th>\n",
       "      <th>YLDE</th>\n",
       "      <th>YMAR</th>\n",
       "      <th>YOLO</th>\n",
       "      <th>YPS</th>\n",
       "      <th>YXI</th>\n",
       "      <th>YYY</th>\n",
       "      <th>ZHDG</th>\n",
       "      <th>ZIG</th>\n",
       "      <th>ZROZ</th>\n",
       "      <th>ZSL</th>\n",
       "    </tr>\n",
       "  </thead>\n",
       "  <tbody>\n",
       "    <tr>\n",
       "      <th>AAA</th>\n",
       "      <td>0.000000</td>\n",
       "      <td>1.012001</td>\n",
       "      <td>0.205556</td>\n",
       "      <td>0.195133</td>\n",
       "      <td>0.230977</td>\n",
       "      <td>0.223306</td>\n",
       "      <td>0.203392</td>\n",
       "      <td>0.229159</td>\n",
       "      <td>0.181673</td>\n",
       "      <td>0.177798</td>\n",
       "      <td>...</td>\n",
       "      <td>0.189402</td>\n",
       "      <td>0.971054</td>\n",
       "      <td>0.390675</td>\n",
       "      <td>0.157000</td>\n",
       "      <td>0.479807</td>\n",
       "      <td>0.208836</td>\n",
       "      <td>0.155390</td>\n",
       "      <td>0.219455</td>\n",
       "      <td>0.163359</td>\n",
       "      <td>0.972715</td>\n",
       "    </tr>\n",
       "    <tr>\n",
       "      <th>AAAU</th>\n",
       "      <td>1.012001</td>\n",
       "      <td>0.000000</td>\n",
       "      <td>1.009013</td>\n",
       "      <td>1.006941</td>\n",
       "      <td>1.014497</td>\n",
       "      <td>1.012778</td>\n",
       "      <td>1.008574</td>\n",
       "      <td>1.014085</td>\n",
       "      <td>1.004420</td>\n",
       "      <td>1.003726</td>\n",
       "      <td>...</td>\n",
       "      <td>1.005846</td>\n",
       "      <td>1.385208</td>\n",
       "      <td>1.062300</td>\n",
       "      <td>1.000251</td>\n",
       "      <td>1.098211</td>\n",
       "      <td>1.009686</td>\n",
       "      <td>1.000000</td>\n",
       "      <td>1.011936</td>\n",
       "      <td>1.001269</td>\n",
       "      <td>1.386372</td>\n",
       "    </tr>\n",
       "    <tr>\n",
       "      <th>AADR</th>\n",
       "      <td>0.205556</td>\n",
       "      <td>1.009013</td>\n",
       "      <td>0.000000</td>\n",
       "      <td>0.178992</td>\n",
       "      <td>0.217512</td>\n",
       "      <td>0.209348</td>\n",
       "      <td>0.187961</td>\n",
       "      <td>0.215580</td>\n",
       "      <td>0.164214</td>\n",
       "      <td>0.159917</td>\n",
       "      <td>...</td>\n",
       "      <td>0.172726</td>\n",
       "      <td>0.967940</td>\n",
       "      <td>0.382868</td>\n",
       "      <td>0.136419</td>\n",
       "      <td>0.473472</td>\n",
       "      <td>0.193839</td>\n",
       "      <td>0.134563</td>\n",
       "      <td>0.205236</td>\n",
       "      <td>0.143692</td>\n",
       "      <td>0.969606</td>\n",
       "    </tr>\n",
       "    <tr>\n",
       "      <th>AAXJ</th>\n",
       "      <td>0.195133</td>\n",
       "      <td>1.006941</td>\n",
       "      <td>0.178992</td>\n",
       "      <td>0.000000</td>\n",
       "      <td>0.207690</td>\n",
       "      <td>0.199124</td>\n",
       "      <td>0.176502</td>\n",
       "      <td>0.205666</td>\n",
       "      <td>0.150963</td>\n",
       "      <td>0.146277</td>\n",
       "      <td>...</td>\n",
       "      <td>0.160180</td>\n",
       "      <td>0.965780</td>\n",
       "      <td>0.377375</td>\n",
       "      <td>0.120141</td>\n",
       "      <td>0.469041</td>\n",
       "      <td>0.182749</td>\n",
       "      <td>0.118029</td>\n",
       "      <td>0.194796</td>\n",
       "      <td>0.128340</td>\n",
       "      <td>0.967450</td>\n",
       "    </tr>\n",
       "    <tr>\n",
       "      <th>ABEQ</th>\n",
       "      <td>0.230977</td>\n",
       "      <td>1.014497</td>\n",
       "      <td>0.217512</td>\n",
       "      <td>0.207690</td>\n",
       "      <td>0.000000</td>\n",
       "      <td>0.234358</td>\n",
       "      <td>0.215468</td>\n",
       "      <td>0.239942</td>\n",
       "      <td>0.195098</td>\n",
       "      <td>0.181068</td>\n",
       "      <td>...</td>\n",
       "      <td>0.202315</td>\n",
       "      <td>0.973655</td>\n",
       "      <td>0.397096</td>\n",
       "      <td>0.172358</td>\n",
       "      <td>0.485049</td>\n",
       "      <td>0.220615</td>\n",
       "      <td>0.170893</td>\n",
       "      <td>0.230692</td>\n",
       "      <td>0.178170</td>\n",
       "      <td>0.975311</td>\n",
       "    </tr>\n",
       "    <tr>\n",
       "      <th>...</th>\n",
       "      <td>...</td>\n",
       "      <td>...</td>\n",
       "      <td>...</td>\n",
       "      <td>...</td>\n",
       "      <td>...</td>\n",
       "      <td>...</td>\n",
       "      <td>...</td>\n",
       "      <td>...</td>\n",
       "      <td>...</td>\n",
       "      <td>...</td>\n",
       "      <td>...</td>\n",
       "      <td>...</td>\n",
       "      <td>...</td>\n",
       "      <td>...</td>\n",
       "      <td>...</td>\n",
       "      <td>...</td>\n",
       "      <td>...</td>\n",
       "      <td>...</td>\n",
       "      <td>...</td>\n",
       "      <td>...</td>\n",
       "      <td>...</td>\n",
       "    </tr>\n",
       "    <tr>\n",
       "      <th>YYY</th>\n",
       "      <td>0.208836</td>\n",
       "      <td>1.009686</td>\n",
       "      <td>0.193839</td>\n",
       "      <td>0.182749</td>\n",
       "      <td>0.220615</td>\n",
       "      <td>0.212569</td>\n",
       "      <td>0.191543</td>\n",
       "      <td>0.218710</td>\n",
       "      <td>0.168301</td>\n",
       "      <td>0.164111</td>\n",
       "      <td>...</td>\n",
       "      <td>0.176616</td>\n",
       "      <td>0.968642</td>\n",
       "      <td>0.384639</td>\n",
       "      <td>0.141312</td>\n",
       "      <td>0.474905</td>\n",
       "      <td>0.000000</td>\n",
       "      <td>0.139522</td>\n",
       "      <td>0.208521</td>\n",
       "      <td>0.148346</td>\n",
       "      <td>0.970306</td>\n",
       "    </tr>\n",
       "    <tr>\n",
       "      <th>ZHDG</th>\n",
       "      <td>0.155390</td>\n",
       "      <td>1.000000</td>\n",
       "      <td>0.134563</td>\n",
       "      <td>0.118029</td>\n",
       "      <td>0.170893</td>\n",
       "      <td>0.160372</td>\n",
       "      <td>0.131233</td>\n",
       "      <td>0.168427</td>\n",
       "      <td>0.094122</td>\n",
       "      <td>0.086406</td>\n",
       "      <td>...</td>\n",
       "      <td>0.108290</td>\n",
       "      <td>0.958541</td>\n",
       "      <td>0.358442</td>\n",
       "      <td>0.022424</td>\n",
       "      <td>0.453948</td>\n",
       "      <td>0.139522</td>\n",
       "      <td>0.000000</td>\n",
       "      <td>0.154966</td>\n",
       "      <td>0.050400</td>\n",
       "      <td>0.960223</td>\n",
       "    </tr>\n",
       "    <tr>\n",
       "      <th>ZIG</th>\n",
       "      <td>0.219455</td>\n",
       "      <td>1.011936</td>\n",
       "      <td>0.205236</td>\n",
       "      <td>0.194796</td>\n",
       "      <td>0.230692</td>\n",
       "      <td>0.223011</td>\n",
       "      <td>0.203068</td>\n",
       "      <td>0.228871</td>\n",
       "      <td>0.181310</td>\n",
       "      <td>0.177427</td>\n",
       "      <td>...</td>\n",
       "      <td>0.189054</td>\n",
       "      <td>0.970987</td>\n",
       "      <td>0.390507</td>\n",
       "      <td>0.156580</td>\n",
       "      <td>0.479670</td>\n",
       "      <td>0.208521</td>\n",
       "      <td>0.154966</td>\n",
       "      <td>0.000000</td>\n",
       "      <td>0.162956</td>\n",
       "      <td>0.972647</td>\n",
       "    </tr>\n",
       "    <tr>\n",
       "      <th>ZROZ</th>\n",
       "      <td>0.163359</td>\n",
       "      <td>1.001269</td>\n",
       "      <td>0.143692</td>\n",
       "      <td>0.128340</td>\n",
       "      <td>0.178170</td>\n",
       "      <td>0.168105</td>\n",
       "      <td>0.140579</td>\n",
       "      <td>0.175806</td>\n",
       "      <td>0.106767</td>\n",
       "      <td>0.100031</td>\n",
       "      <td>...</td>\n",
       "      <td>0.119444</td>\n",
       "      <td>0.959865</td>\n",
       "      <td>0.361968</td>\n",
       "      <td>0.055163</td>\n",
       "      <td>0.456737</td>\n",
       "      <td>0.148346</td>\n",
       "      <td>0.050400</td>\n",
       "      <td>0.162956</td>\n",
       "      <td>0.000000</td>\n",
       "      <td>0.961545</td>\n",
       "    </tr>\n",
       "    <tr>\n",
       "      <th>ZSL</th>\n",
       "      <td>0.972715</td>\n",
       "      <td>1.386372</td>\n",
       "      <td>0.969606</td>\n",
       "      <td>0.967450</td>\n",
       "      <td>0.975311</td>\n",
       "      <td>0.973523</td>\n",
       "      <td>0.969149</td>\n",
       "      <td>0.974882</td>\n",
       "      <td>0.964825</td>\n",
       "      <td>0.964103</td>\n",
       "      <td>...</td>\n",
       "      <td>0.966310</td>\n",
       "      <td>1.356771</td>\n",
       "      <td>1.024943</td>\n",
       "      <td>0.960485</td>\n",
       "      <td>1.062119</td>\n",
       "      <td>0.970306</td>\n",
       "      <td>0.960223</td>\n",
       "      <td>0.972647</td>\n",
       "      <td>0.961545</td>\n",
       "      <td>0.000000</td>\n",
       "    </tr>\n",
       "  </tbody>\n",
       "</table>\n",
       "<p>2127 rows × 2127 columns</p>\n",
       "</div>"
      ],
      "text/plain": [
       "           AAA      AAAU      AADR      AAXJ      ABEQ      ACES      ACIO  \\\n",
       "AAA   0.000000  1.012001  0.205556  0.195133  0.230977  0.223306  0.203392   \n",
       "AAAU  1.012001  0.000000  1.009013  1.006941  1.014497  1.012778  1.008574   \n",
       "AADR  0.205556  1.009013  0.000000  0.178992  0.217512  0.209348  0.187961   \n",
       "AAXJ  0.195133  1.006941  0.178992  0.000000  0.207690  0.199124  0.176502   \n",
       "ABEQ  0.230977  1.014497  0.217512  0.207690  0.000000  0.234358  0.215468   \n",
       "...        ...       ...       ...       ...       ...       ...       ...   \n",
       "YYY   0.208836  1.009686  0.193839  0.182749  0.220615  0.212569  0.191543   \n",
       "ZHDG  0.155390  1.000000  0.134563  0.118029  0.170893  0.160372  0.131233   \n",
       "ZIG   0.219455  1.011936  0.205236  0.194796  0.230692  0.223011  0.203068   \n",
       "ZROZ  0.163359  1.001269  0.143692  0.128340  0.178170  0.168105  0.140579   \n",
       "ZSL   0.972715  1.386372  0.969606  0.967450  0.975311  0.973523  0.969149   \n",
       "\n",
       "          ACSI      ACTV      ACVF  ...      YLDE      YMAR      YOLO  \\\n",
       "AAA   0.229159  0.181673  0.177798  ...  0.189402  0.971054  0.390675   \n",
       "AAAU  1.014085  1.004420  1.003726  ...  1.005846  1.385208  1.062300   \n",
       "AADR  0.215580  0.164214  0.159917  ...  0.172726  0.967940  0.382868   \n",
       "AAXJ  0.205666  0.150963  0.146277  ...  0.160180  0.965780  0.377375   \n",
       "ABEQ  0.239942  0.195098  0.181068  ...  0.202315  0.973655  0.397096   \n",
       "...        ...       ...       ...  ...       ...       ...       ...   \n",
       "YYY   0.218710  0.168301  0.164111  ...  0.176616  0.968642  0.384639   \n",
       "ZHDG  0.168427  0.094122  0.086406  ...  0.108290  0.958541  0.358442   \n",
       "ZIG   0.228871  0.181310  0.177427  ...  0.189054  0.970987  0.390507   \n",
       "ZROZ  0.175806  0.106767  0.100031  ...  0.119444  0.959865  0.361968   \n",
       "ZSL   0.974882  0.964825  0.964103  ...  0.966310  1.356771  1.024943   \n",
       "\n",
       "           YPS       YXI       YYY      ZHDG       ZIG      ZROZ       ZSL  \n",
       "AAA   0.157000  0.479807  0.208836  0.155390  0.219455  0.163359  0.972715  \n",
       "AAAU  1.000251  1.098211  1.009686  1.000000  1.011936  1.001269  1.386372  \n",
       "AADR  0.136419  0.473472  0.193839  0.134563  0.205236  0.143692  0.969606  \n",
       "AAXJ  0.120141  0.469041  0.182749  0.118029  0.194796  0.128340  0.967450  \n",
       "ABEQ  0.172358  0.485049  0.220615  0.170893  0.230692  0.178170  0.975311  \n",
       "...        ...       ...       ...       ...       ...       ...       ...  \n",
       "YYY   0.141312  0.474905  0.000000  0.139522  0.208521  0.148346  0.970306  \n",
       "ZHDG  0.022424  0.453948  0.139522  0.000000  0.154966  0.050400  0.960223  \n",
       "ZIG   0.156580  0.479670  0.208521  0.154966  0.000000  0.162956  0.972647  \n",
       "ZROZ  0.055163  0.456737  0.148346  0.050400  0.162956  0.000000  0.961545  \n",
       "ZSL   0.960485  1.062119  0.970306  0.960223  0.972647  0.961545  0.000000  \n",
       "\n",
       "[2127 rows x 2127 columns]"
      ]
     },
     "execution_count": 20,
     "metadata": {},
     "output_type": "execute_result"
    }
   ],
   "source": [
    "\n",
    "distances = pd.DataFrame(squareform(pdist(matrix, 'euclidean')), columns=matrix.index, index=matrix.index)\n",
    "\n",
    "distances"
   ]
  },
  {
   "cell_type": "code",
   "execution_count": 37,
   "id": "c9ba8d23",
   "metadata": {},
   "outputs": [
    {
     "data": {
      "text/plain": [
       "(0.1354992594336807, 0.2948676563239358, 0.17872214018914204)"
      ]
     },
     "execution_count": 37,
     "metadata": {},
     "output_type": "execute_result"
    }
   ],
   "source": [
    "media_jrg = distances.mean().mean() - 0.8 * distances.std().mean()"
   ]
  },
  {
   "cell_type": "code",
   "execution_count": null,
   "id": "f719e725",
   "metadata": {},
   "outputs": [],
   "source": [
    "g = Graph(directed=False) # não-dirigido"
   ]
  },
  {
   "cell_type": "code",
   "execution_count": null,
   "id": "44368b75",
   "metadata": {},
   "outputs": [],
   "source": [
    "for fund in fund_holdings.keys():\n",
    "    try:\n",
    "        g.add_vertex(fund)\n",
    "    except:\n",
    "        print(fund)"
   ]
  },
  {
   "cell_type": "code",
   "execution_count": null,
   "id": "cb1d6fe0",
   "metadata": {},
   "outputs": [],
   "source": [
    "for row, col in distances.iterrows():\n",
    "    for index, value in col.items():\n",
    "        if row == index: \n",
    "            continue\n",
    "            \n",
    "        if value > media_jrg:\n",
    "            continue\n",
    "        \n",
    "        try:\n",
    "            g.add_edge(row, index)\n",
    "        except:\n",
    "            pass"
   ]
  },
  {
   "cell_type": "code",
   "execution_count": null,
   "id": "fc59dad2",
   "metadata": {},
   "outputs": [],
   "source": [
    "n = g.num_vertices()\n",
    "n"
   ]
  },
  {
   "cell_type": "code",
   "execution_count": null,
   "id": "bd820e71",
   "metadata": {},
   "outputs": [],
   "source": [
    "m = g.num_edges()\n",
    "m"
   ]
  },
  {
   "cell_type": "code",
   "execution_count": null,
   "id": "0fd6f535",
   "metadata": {},
   "outputs": [],
   "source": [
    "g = gt_clean(g)"
   ]
  },
  {
   "cell_type": "code",
   "execution_count": null,
   "id": "0f378aab",
   "metadata": {},
   "outputs": [],
   "source": [
    "bc, _ = centrality.betweenness(g)\n",
    "g.add_vp('betweenness', bc)\n",
    "gt_data(g).loc[:, :].sort_values('betweenness', ascending=False)"
   ]
  },
  {
   "cell_type": "code",
   "execution_count": null,
   "id": "80e3a819",
   "metadata": {},
   "outputs": [],
   "source": [
    "matrix = spectral.adjacency(g)\n",
    "\n",
    "algorithm = cpnet.Rossa()\n",
    "algorithm.detect(matrix)\n",
    "c = algorithm.get_coreness()\n",
    "\n",
    "g.add_vp('coreness')\n",
    "for i, coreness in c.items():\n",
    "    v = g.get_vertex_by_index(i)\n",
    "    v['coreness'] = float(coreness)"
   ]
  },
  {
   "cell_type": "code",
   "execution_count": null,
   "id": "11ced146",
   "metadata": {},
   "outputs": [],
   "source": [
    "lc = clustering.local_clustering(g)\n",
    "g.add_vp('clustering', lc)"
   ]
  },
  {
   "cell_type": "code",
   "execution_count": null,
   "id": "be732f01",
   "metadata": {},
   "outputs": [],
   "source": [
    "ntw_metrics = gt_data(g)"
   ]
  },
  {
   "cell_type": "code",
   "execution_count": null,
   "id": "661e1e73",
   "metadata": {},
   "outputs": [],
   "source": [
    "metrics = pd.merge(df_final[['Symbol','5Y Return', '5Y Volatility', '5Y Sharpe']], ntw_metrics, left_on='Symbol', right_on='id', how='inner')"
   ]
  },
  {
   "cell_type": "code",
   "execution_count": null,
   "id": "620c07b9",
   "metadata": {},
   "outputs": [],
   "source": [
    "metrics[\"Antifragile\"] = 1 / metrics[\"5Y Volatility\"]"
   ]
  },
  {
   "cell_type": "code",
   "execution_count": null,
   "id": "3d4fa0b4",
   "metadata": {},
   "outputs": [],
   "source": [
    "metrics"
   ]
  },
  {
   "cell_type": "code",
   "execution_count": null,
   "id": "9bbe6568",
   "metadata": {},
   "outputs": [],
   "source": [
    "metrics.to_csv(\"metricas_5y.csv\")"
   ]
  },
  {
   "cell_type": "code",
   "execution_count": null,
   "id": "7ec3e1ca",
   "metadata": {},
   "outputs": [],
   "source": []
  }
 ],
 "metadata": {
  "kernelspec": {
   "display_name": "Python 3 (ipykernel)",
   "language": "python",
   "name": "python3"
  },
  "language_info": {
   "codemirror_mode": {
    "name": "ipython",
    "version": 3
   },
   "file_extension": ".py",
   "mimetype": "text/x-python",
   "name": "python",
   "nbconvert_exporter": "python",
   "pygments_lexer": "ipython3",
   "version": "3.10.6"
  }
 },
 "nbformat": 4,
 "nbformat_minor": 5
}
