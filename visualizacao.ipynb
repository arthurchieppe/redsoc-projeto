{
 "cells": [
  {
   "cell_type": "code",
   "execution_count": null,
   "id": "d1c6fa8b",
   "metadata": {},
   "outputs": [],
   "source": [
    "import netpixi\n",
    "from netpixi.integration.gt import *\n",
    "from regression.integration.gt import *\n",
    "from graph_tool import centrality"
   ]
  },
  {
   "cell_type": "code",
   "execution_count": null,
   "id": "2db25c25",
   "metadata": {},
   "outputs": [],
   "source": [
    "g = gt_load('sampa.net.gz')\n",
    "g = gt_clean(g)\n",
    "m = gt_draw.sfdp_layout(g)\n",
    "gt_move(g, m)"
   ]
  },
  {
   "cell_type": "code",
   "execution_count": null,
   "id": "8a6906a5",
   "metadata": {},
   "outputs": [],
   "source": [
    "# Calcula betweenness antes de render:\n",
    "bc, _ = centrality.betweenness(g)\n",
    "g.add_vp('betweenness', bc)\n",
    "gt_data(g).loc[:, :].sort_values('betweenness', ascending=False)"
   ]
  },
  {
   "cell_type": "code",
   "execution_count": null,
   "id": "02426928",
   "metadata": {},
   "outputs": [],
   "source": [
    "gt_save(g, 'sampa_sfdp.net.gz')"
   ]
  },
  {
   "cell_type": "code",
   "execution_count": null,
   "id": "6b4f240e",
   "metadata": {},
   "outputs": [],
   "source": [
    "n = g.num_vertices()\n",
    "n"
   ]
  },
  {
   "cell_type": "code",
   "execution_count": null,
   "id": "e29ff4b0",
   "metadata": {},
   "outputs": [],
   "source": [
    "m = g.num_edges()\n",
    "m"
   ]
  },
  {
   "cell_type": "code",
   "execution_count": null,
   "id": "eec9373c",
   "metadata": {},
   "outputs": [],
   "source": [
    "r = netpixi.render('sampa_sfdp.net.gz');"
   ]
  },
  {
   "cell_type": "code",
   "execution_count": null,
   "id": "af7310e2",
   "metadata": {},
   "outputs": [],
   "source": [
    "r.graph(color=0x000000)\n",
    "r.vertex_default(color=0xffffff, size=7)\n",
    "r.edge_default(color=0xffffff, width=0.2)"
   ]
  },
  {
   "cell_type": "code",
   "execution_count": null,
   "id": "b164ad79",
   "metadata": {},
   "outputs": [],
   "source": [
    "r.vertex_set_key('id')\n",
    "r.vertex_scale('betweenness', 5, 50)"
   ]
  },
  {
   "cell_type": "code",
   "execution_count": null,
   "id": "b0d36e45",
   "metadata": {},
   "outputs": [],
   "source": []
  }
 ],
 "metadata": {
  "kernelspec": {
   "display_name": "Python 3 (ipykernel)",
   "language": "python",
   "name": "python3"
  },
  "language_info": {
   "codemirror_mode": {
    "name": "ipython",
    "version": 3
   },
   "file_extension": ".py",
   "mimetype": "text/x-python",
   "name": "python",
   "nbconvert_exporter": "python",
   "pygments_lexer": "ipython3",
   "version": "3.10.6"
  }
 },
 "nbformat": 4,
 "nbformat_minor": 5
}
