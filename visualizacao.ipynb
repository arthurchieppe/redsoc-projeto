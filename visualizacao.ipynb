{
 "cells": [
  {
   "cell_type": "code",
   "execution_count": 1,
   "id": "d1c6fa8b",
   "metadata": {},
   "outputs": [
    {
     "data": {
      "text/html": [
       "\n",
       "    <script src=\"/files/netpixi.min.js\"></script>\n"
      ],
      "text/plain": [
       "<IPython.core.display.HTML object>"
      ]
     },
     "metadata": {},
     "output_type": "display_data"
    },
    {
     "name": "stderr",
     "output_type": "stream",
     "text": [
      "<frozen importlib._bootstrap>:914: ImportWarning: VendorImporter.find_spec() not found; falling back to find_module()\n",
      "/usr/local/lib/python3.10/site-packages/seaborn/rcmod.py:82: DeprecationWarning: distutils Version classes are deprecated. Use packaging.version instead.\n",
      "  if LooseVersion(mpl.__version__) >= \"3.0\":\n",
      "/usr/local/lib/python3.10/site-packages/setuptools/_distutils/version.py:346: DeprecationWarning: distutils Version classes are deprecated. Use packaging.version instead.\n",
      "  other = LooseVersion(other)\n",
      "<frozen importlib._bootstrap>:914: ImportWarning: VendorImporter.find_spec() not found; falling back to find_module()\n",
      "/usr/local/lib/python3.10/site-packages/seaborn/cm.py:1582: PendingDeprecationWarning: The register_cmap function will be deprecated in a future version. Use ``matplotlib.colormaps.register(name)`` instead.\n",
      "  mpl_cm.register_cmap(_name, _cmap)\n",
      "/usr/local/lib/python3.10/site-packages/seaborn/cm.py:1583: PendingDeprecationWarning: The register_cmap function will be deprecated in a future version. Use ``matplotlib.colormaps.register(name)`` instead.\n",
      "  mpl_cm.register_cmap(_name + \"_r\", _cmap_r)\n",
      "<frozen importlib._bootstrap>:914: ImportWarning: VendorImporter.find_spec() not found; falling back to find_module()\n",
      "/usr/local/lib/python3.10/site-packages/seaborn/rcmod.py:400: DeprecationWarning: distutils Version classes are deprecated. Use packaging.version instead.\n",
      "  if LooseVersion(mpl.__version__) >= \"3.0\":\n",
      "/usr/local/lib/python3.10/site-packages/setuptools/_distutils/version.py:346: DeprecationWarning: distutils Version classes are deprecated. Use packaging.version instead.\n",
      "  other = LooseVersion(other)\n"
     ]
    }
   ],
   "source": [
    "import netpixi\n",
    "from netpixi.integration.gt import *\n",
    "from regression.integration.gt import *\n",
    "from graph_tool import centrality"
   ]
  },
  {
   "cell_type": "code",
   "execution_count": 2,
   "id": "2db25c25",
   "metadata": {},
   "outputs": [],
   "source": [
    "g = gt_load('sampa.net.gz')\n",
    "g = gt_clean(g)\n",
    "m = gt_draw.sfdp_layout(g)\n",
    "gt_move(g, m)"
   ]
  },
  {
   "cell_type": "code",
   "execution_count": 3,
   "id": "1f7c66bb",
   "metadata": {},
   "outputs": [
    {
     "data": {
      "text/html": [
       "<div>\n",
       "<style scoped>\n",
       "    .dataframe tbody tr th:only-of-type {\n",
       "        vertical-align: middle;\n",
       "    }\n",
       "\n",
       "    .dataframe tbody tr th {\n",
       "        vertical-align: top;\n",
       "    }\n",
       "\n",
       "    .dataframe thead th {\n",
       "        text-align: right;\n",
       "    }\n",
       "</style>\n",
       "<table border=\"1\" class=\"dataframe\">\n",
       "  <thead>\n",
       "    <tr style=\"text-align: right;\">\n",
       "      <th></th>\n",
       "      <th>betweenness</th>\n",
       "    </tr>\n",
       "    <tr>\n",
       "      <th>id</th>\n",
       "      <th></th>\n",
       "    </tr>\n",
       "  </thead>\n",
       "  <tbody>\n",
       "    <tr>\n",
       "      <th>PSMJ</th>\n",
       "      <td>0.048244</td>\n",
       "    </tr>\n",
       "    <tr>\n",
       "      <th>ESGS</th>\n",
       "      <td>0.038576</td>\n",
       "    </tr>\n",
       "    <tr>\n",
       "      <th>ESGN</th>\n",
       "      <td>0.038576</td>\n",
       "    </tr>\n",
       "    <tr>\n",
       "      <th>BLES</th>\n",
       "      <td>0.025985</td>\n",
       "    </tr>\n",
       "    <tr>\n",
       "      <th>BNDX</th>\n",
       "      <td>0.025985</td>\n",
       "    </tr>\n",
       "    <tr>\n",
       "      <th>...</th>\n",
       "      <td>...</td>\n",
       "    </tr>\n",
       "    <tr>\n",
       "      <th>SCHJ</th>\n",
       "      <td>0.000000</td>\n",
       "    </tr>\n",
       "    <tr>\n",
       "      <th>SCHM</th>\n",
       "      <td>0.000000</td>\n",
       "    </tr>\n",
       "    <tr>\n",
       "      <th>SCHV</th>\n",
       "      <td>0.000000</td>\n",
       "    </tr>\n",
       "    <tr>\n",
       "      <th>SCHX</th>\n",
       "      <td>0.000000</td>\n",
       "    </tr>\n",
       "    <tr>\n",
       "      <th>ANEW</th>\n",
       "      <td>0.000000</td>\n",
       "    </tr>\n",
       "  </tbody>\n",
       "</table>\n",
       "<p>578 rows × 1 columns</p>\n",
       "</div>"
      ],
      "text/plain": [
       "      betweenness\n",
       "id               \n",
       "PSMJ     0.048244\n",
       "ESGS     0.038576\n",
       "ESGN     0.038576\n",
       "BLES     0.025985\n",
       "BNDX     0.025985\n",
       "...           ...\n",
       "SCHJ     0.000000\n",
       "SCHM     0.000000\n",
       "SCHV     0.000000\n",
       "SCHX     0.000000\n",
       "ANEW     0.000000\n",
       "\n",
       "[578 rows x 1 columns]"
      ]
     },
     "execution_count": 3,
     "metadata": {},
     "output_type": "execute_result"
    }
   ],
   "source": [
    "# Calcula betweenness antes de render:\n",
    "bc, _ = centrality.betweenness(g)\n",
    "g.add_vp('betweenness', bc)\n",
    "gt_data(g).loc[:, :].sort_values('betweenness', ascending=False)"
   ]
  },
  {
   "cell_type": "code",
   "execution_count": 4,
   "id": "7a576530",
   "metadata": {},
   "outputs": [],
   "source": [
    "gt_save(g, 'sampa_sfdp.net.gz')"
   ]
  },
  {
   "cell_type": "code",
   "execution_count": 5,
   "id": "6b4f240e",
   "metadata": {},
   "outputs": [
    {
     "data": {
      "text/plain": [
       "578"
      ]
     },
     "execution_count": 5,
     "metadata": {},
     "output_type": "execute_result"
    }
   ],
   "source": [
    "n = g.num_vertices()\n",
    "n"
   ]
  },
  {
   "cell_type": "code",
   "execution_count": 6,
   "id": "e29ff4b0",
   "metadata": {},
   "outputs": [
    {
     "data": {
      "text/plain": [
       "49709"
      ]
     },
     "execution_count": 6,
     "metadata": {},
     "output_type": "execute_result"
    }
   ],
   "source": [
    "m = g.num_edges()\n",
    "m"
   ]
  },
  {
   "cell_type": "code",
   "execution_count": 7,
   "id": "eec9373c",
   "metadata": {},
   "outputs": [
    {
     "data": {
      "text/html": [
       "\n",
       "        <div id=\"VcpEQSSVBN4wVoz3Nxdwhs\"></div>\n",
       "        <script>netpixi.render('VcpEQSSVBN4wVoz3Nxdwhs', 'sampa_sfdp.net.gz', 1.7777777777777777, true, false, false);</script>\n",
       "    "
      ],
      "text/plain": [
       "<IPython.core.display.HTML object>"
      ]
     },
     "metadata": {},
     "output_type": "display_data"
    }
   ],
   "source": [
    "r = netpixi.render('sampa_sfdp.net.gz');"
   ]
  },
  {
   "cell_type": "code",
   "execution_count": 8,
   "id": "af7310e2",
   "metadata": {},
   "outputs": [
    {
     "data": {
      "text/html": [
       "\n",
       "        <div id=\"ZSHj745fELPopUbMUuzJKq\"></div>\n",
       "        <script>netpixi.call('ZSHj745fELPopUbMUuzJKq', 'VcpEQSSVBN4wVoz3Nxdwhs', 'changeGraph', 'eyJ0eXBlIjogInNldHRpbmdzIiwgInByb3BzIjogeyJncmFwaCI6IHsiY29sb3IiOiAwfX19Cg==');</script>\n",
       "    "
      ],
      "text/plain": [
       "<IPython.core.display.HTML object>"
      ]
     },
     "metadata": {},
     "output_type": "display_data"
    },
    {
     "data": {
      "text/html": [
       "\n",
       "        <div id=\"LKgN4dXu2SBbwTbUtxzZx5\"></div>\n",
       "        <script>netpixi.call('LKgN4dXu2SBbwTbUtxzZx5', 'VcpEQSSVBN4wVoz3Nxdwhs', 'changeGraph', 'eyJ0eXBlIjogInNldHRpbmdzIiwgInByb3BzIjogeyJ2ZXJ0ZXgiOiB7ImNvbG9yIjogMTY3NzcyMTUsICJzaXplIjogN319fQo=');</script>\n",
       "    "
      ],
      "text/plain": [
       "<IPython.core.display.HTML object>"
      ]
     },
     "metadata": {},
     "output_type": "display_data"
    },
    {
     "data": {
      "text/html": [
       "\n",
       "        <div id=\"Be27h5ygjuqUS62mi7Jji4\"></div>\n",
       "        <script>netpixi.call('Be27h5ygjuqUS62mi7Jji4', 'VcpEQSSVBN4wVoz3Nxdwhs', 'changeGraph', 'eyJ0eXBlIjogInNldHRpbmdzIiwgInByb3BzIjogeyJlZGdlIjogeyJjb2xvciI6IDE2Nzc3MjE1LCAid2lkdGgiOiAwLjJ9fX0K');</script>\n",
       "    "
      ],
      "text/plain": [
       "<IPython.core.display.HTML object>"
      ]
     },
     "metadata": {},
     "output_type": "display_data"
    }
   ],
   "source": [
    "r.graph(color=0x000000)\n",
    "r.vertex_default(color=0xffffff, size=7)\n",
    "r.edge_default(color=0xffffff, width=0.2)"
   ]
  },
  {
   "cell_type": "code",
   "execution_count": 9,
   "id": "b164ad79",
   "metadata": {},
   "outputs": [
    {
     "data": {
      "text/html": [
       "\n",
       "        <div id=\"Wmu4q2KR7DmNp4Umd8Q6ag\"></div>\n",
       "        <script>netpixi.call('Wmu4q2KR7DmNp4Umd8Q6ag', 'VcpEQSSVBN4wVoz3Nxdwhs', 'setGraph', 'eyJ0eXBlIjogInZlcnRleCIsICJwcm9wcyI6IHsic3JjIjogImlkIiwgImRzdCI6ICJfa2V5In19Cg==');</script>\n",
       "    "
      ],
      "text/plain": [
       "<IPython.core.display.HTML object>"
      ]
     },
     "metadata": {},
     "output_type": "display_data"
    },
    {
     "data": {
      "text/html": [
       "\n",
       "        <div id=\"YtSXrPMqQhFrBMRBXAveRR\"></div>\n",
       "        <script>netpixi.call('YtSXrPMqQhFrBMRBXAveRR', 'VcpEQSSVBN4wVoz3Nxdwhs', 'normalizeGraph', 'eyJ0eXBlIjogInZlcnRleCIsICJwcm9wcyI6IHsic3JjIjogImJldHdlZW5uZXNzIiwgIm1pbiI6IDUsICJtYXgiOiA1MH19Cg==');</script>\n",
       "    "
      ],
      "text/plain": [
       "<IPython.core.display.HTML object>"
      ]
     },
     "metadata": {},
     "output_type": "display_data"
    }
   ],
   "source": [
    "r.vertex_set_key('id')\n",
    "r.vertex_scale('betweenness', 5, 50)"
   ]
  },
  {
   "cell_type": "code",
   "execution_count": null,
   "id": "33d9540e",
   "metadata": {},
   "outputs": [],
   "source": []
  }
 ],
 "metadata": {
  "kernelspec": {
   "display_name": "Python 3 (ipykernel)",
   "language": "python",
   "name": "python3"
  },
  "language_info": {
   "codemirror_mode": {
    "name": "ipython",
    "version": 3
   },
   "file_extension": ".py",
   "mimetype": "text/x-python",
   "name": "python",
   "nbconvert_exporter": "python",
   "pygments_lexer": "ipython3",
   "version": "3.10.6"
  }
 },
 "nbformat": 4,
 "nbformat_minor": 5
}
