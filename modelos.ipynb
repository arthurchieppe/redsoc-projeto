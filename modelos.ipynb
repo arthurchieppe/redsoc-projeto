{
 "cells": [
  {
   "cell_type": "code",
   "execution_count": null,
   "id": "af2433ca",
   "metadata": {},
   "outputs": [],
   "source": [
    "import netpixi\n",
    "from netpixi.integration.gt import *\n",
    "from regression.integration.gt import *\n",
    "from graph_tool import centrality\n",
    "import pandas as pd\n",
    "import numpy as np"
   ]
  },
  {
   "cell_type": "code",
   "execution_count": 2,
   "id": "2b2b2eb0",
   "metadata": {},
   "outputs": [],
   "source": [
    "g = gt_load('sampa.net.gz')\n",
    "g = gt_clean(g)\n",
    "m = gt_draw.sfdp_layout(g)\n",
    "gt_move(g, m)"
   ]
  },
  {
   "cell_type": "markdown",
   "id": "8d084139",
   "metadata": {},
   "source": [
    "## Betweenness"
   ]
  },
  {
   "cell_type": "code",
   "execution_count": 3,
   "id": "7746ea0d",
   "metadata": {},
   "outputs": [
    {
     "data": {
      "text/html": [
       "<div>\n",
       "<style scoped>\n",
       "    .dataframe tbody tr th:only-of-type {\n",
       "        vertical-align: middle;\n",
       "    }\n",
       "\n",
       "    .dataframe tbody tr th {\n",
       "        vertical-align: top;\n",
       "    }\n",
       "\n",
       "    .dataframe thead th {\n",
       "        text-align: right;\n",
       "    }\n",
       "</style>\n",
       "<table border=\"1\" class=\"dataframe\">\n",
       "  <thead>\n",
       "    <tr style=\"text-align: right;\">\n",
       "      <th></th>\n",
       "      <th>betweenness</th>\n",
       "    </tr>\n",
       "    <tr>\n",
       "      <th>id</th>\n",
       "      <th></th>\n",
       "    </tr>\n",
       "  </thead>\n",
       "  <tbody>\n",
       "    <tr>\n",
       "      <th>PSMJ</th>\n",
       "      <td>0.048244</td>\n",
       "    </tr>\n",
       "    <tr>\n",
       "      <th>ESGS</th>\n",
       "      <td>0.038576</td>\n",
       "    </tr>\n",
       "    <tr>\n",
       "      <th>ESGN</th>\n",
       "      <td>0.038576</td>\n",
       "    </tr>\n",
       "    <tr>\n",
       "      <th>BLES</th>\n",
       "      <td>0.025985</td>\n",
       "    </tr>\n",
       "    <tr>\n",
       "      <th>BNDX</th>\n",
       "      <td>0.025985</td>\n",
       "    </tr>\n",
       "    <tr>\n",
       "      <th>...</th>\n",
       "      <td>...</td>\n",
       "    </tr>\n",
       "    <tr>\n",
       "      <th>SCHJ</th>\n",
       "      <td>0.000000</td>\n",
       "    </tr>\n",
       "    <tr>\n",
       "      <th>SCHM</th>\n",
       "      <td>0.000000</td>\n",
       "    </tr>\n",
       "    <tr>\n",
       "      <th>SCHV</th>\n",
       "      <td>0.000000</td>\n",
       "    </tr>\n",
       "    <tr>\n",
       "      <th>SCHX</th>\n",
       "      <td>0.000000</td>\n",
       "    </tr>\n",
       "    <tr>\n",
       "      <th>ANEW</th>\n",
       "      <td>0.000000</td>\n",
       "    </tr>\n",
       "  </tbody>\n",
       "</table>\n",
       "<p>578 rows × 1 columns</p>\n",
       "</div>"
      ],
      "text/plain": [
       "      betweenness\n",
       "id               \n",
       "PSMJ     0.048244\n",
       "ESGS     0.038576\n",
       "ESGN     0.038576\n",
       "BLES     0.025985\n",
       "BNDX     0.025985\n",
       "...           ...\n",
       "SCHJ     0.000000\n",
       "SCHM     0.000000\n",
       "SCHV     0.000000\n",
       "SCHX     0.000000\n",
       "ANEW     0.000000\n",
       "\n",
       "[578 rows x 1 columns]"
      ]
     },
     "execution_count": 3,
     "metadata": {},
     "output_type": "execute_result"
    }
   ],
   "source": [
    "bc, _ = centrality.betweenness(g)\n",
    "g.add_vp('betweenness', bc)\n",
    "gt_data(g).loc[:, :].sort_values('betweenness', ascending=False)"
   ]
  },
  {
   "cell_type": "markdown",
   "id": "8ff5961c",
   "metadata": {},
   "source": [
    "## Centro e Periferia"
   ]
  },
  {
   "cell_type": "code",
   "execution_count": 4,
   "id": "1944beb5",
   "metadata": {},
   "outputs": [
    {
     "name": "stderr",
     "output_type": "stream",
     "text": [
      "<frozen importlib._bootstrap>:914: ImportWarning: VendorImporter.find_spec() not found; falling back to find_module()\n"
     ]
    }
   ],
   "source": [
    "import cpnet\n",
    "\n",
    "from graph_tool import spectral"
   ]
  },
  {
   "cell_type": "code",
   "execution_count": 5,
   "id": "eb3b711d",
   "metadata": {},
   "outputs": [
    {
     "name": "stderr",
     "output_type": "stream",
     "text": [
      "<frozen importlib._bootstrap>:914: ImportWarning: VendorImporter.find_spec() not found; falling back to find_module()\n"
     ]
    }
   ],
   "source": [
    "matrix = spectral.adjacency(g)\n",
    "\n",
    "algorithm = cpnet.Rombach()\n",
    "algorithm.detect(matrix)\n",
    "c = algorithm.get_coreness()\n",
    "\n",
    "g.add_vp('coreness')\n",
    "for i, coreness in c.items():\n",
    "    v = g.get_vertex_by_index(i)\n",
    "    v['coreness'] = float(coreness)"
   ]
  },
  {
   "cell_type": "markdown",
   "id": "74d7759c",
   "metadata": {},
   "source": [
    "## Clustering Coefficient"
   ]
  },
  {
   "cell_type": "code",
   "execution_count": 6,
   "id": "a11165cc",
   "metadata": {},
   "outputs": [],
   "source": [
    "from graph_tool import clustering\n",
    "\n",
    "lc = clustering.local_clustering(g)\n",
    "g.add_vp('clustering', lc)"
   ]
  },
  {
   "cell_type": "code",
   "execution_count": 7,
   "id": "e91b411a",
   "metadata": {},
   "outputs": [],
   "source": [
    "ntw_metrics = gt_data(g)"
   ]
  },
  {
   "cell_type": "code",
   "execution_count": 13,
   "id": "58c38beb",
   "metadata": {},
   "outputs": [],
   "source": [
    "df = pd.read_csv('etf_funds/ETFs.csv')"
   ]
  },
  {
   "cell_type": "code",
   "execution_count": 14,
   "id": "a7b04b13",
   "metadata": {},
   "outputs": [],
   "source": [
    "metrics = pd.merge(df[['fund_symbol','fund_sharpe_ratio_3years']], ntw_metrics, left_on='fund_symbol', right_on='id', how='inner')"
   ]
  },
  {
   "cell_type": "code",
   "execution_count": 15,
   "id": "c990f3c2",
   "metadata": {},
   "outputs": [
    {
     "data": {
      "text/html": [
       "<div>\n",
       "<style scoped>\n",
       "    .dataframe tbody tr th:only-of-type {\n",
       "        vertical-align: middle;\n",
       "    }\n",
       "\n",
       "    .dataframe tbody tr th {\n",
       "        vertical-align: top;\n",
       "    }\n",
       "\n",
       "    .dataframe thead th {\n",
       "        text-align: right;\n",
       "    }\n",
       "</style>\n",
       "<table border=\"1\" class=\"dataframe\">\n",
       "  <thead>\n",
       "    <tr style=\"text-align: right;\">\n",
       "      <th></th>\n",
       "      <th>fund_symbol</th>\n",
       "      <th>fund_sharpe_ratio_3years</th>\n",
       "      <th>betweenness</th>\n",
       "      <th>coreness</th>\n",
       "      <th>clustering</th>\n",
       "    </tr>\n",
       "  </thead>\n",
       "  <tbody>\n",
       "    <tr>\n",
       "      <th>0</th>\n",
       "      <td>ANEW</td>\n",
       "      <td>NaN</td>\n",
       "      <td>0.000000</td>\n",
       "      <td>0.070346</td>\n",
       "      <td>1.000000</td>\n",
       "    </tr>\n",
       "    <tr>\n",
       "      <th>1</th>\n",
       "      <td>BBRE</td>\n",
       "      <td>0.53</td>\n",
       "      <td>0.001634</td>\n",
       "      <td>0.754310</td>\n",
       "      <td>0.717146</td>\n",
       "    </tr>\n",
       "    <tr>\n",
       "      <th>2</th>\n",
       "      <td>BEDZ</td>\n",
       "      <td>NaN</td>\n",
       "      <td>0.000000</td>\n",
       "      <td>0.107143</td>\n",
       "      <td>1.000000</td>\n",
       "    </tr>\n",
       "    <tr>\n",
       "      <th>3</th>\n",
       "      <td>BFEB</td>\n",
       "      <td>NaN</td>\n",
       "      <td>0.000005</td>\n",
       "      <td>0.207251</td>\n",
       "      <td>0.993978</td>\n",
       "    </tr>\n",
       "    <tr>\n",
       "      <th>4</th>\n",
       "      <td>BFIT</td>\n",
       "      <td>0.87</td>\n",
       "      <td>0.000005</td>\n",
       "      <td>0.163961</td>\n",
       "      <td>0.993978</td>\n",
       "    </tr>\n",
       "    <tr>\n",
       "      <th>...</th>\n",
       "      <td>...</td>\n",
       "      <td>...</td>\n",
       "      <td>...</td>\n",
       "      <td>...</td>\n",
       "      <td>...</td>\n",
       "    </tr>\n",
       "    <tr>\n",
       "      <th>573</th>\n",
       "      <td>TVIXF</td>\n",
       "      <td>-0.26</td>\n",
       "      <td>0.000000</td>\n",
       "      <td>0.050325</td>\n",
       "      <td>1.000000</td>\n",
       "    </tr>\n",
       "    <tr>\n",
       "      <th>574</th>\n",
       "      <td>UCIB</td>\n",
       "      <td>0.44</td>\n",
       "      <td>0.001078</td>\n",
       "      <td>0.238636</td>\n",
       "      <td>0.726930</td>\n",
       "    </tr>\n",
       "    <tr>\n",
       "      <th>575</th>\n",
       "      <td>UGA</td>\n",
       "      <td>0.34</td>\n",
       "      <td>0.010368</td>\n",
       "      <td>0.247294</td>\n",
       "      <td>0.744111</td>\n",
       "    </tr>\n",
       "    <tr>\n",
       "      <th>576</th>\n",
       "      <td>UGAZF</td>\n",
       "      <td>-0.27</td>\n",
       "      <td>0.010368</td>\n",
       "      <td>0.213745</td>\n",
       "      <td>0.744111</td>\n",
       "    </tr>\n",
       "    <tr>\n",
       "      <th>577</th>\n",
       "      <td>UGLDF</td>\n",
       "      <td>0.61</td>\n",
       "      <td>0.001078</td>\n",
       "      <td>0.814655</td>\n",
       "      <td>0.726930</td>\n",
       "    </tr>\n",
       "  </tbody>\n",
       "</table>\n",
       "<p>578 rows × 5 columns</p>\n",
       "</div>"
      ],
      "text/plain": [
       "    fund_symbol  fund_sharpe_ratio_3years  betweenness  coreness  clustering\n",
       "0          ANEW                       NaN     0.000000  0.070346    1.000000\n",
       "1          BBRE                      0.53     0.001634  0.754310    0.717146\n",
       "2          BEDZ                       NaN     0.000000  0.107143    1.000000\n",
       "3          BFEB                       NaN     0.000005  0.207251    0.993978\n",
       "4          BFIT                      0.87     0.000005  0.163961    0.993978\n",
       "..          ...                       ...          ...       ...         ...\n",
       "573       TVIXF                     -0.26     0.000000  0.050325    1.000000\n",
       "574        UCIB                      0.44     0.001078  0.238636    0.726930\n",
       "575         UGA                      0.34     0.010368  0.247294    0.744111\n",
       "576       UGAZF                     -0.27     0.010368  0.213745    0.744111\n",
       "577       UGLDF                      0.61     0.001078  0.814655    0.726930\n",
       "\n",
       "[578 rows x 5 columns]"
      ]
     },
     "execution_count": 15,
     "metadata": {},
     "output_type": "execute_result"
    }
   ],
   "source": [
    "metrics"
   ]
  },
  {
   "cell_type": "code",
   "execution_count": 16,
   "id": "5c31fbc8",
   "metadata": {},
   "outputs": [
    {
     "data": {
      "text/plain": [
       "fund_symbol                   0\n",
       "fund_sharpe_ratio_3years    184\n",
       "betweenness                   0\n",
       "coreness                      0\n",
       "clustering                    0\n",
       "dtype: int64"
      ]
     },
     "execution_count": 16,
     "metadata": {},
     "output_type": "execute_result"
    }
   ],
   "source": [
    "metrics.isna().sum()"
   ]
  },
  {
   "cell_type": "code",
   "execution_count": null,
   "id": "d81e0aa2",
   "metadata": {},
   "outputs": [],
   "source": []
  }
 ],
 "metadata": {
  "kernelspec": {
   "display_name": "Python 3 (ipykernel)",
   "language": "python",
   "name": "python3"
  },
  "language_info": {
   "codemirror_mode": {
    "name": "ipython",
    "version": 3
   },
   "file_extension": ".py",
   "mimetype": "text/x-python",
   "name": "python",
   "nbconvert_exporter": "python",
   "pygments_lexer": "ipython3",
   "version": "3.10.6"
  }
 },
 "nbformat": 4,
 "nbformat_minor": 5
}
